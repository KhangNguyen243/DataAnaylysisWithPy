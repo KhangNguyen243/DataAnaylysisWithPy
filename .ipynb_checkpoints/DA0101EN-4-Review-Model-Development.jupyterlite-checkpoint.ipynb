{
 "cells": [
  {
   "cell_type": "markdown",
   "metadata": {},
   "source": [
    "<center>\n",
    "    <img src=\"https://cf-courses-data.s3.us.cloud-object-storage.appdomain.cloud/IBMDeveloperSkillsNetwork-DA0101EN-SkillsNetwork/labs/Module%204/images/IDSNlogo.png\" width=\"300\" alt=\"cognitiveclass.ai logo\">\n",
    "</center>\n",
    "\n",
    "# Model Development\n",
    "\n",
    "Estimated time needed: **30** minutes\n",
    "\n",
    "## Objectives\n",
    "\n",
    "After completing this lab you will be able to:\n",
    "\n",
    "*   Develop prediction models\n"
   ]
  },
  {
   "cell_type": "markdown",
   "metadata": {},
   "source": [
    "<p>In this section, we will develop several models that will predict the price of the car using the variables or features. This is just an estimate but should give us an objective idea of how much the car should cost.</p>\n"
   ]
  },
  {
   "cell_type": "markdown",
   "metadata": {},
   "source": [
    "Some questions we want to ask in this module\n",
    "\n",
    "<ul>\n",
    "    <li>Do I know if the dealer is offering fair value for my trade-in?</li>\n",
    "    <li>Do I know if I put a fair value on my car?</li>\n",
    "</ul>\n",
    "<p>In data analytics, we often use <b>Model Development</b> to help us predict future observations from the data we have.</p>\n",
    "\n",
    "<p>A model will help us understand the exact relationship between different variables and how these variables are used to predict the result.</p>\n"
   ]
  },
  {
   "cell_type": "markdown",
   "metadata": {},
   "source": [
    "<h4>Setup</h4>\n"
   ]
  },
  {
   "cell_type": "markdown",
   "metadata": {},
   "source": [
    "Import libraries:\n"
   ]
  },
  {
   "cell_type": "markdown",
   "metadata": {},
   "source": [
    "you are running the lab in your  browser, so we will install the libraries using `piplite`\n"
   ]
  },
  {
   "cell_type": "code",
   "execution_count": null,
   "metadata": {},
   "outputs": [],
   "source": [
    "#you are running the lab in your  browser, so we will install the libraries using ``piplite``\n",
    "import piplite\n",
    "await piplite.install(['pandas'])\n",
    "await piplite.install(['matplotlib'])\n",
    "await piplite.install(['scipy'])\n",
    "await piplite.install(['scikit-learn'])\n",
    "await piplite.install(['skillsnetwork', 'seaborn'])"
   ]
  },
  {
   "cell_type": "code",
   "execution_count": 3,
   "metadata": {},
   "outputs": [
    {
     "name": "stdout",
     "output_type": "stream",
     "text": [
      "Collecting pandas==1.3.3\n",
      "  Using cached pandas-1.3.3.tar.gz (4.7 MB)\n",
      "  Installing build dependencies ... \u001b[?25lerror\n",
      "  \u001b[1;31merror\u001b[0m: \u001b[1msubprocess-exited-with-error\u001b[0m\n",
      "  \n",
      "  \u001b[31m×\u001b[0m \u001b[32mpip subprocess to install build dependencies\u001b[0m did not run successfully.\n",
      "  \u001b[31m│\u001b[0m exit code: \u001b[1;36m1\u001b[0m\n",
      "  \u001b[31m╰─>\u001b[0m \u001b[31m[1239 lines of output]\u001b[0m\n",
      "  \u001b[31m   \u001b[0m Ignoring numpy: markers 'python_version == \"3.7\" and (platform_machine != \"arm64\" or platform_system != \"Darwin\") and platform_machine != \"aarch64\"' don't match your environment\n",
      "  \u001b[31m   \u001b[0m Ignoring numpy: markers 'python_version == \"3.8\" and (platform_machine != \"arm64\" or platform_system != \"Darwin\") and platform_machine != \"aarch64\"' don't match your environment\n",
      "  \u001b[31m   \u001b[0m Ignoring numpy: markers 'python_version == \"3.7\" and platform_machine == \"aarch64\"' don't match your environment\n",
      "  \u001b[31m   \u001b[0m Ignoring numpy: markers 'python_version == \"3.8\" and platform_machine == \"aarch64\"' don't match your environment\n",
      "  \u001b[31m   \u001b[0m Ignoring numpy: markers 'python_version == \"3.8\" and platform_machine == \"arm64\" and platform_system == \"Darwin\"' don't match your environment\n",
      "  \u001b[31m   \u001b[0m Ignoring numpy: markers 'python_version == \"3.9\" and platform_machine == \"arm64\" and platform_system == \"Darwin\"' don't match your environment\n",
      "  \u001b[31m   \u001b[0m Collecting setuptools>=51.0.0\n",
      "  \u001b[31m   \u001b[0m   Using cached setuptools-67.7.2-py3-none-any.whl (1.1 MB)\n",
      "  \u001b[31m   \u001b[0m Collecting wheel\n",
      "  \u001b[31m   \u001b[0m   Using cached wheel-0.40.0-py3-none-any.whl (64 kB)\n",
      "  \u001b[31m   \u001b[0m Collecting Cython<3,>=0.29.21\n",
      "  \u001b[31m   \u001b[0m   Using cached Cython-0.29.34-py2.py3-none-any.whl (988 kB)\n",
      "  \u001b[31m   \u001b[0m Collecting numpy==1.19.3\n",
      "  \u001b[31m   \u001b[0m   Using cached numpy-1.19.3.zip (7.3 MB)\n",
      "  \u001b[31m   \u001b[0m   Installing build dependencies: started\n",
      "  \u001b[31m   \u001b[0m   Installing build dependencies: finished with status 'done'\n",
      "  \u001b[31m   \u001b[0m   Getting requirements to build wheel: started\n",
      "  \u001b[31m   \u001b[0m   Getting requirements to build wheel: finished with status 'done'\n",
      "  \u001b[31m   \u001b[0m   Preparing metadata (pyproject.toml): started\n",
      "  \u001b[31m   \u001b[0m   Preparing metadata (pyproject.toml): finished with status 'done'\n",
      "  \u001b[31m   \u001b[0m Building wheels for collected packages: numpy\n",
      "  \u001b[31m   \u001b[0m   Building wheel for numpy (pyproject.toml): started\n",
      "  \u001b[31m   \u001b[0m   Building wheel for numpy (pyproject.toml): still running...\n",
      "  \u001b[31m   \u001b[0m   Building wheel for numpy (pyproject.toml): finished with status 'error'\n",
      "  \u001b[31m   \u001b[0m   error: subprocess-exited-with-error\n",
      "  \u001b[31m   \u001b[0m \n",
      "  \u001b[31m   \u001b[0m   × Building wheel for numpy (pyproject.toml) did not run successfully.\n",
      "  \u001b[31m   \u001b[0m   │ exit code: 1\n",
      "  \u001b[31m   \u001b[0m   ╰─> [1204 lines of output]\n",
      "  \u001b[31m   \u001b[0m       setup.py:67: RuntimeWarning: NumPy 1.19.3 may not yet support Python 3.10.\n",
      "  \u001b[31m   \u001b[0m         warnings.warn(\n",
      "  \u001b[31m   \u001b[0m       Running from numpy source directory.\n",
      "  \u001b[31m   \u001b[0m       numpy/random/_bounded_integers.pxd.in has not changed\n",
      "  \u001b[31m   \u001b[0m       numpy/random/_philox.pyx has not changed\n",
      "  \u001b[31m   \u001b[0m       numpy/random/_bounded_integers.pyx.in has not changed\n",
      "  \u001b[31m   \u001b[0m       numpy/random/_sfc64.pyx has not changed\n",
      "  \u001b[31m   \u001b[0m       numpy/random/_mt19937.pyx has not changed\n",
      "  \u001b[31m   \u001b[0m       numpy/random/bit_generator.pyx has not changed\n",
      "  \u001b[31m   \u001b[0m       Processing numpy/random/_bounded_integers.pyx\n",
      "  \u001b[31m   \u001b[0m       numpy/random/mtrand.pyx has not changed\n",
      "  \u001b[31m   \u001b[0m       numpy/random/_generator.pyx has not changed\n",
      "  \u001b[31m   \u001b[0m       numpy/random/_pcg64.pyx has not changed\n",
      "  \u001b[31m   \u001b[0m       numpy/random/_common.pyx has not changed\n",
      "  \u001b[31m   \u001b[0m       Cythonizing sources\n",
      "  \u001b[31m   \u001b[0m       blas_opt_info:\n",
      "  \u001b[31m   \u001b[0m       blas_mkl_info:\n",
      "  \u001b[31m   \u001b[0m       customize UnixCCompiler\n",
      "  \u001b[31m   \u001b[0m         libraries mkl_rt not found in ['/Library/Frameworks/Python.framework/Versions/3.10/lib', '/usr/local/lib', '/usr/lib']\n",
      "  \u001b[31m   \u001b[0m         NOT AVAILABLE\n",
      "  \u001b[31m   \u001b[0m \n",
      "  \u001b[31m   \u001b[0m       blis_info:\n",
      "  \u001b[31m   \u001b[0m         libraries blis not found in ['/Library/Frameworks/Python.framework/Versions/3.10/lib', '/usr/local/lib', '/usr/lib']\n",
      "  \u001b[31m   \u001b[0m         NOT AVAILABLE\n",
      "  \u001b[31m   \u001b[0m \n",
      "  \u001b[31m   \u001b[0m       openblas_info:\n",
      "  \u001b[31m   \u001b[0m         libraries openblas not found in ['/Library/Frameworks/Python.framework/Versions/3.10/lib', '/usr/local/lib', '/usr/lib']\n",
      "  \u001b[31m   \u001b[0m         NOT AVAILABLE\n",
      "  \u001b[31m   \u001b[0m \n",
      "  \u001b[31m   \u001b[0m       atlas_3_10_blas_threads_info:\n",
      "  \u001b[31m   \u001b[0m       Setting PTATLAS=ATLAS\n",
      "  \u001b[31m   \u001b[0m         libraries tatlas not found in ['/Library/Frameworks/Python.framework/Versions/3.10/lib', '/usr/local/lib', '/usr/lib']\n",
      "  \u001b[31m   \u001b[0m         NOT AVAILABLE\n",
      "  \u001b[31m   \u001b[0m \n",
      "  \u001b[31m   \u001b[0m       atlas_3_10_blas_info:\n",
      "  \u001b[31m   \u001b[0m         libraries satlas not found in ['/Library/Frameworks/Python.framework/Versions/3.10/lib', '/usr/local/lib', '/usr/lib']\n",
      "  \u001b[31m   \u001b[0m         NOT AVAILABLE\n",
      "  \u001b[31m   \u001b[0m \n",
      "  \u001b[31m   \u001b[0m       atlas_blas_threads_info:\n",
      "  \u001b[31m   \u001b[0m       Setting PTATLAS=ATLAS\n",
      "  \u001b[31m   \u001b[0m         libraries ptf77blas,ptcblas,atlas not found in ['/Library/Frameworks/Python.framework/Versions/3.10/lib', '/usr/local/lib', '/usr/lib']\n",
      "  \u001b[31m   \u001b[0m         NOT AVAILABLE\n",
      "  \u001b[31m   \u001b[0m \n",
      "  \u001b[31m   \u001b[0m       atlas_blas_info:\n",
      "  \u001b[31m   \u001b[0m         libraries f77blas,cblas,atlas not found in ['/Library/Frameworks/Python.framework/Versions/3.10/lib', '/usr/local/lib', '/usr/lib']\n",
      "  \u001b[31m   \u001b[0m         NOT AVAILABLE\n",
      "  \u001b[31m   \u001b[0m \n",
      "  \u001b[31m   \u001b[0m       accelerate_info:\n",
      "  \u001b[31m   \u001b[0m         libraries accelerate not found in ['/Library/Frameworks/Python.framework/Versions/3.10/lib', '/usr/local/lib', '/usr/lib']\n",
      "  \u001b[31m   \u001b[0m       Library accelerate was not found. Ignoring\n",
      "  \u001b[31m   \u001b[0m         libraries veclib not found in ['/Library/Frameworks/Python.framework/Versions/3.10/lib', '/usr/local/lib', '/usr/lib']\n",
      "  \u001b[31m   \u001b[0m       Library veclib was not found. Ignoring\n",
      "  \u001b[31m   \u001b[0m         FOUND:\n",
      "  \u001b[31m   \u001b[0m           extra_compile_args = ['-msse3', '-I/System/Library/Frameworks/vecLib.framework/Headers']\n",
      "  \u001b[31m   \u001b[0m           extra_link_args = ['-Wl,-framework', '-Wl,Accelerate']\n",
      "  \u001b[31m   \u001b[0m           define_macros = [('NO_ATLAS_INFO', 3), ('HAVE_CBLAS', None)]\n",
      "  \u001b[31m   \u001b[0m \n",
      "  \u001b[31m   \u001b[0m         FOUND:\n",
      "  \u001b[31m   \u001b[0m           extra_compile_args = ['-msse3', '-I/System/Library/Frameworks/vecLib.framework/Headers']\n",
      "  \u001b[31m   \u001b[0m           extra_link_args = ['-Wl,-framework', '-Wl,Accelerate']\n",
      "  \u001b[31m   \u001b[0m           define_macros = [('NO_ATLAS_INFO', 3), ('HAVE_CBLAS', None)]\n",
      "  \u001b[31m   \u001b[0m \n",
      "  \u001b[31m   \u001b[0m       non-existing path in 'numpy/distutils': 'site.cfg'\n",
      "  \u001b[31m   \u001b[0m       lapack_opt_info:\n",
      "  \u001b[31m   \u001b[0m       lapack_mkl_info:\n",
      "  \u001b[31m   \u001b[0m         libraries mkl_rt not found in ['/Library/Frameworks/Python.framework/Versions/3.10/lib', '/usr/local/lib', '/usr/lib']\n",
      "  \u001b[31m   \u001b[0m         NOT AVAILABLE\n",
      "  \u001b[31m   \u001b[0m \n",
      "  \u001b[31m   \u001b[0m       openblas_lapack_info:\n",
      "  \u001b[31m   \u001b[0m         libraries openblas not found in ['/Library/Frameworks/Python.framework/Versions/3.10/lib', '/usr/local/lib', '/usr/lib']\n",
      "  \u001b[31m   \u001b[0m         NOT AVAILABLE\n",
      "  \u001b[31m   \u001b[0m \n",
      "  \u001b[31m   \u001b[0m       openblas_clapack_info:\n",
      "  \u001b[31m   \u001b[0m         libraries openblas,lapack not found in ['/Library/Frameworks/Python.framework/Versions/3.10/lib', '/usr/local/lib', '/usr/lib']\n",
      "  \u001b[31m   \u001b[0m         NOT AVAILABLE\n",
      "  \u001b[31m   \u001b[0m \n",
      "  \u001b[31m   \u001b[0m       flame_info:\n",
      "  \u001b[31m   \u001b[0m         libraries flame not found in ['/Library/Frameworks/Python.framework/Versions/3.10/lib', '/usr/local/lib', '/usr/lib']\n",
      "  \u001b[31m   \u001b[0m         NOT AVAILABLE\n",
      "  \u001b[31m   \u001b[0m \n",
      "  \u001b[31m   \u001b[0m       atlas_3_10_threads_info:\n",
      "  \u001b[31m   \u001b[0m       Setting PTATLAS=ATLAS\n",
      "  \u001b[31m   \u001b[0m         libraries lapack_atlas not found in /Library/Frameworks/Python.framework/Versions/3.10/lib\n",
      "  \u001b[31m   \u001b[0m         libraries tatlas,tatlas not found in /Library/Frameworks/Python.framework/Versions/3.10/lib\n",
      "  \u001b[31m   \u001b[0m         libraries lapack_atlas not found in /usr/local/lib\n",
      "  \u001b[31m   \u001b[0m         libraries tatlas,tatlas not found in /usr/local/lib\n",
      "  \u001b[31m   \u001b[0m         libraries lapack_atlas not found in /usr/lib\n",
      "  \u001b[31m   \u001b[0m         libraries tatlas,tatlas not found in /usr/lib\n",
      "  \u001b[31m   \u001b[0m       <class 'numpy.distutils.system_info.atlas_3_10_threads_info'>\n",
      "  \u001b[31m   \u001b[0m         NOT AVAILABLE\n",
      "  \u001b[31m   \u001b[0m \n",
      "  \u001b[31m   \u001b[0m       atlas_3_10_info:\n",
      "  \u001b[31m   \u001b[0m         libraries lapack_atlas not found in /Library/Frameworks/Python.framework/Versions/3.10/lib\n",
      "  \u001b[31m   \u001b[0m         libraries satlas,satlas not found in /Library/Frameworks/Python.framework/Versions/3.10/lib\n",
      "  \u001b[31m   \u001b[0m         libraries lapack_atlas not found in /usr/local/lib\n",
      "  \u001b[31m   \u001b[0m         libraries satlas,satlas not found in /usr/local/lib\n",
      "  \u001b[31m   \u001b[0m         libraries lapack_atlas not found in /usr/lib\n",
      "  \u001b[31m   \u001b[0m         libraries satlas,satlas not found in /usr/lib\n",
      "  \u001b[31m   \u001b[0m       <class 'numpy.distutils.system_info.atlas_3_10_info'>\n",
      "  \u001b[31m   \u001b[0m         NOT AVAILABLE\n",
      "  \u001b[31m   \u001b[0m \n",
      "  \u001b[31m   \u001b[0m       atlas_threads_info:\n",
      "  \u001b[31m   \u001b[0m       Setting PTATLAS=ATLAS\n",
      "  \u001b[31m   \u001b[0m         libraries lapack_atlas not found in /Library/Frameworks/Python.framework/Versions/3.10/lib\n",
      "  \u001b[31m   \u001b[0m         libraries ptf77blas,ptcblas,atlas not found in /Library/Frameworks/Python.framework/Versions/3.10/lib\n",
      "  \u001b[31m   \u001b[0m         libraries lapack_atlas not found in /usr/local/lib\n",
      "  \u001b[31m   \u001b[0m         libraries ptf77blas,ptcblas,atlas not found in /usr/local/lib\n",
      "  \u001b[31m   \u001b[0m         libraries lapack_atlas not found in /usr/lib\n",
      "  \u001b[31m   \u001b[0m         libraries ptf77blas,ptcblas,atlas not found in /usr/lib\n",
      "  \u001b[31m   \u001b[0m       <class 'numpy.distutils.system_info.atlas_threads_info'>\n",
      "  \u001b[31m   \u001b[0m         NOT AVAILABLE\n",
      "  \u001b[31m   \u001b[0m \n",
      "  \u001b[31m   \u001b[0m       atlas_info:\n",
      "  \u001b[31m   \u001b[0m         libraries lapack_atlas not found in /Library/Frameworks/Python.framework/Versions/3.10/lib\n",
      "  \u001b[31m   \u001b[0m         libraries f77blas,cblas,atlas not found in /Library/Frameworks/Python.framework/Versions/3.10/lib\n",
      "  \u001b[31m   \u001b[0m         libraries lapack_atlas not found in /usr/local/lib\n",
      "  \u001b[31m   \u001b[0m         libraries f77blas,cblas,atlas not found in /usr/local/lib\n",
      "  \u001b[31m   \u001b[0m         libraries lapack_atlas not found in /usr/lib\n",
      "  \u001b[31m   \u001b[0m         libraries f77blas,cblas,atlas not found in /usr/lib\n",
      "  \u001b[31m   \u001b[0m       <class 'numpy.distutils.system_info.atlas_info'>\n",
      "  \u001b[31m   \u001b[0m         NOT AVAILABLE\n",
      "  \u001b[31m   \u001b[0m \n",
      "  \u001b[31m   \u001b[0m         FOUND:\n",
      "  \u001b[31m   \u001b[0m           extra_compile_args = ['-msse3', '-I/System/Library/Frameworks/vecLib.framework/Headers']\n",
      "  \u001b[31m   \u001b[0m           extra_link_args = ['-Wl,-framework', '-Wl,Accelerate']\n",
      "  \u001b[31m   \u001b[0m           define_macros = [('NO_ATLAS_INFO', 3), ('HAVE_CBLAS', None)]\n",
      "  \u001b[31m   \u001b[0m \n",
      "  \u001b[31m   \u001b[0m       /private/var/folders/rx/m0btvv496ls5xlm6m33rc1kr0000gn/T/pip-build-env-o29qwam_/overlay/lib/python3.10/site-packages/setuptools/_distutils/dist.py:275: UserWarning: Unknown distribution option: 'define_macros'\n",
      "  \u001b[31m   \u001b[0m         warnings.warn(msg)\n",
      "  \u001b[31m   \u001b[0m       running bdist_wheel\n",
      "  \u001b[31m   \u001b[0m       running build\n",
      "  \u001b[31m   \u001b[0m       running config_cc\n",
      "  \u001b[31m   \u001b[0m       unifing config_cc, config, build_clib, build_ext, build commands --compiler options\n",
      "  \u001b[31m   \u001b[0m       running config_fc\n",
      "  \u001b[31m   \u001b[0m       unifing config_fc, config, build_clib, build_ext, build commands --fcompiler options\n",
      "  \u001b[31m   \u001b[0m       running build_src\n",
      "  \u001b[31m   \u001b[0m       build_src\n",
      "  \u001b[31m   \u001b[0m       building py_modules sources\n",
      "  \u001b[31m   \u001b[0m       building library \"npymath\" sources\n",
      "  \u001b[31m   \u001b[0m       Could not locate executable gfortran\n",
      "  \u001b[31m   \u001b[0m       Could not locate executable f95\n",
      "  \u001b[31m   \u001b[0m       Could not locate executable f90\n",
      "  \u001b[31m   \u001b[0m       Could not locate executable f77\n",
      "  \u001b[31m   \u001b[0m       Could not locate executable xlf90\n",
      "  \u001b[31m   \u001b[0m       Could not locate executable xlf\n",
      "  \u001b[31m   \u001b[0m       Could not locate executable ifort\n",
      "  \u001b[31m   \u001b[0m       Could not locate executable ifc\n",
      "  \u001b[31m   \u001b[0m       Could not locate executable g77\n",
      "  \u001b[31m   \u001b[0m       Could not locate executable g95\n",
      "  \u001b[31m   \u001b[0m       Could not locate executable pgfortran\n",
      "  \u001b[31m   \u001b[0m       don't know how to compile Fortran code on platform 'posix'\n",
      "  \u001b[31m   \u001b[0m         adding 'build/src.macosx-10.9-universal2-3.10/numpy/core/src/npymath' to include_dirs.\n",
      "  \u001b[31m   \u001b[0m       None - nothing done with h_files = ['build/src.macosx-10.9-universal2-3.10/numpy/core/src/npymath/npy_math_internal.h']\n",
      "  \u001b[31m   \u001b[0m       building library \"npysort\" sources\n",
      "  \u001b[31m   \u001b[0m         adding 'build/src.macosx-10.9-universal2-3.10/numpy/core/src/common' to include_dirs.\n",
      "  \u001b[31m   \u001b[0m       None - nothing done with h_files = ['build/src.macosx-10.9-universal2-3.10/numpy/core/src/common/npy_sort.h', 'build/src.macosx-10.9-universal2-3.10/numpy/core/src/common/npy_partition.h', 'build/src.macosx-10.9-universal2-3.10/numpy/core/src/common/npy_binsearch.h']\n",
      "  \u001b[31m   \u001b[0m       building library \"npyrandom\" sources\n",
      "  \u001b[31m   \u001b[0m       building extension \"numpy.core._multiarray_tests\" sources\n",
      "  \u001b[31m   \u001b[0m       building extension \"numpy.core._multiarray_umath\" sources\n",
      "  \u001b[31m   \u001b[0m         adding 'build/src.macosx-10.9-universal2-3.10/numpy/core/src/umath' to include_dirs.\n",
      "  \u001b[31m   \u001b[0m         adding 'build/src.macosx-10.9-universal2-3.10/numpy/core/src/npymath' to include_dirs.\n",
      "  \u001b[31m   \u001b[0m         adding 'build/src.macosx-10.9-universal2-3.10/numpy/core/src/common' to include_dirs.\n",
      "  \u001b[31m   \u001b[0m       numpy.core - nothing done with h_files = ['build/src.macosx-10.9-universal2-3.10/numpy/core/src/umath/funcs.inc', 'build/src.macosx-10.9-universal2-3.10/numpy/core/src/umath/simd.inc', 'build/src.macosx-10.9-universal2-3.10/numpy/core/src/umath/loops.h', 'build/src.macosx-10.9-universal2-3.10/numpy/core/src/umath/matmul.h', 'build/src.macosx-10.9-universal2-3.10/numpy/core/src/umath/clip.h', 'build/src.macosx-10.9-universal2-3.10/numpy/core/src/npymath/npy_math_internal.h', 'build/src.macosx-10.9-universal2-3.10/numpy/core/src/common/templ_common.h', 'build/src.macosx-10.9-universal2-3.10/numpy/core/include/numpy/config.h', 'build/src.macosx-10.9-universal2-3.10/numpy/core/include/numpy/_numpyconfig.h', 'build/src.macosx-10.9-universal2-3.10/numpy/core/include/numpy/__multiarray_api.h', 'build/src.macosx-10.9-universal2-3.10/numpy/core/include/numpy/__ufunc_api.h']\n",
      "  \u001b[31m   \u001b[0m       building extension \"numpy.core._umath_tests\" sources\n",
      "  \u001b[31m   \u001b[0m       building extension \"numpy.core._rational_tests\" sources\n",
      "  \u001b[31m   \u001b[0m       building extension \"numpy.core._struct_ufunc_tests\" sources\n",
      "  \u001b[31m   \u001b[0m       building extension \"numpy.core._operand_flag_tests\" sources\n",
      "  \u001b[31m   \u001b[0m       building extension \"numpy.fft._pocketfft_internal\" sources\n",
      "  \u001b[31m   \u001b[0m       building extension \"numpy.linalg.lapack_lite\" sources\n",
      "  \u001b[31m   \u001b[0m       building extension \"numpy.linalg._umath_linalg\" sources\n",
      "  \u001b[31m   \u001b[0m       building extension \"numpy.random._mt19937\" sources\n",
      "  \u001b[31m   \u001b[0m       building extension \"numpy.random._philox\" sources\n",
      "  \u001b[31m   \u001b[0m       building extension \"numpy.random._pcg64\" sources\n",
      "  \u001b[31m   \u001b[0m       building extension \"numpy.random._sfc64\" sources\n",
      "  \u001b[31m   \u001b[0m       building extension \"numpy.random._common\" sources\n",
      "  \u001b[31m   \u001b[0m       building extension \"numpy.random.bit_generator\" sources\n",
      "  \u001b[31m   \u001b[0m       building extension \"numpy.random._generator\" sources\n",
      "  \u001b[31m   \u001b[0m       building extension \"numpy.random._bounded_integers\" sources\n",
      "  \u001b[31m   \u001b[0m       building extension \"numpy.random.mtrand\" sources\n",
      "  \u001b[31m   \u001b[0m       building data_files sources\n",
      "  \u001b[31m   \u001b[0m       build_src: building npy-pkg config files\n",
      "  \u001b[31m   \u001b[0m       running build_py\n",
      "  \u001b[31m   \u001b[0m       creating build/lib.macosx-10.9-universal2-3.10\n",
      "  \u001b[31m   \u001b[0m       creating build/lib.macosx-10.9-universal2-3.10/numpy\n",
      "  \u001b[31m   \u001b[0m       copying numpy/conftest.py -> build/lib.macosx-10.9-universal2-3.10/numpy\n",
      "  \u001b[31m   \u001b[0m       copying numpy/version.py -> build/lib.macosx-10.9-universal2-3.10/numpy\n",
      "  \u001b[31m   \u001b[0m       copying numpy/_globals.py -> build/lib.macosx-10.9-universal2-3.10/numpy\n",
      "  \u001b[31m   \u001b[0m       copying numpy/__init__.py -> build/lib.macosx-10.9-universal2-3.10/numpy\n",
      "  \u001b[31m   \u001b[0m       copying numpy/dual.py -> build/lib.macosx-10.9-universal2-3.10/numpy\n",
      "  \u001b[31m   \u001b[0m       copying numpy/_distributor_init.py -> build/lib.macosx-10.9-universal2-3.10/numpy\n",
      "  \u001b[31m   \u001b[0m       copying numpy/setup.py -> build/lib.macosx-10.9-universal2-3.10/numpy\n",
      "  \u001b[31m   \u001b[0m       copying numpy/ctypeslib.py -> build/lib.macosx-10.9-universal2-3.10/numpy\n",
      "  \u001b[31m   \u001b[0m       copying numpy/matlib.py -> build/lib.macosx-10.9-universal2-3.10/numpy\n",
      "  \u001b[31m   \u001b[0m       copying numpy/_pytesttester.py -> build/lib.macosx-10.9-universal2-3.10/numpy\n",
      "  \u001b[31m   \u001b[0m       copying build/src.macosx-10.9-universal2-3.10/numpy/__config__.py -> build/lib.macosx-10.9-universal2-3.10/numpy\n",
      "  \u001b[31m   \u001b[0m       creating build/lib.macosx-10.9-universal2-3.10/numpy/compat\n",
      "  \u001b[31m   \u001b[0m       copying numpy/compat/py3k.py -> build/lib.macosx-10.9-universal2-3.10/numpy/compat\n",
      "  \u001b[31m   \u001b[0m       copying numpy/compat/__init__.py -> build/lib.macosx-10.9-universal2-3.10/numpy/compat\n",
      "  \u001b[31m   \u001b[0m       copying numpy/compat/setup.py -> build/lib.macosx-10.9-universal2-3.10/numpy/compat\n",
      "  \u001b[31m   \u001b[0m       copying numpy/compat/_inspect.py -> build/lib.macosx-10.9-universal2-3.10/numpy/compat\n",
      "  \u001b[31m   \u001b[0m       creating build/lib.macosx-10.9-universal2-3.10/numpy/compat/tests\n",
      "  \u001b[31m   \u001b[0m       copying numpy/compat/tests/__init__.py -> build/lib.macosx-10.9-universal2-3.10/numpy/compat/tests\n",
      "  \u001b[31m   \u001b[0m       copying numpy/compat/tests/test_compat.py -> build/lib.macosx-10.9-universal2-3.10/numpy/compat/tests\n",
      "  \u001b[31m   \u001b[0m       creating build/lib.macosx-10.9-universal2-3.10/numpy/core\n",
      "  \u001b[31m   \u001b[0m       copying numpy/core/umath.py -> build/lib.macosx-10.9-universal2-3.10/numpy/core\n",
      "  \u001b[31m   \u001b[0m       copying numpy/core/fromnumeric.py -> build/lib.macosx-10.9-universal2-3.10/numpy/core\n",
      "  \u001b[31m   \u001b[0m       copying numpy/core/_dtype.py -> build/lib.macosx-10.9-universal2-3.10/numpy/core\n",
      "  \u001b[31m   \u001b[0m       copying numpy/core/_add_newdocs.py -> build/lib.macosx-10.9-universal2-3.10/numpy/core\n",
      "  \u001b[31m   \u001b[0m       copying numpy/core/_methods.py -> build/lib.macosx-10.9-universal2-3.10/numpy/core\n",
      "  \u001b[31m   \u001b[0m       copying numpy/core/_internal.py -> build/lib.macosx-10.9-universal2-3.10/numpy/core\n",
      "  \u001b[31m   \u001b[0m       copying numpy/core/_string_helpers.py -> build/lib.macosx-10.9-universal2-3.10/numpy/core\n",
      "  \u001b[31m   \u001b[0m       copying numpy/core/multiarray.py -> build/lib.macosx-10.9-universal2-3.10/numpy/core\n",
      "  \u001b[31m   \u001b[0m       copying numpy/core/_asarray.py -> build/lib.macosx-10.9-universal2-3.10/numpy/core\n",
      "  \u001b[31m   \u001b[0m       copying numpy/core/records.py -> build/lib.macosx-10.9-universal2-3.10/numpy/core\n",
      "  \u001b[31m   \u001b[0m       copying numpy/core/__init__.py -> build/lib.macosx-10.9-universal2-3.10/numpy/core\n",
      "  \u001b[31m   \u001b[0m       copying numpy/core/setup_common.py -> build/lib.macosx-10.9-universal2-3.10/numpy/core\n",
      "  \u001b[31m   \u001b[0m       copying numpy/core/memmap.py -> build/lib.macosx-10.9-universal2-3.10/numpy/core\n",
      "  \u001b[31m   \u001b[0m       copying numpy/core/overrides.py -> build/lib.macosx-10.9-universal2-3.10/numpy/core\n",
      "  \u001b[31m   \u001b[0m       copying numpy/core/getlimits.py -> build/lib.macosx-10.9-universal2-3.10/numpy/core\n",
      "  \u001b[31m   \u001b[0m       copying numpy/core/_dtype_ctypes.py -> build/lib.macosx-10.9-universal2-3.10/numpy/core\n",
      "  \u001b[31m   \u001b[0m       copying numpy/core/defchararray.py -> build/lib.macosx-10.9-universal2-3.10/numpy/core\n",
      "  \u001b[31m   \u001b[0m       copying numpy/core/shape_base.py -> build/lib.macosx-10.9-universal2-3.10/numpy/core\n",
      "  \u001b[31m   \u001b[0m       copying numpy/core/machar.py -> build/lib.macosx-10.9-universal2-3.10/numpy/core\n",
      "  \u001b[31m   \u001b[0m       copying numpy/core/setup.py -> build/lib.macosx-10.9-universal2-3.10/numpy/core\n",
      "  \u001b[31m   \u001b[0m       copying numpy/core/numeric.py -> build/lib.macosx-10.9-universal2-3.10/numpy/core\n",
      "  \u001b[31m   \u001b[0m       copying numpy/core/function_base.py -> build/lib.macosx-10.9-universal2-3.10/numpy/core\n",
      "  \u001b[31m   \u001b[0m       copying numpy/core/einsumfunc.py -> build/lib.macosx-10.9-universal2-3.10/numpy/core\n",
      "  \u001b[31m   \u001b[0m       copying numpy/core/umath_tests.py -> build/lib.macosx-10.9-universal2-3.10/numpy/core\n",
      "  \u001b[31m   \u001b[0m       copying numpy/core/_ufunc_config.py -> build/lib.macosx-10.9-universal2-3.10/numpy/core\n",
      "  \u001b[31m   \u001b[0m       copying numpy/core/_exceptions.py -> build/lib.macosx-10.9-universal2-3.10/numpy/core\n",
      "  \u001b[31m   \u001b[0m       copying numpy/core/numerictypes.py -> build/lib.macosx-10.9-universal2-3.10/numpy/core\n",
      "  \u001b[31m   \u001b[0m       copying numpy/core/_type_aliases.py -> build/lib.macosx-10.9-universal2-3.10/numpy/core\n",
      "  \u001b[31m   \u001b[0m       copying numpy/core/cversions.py -> build/lib.macosx-10.9-universal2-3.10/numpy/core\n",
      "  \u001b[31m   \u001b[0m       copying numpy/core/arrayprint.py -> build/lib.macosx-10.9-universal2-3.10/numpy/core\n",
      "  \u001b[31m   \u001b[0m       copying numpy/core/code_generators/generate_numpy_api.py -> build/lib.macosx-10.9-universal2-3.10/numpy/core\n",
      "  \u001b[31m   \u001b[0m       creating build/lib.macosx-10.9-universal2-3.10/numpy/core/tests\n",
      "  \u001b[31m   \u001b[0m       copying numpy/core/tests/test_numerictypes.py -> build/lib.macosx-10.9-universal2-3.10/numpy/core/tests\n",
      "  \u001b[31m   \u001b[0m       copying numpy/core/tests/test_scalar_methods.py -> build/lib.macosx-10.9-universal2-3.10/numpy/core/tests\n",
      "  \u001b[31m   \u001b[0m       copying numpy/core/tests/test_scalarmath.py -> build/lib.macosx-10.9-universal2-3.10/numpy/core/tests\n",
      "  \u001b[31m   \u001b[0m       copying numpy/core/tests/test_item_selection.py -> build/lib.macosx-10.9-universal2-3.10/numpy/core/tests\n",
      "  \u001b[31m   \u001b[0m       copying numpy/core/tests/test_machar.py -> build/lib.macosx-10.9-universal2-3.10/numpy/core/tests\n",
      "  \u001b[31m   \u001b[0m       copying numpy/core/tests/test_unicode.py -> build/lib.macosx-10.9-universal2-3.10/numpy/core/tests\n",
      "  \u001b[31m   \u001b[0m       copying numpy/core/tests/test_arrayprint.py -> build/lib.macosx-10.9-universal2-3.10/numpy/core/tests\n",
      "  \u001b[31m   \u001b[0m       copying numpy/core/tests/test_scalarbuffer.py -> build/lib.macosx-10.9-universal2-3.10/numpy/core/tests\n",
      "  \u001b[31m   \u001b[0m       copying numpy/core/tests/test_indexerrors.py -> build/lib.macosx-10.9-universal2-3.10/numpy/core/tests\n",
      "  \u001b[31m   \u001b[0m       copying numpy/core/tests/test_print.py -> build/lib.macosx-10.9-universal2-3.10/numpy/core/tests\n",
      "  \u001b[31m   \u001b[0m       copying numpy/core/tests/test_half.py -> build/lib.macosx-10.9-universal2-3.10/numpy/core/tests\n",
      "  \u001b[31m   \u001b[0m       copying numpy/core/tests/test_mem_overlap.py -> build/lib.macosx-10.9-universal2-3.10/numpy/core/tests\n",
      "  \u001b[31m   \u001b[0m       copying numpy/core/tests/test_shape_base.py -> build/lib.macosx-10.9-universal2-3.10/numpy/core/tests\n",
      "  \u001b[31m   \u001b[0m       copying numpy/core/tests/test_deprecations.py -> build/lib.macosx-10.9-universal2-3.10/numpy/core/tests\n",
      "  \u001b[31m   \u001b[0m       copying numpy/core/tests/__init__.py -> build/lib.macosx-10.9-universal2-3.10/numpy/core/tests\n",
      "  \u001b[31m   \u001b[0m       copying numpy/core/tests/test_errstate.py -> build/lib.macosx-10.9-universal2-3.10/numpy/core/tests\n",
      "  \u001b[31m   \u001b[0m       copying numpy/core/tests/test_records.py -> build/lib.macosx-10.9-universal2-3.10/numpy/core/tests\n",
      "  \u001b[31m   \u001b[0m       copying numpy/core/tests/test_scalarinherit.py -> build/lib.macosx-10.9-universal2-3.10/numpy/core/tests\n",
      "  \u001b[31m   \u001b[0m       copying numpy/core/tests/test_indexing.py -> build/lib.macosx-10.9-universal2-3.10/numpy/core/tests\n",
      "  \u001b[31m   \u001b[0m       copying numpy/core/tests/test_umath.py -> build/lib.macosx-10.9-universal2-3.10/numpy/core/tests\n",
      "  \u001b[31m   \u001b[0m       copying numpy/core/tests/test_numeric.py -> build/lib.macosx-10.9-universal2-3.10/numpy/core/tests\n",
      "  \u001b[31m   \u001b[0m       copying numpy/core/tests/test_function_base.py -> build/lib.macosx-10.9-universal2-3.10/numpy/core/tests\n",
      "  \u001b[31m   \u001b[0m       copying numpy/core/tests/test_datetime.py -> build/lib.macosx-10.9-universal2-3.10/numpy/core/tests\n",
      "  \u001b[31m   \u001b[0m       copying numpy/core/tests/test__exceptions.py -> build/lib.macosx-10.9-universal2-3.10/numpy/core/tests\n",
      "  \u001b[31m   \u001b[0m       copying numpy/core/tests/test_extint128.py -> build/lib.macosx-10.9-universal2-3.10/numpy/core/tests\n",
      "  \u001b[31m   \u001b[0m       copying numpy/core/tests/test_umath_complex.py -> build/lib.macosx-10.9-universal2-3.10/numpy/core/tests\n",
      "  \u001b[31m   \u001b[0m       copying numpy/core/tests/_locales.py -> build/lib.macosx-10.9-universal2-3.10/numpy/core/tests\n",
      "  \u001b[31m   \u001b[0m       copying numpy/core/tests/test_defchararray.py -> build/lib.macosx-10.9-universal2-3.10/numpy/core/tests\n",
      "  \u001b[31m   \u001b[0m       copying numpy/core/tests/test_conversion_utils.py -> build/lib.macosx-10.9-universal2-3.10/numpy/core/tests\n",
      "  \u001b[31m   \u001b[0m       copying numpy/core/tests/test_scalarprint.py -> build/lib.macosx-10.9-universal2-3.10/numpy/core/tests\n",
      "  \u001b[31m   \u001b[0m       copying numpy/core/tests/test_abc.py -> build/lib.macosx-10.9-universal2-3.10/numpy/core/tests\n",
      "  \u001b[31m   \u001b[0m       copying numpy/core/tests/test_ufunc.py -> build/lib.macosx-10.9-universal2-3.10/numpy/core/tests\n",
      "  \u001b[31m   \u001b[0m       copying numpy/core/tests/test_dtype.py -> build/lib.macosx-10.9-universal2-3.10/numpy/core/tests\n",
      "  \u001b[31m   \u001b[0m       copying numpy/core/tests/test_umath_accuracy.py -> build/lib.macosx-10.9-universal2-3.10/numpy/core/tests\n",
      "  \u001b[31m   \u001b[0m       copying numpy/core/tests/test_getlimits.py -> build/lib.macosx-10.9-universal2-3.10/numpy/core/tests\n",
      "  \u001b[31m   \u001b[0m       copying numpy/core/tests/test_einsum.py -> build/lib.macosx-10.9-universal2-3.10/numpy/core/tests\n",
      "  \u001b[31m   \u001b[0m       copying numpy/core/tests/test_api.py -> build/lib.macosx-10.9-universal2-3.10/numpy/core/tests\n",
      "  \u001b[31m   \u001b[0m       copying numpy/core/tests/test_longdouble.py -> build/lib.macosx-10.9-universal2-3.10/numpy/core/tests\n",
      "  \u001b[31m   \u001b[0m       copying numpy/core/tests/test_overrides.py -> build/lib.macosx-10.9-universal2-3.10/numpy/core/tests\n",
      "  \u001b[31m   \u001b[0m       copying numpy/core/tests/test_scalar_ctors.py -> build/lib.macosx-10.9-universal2-3.10/numpy/core/tests\n",
      "  \u001b[31m   \u001b[0m       copying numpy/core/tests/test_multiarray.py -> build/lib.macosx-10.9-universal2-3.10/numpy/core/tests\n",
      "  \u001b[31m   \u001b[0m       copying numpy/core/tests/test_memmap.py -> build/lib.macosx-10.9-universal2-3.10/numpy/core/tests\n",
      "  \u001b[31m   \u001b[0m       copying numpy/core/tests/test_nditer.py -> build/lib.macosx-10.9-universal2-3.10/numpy/core/tests\n",
      "  \u001b[31m   \u001b[0m       copying numpy/core/tests/test_cpu_features.py -> build/lib.macosx-10.9-universal2-3.10/numpy/core/tests\n",
      "  \u001b[31m   \u001b[0m       copying numpy/core/tests/test_protocols.py -> build/lib.macosx-10.9-universal2-3.10/numpy/core/tests\n",
      "  \u001b[31m   \u001b[0m       copying numpy/core/tests/test_regression.py -> build/lib.macosx-10.9-universal2-3.10/numpy/core/tests\n",
      "  \u001b[31m   \u001b[0m       creating build/lib.macosx-10.9-universal2-3.10/numpy/distutils\n",
      "  \u001b[31m   \u001b[0m       copying numpy/distutils/unixccompiler.py -> build/lib.macosx-10.9-universal2-3.10/numpy/distutils\n",
      "  \u001b[31m   \u001b[0m       copying numpy/distutils/numpy_distribution.py -> build/lib.macosx-10.9-universal2-3.10/numpy/distutils\n",
      "  \u001b[31m   \u001b[0m       copying numpy/distutils/conv_template.py -> build/lib.macosx-10.9-universal2-3.10/numpy/distutils\n",
      "  \u001b[31m   \u001b[0m       copying numpy/distutils/cpuinfo.py -> build/lib.macosx-10.9-universal2-3.10/numpy/distutils\n",
      "  \u001b[31m   \u001b[0m       copying numpy/distutils/ccompiler.py -> build/lib.macosx-10.9-universal2-3.10/numpy/distutils\n",
      "  \u001b[31m   \u001b[0m       copying numpy/distutils/msvc9compiler.py -> build/lib.macosx-10.9-universal2-3.10/numpy/distutils\n",
      "  \u001b[31m   \u001b[0m       copying numpy/distutils/npy_pkg_config.py -> build/lib.macosx-10.9-universal2-3.10/numpy/distutils\n",
      "  \u001b[31m   \u001b[0m       copying numpy/distutils/misc_util.py -> build/lib.macosx-10.9-universal2-3.10/numpy/distutils\n",
      "  \u001b[31m   \u001b[0m       copying numpy/distutils/log.py -> build/lib.macosx-10.9-universal2-3.10/numpy/distutils\n",
      "  \u001b[31m   \u001b[0m       copying numpy/distutils/line_endings.py -> build/lib.macosx-10.9-universal2-3.10/numpy/distutils\n",
      "  \u001b[31m   \u001b[0m       copying numpy/distutils/lib2def.py -> build/lib.macosx-10.9-universal2-3.10/numpy/distutils\n",
      "  \u001b[31m   \u001b[0m       copying numpy/distutils/pathccompiler.py -> build/lib.macosx-10.9-universal2-3.10/numpy/distutils\n",
      "  \u001b[31m   \u001b[0m       copying numpy/distutils/system_info.py -> build/lib.macosx-10.9-universal2-3.10/numpy/distutils\n",
      "  \u001b[31m   \u001b[0m       copying numpy/distutils/__init__.py -> build/lib.macosx-10.9-universal2-3.10/numpy/distutils\n",
      "  \u001b[31m   \u001b[0m       copying numpy/distutils/core.py -> build/lib.macosx-10.9-universal2-3.10/numpy/distutils\n",
      "  \u001b[31m   \u001b[0m       copying numpy/distutils/exec_command.py -> build/lib.macosx-10.9-universal2-3.10/numpy/distutils\n",
      "  \u001b[31m   \u001b[0m       copying numpy/distutils/from_template.py -> build/lib.macosx-10.9-universal2-3.10/numpy/distutils\n",
      "  \u001b[31m   \u001b[0m       copying numpy/distutils/mingw32ccompiler.py -> build/lib.macosx-10.9-universal2-3.10/numpy/distutils\n",
      "  \u001b[31m   \u001b[0m       copying numpy/distutils/setup.py -> build/lib.macosx-10.9-universal2-3.10/numpy/distutils\n",
      "  \u001b[31m   \u001b[0m       copying numpy/distutils/extension.py -> build/lib.macosx-10.9-universal2-3.10/numpy/distutils\n",
      "  \u001b[31m   \u001b[0m       copying numpy/distutils/msvccompiler.py -> build/lib.macosx-10.9-universal2-3.10/numpy/distutils\n",
      "  \u001b[31m   \u001b[0m       copying numpy/distutils/intelccompiler.py -> build/lib.macosx-10.9-universal2-3.10/numpy/distutils\n",
      "  \u001b[31m   \u001b[0m       copying numpy/distutils/_shell_utils.py -> build/lib.macosx-10.9-universal2-3.10/numpy/distutils\n",
      "  \u001b[31m   \u001b[0m       copying build/src.macosx-10.9-universal2-3.10/numpy/distutils/__config__.py -> build/lib.macosx-10.9-universal2-3.10/numpy/distutils\n",
      "  \u001b[31m   \u001b[0m       creating build/lib.macosx-10.9-universal2-3.10/numpy/distutils/command\n",
      "  \u001b[31m   \u001b[0m       copying numpy/distutils/command/build.py -> build/lib.macosx-10.9-universal2-3.10/numpy/distutils/command\n",
      "  \u001b[31m   \u001b[0m       copying numpy/distutils/command/config_compiler.py -> build/lib.macosx-10.9-universal2-3.10/numpy/distutils/command\n",
      "  \u001b[31m   \u001b[0m       copying numpy/distutils/command/build_ext.py -> build/lib.macosx-10.9-universal2-3.10/numpy/distutils/command\n",
      "  \u001b[31m   \u001b[0m       copying numpy/distutils/command/config.py -> build/lib.macosx-10.9-universal2-3.10/numpy/distutils/command\n",
      "  \u001b[31m   \u001b[0m       copying numpy/distutils/command/install_headers.py -> build/lib.macosx-10.9-universal2-3.10/numpy/distutils/command\n",
      "  \u001b[31m   \u001b[0m       copying numpy/distutils/command/build_py.py -> build/lib.macosx-10.9-universal2-3.10/numpy/distutils/command\n",
      "  \u001b[31m   \u001b[0m       copying numpy/distutils/command/build_src.py -> build/lib.macosx-10.9-universal2-3.10/numpy/distutils/command\n",
      "  \u001b[31m   \u001b[0m       copying numpy/distutils/command/__init__.py -> build/lib.macosx-10.9-universal2-3.10/numpy/distutils/command\n",
      "  \u001b[31m   \u001b[0m       copying numpy/distutils/command/sdist.py -> build/lib.macosx-10.9-universal2-3.10/numpy/distutils/command\n",
      "  \u001b[31m   \u001b[0m       copying numpy/distutils/command/build_scripts.py -> build/lib.macosx-10.9-universal2-3.10/numpy/distutils/command\n",
      "  \u001b[31m   \u001b[0m       copying numpy/distutils/command/bdist_rpm.py -> build/lib.macosx-10.9-universal2-3.10/numpy/distutils/command\n",
      "  \u001b[31m   \u001b[0m       copying numpy/distutils/command/install_clib.py -> build/lib.macosx-10.9-universal2-3.10/numpy/distutils/command\n",
      "  \u001b[31m   \u001b[0m       copying numpy/distutils/command/build_clib.py -> build/lib.macosx-10.9-universal2-3.10/numpy/distutils/command\n",
      "  \u001b[31m   \u001b[0m       copying numpy/distutils/command/autodist.py -> build/lib.macosx-10.9-universal2-3.10/numpy/distutils/command\n",
      "  \u001b[31m   \u001b[0m       copying numpy/distutils/command/egg_info.py -> build/lib.macosx-10.9-universal2-3.10/numpy/distutils/command\n",
      "  \u001b[31m   \u001b[0m       copying numpy/distutils/command/install.py -> build/lib.macosx-10.9-universal2-3.10/numpy/distutils/command\n",
      "  \u001b[31m   \u001b[0m       copying numpy/distutils/command/develop.py -> build/lib.macosx-10.9-universal2-3.10/numpy/distutils/command\n",
      "  \u001b[31m   \u001b[0m       copying numpy/distutils/command/install_data.py -> build/lib.macosx-10.9-universal2-3.10/numpy/distutils/command\n",
      "  \u001b[31m   \u001b[0m       creating build/lib.macosx-10.9-universal2-3.10/numpy/distutils/fcompiler\n",
      "  \u001b[31m   \u001b[0m       copying numpy/distutils/fcompiler/gnu.py -> build/lib.macosx-10.9-universal2-3.10/numpy/distutils/fcompiler\n",
      "  \u001b[31m   \u001b[0m       copying numpy/distutils/fcompiler/compaq.py -> build/lib.macosx-10.9-universal2-3.10/numpy/distutils/fcompiler\n",
      "  \u001b[31m   \u001b[0m       copying numpy/distutils/fcompiler/intel.py -> build/lib.macosx-10.9-universal2-3.10/numpy/distutils/fcompiler\n",
      "  \u001b[31m   \u001b[0m       copying numpy/distutils/fcompiler/none.py -> build/lib.macosx-10.9-universal2-3.10/numpy/distutils/fcompiler\n",
      "  \u001b[31m   \u001b[0m       copying numpy/distutils/fcompiler/nag.py -> build/lib.macosx-10.9-universal2-3.10/numpy/distutils/fcompiler\n",
      "  \u001b[31m   \u001b[0m       copying numpy/distutils/fcompiler/pg.py -> build/lib.macosx-10.9-universal2-3.10/numpy/distutils/fcompiler\n",
      "  \u001b[31m   \u001b[0m       copying numpy/distutils/fcompiler/ibm.py -> build/lib.macosx-10.9-universal2-3.10/numpy/distutils/fcompiler\n",
      "  \u001b[31m   \u001b[0m       copying numpy/distutils/fcompiler/sun.py -> build/lib.macosx-10.9-universal2-3.10/numpy/distutils/fcompiler\n",
      "  \u001b[31m   \u001b[0m       copying numpy/distutils/fcompiler/nv.py -> build/lib.macosx-10.9-universal2-3.10/numpy/distutils/fcompiler\n",
      "  \u001b[31m   \u001b[0m       copying numpy/distutils/fcompiler/lahey.py -> build/lib.macosx-10.9-universal2-3.10/numpy/distutils/fcompiler\n",
      "  \u001b[31m   \u001b[0m       copying numpy/distutils/fcompiler/__init__.py -> build/lib.macosx-10.9-universal2-3.10/numpy/distutils/fcompiler\n",
      "  \u001b[31m   \u001b[0m       copying numpy/distutils/fcompiler/g95.py -> build/lib.macosx-10.9-universal2-3.10/numpy/distutils/fcompiler\n",
      "  \u001b[31m   \u001b[0m       copying numpy/distutils/fcompiler/mips.py -> build/lib.macosx-10.9-universal2-3.10/numpy/distutils/fcompiler\n",
      "  \u001b[31m   \u001b[0m       copying numpy/distutils/fcompiler/hpux.py -> build/lib.macosx-10.9-universal2-3.10/numpy/distutils/fcompiler\n",
      "  \u001b[31m   \u001b[0m       copying numpy/distutils/fcompiler/environment.py -> build/lib.macosx-10.9-universal2-3.10/numpy/distutils/fcompiler\n",
      "  \u001b[31m   \u001b[0m       copying numpy/distutils/fcompiler/pathf95.py -> build/lib.macosx-10.9-universal2-3.10/numpy/distutils/fcompiler\n",
      "  \u001b[31m   \u001b[0m       copying numpy/distutils/fcompiler/absoft.py -> build/lib.macosx-10.9-universal2-3.10/numpy/distutils/fcompiler\n",
      "  \u001b[31m   \u001b[0m       copying numpy/distutils/fcompiler/vast.py -> build/lib.macosx-10.9-universal2-3.10/numpy/distutils/fcompiler\n",
      "  \u001b[31m   \u001b[0m       creating build/lib.macosx-10.9-universal2-3.10/numpy/distutils/tests\n",
      "  \u001b[31m   \u001b[0m       copying numpy/distutils/tests/test_system_info.py -> build/lib.macosx-10.9-universal2-3.10/numpy/distutils/tests\n",
      "  \u001b[31m   \u001b[0m       copying numpy/distutils/tests/test_mingw32ccompiler.py -> build/lib.macosx-10.9-universal2-3.10/numpy/distutils/tests\n",
      "  \u001b[31m   \u001b[0m       copying numpy/distutils/tests/test_from_template.py -> build/lib.macosx-10.9-universal2-3.10/numpy/distutils/tests\n",
      "  \u001b[31m   \u001b[0m       copying numpy/distutils/tests/__init__.py -> build/lib.macosx-10.9-universal2-3.10/numpy/distutils/tests\n",
      "  \u001b[31m   \u001b[0m       copying numpy/distutils/tests/test_fcompiler_intel.py -> build/lib.macosx-10.9-universal2-3.10/numpy/distutils/tests\n",
      "  \u001b[31m   \u001b[0m       copying numpy/distutils/tests/test_misc_util.py -> build/lib.macosx-10.9-universal2-3.10/numpy/distutils/tests\n",
      "  \u001b[31m   \u001b[0m       copying numpy/distutils/tests/test_fcompiler.py -> build/lib.macosx-10.9-universal2-3.10/numpy/distutils/tests\n",
      "  \u001b[31m   \u001b[0m       copying numpy/distutils/tests/test_shell_utils.py -> build/lib.macosx-10.9-universal2-3.10/numpy/distutils/tests\n",
      "  \u001b[31m   \u001b[0m       copying numpy/distutils/tests/test_exec_command.py -> build/lib.macosx-10.9-universal2-3.10/numpy/distutils/tests\n",
      "  \u001b[31m   \u001b[0m       copying numpy/distutils/tests/test_npy_pkg_config.py -> build/lib.macosx-10.9-universal2-3.10/numpy/distutils/tests\n",
      "  \u001b[31m   \u001b[0m       copying numpy/distutils/tests/test_fcompiler_nagfor.py -> build/lib.macosx-10.9-universal2-3.10/numpy/distutils/tests\n",
      "  \u001b[31m   \u001b[0m       copying numpy/distutils/tests/test_fcompiler_gnu.py -> build/lib.macosx-10.9-universal2-3.10/numpy/distutils/tests\n",
      "  \u001b[31m   \u001b[0m       creating build/lib.macosx-10.9-universal2-3.10/numpy/doc\n",
      "  \u001b[31m   \u001b[0m       copying numpy/doc/misc.py -> build/lib.macosx-10.9-universal2-3.10/numpy/doc\n",
      "  \u001b[31m   \u001b[0m       copying numpy/doc/internals.py -> build/lib.macosx-10.9-universal2-3.10/numpy/doc\n",
      "  \u001b[31m   \u001b[0m       copying numpy/doc/creation.py -> build/lib.macosx-10.9-universal2-3.10/numpy/doc\n",
      "  \u001b[31m   \u001b[0m       copying numpy/doc/dispatch.py -> build/lib.macosx-10.9-universal2-3.10/numpy/doc\n",
      "  \u001b[31m   \u001b[0m       copying numpy/doc/constants.py -> build/lib.macosx-10.9-universal2-3.10/numpy/doc\n",
      "  \u001b[31m   \u001b[0m       copying numpy/doc/ufuncs.py -> build/lib.macosx-10.9-universal2-3.10/numpy/doc\n",
      "  \u001b[31m   \u001b[0m       copying numpy/doc/__init__.py -> build/lib.macosx-10.9-universal2-3.10/numpy/doc\n",
      "  \u001b[31m   \u001b[0m       copying numpy/doc/broadcasting.py -> build/lib.macosx-10.9-universal2-3.10/numpy/doc\n",
      "  \u001b[31m   \u001b[0m       copying numpy/doc/basics.py -> build/lib.macosx-10.9-universal2-3.10/numpy/doc\n",
      "  \u001b[31m   \u001b[0m       copying numpy/doc/subclassing.py -> build/lib.macosx-10.9-universal2-3.10/numpy/doc\n",
      "  \u001b[31m   \u001b[0m       copying numpy/doc/indexing.py -> build/lib.macosx-10.9-universal2-3.10/numpy/doc\n",
      "  \u001b[31m   \u001b[0m       copying numpy/doc/byteswapping.py -> build/lib.macosx-10.9-universal2-3.10/numpy/doc\n",
      "  \u001b[31m   \u001b[0m       copying numpy/doc/structured_arrays.py -> build/lib.macosx-10.9-universal2-3.10/numpy/doc\n",
      "  \u001b[31m   \u001b[0m       copying numpy/doc/glossary.py -> build/lib.macosx-10.9-universal2-3.10/numpy/doc\n",
      "  \u001b[31m   \u001b[0m       creating build/lib.macosx-10.9-universal2-3.10/numpy/f2py\n",
      "  \u001b[31m   \u001b[0m       copying numpy/f2py/cfuncs.py -> build/lib.macosx-10.9-universal2-3.10/numpy/f2py\n",
      "  \u001b[31m   \u001b[0m       copying numpy/f2py/common_rules.py -> build/lib.macosx-10.9-universal2-3.10/numpy/f2py\n",
      "  \u001b[31m   \u001b[0m       copying numpy/f2py/crackfortran.py -> build/lib.macosx-10.9-universal2-3.10/numpy/f2py\n",
      "  \u001b[31m   \u001b[0m       copying numpy/f2py/cb_rules.py -> build/lib.macosx-10.9-universal2-3.10/numpy/f2py\n",
      "  \u001b[31m   \u001b[0m       copying numpy/f2py/__init__.py -> build/lib.macosx-10.9-universal2-3.10/numpy/f2py\n",
      "  \u001b[31m   \u001b[0m       copying numpy/f2py/rules.py -> build/lib.macosx-10.9-universal2-3.10/numpy/f2py\n",
      "  \u001b[31m   \u001b[0m       copying numpy/f2py/f2py2e.py -> build/lib.macosx-10.9-universal2-3.10/numpy/f2py\n",
      "  \u001b[31m   \u001b[0m       copying numpy/f2py/func2subr.py -> build/lib.macosx-10.9-universal2-3.10/numpy/f2py\n",
      "  \u001b[31m   \u001b[0m       copying numpy/f2py/__version__.py -> build/lib.macosx-10.9-universal2-3.10/numpy/f2py\n",
      "  \u001b[31m   \u001b[0m       copying numpy/f2py/diagnose.py -> build/lib.macosx-10.9-universal2-3.10/numpy/f2py\n",
      "  \u001b[31m   \u001b[0m       copying numpy/f2py/setup.py -> build/lib.macosx-10.9-universal2-3.10/numpy/f2py\n",
      "  \u001b[31m   \u001b[0m       copying numpy/f2py/capi_maps.py -> build/lib.macosx-10.9-universal2-3.10/numpy/f2py\n",
      "  \u001b[31m   \u001b[0m       copying numpy/f2py/f90mod_rules.py -> build/lib.macosx-10.9-universal2-3.10/numpy/f2py\n",
      "  \u001b[31m   \u001b[0m       copying numpy/f2py/f2py_testing.py -> build/lib.macosx-10.9-universal2-3.10/numpy/f2py\n",
      "  \u001b[31m   \u001b[0m       copying numpy/f2py/use_rules.py -> build/lib.macosx-10.9-universal2-3.10/numpy/f2py\n",
      "  \u001b[31m   \u001b[0m       copying numpy/f2py/auxfuncs.py -> build/lib.macosx-10.9-universal2-3.10/numpy/f2py\n",
      "  \u001b[31m   \u001b[0m       copying numpy/f2py/__main__.py -> build/lib.macosx-10.9-universal2-3.10/numpy/f2py\n",
      "  \u001b[31m   \u001b[0m       creating build/lib.macosx-10.9-universal2-3.10/numpy/f2py/tests\n",
      "  \u001b[31m   \u001b[0m       copying numpy/f2py/tests/test_mixed.py -> build/lib.macosx-10.9-universal2-3.10/numpy/f2py/tests\n",
      "  \u001b[31m   \u001b[0m       copying numpy/f2py/tests/test_return_logical.py -> build/lib.macosx-10.9-universal2-3.10/numpy/f2py/tests\n",
      "  \u001b[31m   \u001b[0m       copying numpy/f2py/tests/test_assumed_shape.py -> build/lib.macosx-10.9-universal2-3.10/numpy/f2py/tests\n",
      "  \u001b[31m   \u001b[0m       copying numpy/f2py/tests/test_common.py -> build/lib.macosx-10.9-universal2-3.10/numpy/f2py/tests\n",
      "  \u001b[31m   \u001b[0m       copying numpy/f2py/tests/test_kind.py -> build/lib.macosx-10.9-universal2-3.10/numpy/f2py/tests\n",
      "  \u001b[31m   \u001b[0m       copying numpy/f2py/tests/test_array_from_pyobj.py -> build/lib.macosx-10.9-universal2-3.10/numpy/f2py/tests\n",
      "  \u001b[31m   \u001b[0m       copying numpy/f2py/tests/test_return_real.py -> build/lib.macosx-10.9-universal2-3.10/numpy/f2py/tests\n",
      "  \u001b[31m   \u001b[0m       copying numpy/f2py/tests/util.py -> build/lib.macosx-10.9-universal2-3.10/numpy/f2py/tests\n",
      "  \u001b[31m   \u001b[0m       copying numpy/f2py/tests/test_size.py -> build/lib.macosx-10.9-universal2-3.10/numpy/f2py/tests\n",
      "  \u001b[31m   \u001b[0m       copying numpy/f2py/tests/test_callback.py -> build/lib.macosx-10.9-universal2-3.10/numpy/f2py/tests\n",
      "  \u001b[31m   \u001b[0m       copying numpy/f2py/tests/test_string.py -> build/lib.macosx-10.9-universal2-3.10/numpy/f2py/tests\n",
      "  \u001b[31m   \u001b[0m       copying numpy/f2py/tests/__init__.py -> build/lib.macosx-10.9-universal2-3.10/numpy/f2py/tests\n",
      "  \u001b[31m   \u001b[0m       copying numpy/f2py/tests/test_quoted_character.py -> build/lib.macosx-10.9-universal2-3.10/numpy/f2py/tests\n",
      "  \u001b[31m   \u001b[0m       copying numpy/f2py/tests/test_parameter.py -> build/lib.macosx-10.9-universal2-3.10/numpy/f2py/tests\n",
      "  \u001b[31m   \u001b[0m       copying numpy/f2py/tests/test_semicolon_split.py -> build/lib.macosx-10.9-universal2-3.10/numpy/f2py/tests\n",
      "  \u001b[31m   \u001b[0m       copying numpy/f2py/tests/test_compile_function.py -> build/lib.macosx-10.9-universal2-3.10/numpy/f2py/tests\n",
      "  \u001b[31m   \u001b[0m       copying numpy/f2py/tests/test_block_docstring.py -> build/lib.macosx-10.9-universal2-3.10/numpy/f2py/tests\n",
      "  \u001b[31m   \u001b[0m       copying numpy/f2py/tests/test_return_integer.py -> build/lib.macosx-10.9-universal2-3.10/numpy/f2py/tests\n",
      "  \u001b[31m   \u001b[0m       copying numpy/f2py/tests/test_return_character.py -> build/lib.macosx-10.9-universal2-3.10/numpy/f2py/tests\n",
      "  \u001b[31m   \u001b[0m       copying numpy/f2py/tests/test_return_complex.py -> build/lib.macosx-10.9-universal2-3.10/numpy/f2py/tests\n",
      "  \u001b[31m   \u001b[0m       copying numpy/f2py/tests/test_crackfortran.py -> build/lib.macosx-10.9-universal2-3.10/numpy/f2py/tests\n",
      "  \u001b[31m   \u001b[0m       copying numpy/f2py/tests/test_regression.py -> build/lib.macosx-10.9-universal2-3.10/numpy/f2py/tests\n",
      "  \u001b[31m   \u001b[0m       creating build/lib.macosx-10.9-universal2-3.10/numpy/fft\n",
      "  \u001b[31m   \u001b[0m       copying numpy/fft/__init__.py -> build/lib.macosx-10.9-universal2-3.10/numpy/fft\n",
      "  \u001b[31m   \u001b[0m       copying numpy/fft/setup.py -> build/lib.macosx-10.9-universal2-3.10/numpy/fft\n",
      "  \u001b[31m   \u001b[0m       copying numpy/fft/helper.py -> build/lib.macosx-10.9-universal2-3.10/numpy/fft\n",
      "  \u001b[31m   \u001b[0m       copying numpy/fft/_pocketfft.py -> build/lib.macosx-10.9-universal2-3.10/numpy/fft\n",
      "  \u001b[31m   \u001b[0m       creating build/lib.macosx-10.9-universal2-3.10/numpy/fft/tests\n",
      "  \u001b[31m   \u001b[0m       copying numpy/fft/tests/test_pocketfft.py -> build/lib.macosx-10.9-universal2-3.10/numpy/fft/tests\n",
      "  \u001b[31m   \u001b[0m       copying numpy/fft/tests/test_helper.py -> build/lib.macosx-10.9-universal2-3.10/numpy/fft/tests\n",
      "  \u001b[31m   \u001b[0m       copying numpy/fft/tests/__init__.py -> build/lib.macosx-10.9-universal2-3.10/numpy/fft/tests\n",
      "  \u001b[31m   \u001b[0m       creating build/lib.macosx-10.9-universal2-3.10/numpy/lib\n",
      "  \u001b[31m   \u001b[0m       copying numpy/lib/_iotools.py -> build/lib.macosx-10.9-universal2-3.10/numpy/lib\n",
      "  \u001b[31m   \u001b[0m       copying numpy/lib/mixins.py -> build/lib.macosx-10.9-universal2-3.10/numpy/lib\n",
      "  \u001b[31m   \u001b[0m       copying numpy/lib/nanfunctions.py -> build/lib.macosx-10.9-universal2-3.10/numpy/lib\n",
      "  \u001b[31m   \u001b[0m       copying numpy/lib/recfunctions.py -> build/lib.macosx-10.9-universal2-3.10/numpy/lib\n",
      "  \u001b[31m   \u001b[0m       copying numpy/lib/histograms.py -> build/lib.macosx-10.9-universal2-3.10/numpy/lib\n",
      "  \u001b[31m   \u001b[0m       copying numpy/lib/scimath.py -> build/lib.macosx-10.9-universal2-3.10/numpy/lib\n",
      "  \u001b[31m   \u001b[0m       copying numpy/lib/_version.py -> build/lib.macosx-10.9-universal2-3.10/numpy/lib\n",
      "  \u001b[31m   \u001b[0m       copying numpy/lib/user_array.py -> build/lib.macosx-10.9-universal2-3.10/numpy/lib\n",
      "  \u001b[31m   \u001b[0m       copying numpy/lib/__init__.py -> build/lib.macosx-10.9-universal2-3.10/numpy/lib\n",
      "  \u001b[31m   \u001b[0m       copying numpy/lib/format.py -> build/lib.macosx-10.9-universal2-3.10/numpy/lib\n",
      "  \u001b[31m   \u001b[0m       copying numpy/lib/twodim_base.py -> build/lib.macosx-10.9-universal2-3.10/numpy/lib\n",
      "  \u001b[31m   \u001b[0m       copying numpy/lib/financial.py -> build/lib.macosx-10.9-universal2-3.10/numpy/lib\n",
      "  \u001b[31m   \u001b[0m       copying numpy/lib/index_tricks.py -> build/lib.macosx-10.9-universal2-3.10/numpy/lib\n",
      "  \u001b[31m   \u001b[0m       copying numpy/lib/npyio.py -> build/lib.macosx-10.9-universal2-3.10/numpy/lib\n",
      "  \u001b[31m   \u001b[0m       copying numpy/lib/shape_base.py -> build/lib.macosx-10.9-universal2-3.10/numpy/lib\n",
      "  \u001b[31m   \u001b[0m       copying numpy/lib/setup.py -> build/lib.macosx-10.9-universal2-3.10/numpy/lib\n",
      "  \u001b[31m   \u001b[0m       copying numpy/lib/stride_tricks.py -> build/lib.macosx-10.9-universal2-3.10/numpy/lib\n",
      "  \u001b[31m   \u001b[0m       copying numpy/lib/utils.py -> build/lib.macosx-10.9-universal2-3.10/numpy/lib\n",
      "  \u001b[31m   \u001b[0m       copying numpy/lib/arrayterator.py -> build/lib.macosx-10.9-universal2-3.10/numpy/lib\n",
      "  \u001b[31m   \u001b[0m       copying numpy/lib/function_base.py -> build/lib.macosx-10.9-universal2-3.10/numpy/lib\n",
      "  \u001b[31m   \u001b[0m       copying numpy/lib/arraysetops.py -> build/lib.macosx-10.9-universal2-3.10/numpy/lib\n",
      "  \u001b[31m   \u001b[0m       copying numpy/lib/arraypad.py -> build/lib.macosx-10.9-universal2-3.10/numpy/lib\n",
      "  \u001b[31m   \u001b[0m       copying numpy/lib/type_check.py -> build/lib.macosx-10.9-universal2-3.10/numpy/lib\n",
      "  \u001b[31m   \u001b[0m       copying numpy/lib/polynomial.py -> build/lib.macosx-10.9-universal2-3.10/numpy/lib\n",
      "  \u001b[31m   \u001b[0m       copying numpy/lib/_datasource.py -> build/lib.macosx-10.9-universal2-3.10/numpy/lib\n",
      "  \u001b[31m   \u001b[0m       copying numpy/lib/ufunclike.py -> build/lib.macosx-10.9-universal2-3.10/numpy/lib\n",
      "  \u001b[31m   \u001b[0m       creating build/lib.macosx-10.9-universal2-3.10/numpy/lib/tests\n",
      "  \u001b[31m   \u001b[0m       copying numpy/lib/tests/test_type_check.py -> build/lib.macosx-10.9-universal2-3.10/numpy/lib/tests\n",
      "  \u001b[31m   \u001b[0m       copying numpy/lib/tests/test_utils.py -> build/lib.macosx-10.9-universal2-3.10/numpy/lib/tests\n",
      "  \u001b[31m   \u001b[0m       copying numpy/lib/tests/test_twodim_base.py -> build/lib.macosx-10.9-universal2-3.10/numpy/lib/tests\n",
      "  \u001b[31m   \u001b[0m       copying numpy/lib/tests/test_polynomial.py -> build/lib.macosx-10.9-universal2-3.10/numpy/lib/tests\n",
      "  \u001b[31m   \u001b[0m       copying numpy/lib/tests/test__iotools.py -> build/lib.macosx-10.9-universal2-3.10/numpy/lib/tests\n",
      "  \u001b[31m   \u001b[0m       copying numpy/lib/tests/test_shape_base.py -> build/lib.macosx-10.9-universal2-3.10/numpy/lib/tests\n",
      "  \u001b[31m   \u001b[0m       copying numpy/lib/tests/test_ufunclike.py -> build/lib.macosx-10.9-universal2-3.10/numpy/lib/tests\n",
      "  \u001b[31m   \u001b[0m       copying numpy/lib/tests/test_index_tricks.py -> build/lib.macosx-10.9-universal2-3.10/numpy/lib/tests\n",
      "  \u001b[31m   \u001b[0m       copying numpy/lib/tests/__init__.py -> build/lib.macosx-10.9-universal2-3.10/numpy/lib/tests\n",
      "  \u001b[31m   \u001b[0m       copying numpy/lib/tests/test_arrayterator.py -> build/lib.macosx-10.9-universal2-3.10/numpy/lib/tests\n",
      "  \u001b[31m   \u001b[0m       copying numpy/lib/tests/test__version.py -> build/lib.macosx-10.9-universal2-3.10/numpy/lib/tests\n",
      "  \u001b[31m   \u001b[0m       copying numpy/lib/tests/test_io.py -> build/lib.macosx-10.9-universal2-3.10/numpy/lib/tests\n",
      "  \u001b[31m   \u001b[0m       copying numpy/lib/tests/test_arraysetops.py -> build/lib.macosx-10.9-universal2-3.10/numpy/lib/tests\n",
      "  \u001b[31m   \u001b[0m       copying numpy/lib/tests/test_function_base.py -> build/lib.macosx-10.9-universal2-3.10/numpy/lib/tests\n",
      "  \u001b[31m   \u001b[0m       copying numpy/lib/tests/test_arraypad.py -> build/lib.macosx-10.9-universal2-3.10/numpy/lib/tests\n",
      "  \u001b[31m   \u001b[0m       copying numpy/lib/tests/test_mixins.py -> build/lib.macosx-10.9-universal2-3.10/numpy/lib/tests\n",
      "  \u001b[31m   \u001b[0m       copying numpy/lib/tests/test_packbits.py -> build/lib.macosx-10.9-universal2-3.10/numpy/lib/tests\n",
      "  \u001b[31m   \u001b[0m       copying numpy/lib/tests/test__datasource.py -> build/lib.macosx-10.9-universal2-3.10/numpy/lib/tests\n",
      "  \u001b[31m   \u001b[0m       copying numpy/lib/tests/test_stride_tricks.py -> build/lib.macosx-10.9-universal2-3.10/numpy/lib/tests\n",
      "  \u001b[31m   \u001b[0m       copying numpy/lib/tests/test_financial.py -> build/lib.macosx-10.9-universal2-3.10/numpy/lib/tests\n",
      "  \u001b[31m   \u001b[0m       copying numpy/lib/tests/test_recfunctions.py -> build/lib.macosx-10.9-universal2-3.10/numpy/lib/tests\n",
      "  \u001b[31m   \u001b[0m       copying numpy/lib/tests/test_nanfunctions.py -> build/lib.macosx-10.9-universal2-3.10/numpy/lib/tests\n",
      "  \u001b[31m   \u001b[0m       copying numpy/lib/tests/test_format.py -> build/lib.macosx-10.9-universal2-3.10/numpy/lib/tests\n",
      "  \u001b[31m   \u001b[0m       copying numpy/lib/tests/test_histograms.py -> build/lib.macosx-10.9-universal2-3.10/numpy/lib/tests\n",
      "  \u001b[31m   \u001b[0m       copying numpy/lib/tests/test_regression.py -> build/lib.macosx-10.9-universal2-3.10/numpy/lib/tests\n",
      "  \u001b[31m   \u001b[0m       creating build/lib.macosx-10.9-universal2-3.10/numpy/linalg\n",
      "  \u001b[31m   \u001b[0m       copying numpy/linalg/__init__.py -> build/lib.macosx-10.9-universal2-3.10/numpy/linalg\n",
      "  \u001b[31m   \u001b[0m       copying numpy/linalg/setup.py -> build/lib.macosx-10.9-universal2-3.10/numpy/linalg\n",
      "  \u001b[31m   \u001b[0m       copying numpy/linalg/linalg.py -> build/lib.macosx-10.9-universal2-3.10/numpy/linalg\n",
      "  \u001b[31m   \u001b[0m       creating build/lib.macosx-10.9-universal2-3.10/numpy/linalg/tests\n",
      "  \u001b[31m   \u001b[0m       copying numpy/linalg/tests/test_linalg.py -> build/lib.macosx-10.9-universal2-3.10/numpy/linalg/tests\n",
      "  \u001b[31m   \u001b[0m       copying numpy/linalg/tests/test_deprecations.py -> build/lib.macosx-10.9-universal2-3.10/numpy/linalg/tests\n",
      "  \u001b[31m   \u001b[0m       copying numpy/linalg/tests/__init__.py -> build/lib.macosx-10.9-universal2-3.10/numpy/linalg/tests\n",
      "  \u001b[31m   \u001b[0m       copying numpy/linalg/tests/test_build.py -> build/lib.macosx-10.9-universal2-3.10/numpy/linalg/tests\n",
      "  \u001b[31m   \u001b[0m       copying numpy/linalg/tests/test_regression.py -> build/lib.macosx-10.9-universal2-3.10/numpy/linalg/tests\n",
      "  \u001b[31m   \u001b[0m       creating build/lib.macosx-10.9-universal2-3.10/numpy/ma\n",
      "  \u001b[31m   \u001b[0m       copying numpy/ma/extras.py -> build/lib.macosx-10.9-universal2-3.10/numpy/ma\n",
      "  \u001b[31m   \u001b[0m       copying numpy/ma/testutils.py -> build/lib.macosx-10.9-universal2-3.10/numpy/ma\n",
      "  \u001b[31m   \u001b[0m       copying numpy/ma/__init__.py -> build/lib.macosx-10.9-universal2-3.10/numpy/ma\n",
      "  \u001b[31m   \u001b[0m       copying numpy/ma/core.py -> build/lib.macosx-10.9-universal2-3.10/numpy/ma\n",
      "  \u001b[31m   \u001b[0m       copying numpy/ma/bench.py -> build/lib.macosx-10.9-universal2-3.10/numpy/ma\n",
      "  \u001b[31m   \u001b[0m       copying numpy/ma/setup.py -> build/lib.macosx-10.9-universal2-3.10/numpy/ma\n",
      "  \u001b[31m   \u001b[0m       copying numpy/ma/timer_comparison.py -> build/lib.macosx-10.9-universal2-3.10/numpy/ma\n",
      "  \u001b[31m   \u001b[0m       copying numpy/ma/mrecords.py -> build/lib.macosx-10.9-universal2-3.10/numpy/ma\n",
      "  \u001b[31m   \u001b[0m       creating build/lib.macosx-10.9-universal2-3.10/numpy/ma/tests\n",
      "  \u001b[31m   \u001b[0m       copying numpy/ma/tests/test_old_ma.py -> build/lib.macosx-10.9-universal2-3.10/numpy/ma/tests\n",
      "  \u001b[31m   \u001b[0m       copying numpy/ma/tests/test_core.py -> build/lib.macosx-10.9-universal2-3.10/numpy/ma/tests\n",
      "  \u001b[31m   \u001b[0m       copying numpy/ma/tests/test_deprecations.py -> build/lib.macosx-10.9-universal2-3.10/numpy/ma/tests\n",
      "  \u001b[31m   \u001b[0m       copying numpy/ma/tests/__init__.py -> build/lib.macosx-10.9-universal2-3.10/numpy/ma/tests\n",
      "  \u001b[31m   \u001b[0m       copying numpy/ma/tests/test_subclassing.py -> build/lib.macosx-10.9-universal2-3.10/numpy/ma/tests\n",
      "  \u001b[31m   \u001b[0m       copying numpy/ma/tests/test_extras.py -> build/lib.macosx-10.9-universal2-3.10/numpy/ma/tests\n",
      "  \u001b[31m   \u001b[0m       copying numpy/ma/tests/test_mrecords.py -> build/lib.macosx-10.9-universal2-3.10/numpy/ma/tests\n",
      "  \u001b[31m   \u001b[0m       copying numpy/ma/tests/test_regression.py -> build/lib.macosx-10.9-universal2-3.10/numpy/ma/tests\n",
      "  \u001b[31m   \u001b[0m       creating build/lib.macosx-10.9-universal2-3.10/numpy/matrixlib\n",
      "  \u001b[31m   \u001b[0m       copying numpy/matrixlib/__init__.py -> build/lib.macosx-10.9-universal2-3.10/numpy/matrixlib\n",
      "  \u001b[31m   \u001b[0m       copying numpy/matrixlib/setup.py -> build/lib.macosx-10.9-universal2-3.10/numpy/matrixlib\n",
      "  \u001b[31m   \u001b[0m       copying numpy/matrixlib/defmatrix.py -> build/lib.macosx-10.9-universal2-3.10/numpy/matrixlib\n",
      "  \u001b[31m   \u001b[0m       creating build/lib.macosx-10.9-universal2-3.10/numpy/matrixlib/tests\n",
      "  \u001b[31m   \u001b[0m       copying numpy/matrixlib/tests/test_matrix_linalg.py -> build/lib.macosx-10.9-universal2-3.10/numpy/matrixlib/tests\n",
      "  \u001b[31m   \u001b[0m       copying numpy/matrixlib/tests/test_defmatrix.py -> build/lib.macosx-10.9-universal2-3.10/numpy/matrixlib/tests\n",
      "  \u001b[31m   \u001b[0m       copying numpy/matrixlib/tests/__init__.py -> build/lib.macosx-10.9-universal2-3.10/numpy/matrixlib/tests\n",
      "  \u001b[31m   \u001b[0m       copying numpy/matrixlib/tests/test_interaction.py -> build/lib.macosx-10.9-universal2-3.10/numpy/matrixlib/tests\n",
      "  \u001b[31m   \u001b[0m       copying numpy/matrixlib/tests/test_numeric.py -> build/lib.macosx-10.9-universal2-3.10/numpy/matrixlib/tests\n",
      "  \u001b[31m   \u001b[0m       copying numpy/matrixlib/tests/test_masked_matrix.py -> build/lib.macosx-10.9-universal2-3.10/numpy/matrixlib/tests\n",
      "  \u001b[31m   \u001b[0m       copying numpy/matrixlib/tests/test_multiarray.py -> build/lib.macosx-10.9-universal2-3.10/numpy/matrixlib/tests\n",
      "  \u001b[31m   \u001b[0m       copying numpy/matrixlib/tests/test_regression.py -> build/lib.macosx-10.9-universal2-3.10/numpy/matrixlib/tests\n",
      "  \u001b[31m   \u001b[0m       creating build/lib.macosx-10.9-universal2-3.10/numpy/polynomial\n",
      "  \u001b[31m   \u001b[0m       copying numpy/polynomial/laguerre.py -> build/lib.macosx-10.9-universal2-3.10/numpy/polynomial\n",
      "  \u001b[31m   \u001b[0m       copying numpy/polynomial/_polybase.py -> build/lib.macosx-10.9-universal2-3.10/numpy/polynomial\n",
      "  \u001b[31m   \u001b[0m       copying numpy/polynomial/polyutils.py -> build/lib.macosx-10.9-universal2-3.10/numpy/polynomial\n",
      "  \u001b[31m   \u001b[0m       copying numpy/polynomial/__init__.py -> build/lib.macosx-10.9-universal2-3.10/numpy/polynomial\n",
      "  \u001b[31m   \u001b[0m       copying numpy/polynomial/setup.py -> build/lib.macosx-10.9-universal2-3.10/numpy/polynomial\n",
      "  \u001b[31m   \u001b[0m       copying numpy/polynomial/hermite_e.py -> build/lib.macosx-10.9-universal2-3.10/numpy/polynomial\n",
      "  \u001b[31m   \u001b[0m       copying numpy/polynomial/chebyshev.py -> build/lib.macosx-10.9-universal2-3.10/numpy/polynomial\n",
      "  \u001b[31m   \u001b[0m       copying numpy/polynomial/polynomial.py -> build/lib.macosx-10.9-universal2-3.10/numpy/polynomial\n",
      "  \u001b[31m   \u001b[0m       copying numpy/polynomial/legendre.py -> build/lib.macosx-10.9-universal2-3.10/numpy/polynomial\n",
      "  \u001b[31m   \u001b[0m       copying numpy/polynomial/hermite.py -> build/lib.macosx-10.9-universal2-3.10/numpy/polynomial\n",
      "  \u001b[31m   \u001b[0m       creating build/lib.macosx-10.9-universal2-3.10/numpy/polynomial/tests\n",
      "  \u001b[31m   \u001b[0m       copying numpy/polynomial/tests/test_chebyshev.py -> build/lib.macosx-10.9-universal2-3.10/numpy/polynomial/tests\n",
      "  \u001b[31m   \u001b[0m       copying numpy/polynomial/tests/test_hermite_e.py -> build/lib.macosx-10.9-universal2-3.10/numpy/polynomial/tests\n",
      "  \u001b[31m   \u001b[0m       copying numpy/polynomial/tests/test_polynomial.py -> build/lib.macosx-10.9-universal2-3.10/numpy/polynomial/tests\n",
      "  \u001b[31m   \u001b[0m       copying numpy/polynomial/tests/__init__.py -> build/lib.macosx-10.9-universal2-3.10/numpy/polynomial/tests\n",
      "  \u001b[31m   \u001b[0m       copying numpy/polynomial/tests/test_laguerre.py -> build/lib.macosx-10.9-universal2-3.10/numpy/polynomial/tests\n",
      "  \u001b[31m   \u001b[0m       copying numpy/polynomial/tests/test_legendre.py -> build/lib.macosx-10.9-universal2-3.10/numpy/polynomial/tests\n",
      "  \u001b[31m   \u001b[0m       copying numpy/polynomial/tests/test_printing.py -> build/lib.macosx-10.9-universal2-3.10/numpy/polynomial/tests\n",
      "  \u001b[31m   \u001b[0m       copying numpy/polynomial/tests/test_hermite.py -> build/lib.macosx-10.9-universal2-3.10/numpy/polynomial/tests\n",
      "  \u001b[31m   \u001b[0m       copying numpy/polynomial/tests/test_classes.py -> build/lib.macosx-10.9-universal2-3.10/numpy/polynomial/tests\n",
      "  \u001b[31m   \u001b[0m       copying numpy/polynomial/tests/test_polyutils.py -> build/lib.macosx-10.9-universal2-3.10/numpy/polynomial/tests\n",
      "  \u001b[31m   \u001b[0m       creating build/lib.macosx-10.9-universal2-3.10/numpy/random\n",
      "  \u001b[31m   \u001b[0m       copying numpy/random/_pickle.py -> build/lib.macosx-10.9-universal2-3.10/numpy/random\n",
      "  \u001b[31m   \u001b[0m       copying numpy/random/__init__.py -> build/lib.macosx-10.9-universal2-3.10/numpy/random\n",
      "  \u001b[31m   \u001b[0m       copying numpy/random/setup.py -> build/lib.macosx-10.9-universal2-3.10/numpy/random\n",
      "  \u001b[31m   \u001b[0m       creating build/lib.macosx-10.9-universal2-3.10/numpy/random/tests\n",
      "  \u001b[31m   \u001b[0m       copying numpy/random/tests/test_generator_mt19937.py -> build/lib.macosx-10.9-universal2-3.10/numpy/random/tests\n",
      "  \u001b[31m   \u001b[0m       copying numpy/random/tests/test_randomstate.py -> build/lib.macosx-10.9-universal2-3.10/numpy/random/tests\n",
      "  \u001b[31m   \u001b[0m       copying numpy/random/tests/test_direct.py -> build/lib.macosx-10.9-universal2-3.10/numpy/random/tests\n",
      "  \u001b[31m   \u001b[0m       copying numpy/random/tests/test_extending.py -> build/lib.macosx-10.9-universal2-3.10/numpy/random/tests\n",
      "  \u001b[31m   \u001b[0m       copying numpy/random/tests/__init__.py -> build/lib.macosx-10.9-universal2-3.10/numpy/random/tests\n",
      "  \u001b[31m   \u001b[0m       copying numpy/random/tests/test_smoke.py -> build/lib.macosx-10.9-universal2-3.10/numpy/random/tests\n",
      "  \u001b[31m   \u001b[0m       copying numpy/random/tests/test_randomstate_regression.py -> build/lib.macosx-10.9-universal2-3.10/numpy/random/tests\n",
      "  \u001b[31m   \u001b[0m       copying numpy/random/tests/test_seed_sequence.py -> build/lib.macosx-10.9-universal2-3.10/numpy/random/tests\n",
      "  \u001b[31m   \u001b[0m       copying numpy/random/tests/test_generator_mt19937_regressions.py -> build/lib.macosx-10.9-universal2-3.10/numpy/random/tests\n",
      "  \u001b[31m   \u001b[0m       copying numpy/random/tests/test_random.py -> build/lib.macosx-10.9-universal2-3.10/numpy/random/tests\n",
      "  \u001b[31m   \u001b[0m       copying numpy/random/tests/test_regression.py -> build/lib.macosx-10.9-universal2-3.10/numpy/random/tests\n",
      "  \u001b[31m   \u001b[0m       creating build/lib.macosx-10.9-universal2-3.10/numpy/testing\n",
      "  \u001b[31m   \u001b[0m       copying numpy/testing/__init__.py -> build/lib.macosx-10.9-universal2-3.10/numpy/testing\n",
      "  \u001b[31m   \u001b[0m       copying numpy/testing/setup.py -> build/lib.macosx-10.9-universal2-3.10/numpy/testing\n",
      "  \u001b[31m   \u001b[0m       copying numpy/testing/utils.py -> build/lib.macosx-10.9-universal2-3.10/numpy/testing\n",
      "  \u001b[31m   \u001b[0m       copying numpy/testing/print_coercion_tables.py -> build/lib.macosx-10.9-universal2-3.10/numpy/testing\n",
      "  \u001b[31m   \u001b[0m       creating build/lib.macosx-10.9-universal2-3.10/numpy/testing/_private\n",
      "  \u001b[31m   \u001b[0m       copying numpy/testing/_private/nosetester.py -> build/lib.macosx-10.9-universal2-3.10/numpy/testing/_private\n",
      "  \u001b[31m   \u001b[0m       copying numpy/testing/_private/__init__.py -> build/lib.macosx-10.9-universal2-3.10/numpy/testing/_private\n",
      "  \u001b[31m   \u001b[0m       copying numpy/testing/_private/noseclasses.py -> build/lib.macosx-10.9-universal2-3.10/numpy/testing/_private\n",
      "  \u001b[31m   \u001b[0m       copying numpy/testing/_private/utils.py -> build/lib.macosx-10.9-universal2-3.10/numpy/testing/_private\n",
      "  \u001b[31m   \u001b[0m       copying numpy/testing/_private/parameterized.py -> build/lib.macosx-10.9-universal2-3.10/numpy/testing/_private\n",
      "  \u001b[31m   \u001b[0m       copying numpy/testing/_private/decorators.py -> build/lib.macosx-10.9-universal2-3.10/numpy/testing/_private\n",
      "  \u001b[31m   \u001b[0m       creating build/lib.macosx-10.9-universal2-3.10/numpy/testing/tests\n",
      "  \u001b[31m   \u001b[0m       copying numpy/testing/tests/test_utils.py -> build/lib.macosx-10.9-universal2-3.10/numpy/testing/tests\n",
      "  \u001b[31m   \u001b[0m       copying numpy/testing/tests/test_decorators.py -> build/lib.macosx-10.9-universal2-3.10/numpy/testing/tests\n",
      "  \u001b[31m   \u001b[0m       copying numpy/testing/tests/__init__.py -> build/lib.macosx-10.9-universal2-3.10/numpy/testing/tests\n",
      "  \u001b[31m   \u001b[0m       copying numpy/testing/tests/test_doctesting.py -> build/lib.macosx-10.9-universal2-3.10/numpy/testing/tests\n",
      "  \u001b[31m   \u001b[0m       creating build/lib.macosx-10.9-universal2-3.10/numpy/tests\n",
      "  \u001b[31m   \u001b[0m       copying numpy/tests/test_warnings.py -> build/lib.macosx-10.9-universal2-3.10/numpy/tests\n",
      "  \u001b[31m   \u001b[0m       copying numpy/tests/test_matlib.py -> build/lib.macosx-10.9-universal2-3.10/numpy/tests\n",
      "  \u001b[31m   \u001b[0m       copying numpy/tests/test_ctypeslib.py -> build/lib.macosx-10.9-universal2-3.10/numpy/tests\n",
      "  \u001b[31m   \u001b[0m       copying numpy/tests/test_numpy_version.py -> build/lib.macosx-10.9-universal2-3.10/numpy/tests\n",
      "  \u001b[31m   \u001b[0m       copying numpy/tests/__init__.py -> build/lib.macosx-10.9-universal2-3.10/numpy/tests\n",
      "  \u001b[31m   \u001b[0m       copying numpy/tests/test_reloading.py -> build/lib.macosx-10.9-universal2-3.10/numpy/tests\n",
      "  \u001b[31m   \u001b[0m       copying numpy/tests/test_public_api.py -> build/lib.macosx-10.9-universal2-3.10/numpy/tests\n",
      "  \u001b[31m   \u001b[0m       copying numpy/tests/test_scripts.py -> build/lib.macosx-10.9-universal2-3.10/numpy/tests\n",
      "  \u001b[31m   \u001b[0m       running build_clib\n",
      "  \u001b[31m   \u001b[0m       customize UnixCCompiler\n",
      "  \u001b[31m   \u001b[0m       customize UnixCCompiler using new_build_clib\n",
      "  \u001b[31m   \u001b[0m       building 'npymath' library\n",
      "  \u001b[31m   \u001b[0m       compiling C sources\n",
      "  \u001b[31m   \u001b[0m       C compiler: clang -Wno-unused-result -Wsign-compare -Wunreachable-code -fno-common -dynamic -DNDEBUG -g -fwrapv -O3 -Wall -arch arm64 -arch x86_64 -g\n",
      "  \u001b[31m   \u001b[0m \n",
      "  \u001b[31m   \u001b[0m       creating build/temp.macosx-10.9-universal2-3.10\n",
      "  \u001b[31m   \u001b[0m       creating build/temp.macosx-10.9-universal2-3.10/numpy\n",
      "  \u001b[31m   \u001b[0m       creating build/temp.macosx-10.9-universal2-3.10/numpy/core\n",
      "  \u001b[31m   \u001b[0m       creating build/temp.macosx-10.9-universal2-3.10/numpy/core/src\n",
      "  \u001b[31m   \u001b[0m       creating build/temp.macosx-10.9-universal2-3.10/numpy/core/src/npymath\n",
      "  \u001b[31m   \u001b[0m       creating build/temp.macosx-10.9-universal2-3.10/build\n",
      "  \u001b[31m   \u001b[0m       creating build/temp.macosx-10.9-universal2-3.10/build/src.macosx-10.9-universal2-3.10\n",
      "  \u001b[31m   \u001b[0m       creating build/temp.macosx-10.9-universal2-3.10/build/src.macosx-10.9-universal2-3.10/numpy\n",
      "  \u001b[31m   \u001b[0m       creating build/temp.macosx-10.9-universal2-3.10/build/src.macosx-10.9-universal2-3.10/numpy/core\n",
      "  \u001b[31m   \u001b[0m       creating build/temp.macosx-10.9-universal2-3.10/build/src.macosx-10.9-universal2-3.10/numpy/core/src\n",
      "  \u001b[31m   \u001b[0m       creating build/temp.macosx-10.9-universal2-3.10/build/src.macosx-10.9-universal2-3.10/numpy/core/src/npymath\n",
      "  \u001b[31m   \u001b[0m       compile options: '-Ibuild/src.macosx-10.9-universal2-3.10/numpy/core/src/npymath -Inumpy/core/include -Ibuild/src.macosx-10.9-universal2-3.10/numpy/core/include/numpy -Inumpy/core/src/common -Inumpy/core/src -Inumpy/core -Inumpy/core/src/npymath -Inumpy/core/src/multiarray -Inumpy/core/src/umath -Inumpy/core/src/npysort -I/Library/Frameworks/Python.framework/Versions/3.10/include/python3.10 -Ibuild/src.macosx-10.9-universal2-3.10/numpy/core/src/common -Ibuild/src.macosx-10.9-universal2-3.10/numpy/core/src/npymath -c'\n",
      "  \u001b[31m   \u001b[0m       clang: numpy/core/src/npymath/npy_math.c\n",
      "  \u001b[31m   \u001b[0m       clang: build/src.macosx-10.9-universal2-3.10/numpy/core/src/npymath/ieee754.c\n",
      "  \u001b[31m   \u001b[0m       clang: build/src.macosx-10.9-universal2-3.10/numpy/core/src/npymath/npy_math_complex.c\n",
      "  \u001b[31m   \u001b[0m       clang: numpy/core/src/npymath/halffloat.c\n",
      "  \u001b[31m   \u001b[0m       xcrun: adding 4 object files to build/temp.macosx-10.9-universal2-3.10/libnpymath.a\n",
      "  \u001b[31m   \u001b[0m       warning: /Library/Developer/CommandLineTools/usr/bin/ranlib: archive library: build/temp.macosx-10.9-universal2-3.10/libnpymath.a will be fat and ar(1) will not be able to operate on it\n",
      "  \u001b[31m   \u001b[0m       ranlib:@ build/temp.macosx-10.9-universal2-3.10/libnpymath.a\n",
      "  \u001b[31m   \u001b[0m       building 'npysort' library\n",
      "  \u001b[31m   \u001b[0m       compiling C sources\n",
      "  \u001b[31m   \u001b[0m       C compiler: clang -Wno-unused-result -Wsign-compare -Wunreachable-code -fno-common -dynamic -DNDEBUG -g -fwrapv -O3 -Wall -arch arm64 -arch x86_64 -g\n",
      "  \u001b[31m   \u001b[0m \n",
      "  \u001b[31m   \u001b[0m       creating build/temp.macosx-10.9-universal2-3.10/build/src.macosx-10.9-universal2-3.10/numpy/core/src/npysort\n",
      "  \u001b[31m   \u001b[0m       compile options: '-Ibuild/src.macosx-10.9-universal2-3.10/numpy/core/src/common -Inumpy/core/include -Ibuild/src.macosx-10.9-universal2-3.10/numpy/core/include/numpy -Inumpy/core/src/common -Inumpy/core/src -Inumpy/core -Inumpy/core/src/npymath -Inumpy/core/src/multiarray -Inumpy/core/src/umath -Inumpy/core/src/npysort -I/Library/Frameworks/Python.framework/Versions/3.10/include/python3.10 -Ibuild/src.macosx-10.9-universal2-3.10/numpy/core/src/common -Ibuild/src.macosx-10.9-universal2-3.10/numpy/core/src/npymath -c'\n",
      "  \u001b[31m   \u001b[0m       clang: build/src.macosx-10.9-universal2-3.10/numpy/core/src/npysort/mergesort.c\n",
      "  \u001b[31m   \u001b[0m       clang: build/src.macosx-10.9-universal2-3.10/numpy/core/src/npysort/quicksort.c\n",
      "  \u001b[31m   \u001b[0m       clang: build/src.macosx-10.9-universal2-3.10/numpy/core/src/npysort/heapsort.c\n",
      "  \u001b[31m   \u001b[0m       clang: build/src.macosx-10.9-universal2-3.10/numpy/core/src/npysort/radixsort.c\n",
      "  \u001b[31m   \u001b[0m       clang: build/src.macosx-10.9-universal2-3.10/numpy/core/src/npysort/timsort.c\n",
      "  \u001b[31m   \u001b[0m       clang: build/src.macosx-10.9-universal2-3.10/numpy/core/src/npysort/binsearch.c\n",
      "  \u001b[31m   \u001b[0m       clang: build/src.macosx-10.9-universal2-3.10/numpy/core/src/npysort/selection.c\n",
      "  \u001b[31m   \u001b[0m       numpy/core/src/npysort/selection.c.src:328:9: warning: code will never be executed [-Wunreachable-code]\n",
      "  \u001b[31m   \u001b[0m               npy_intp k;\n",
      "  \u001b[31m   \u001b[0m               ^~~~~~~~~~~\n",
      "  \u001b[31m   \u001b[0m       numpy/core/src/npysort/selection.c.src:326:14: note: silence by adding parentheses to mark code as explicitly dead\n",
      "  \u001b[31m   \u001b[0m           else if (0 && kth == num - 1) {\n",
      "  \u001b[31m   \u001b[0m                    ^\n",
      "  \u001b[31m   \u001b[0m                    /* DISABLES CODE */ ( )\n",
      "  \u001b[31m   \u001b[0m       numpy/core/src/npysort/selection.c.src:328:9: warning: code will never be executed [-Wunreachable-code]\n",
      "  \u001b[31m   \u001b[0m               npy_intp k;\n",
      "  \u001b[31m   \u001b[0m               ^~~~~~~~~~~\n",
      "  \u001b[31m   \u001b[0m       numpy/core/src/npysort/selection.c.src:326:14: note: silence by adding parentheses to mark code as explicitly dead\n",
      "  \u001b[31m   \u001b[0m           else if (0 && kth == num - 1) {\n",
      "  \u001b[31m   \u001b[0m                    ^\n",
      "  \u001b[31m   \u001b[0m                    /* DISABLES CODE */ ( )\n",
      "  \u001b[31m   \u001b[0m       numpy/core/src/npysort/selection.c.src:328:9: warning: code will never be executed [-Wunreachable-code]\n",
      "  \u001b[31m   \u001b[0m               npy_intp k;\n",
      "  \u001b[31m   \u001b[0m               ^~~~~~~~~~~\n",
      "  \u001b[31m   \u001b[0m       numpy/core/src/npysort/selection.c.src:326:14: note: silence by adding parentheses to mark code as explicitly dead\n",
      "  \u001b[31m   \u001b[0m           else if (0 && kth == num - 1) {\n",
      "  \u001b[31m   \u001b[0m                    ^\n",
      "  \u001b[31m   \u001b[0m                    /* DISABLES CODE */ ( )\n",
      "  \u001b[31m   \u001b[0m       numpy/core/src/npysort/selection.c.src:328:9: warning: code will never be executed [-Wunreachable-code]\n",
      "  \u001b[31m   \u001b[0m               npy_intp k;\n",
      "  \u001b[31m   \u001b[0m               ^~~~~~~~~~~\n",
      "  \u001b[31m   \u001b[0m       numpy/core/src/npysort/selection.c.src:326:14: note: silence by adding parentheses to mark code as explicitly dead\n",
      "  \u001b[31m   \u001b[0m           else if (0 && kth == num - 1) {\n",
      "  \u001b[31m   \u001b[0m                    ^\n",
      "  \u001b[31m   \u001b[0m                    /* DISABLES CODE */ ( )\n",
      "  \u001b[31m   \u001b[0m       numpy/core/src/npysort/selection.c.src:328:9: warning: code will never be executed [-Wunreachable-code]\n",
      "  \u001b[31m   \u001b[0m               npy_intp k;\n",
      "  \u001b[31m   \u001b[0m               ^~~~~~~~~~~\n",
      "  \u001b[31m   \u001b[0m       numpy/core/src/npysort/selection.c.src:326:14: note: silence by adding parentheses to mark code as explicitly dead\n",
      "  \u001b[31m   \u001b[0m           else if (0 && kth == num - 1) {\n",
      "  \u001b[31m   \u001b[0m                    ^\n",
      "  \u001b[31m   \u001b[0m                    /* DISABLES CODE */ ( )\n",
      "  \u001b[31m   \u001b[0m       numpy/core/src/npysort/selection.c.src:328:9: warning: code will never be executed [-Wunreachable-code]\n",
      "  \u001b[31m   \u001b[0m               npy_intp k;\n",
      "  \u001b[31m   \u001b[0m               ^~~~~~~~~~~\n",
      "  \u001b[31m   \u001b[0m       numpy/core/src/npysort/selection.c.src:326:14: note: silence by adding parentheses to mark code as explicitly dead\n",
      "  \u001b[31m   \u001b[0m           else if (0 && kth == num - 1) {\n",
      "  \u001b[31m   \u001b[0m                    ^\n",
      "  \u001b[31m   \u001b[0m                    /* DISABLES CODE */ ( )\n",
      "  \u001b[31m   \u001b[0m       numpy/core/src/npysort/selection.c.src:328:9: warning: code will never be executed [-Wunreachable-code]\n",
      "  \u001b[31m   \u001b[0m               npy_intp k;\n",
      "  \u001b[31m   \u001b[0m               ^~~~~~~~~~~\n",
      "  \u001b[31m   \u001b[0m       numpy/core/src/npysort/selection.c.src:326:14: note: silence by adding parentheses to mark code as explicitly dead\n",
      "  \u001b[31m   \u001b[0m           else if (0 && kth == num - 1) {\n",
      "  \u001b[31m   \u001b[0m                    ^\n",
      "  \u001b[31m   \u001b[0m                    /* DISABLES CODE */ ( )\n",
      "  \u001b[31m   \u001b[0m       numpy/core/src/npysort/selection.c.src:328:9: warning: code will never be executed [-Wunreachable-code]\n",
      "  \u001b[31m   \u001b[0m               npy_intp k;\n",
      "  \u001b[31m   \u001b[0m               ^~~~~~~~~~~\n",
      "  \u001b[31m   \u001b[0m       numpy/core/src/npysort/selection.c.src:326:14: note: silence by adding parentheses to mark code as explicitly dead\n",
      "  \u001b[31m   \u001b[0m           else if (0 && kth == num - 1) {\n",
      "  \u001b[31m   \u001b[0m                    ^\n",
      "  \u001b[31m   \u001b[0m                    /* DISABLES CODE */ ( )\n",
      "  \u001b[31m   \u001b[0m       numpy/core/src/npysort/selection.c.src:328:9: warning: code will never be executed [-Wunreachable-code]\n",
      "  \u001b[31m   \u001b[0m               npy_intp k;\n",
      "  \u001b[31m   \u001b[0m               ^~~~~~~~~~~\n",
      "  \u001b[31m   \u001b[0m       numpy/core/src/npysort/selection.c.src:326:14: note: silence by adding parentheses to mark code as explicitly dead\n",
      "  \u001b[31m   \u001b[0m           else if (0 && kth == num - 1) {\n",
      "  \u001b[31m   \u001b[0m                    ^\n",
      "  \u001b[31m   \u001b[0m                    /* DISABLES CODE */ ( )\n",
      "  \u001b[31m   \u001b[0m       numpy/core/src/npysort/selection.c.src:328:9: warning: code will never be executed [-Wunreachable-code]\n",
      "  \u001b[31m   \u001b[0m               npy_intp k;\n",
      "  \u001b[31m   \u001b[0m               ^~~~~~~~~~~\n",
      "  \u001b[31m   \u001b[0m       numpy/core/src/npysort/selection.c.src:326:14: note: silence by adding parentheses to mark code as explicitly dead\n",
      "  \u001b[31m   \u001b[0m           else if (0 && kth == num - 1) {\n",
      "  \u001b[31m   \u001b[0m                    ^\n",
      "  \u001b[31m   \u001b[0m                    /* DISABLES CODE */ ( )\n",
      "  \u001b[31m   \u001b[0m       numpy/core/src/npysort/selection.c.src:328:9: warning: code will never be executed [-Wunreachable-code]\n",
      "  \u001b[31m   \u001b[0m               npy_intp k;\n",
      "  \u001b[31m   \u001b[0m               ^~~~~~~~~~~\n",
      "  \u001b[31m   \u001b[0m       numpy/core/src/npysort/selection.c.src:326:14: note: silence by adding parentheses to mark code as explicitly dead\n",
      "  \u001b[31m   \u001b[0m           else if (0 && kth == num - 1) {\n",
      "  \u001b[31m   \u001b[0m                    ^\n",
      "  \u001b[31m   \u001b[0m                    /* DISABLES CODE */ ( )\n",
      "  \u001b[31m   \u001b[0m       numpy/core/src/npysort/selection.c.src:328:9: warning: code will never be executed [-Wunreachable-code]\n",
      "  \u001b[31m   \u001b[0m               npy_intp k;\n",
      "  \u001b[31m   \u001b[0m               ^~~~~~~~~~~\n",
      "  \u001b[31m   \u001b[0m       numpy/core/src/npysort/selection.c.src:326:14: note: silence by adding parentheses to mark code as explicitly dead\n",
      "  \u001b[31m   \u001b[0m           else if (0 && kth == num - 1) {\n",
      "  \u001b[31m   \u001b[0m                    ^\n",
      "  \u001b[31m   \u001b[0m                    /* DISABLES CODE */ ( )\n",
      "  \u001b[31m   \u001b[0m       numpy/core/src/npysort/selection.c.src:328:9: warning: code will never be executed [-Wunreachable-code]\n",
      "  \u001b[31m   \u001b[0m               npy_intp k;\n",
      "  \u001b[31m   \u001b[0m               ^~~~~~~~~~~\n",
      "  \u001b[31m   \u001b[0m       numpy/core/src/npysort/selection.c.src:326:14: note: silence by adding parentheses to mark code as explicitly dead\n",
      "  \u001b[31m   \u001b[0m           else if (0 && kth == num - 1) {\n",
      "  \u001b[31m   \u001b[0m                    ^\n",
      "  \u001b[31m   \u001b[0m                    /* DISABLES CODE */ ( )\n",
      "  \u001b[31m   \u001b[0m       numpy/core/src/npysort/selection.c.src:328:9: warning: code will never be executed [-Wunreachable-code]\n",
      "  \u001b[31m   \u001b[0m               npy_intp k;\n",
      "  \u001b[31m   \u001b[0m               ^~~~~~~~~~~\n",
      "  \u001b[31m   \u001b[0m       numpy/core/src/npysort/selection.c.src:326:14: note: silence by adding parentheses to mark code as explicitly dead\n",
      "  \u001b[31m   \u001b[0m           else if (0 && kth == num - 1) {\n",
      "  \u001b[31m   \u001b[0m                    ^\n",
      "  \u001b[31m   \u001b[0m                    /* DISABLES CODE */ ( )\n",
      "  \u001b[31m   \u001b[0m       numpy/core/src/npysort/selection.c.src:328:9: warning: code will never be executed [-Wunreachable-code]\n",
      "  \u001b[31m   \u001b[0m               npy_intp k;\n",
      "  \u001b[31m   \u001b[0m               ^~~~~~~~~~~\n",
      "  \u001b[31m   \u001b[0m       numpy/core/src/npysort/selection.c.src:326:14: note: silence by adding parentheses to mark code as explicitly dead\n",
      "  \u001b[31m   \u001b[0m           else if (0 && kth == num - 1) {\n",
      "  \u001b[31m   \u001b[0m                    ^\n",
      "  \u001b[31m   \u001b[0m                    /* DISABLES CODE */ ( )\n",
      "  \u001b[31m   \u001b[0m       numpy/core/src/npysort/selection.c.src:328:9: warning: code will never be executed [-Wunreachable-code]\n",
      "  \u001b[31m   \u001b[0m               npy_intp k;\n",
      "  \u001b[31m   \u001b[0m               ^~~~~~~~~~~\n",
      "  \u001b[31m   \u001b[0m       numpy/core/src/npysort/selection.c.src:326:14: note: silence by adding parentheses to mark code as explicitly dead\n",
      "  \u001b[31m   \u001b[0m           else if (0 && kth == num - 1) {\n",
      "  \u001b[31m   \u001b[0m                    ^\n",
      "  \u001b[31m   \u001b[0m                    /* DISABLES CODE */ ( )\n",
      "  \u001b[31m   \u001b[0m       numpy/core/src/npysort/selection.c.src:328:9: warning: code will never be executed [-Wunreachable-code]\n",
      "  \u001b[31m   \u001b[0m               npy_intp k;\n",
      "  \u001b[31m   \u001b[0m               ^~~~~~~~~~~\n",
      "  \u001b[31m   \u001b[0m       numpy/core/src/npysort/selection.c.src:326:14: note: silence by adding parentheses to mark code as explicitly dead\n",
      "  \u001b[31m   \u001b[0m           else if (0 && kth == num - 1) {\n",
      "  \u001b[31m   \u001b[0m                    ^\n",
      "  \u001b[31m   \u001b[0m                    /* DISABLES CODE */ ( )\n",
      "  \u001b[31m   \u001b[0m       numpy/core/src/npysort/selection.c.src:328:9: warning: code will never be executed [-Wunreachable-code]\n",
      "  \u001b[31m   \u001b[0m               npy_intp k;\n",
      "  \u001b[31m   \u001b[0m               ^~~~~~~~~~~\n",
      "  \u001b[31m   \u001b[0m       numpy/core/src/npysort/selection.c.src:326:14: note: silence by adding parentheses to mark code as explicitly dead\n",
      "  \u001b[31m   \u001b[0m           else if (0 && kth == num - 1) {\n",
      "  \u001b[31m   \u001b[0m                    ^\n",
      "  \u001b[31m   \u001b[0m                    /* DISABLES CODE */ ( )\n",
      "  \u001b[31m   \u001b[0m       numpy/core/src/npysort/selection.c.src:328:9: warning: code will never be executed [-Wunreachable-code]\n",
      "  \u001b[31m   \u001b[0m               npy_intp k;\n",
      "  \u001b[31m   \u001b[0m               ^~~~~~~~~~~\n",
      "  \u001b[31m   \u001b[0m       numpy/core/src/npysort/selection.c.src:326:14: note: silence by adding parentheses to mark code as explicitly dead\n",
      "  \u001b[31m   \u001b[0m           else if (0 && kth == num - 1) {\n",
      "  \u001b[31m   \u001b[0m                    ^\n",
      "  \u001b[31m   \u001b[0m                    /* DISABLES CODE */ ( )\n",
      "  \u001b[31m   \u001b[0m       numpy/core/src/npysort/selection.c.src:328:9: warning: code will never be executed [-Wunreachable-code]\n",
      "  \u001b[31m   \u001b[0m               npy_intp k;\n",
      "  \u001b[31m   \u001b[0m               ^~~~~~~~~~~\n",
      "  \u001b[31m   \u001b[0m       numpy/core/src/npysort/selection.c.src:326:14: note: silence by adding parentheses to mark code as explicitly dead\n",
      "  \u001b[31m   \u001b[0m           else if (0 && kth == num - 1) {\n",
      "  \u001b[31m   \u001b[0m                    ^\n",
      "  \u001b[31m   \u001b[0m                    /* DISABLES CODE */ ( )\n",
      "  \u001b[31m   \u001b[0m       numpy/core/src/npysort/selection.c.src:328:9: warning: code will never be executed [-Wunreachable-code]\n",
      "  \u001b[31m   \u001b[0m               npy_intp k;\n",
      "  \u001b[31m   \u001b[0m               ^~~~~~~~~~~\n",
      "  \u001b[31m   \u001b[0m       numpy/core/src/npysort/selection.c.src:326:14: note: silence by adding parentheses to mark code as explicitly dead\n",
      "  \u001b[31m   \u001b[0m           else if (0 && kth == num - 1) {\n",
      "  \u001b[31m   \u001b[0m                    ^\n",
      "  \u001b[31m   \u001b[0m                    /* DISABLES CODE */ ( )\n",
      "  \u001b[31m   \u001b[0m       numpy/core/src/npysort/selection.c.src:328:9: warning: code will never be executed [-Wunreachable-code]\n",
      "  \u001b[31m   \u001b[0m               npy_intp k;\n",
      "  \u001b[31m   \u001b[0m               ^~~~~~~~~~~\n",
      "  \u001b[31m   \u001b[0m       numpy/core/src/npysort/selection.c.src:326:14: note: silence by adding parentheses to mark code as explicitly dead\n",
      "  \u001b[31m   \u001b[0m           else if (0 && kth == num - 1) {\n",
      "  \u001b[31m   \u001b[0m                    ^\n",
      "  \u001b[31m   \u001b[0m                    /* DISABLES CODE */ ( )\n",
      "  \u001b[31m   \u001b[0m       22 warnings generated.\n",
      "  \u001b[31m   \u001b[0m       numpy/core/src/npysort/selection.c.src:328:9: warning: code will never be executed [-Wunreachable-code]\n",
      "  \u001b[31m   \u001b[0m               npy_intp k;\n",
      "  \u001b[31m   \u001b[0m               ^~~~~~~~~~~\n",
      "  \u001b[31m   \u001b[0m       numpy/core/src/npysort/selection.c.src:326:14: note: silence by adding parentheses to mark code as explicitly dead\n",
      "  \u001b[31m   \u001b[0m           else if (0 && kth == num - 1) {\n",
      "  \u001b[31m   \u001b[0m                    ^\n",
      "  \u001b[31m   \u001b[0m                    /* DISABLES CODE */ ( )\n",
      "  \u001b[31m   \u001b[0m       numpy/core/src/npysort/selection.c.src:328:9: warning: code will never be executed [-Wunreachable-code]\n",
      "  \u001b[31m   \u001b[0m               npy_intp k;\n",
      "  \u001b[31m   \u001b[0m               ^~~~~~~~~~~\n",
      "  \u001b[31m   \u001b[0m       numpy/core/src/npysort/selection.c.src:326:14: note: silence by adding parentheses to mark code as explicitly dead\n",
      "  \u001b[31m   \u001b[0m           else if (0 && kth == num - 1) {\n",
      "  \u001b[31m   \u001b[0m                    ^\n",
      "  \u001b[31m   \u001b[0m                    /* DISABLES CODE */ ( )\n",
      "  \u001b[31m   \u001b[0m       numpy/core/src/npysort/selection.c.src:328:9: warning: code will never be executed [-Wunreachable-code]\n",
      "  \u001b[31m   \u001b[0m               npy_intp k;\n",
      "  \u001b[31m   \u001b[0m               ^~~~~~~~~~~\n",
      "  \u001b[31m   \u001b[0m       numpy/core/src/npysort/selection.c.src:326:14: note: silence by adding parentheses to mark code as explicitly dead\n",
      "  \u001b[31m   \u001b[0m           else if (0 && kth == num - 1) {\n",
      "  \u001b[31m   \u001b[0m                    ^\n",
      "  \u001b[31m   \u001b[0m                    /* DISABLES CODE */ ( )\n",
      "  \u001b[31m   \u001b[0m       numpy/core/src/npysort/selection.c.src:328:9: warning: code will never be executed [-Wunreachable-code]\n",
      "  \u001b[31m   \u001b[0m               npy_intp k;\n",
      "  \u001b[31m   \u001b[0m               ^~~~~~~~~~~\n",
      "  \u001b[31m   \u001b[0m       numpy/core/src/npysort/selection.c.src:326:14: note: silence by adding parentheses to mark code as explicitly dead\n",
      "  \u001b[31m   \u001b[0m           else if (0 && kth == num - 1) {\n",
      "  \u001b[31m   \u001b[0m                    ^\n",
      "  \u001b[31m   \u001b[0m                    /* DISABLES CODE */ ( )\n",
      "  \u001b[31m   \u001b[0m       numpy/core/src/npysort/selection.c.src:328:9: warning: code will never be executed [-Wunreachable-code]\n",
      "  \u001b[31m   \u001b[0m               npy_intp k;\n",
      "  \u001b[31m   \u001b[0m               ^~~~~~~~~~~\n",
      "  \u001b[31m   \u001b[0m       numpy/core/src/npysort/selection.c.src:326:14: note: silence by adding parentheses to mark code as explicitly dead\n",
      "  \u001b[31m   \u001b[0m           else if (0 && kth == num - 1) {\n",
      "  \u001b[31m   \u001b[0m                    ^\n",
      "  \u001b[31m   \u001b[0m                    /* DISABLES CODE */ ( )\n",
      "  \u001b[31m   \u001b[0m       numpy/core/src/npysort/selection.c.src:328:9: warning: code will never be executed [-Wunreachable-code]\n",
      "  \u001b[31m   \u001b[0m               npy_intp k;\n",
      "  \u001b[31m   \u001b[0m               ^~~~~~~~~~~\n",
      "  \u001b[31m   \u001b[0m       numpy/core/src/npysort/selection.c.src:326:14: note: silence by adding parentheses to mark code as explicitly dead\n",
      "  \u001b[31m   \u001b[0m           else if (0 && kth == num - 1) {\n",
      "  \u001b[31m   \u001b[0m                    ^\n",
      "  \u001b[31m   \u001b[0m                    /* DISABLES CODE */ ( )\n",
      "  \u001b[31m   \u001b[0m       numpy/core/src/npysort/selection.c.src:328:9: warning: code will never be executed [-Wunreachable-code]\n",
      "  \u001b[31m   \u001b[0m               npy_intp k;\n",
      "  \u001b[31m   \u001b[0m               ^~~~~~~~~~~\n",
      "  \u001b[31m   \u001b[0m       numpy/core/src/npysort/selection.c.src:326:14: note: silence by adding parentheses to mark code as explicitly dead\n",
      "  \u001b[31m   \u001b[0m           else if (0 && kth == num - 1) {\n",
      "  \u001b[31m   \u001b[0m                    ^\n",
      "  \u001b[31m   \u001b[0m                    /* DISABLES CODE */ ( )\n",
      "  \u001b[31m   \u001b[0m       numpy/core/src/npysort/selection.c.src:328:9: warning: code will never be executed [-Wunreachable-code]\n",
      "  \u001b[31m   \u001b[0m               npy_intp k;\n",
      "  \u001b[31m   \u001b[0m               ^~~~~~~~~~~\n",
      "  \u001b[31m   \u001b[0m       numpy/core/src/npysort/selection.c.src:326:14: note: silence by adding parentheses to mark code as explicitly dead\n",
      "  \u001b[31m   \u001b[0m           else if (0 && kth == num - 1) {\n",
      "  \u001b[31m   \u001b[0m                    ^\n",
      "  \u001b[31m   \u001b[0m                    /* DISABLES CODE */ ( )\n",
      "  \u001b[31m   \u001b[0m       numpy/core/src/npysort/selection.c.src:328:9: warning: code will never be executed [-Wunreachable-code]\n",
      "  \u001b[31m   \u001b[0m               npy_intp k;\n",
      "  \u001b[31m   \u001b[0m               ^~~~~~~~~~~\n",
      "  \u001b[31m   \u001b[0m       numpy/core/src/npysort/selection.c.src:326:14: note: silence by adding parentheses to mark code as explicitly dead\n",
      "  \u001b[31m   \u001b[0m           else if (0 && kth == num - 1) {\n",
      "  \u001b[31m   \u001b[0m                    ^\n",
      "  \u001b[31m   \u001b[0m                    /* DISABLES CODE */ ( )\n",
      "  \u001b[31m   \u001b[0m       numpy/core/src/npysort/selection.c.src:328:9: warning: code will never be executed [-Wunreachable-code]\n",
      "  \u001b[31m   \u001b[0m               npy_intp k;\n",
      "  \u001b[31m   \u001b[0m               ^~~~~~~~~~~\n",
      "  \u001b[31m   \u001b[0m       numpy/core/src/npysort/selection.c.src:326:14: note: silence by adding parentheses to mark code as explicitly dead\n",
      "  \u001b[31m   \u001b[0m           else if (0 && kth == num - 1) {\n",
      "  \u001b[31m   \u001b[0m                    ^\n",
      "  \u001b[31m   \u001b[0m                    /* DISABLES CODE */ ( )\n",
      "  \u001b[31m   \u001b[0m       numpy/core/src/npysort/selection.c.src:328:9: warning: code will never be executed [-Wunreachable-code]\n",
      "  \u001b[31m   \u001b[0m               npy_intp k;\n",
      "  \u001b[31m   \u001b[0m               ^~~~~~~~~~~\n",
      "  \u001b[31m   \u001b[0m       numpy/core/src/npysort/selection.c.src:326:14: note: silence by adding parentheses to mark code as explicitly dead\n",
      "  \u001b[31m   \u001b[0m           else if (0 && kth == num - 1) {\n",
      "  \u001b[31m   \u001b[0m                    ^\n",
      "  \u001b[31m   \u001b[0m                    /* DISABLES CODE */ ( )\n",
      "  \u001b[31m   \u001b[0m       numpy/core/src/npysort/selection.c.src:328:9: warning: code will never be executed [-Wunreachable-code]\n",
      "  \u001b[31m   \u001b[0m               npy_intp k;\n",
      "  \u001b[31m   \u001b[0m               ^~~~~~~~~~~\n",
      "  \u001b[31m   \u001b[0m       numpy/core/src/npysort/selection.c.src:326:14: note: silence by adding parentheses to mark code as explicitly dead\n",
      "  \u001b[31m   \u001b[0m           else if (0 && kth == num - 1) {\n",
      "  \u001b[31m   \u001b[0m                    ^\n",
      "  \u001b[31m   \u001b[0m                    /* DISABLES CODE */ ( )\n",
      "  \u001b[31m   \u001b[0m       numpy/core/src/npysort/selection.c.src:328:9: warning: code will never be executed [-Wunreachable-code]\n",
      "  \u001b[31m   \u001b[0m               npy_intp k;\n",
      "  \u001b[31m   \u001b[0m               ^~~~~~~~~~~\n",
      "  \u001b[31m   \u001b[0m       numpy/core/src/npysort/selection.c.src:326:14: note: silence by adding parentheses to mark code as explicitly dead\n",
      "  \u001b[31m   \u001b[0m           else if (0 && kth == num - 1) {\n",
      "  \u001b[31m   \u001b[0m                    ^\n",
      "  \u001b[31m   \u001b[0m                    /* DISABLES CODE */ ( )\n",
      "  \u001b[31m   \u001b[0m       numpy/core/src/npysort/selection.c.src:328:9: warning: code will never be executed [-Wunreachable-code]\n",
      "  \u001b[31m   \u001b[0m               npy_intp k;\n",
      "  \u001b[31m   \u001b[0m               ^~~~~~~~~~~\n",
      "  \u001b[31m   \u001b[0m       numpy/core/src/npysort/selection.c.src:326:14: note: silence by adding parentheses to mark code as explicitly dead\n",
      "  \u001b[31m   \u001b[0m           else if (0 && kth == num - 1) {\n",
      "  \u001b[31m   \u001b[0m                    ^\n",
      "  \u001b[31m   \u001b[0m                    /* DISABLES CODE */ ( )\n",
      "  \u001b[31m   \u001b[0m       numpy/core/src/npysort/selection.c.src:328:9: warning: code will never be executed [-Wunreachable-code]\n",
      "  \u001b[31m   \u001b[0m               npy_intp k;\n",
      "  \u001b[31m   \u001b[0m               ^~~~~~~~~~~\n",
      "  \u001b[31m   \u001b[0m       numpy/core/src/npysort/selection.c.src:326:14: note: silence by adding parentheses to mark code as explicitly dead\n",
      "  \u001b[31m   \u001b[0m           else if (0 && kth == num - 1) {\n",
      "  \u001b[31m   \u001b[0m                    ^\n",
      "  \u001b[31m   \u001b[0m                    /* DISABLES CODE */ ( )\n",
      "  \u001b[31m   \u001b[0m       numpy/core/src/npysort/selection.c.src:328:9: warning: code will never be executed [-Wunreachable-code]\n",
      "  \u001b[31m   \u001b[0m               npy_intp k;\n",
      "  \u001b[31m   \u001b[0m               ^~~~~~~~~~~\n",
      "  \u001b[31m   \u001b[0m       numpy/core/src/npysort/selection.c.src:326:14: note: silence by adding parentheses to mark code as explicitly dead\n",
      "  \u001b[31m   \u001b[0m           else if (0 && kth == num - 1) {\n",
      "  \u001b[31m   \u001b[0m                    ^\n",
      "  \u001b[31m   \u001b[0m                    /* DISABLES CODE */ ( )\n",
      "  \u001b[31m   \u001b[0m       numpy/core/src/npysort/selection.c.src:328:9: warning: code will never be executed [-Wunreachable-code]\n",
      "  \u001b[31m   \u001b[0m               npy_intp k;\n",
      "  \u001b[31m   \u001b[0m               ^~~~~~~~~~~\n",
      "  \u001b[31m   \u001b[0m       numpy/core/src/npysort/selection.c.src:326:14: note: silence by adding parentheses to mark code as explicitly dead\n",
      "  \u001b[31m   \u001b[0m           else if (0 && kth == num - 1) {\n",
      "  \u001b[31m   \u001b[0m                    ^\n",
      "  \u001b[31m   \u001b[0m                    /* DISABLES CODE */ ( )\n",
      "  \u001b[31m   \u001b[0m       numpy/core/src/npysort/selection.c.src:328:9: warning: code will never be executed [-Wunreachable-code]\n",
      "  \u001b[31m   \u001b[0m               npy_intp k;\n",
      "  \u001b[31m   \u001b[0m               ^~~~~~~~~~~\n",
      "  \u001b[31m   \u001b[0m       numpy/core/src/npysort/selection.c.src:326:14: note: silence by adding parentheses to mark code as explicitly dead\n",
      "  \u001b[31m   \u001b[0m           else if (0 && kth == num - 1) {\n",
      "  \u001b[31m   \u001b[0m                    ^\n",
      "  \u001b[31m   \u001b[0m                    /* DISABLES CODE */ ( )\n",
      "  \u001b[31m   \u001b[0m       numpy/core/src/npysort/selection.c.src:328:9: warning: code will never be executed [-Wunreachable-code]\n",
      "  \u001b[31m   \u001b[0m               npy_intp k;\n",
      "  \u001b[31m   \u001b[0m               ^~~~~~~~~~~\n",
      "  \u001b[31m   \u001b[0m       numpy/core/src/npysort/selection.c.src:326:14: note: silence by adding parentheses to mark code as explicitly dead\n",
      "  \u001b[31m   \u001b[0m           else if (0 && kth == num - 1) {\n",
      "  \u001b[31m   \u001b[0m                    ^\n",
      "  \u001b[31m   \u001b[0m                    /* DISABLES CODE */ ( )\n",
      "  \u001b[31m   \u001b[0m       numpy/core/src/npysort/selection.c.src:328:9: warning: code will never be executed [-Wunreachable-code]\n",
      "  \u001b[31m   \u001b[0m               npy_intp k;\n",
      "  \u001b[31m   \u001b[0m               ^~~~~~~~~~~\n",
      "  \u001b[31m   \u001b[0m       numpy/core/src/npysort/selection.c.src:326:14: note: silence by adding parentheses to mark code as explicitly dead\n",
      "  \u001b[31m   \u001b[0m           else if (0 && kth == num - 1) {\n",
      "  \u001b[31m   \u001b[0m                    ^\n",
      "  \u001b[31m   \u001b[0m                    /* DISABLES CODE */ ( )\n",
      "  \u001b[31m   \u001b[0m       numpy/core/src/npysort/selection.c.src:328:9: warning: code will never be executed [-Wunreachable-code]\n",
      "  \u001b[31m   \u001b[0m               npy_intp k;\n",
      "  \u001b[31m   \u001b[0m               ^~~~~~~~~~~\n",
      "  \u001b[31m   \u001b[0m       numpy/core/src/npysort/selection.c.src:326:14: note: silence by adding parentheses to mark code as explicitly dead\n",
      "  \u001b[31m   \u001b[0m           else if (0 && kth == num - 1) {\n",
      "  \u001b[31m   \u001b[0m                    ^\n",
      "  \u001b[31m   \u001b[0m                    /* DISABLES CODE */ ( )\n",
      "  \u001b[31m   \u001b[0m       numpy/core/src/npysort/selection.c.src:328:9: warning: code will never be executed [-Wunreachable-code]\n",
      "  \u001b[31m   \u001b[0m               npy_intp k;\n",
      "  \u001b[31m   \u001b[0m               ^~~~~~~~~~~\n",
      "  \u001b[31m   \u001b[0m       numpy/core/src/npysort/selection.c.src:326:14: note: silence by adding parentheses to mark code as explicitly dead\n",
      "  \u001b[31m   \u001b[0m           else if (0 && kth == num - 1) {\n",
      "  \u001b[31m   \u001b[0m                    ^\n",
      "  \u001b[31m   \u001b[0m                    /* DISABLES CODE */ ( )\n",
      "  \u001b[31m   \u001b[0m       22 warnings generated.\n",
      "  \u001b[31m   \u001b[0m       xcrun: adding 7 object files to build/temp.macosx-10.9-universal2-3.10/libnpysort.a\n",
      "  \u001b[31m   \u001b[0m       warning: /Library/Developer/CommandLineTools/usr/bin/ranlib: archive library: build/temp.macosx-10.9-universal2-3.10/libnpysort.a will be fat and ar(1) will not be able to operate on it\n",
      "  \u001b[31m   \u001b[0m       ranlib:@ build/temp.macosx-10.9-universal2-3.10/libnpysort.a\n",
      "  \u001b[31m   \u001b[0m       building 'npyrandom' library\n",
      "  \u001b[31m   \u001b[0m       compiling C sources\n",
      "  \u001b[31m   \u001b[0m       C compiler: clang -Wno-unused-result -Wsign-compare -Wunreachable-code -fno-common -dynamic -DNDEBUG -g -fwrapv -O3 -Wall -arch arm64 -arch x86_64 -g\n",
      "  \u001b[31m   \u001b[0m \n",
      "  \u001b[31m   \u001b[0m       creating build/temp.macosx-10.9-universal2-3.10/numpy/random\n",
      "  \u001b[31m   \u001b[0m       creating build/temp.macosx-10.9-universal2-3.10/numpy/random/src\n",
      "  \u001b[31m   \u001b[0m       creating build/temp.macosx-10.9-universal2-3.10/numpy/random/src/distributions\n",
      "  \u001b[31m   \u001b[0m       compile options: '-Inumpy/core/include -Ibuild/src.macosx-10.9-universal2-3.10/numpy/core/include/numpy -Inumpy/core/src/common -Inumpy/core/src -Inumpy/core -Inumpy/core/src/npymath -Inumpy/core/src/multiarray -Inumpy/core/src/umath -Inumpy/core/src/npysort -I/Library/Frameworks/Python.framework/Versions/3.10/include/python3.10 -Ibuild/src.macosx-10.9-universal2-3.10/numpy/core/src/common -Ibuild/src.macosx-10.9-universal2-3.10/numpy/core/src/npymath -c'\n",
      "  \u001b[31m   \u001b[0m       clang: numpy/random/src/distributions/logfactorial.c\n",
      "  \u001b[31m   \u001b[0m       clang: numpy/random/src/distributions/distributions.c\n",
      "  \u001b[31m   \u001b[0m       clang: numpy/random/src/distributions/random_mvhg_marginals.c\n",
      "  \u001b[31m   \u001b[0m       clang: numpy/random/src/distributions/random_hypergeometric.c\n",
      "  \u001b[31m   \u001b[0m       clang: numpy/random/src/distributions/random_mvhg_count.c\n",
      "  \u001b[31m   \u001b[0m       xcrun: adding 5 object files to build/temp.macosx-10.9-universal2-3.10/libnpyrandom.a\n",
      "  \u001b[31m   \u001b[0m       warning: /Library/Developer/CommandLineTools/usr/bin/ranlib: archive library: build/temp.macosx-10.9-universal2-3.10/libnpyrandom.a will be fat and ar(1) will not be able to operate on it\n",
      "  \u001b[31m   \u001b[0m       ranlib:@ build/temp.macosx-10.9-universal2-3.10/libnpyrandom.a\n",
      "  \u001b[31m   \u001b[0m       running build_ext\n",
      "  \u001b[31m   \u001b[0m       customize UnixCCompiler\n",
      "  \u001b[31m   \u001b[0m       customize UnixCCompiler using new_build_ext\n",
      "  \u001b[31m   \u001b[0m       building 'numpy.core._multiarray_tests' extension\n",
      "  \u001b[31m   \u001b[0m       compiling C sources\n",
      "  \u001b[31m   \u001b[0m       C compiler: clang -Wno-unused-result -Wsign-compare -Wunreachable-code -fno-common -dynamic -DNDEBUG -g -fwrapv -O3 -Wall -arch arm64 -arch x86_64 -g\n",
      "  \u001b[31m   \u001b[0m \n",
      "  \u001b[31m   \u001b[0m       creating build/temp.macosx-10.9-universal2-3.10/build/src.macosx-10.9-universal2-3.10/numpy/core/src/multiarray\n",
      "  \u001b[31m   \u001b[0m       creating build/temp.macosx-10.9-universal2-3.10/numpy/core/src/common\n",
      "  \u001b[31m   \u001b[0m       compile options: '-DNPY_INTERNAL_BUILD=1 -DHAVE_NPY_CONFIG_H=1 -D_FILE_OFFSET_BITS=64 -D_LARGEFILE_SOURCE=1 -D_LARGEFILE64_SOURCE=1 -Inumpy/core/include -Ibuild/src.macosx-10.9-universal2-3.10/numpy/core/include/numpy -Inumpy/core/src/common -Inumpy/core/src -Inumpy/core -Inumpy/core/src/npymath -Inumpy/core/src/multiarray -Inumpy/core/src/umath -Inumpy/core/src/npysort -I/Library/Frameworks/Python.framework/Versions/3.10/include/python3.10 -Ibuild/src.macosx-10.9-universal2-3.10/numpy/core/src/common -Ibuild/src.macosx-10.9-universal2-3.10/numpy/core/src/npymath -c'\n",
      "  \u001b[31m   \u001b[0m       clang: build/src.macosx-10.9-universal2-3.10/numpy/core/src/multiarray/_multiarray_tests.c\n",
      "  \u001b[31m   \u001b[0m       clang: numpy/core/src/common/mem_overlap.c\n",
      "  \u001b[31m   \u001b[0m       clang -bundle -undefined dynamic_lookup -arch arm64 -arch x86_64 -g build/temp.macosx-10.9-universal2-3.10/build/src.macosx-10.9-universal2-3.10/numpy/core/src/multiarray/_multiarray_tests.o build/temp.macosx-10.9-universal2-3.10/numpy/core/src/common/mem_overlap.o -Lbuild/temp.macosx-10.9-universal2-3.10 -lnpymath -o build/lib.macosx-10.9-universal2-3.10/numpy/core/_multiarray_tests.cpython-310-darwin.so\n",
      "  \u001b[31m   \u001b[0m       building 'numpy.core._multiarray_umath' extension\n",
      "  \u001b[31m   \u001b[0m       compiling C sources\n",
      "  \u001b[31m   \u001b[0m       C compiler: clang -Wno-unused-result -Wsign-compare -Wunreachable-code -fno-common -dynamic -DNDEBUG -g -fwrapv -O3 -Wall -arch arm64 -arch x86_64 -g\n",
      "  \u001b[31m   \u001b[0m \n",
      "  \u001b[31m   \u001b[0m       creating build/temp.macosx-10.9-universal2-3.10/numpy/core/src/multiarray\n",
      "  \u001b[31m   \u001b[0m       creating build/temp.macosx-10.9-universal2-3.10/numpy/core/src/umath\n",
      "  \u001b[31m   \u001b[0m       creating build/temp.macosx-10.9-universal2-3.10/build/src.macosx-10.9-universal2-3.10/numpy/core/src/umath\n",
      "  \u001b[31m   \u001b[0m       creating build/temp.macosx-10.9-universal2-3.10/build/src.macosx-10.9-universal2-3.10/numpy/core/src/common\n",
      "  \u001b[31m   \u001b[0m       creating build/temp.macosx-10.9-universal2-3.10/private\n",
      "  \u001b[31m   \u001b[0m       creating build/temp.macosx-10.9-universal2-3.10/private/var\n",
      "  \u001b[31m   \u001b[0m       creating build/temp.macosx-10.9-universal2-3.10/private/var/folders\n",
      "  \u001b[31m   \u001b[0m       creating build/temp.macosx-10.9-universal2-3.10/private/var/folders/rx\n",
      "  \u001b[31m   \u001b[0m       creating build/temp.macosx-10.9-universal2-3.10/private/var/folders/rx/m0btvv496ls5xlm6m33rc1kr0000gn\n",
      "  \u001b[31m   \u001b[0m       creating build/temp.macosx-10.9-universal2-3.10/private/var/folders/rx/m0btvv496ls5xlm6m33rc1kr0000gn/T\n",
      "  \u001b[31m   \u001b[0m       creating build/temp.macosx-10.9-universal2-3.10/private/var/folders/rx/m0btvv496ls5xlm6m33rc1kr0000gn/T/pip-install-qcmeq974\n",
      "  \u001b[31m   \u001b[0m       creating build/temp.macosx-10.9-universal2-3.10/private/var/folders/rx/m0btvv496ls5xlm6m33rc1kr0000gn/T/pip-install-qcmeq974/numpy_b9d9cef1e05b4001b5aec03b52848de4\n",
      "  \u001b[31m   \u001b[0m       creating build/temp.macosx-10.9-universal2-3.10/private/var/folders/rx/m0btvv496ls5xlm6m33rc1kr0000gn/T/pip-install-qcmeq974/numpy_b9d9cef1e05b4001b5aec03b52848de4/numpy\n",
      "  \u001b[31m   \u001b[0m       creating build/temp.macosx-10.9-universal2-3.10/private/var/folders/rx/m0btvv496ls5xlm6m33rc1kr0000gn/T/pip-install-qcmeq974/numpy_b9d9cef1e05b4001b5aec03b52848de4/numpy/_build_utils\n",
      "  \u001b[31m   \u001b[0m       creating build/temp.macosx-10.9-universal2-3.10/private/var/folders/rx/m0btvv496ls5xlm6m33rc1kr0000gn/T/pip-install-qcmeq974/numpy_b9d9cef1e05b4001b5aec03b52848de4/numpy/_build_utils/src\n",
      "  \u001b[31m   \u001b[0m       compile options: '-DNPY_INTERNAL_BUILD=1 -DHAVE_NPY_CONFIG_H=1 -D_FILE_OFFSET_BITS=64 -D_LARGEFILE_SOURCE=1 -D_LARGEFILE64_SOURCE=1 -DNO_ATLAS_INFO=3 -DHAVE_CBLAS -Ibuild/src.macosx-10.9-universal2-3.10/numpy/core/src/umath -Ibuild/src.macosx-10.9-universal2-3.10/numpy/core/src/npymath -Ibuild/src.macosx-10.9-universal2-3.10/numpy/core/src/common -Inumpy/core/include -Ibuild/src.macosx-10.9-universal2-3.10/numpy/core/include/numpy -Inumpy/core/src/common -Inumpy/core/src -Inumpy/core -Inumpy/core/src/npymath -Inumpy/core/src/multiarray -Inumpy/core/src/umath -Inumpy/core/src/npysort -I/Library/Frameworks/Python.framework/Versions/3.10/include/python3.10 -Ibuild/src.macosx-10.9-universal2-3.10/numpy/core/src/common -Ibuild/src.macosx-10.9-universal2-3.10/numpy/core/src/npymath -c'\n",
      "  \u001b[31m   \u001b[0m       extra options: '-msse3 -I/System/Library/Frameworks/vecLib.framework/Headers'\n",
      "  \u001b[31m   \u001b[0m       clang: numpy/core/src/multiarray/alloc.c\n",
      "  \u001b[31m   \u001b[0m       clang: numpy/core/src/multiarray/array_assign_scalar.c\n",
      "  \u001b[31m   \u001b[0m       clang: numpy/core/src/multiarray/common.c\n",
      "  \u001b[31m   \u001b[0m       clang: numpy/core/src/multiarray/conversion_utils.c\n",
      "  \u001b[31m   \u001b[0m       clang: numpy/core/src/multiarray/datetime_strings.c\n",
      "  \u001b[31m   \u001b[0m       clang: build/src.macosx-10.9-universal2-3.10/numpy/core/src/multiarray/einsum.c\n",
      "  \u001b[31m   \u001b[0m       clang: numpy/core/src/multiarray/descriptor.c\n",
      "  \u001b[31m   \u001b[0m       clang: numpy/core/src/multiarray/buffer.c\n",
      "  \u001b[31m   \u001b[0m       numpy/core/src/multiarray/einsum.c.src:2158:32: warning: unknown warning group '-Wmaybe-uninitialized', ignored [-Wunknown-warning-option]\n",
      "  \u001b[31m   \u001b[0m       #pragma GCC diagnostic ignored \"-Wmaybe-uninitialized\"\n",
      "  \u001b[31m   \u001b[0m                                      ^\n",
      "  \u001b[31m   \u001b[0m       clang: numpy/core/src/multiarray/arrayobject.c\n",
      "  \u001b[31m   \u001b[0m       clang: numpy/core/src/multiarray/array_assign_array.c\n",
      "  \u001b[31m   \u001b[0m       clang: numpy/core/src/multiarray/ctors.c\n",
      "  \u001b[31m   \u001b[0m       clang: numpy/core/src/multiarray/convert.c\n",
      "  \u001b[31m   \u001b[0m       clang: numpy/core/src/multiarray/datetime_busday.c\n",
      "  \u001b[31m   \u001b[0m       clang: numpy/core/src/multiarray/arrayfunction_override.c\n",
      "  \u001b[31m   \u001b[0m       clang: numpy/core/src/multiarray/calculation.c\n",
      "  \u001b[31m   \u001b[0m       clang: numpy/core/src/multiarray/convert_datatype.c\n",
      "  \u001b[31m   \u001b[0m       clang: numpy/core/src/multiarray/hashdescr.c\n",
      "  \u001b[31m   \u001b[0m       clang: numpy/core/src/multiarray/datetime_busdaycal.c\n",
      "  \u001b[31m   \u001b[0m       clang: numpy/core/src/multiarray/item_selection.c\n",
      "  \u001b[31m   \u001b[0m       clang: numpy/core/src/multiarray/dragon4.c\n",
      "  \u001b[31m   \u001b[0m       clang: numpy/core/src/multiarray/compiled_base.c\n",
      "  \u001b[31m   \u001b[0m       clang: build/src.macosx-10.9-universal2-3.10/numpy/core/src/multiarray/arraytypes.c\n",
      "  \u001b[31m   \u001b[0m       clang: build/src.macosx-10.9-universal2-3.10/numpy/core/src/multiarray/lowlevel_strided_loops.c\n",
      "  \u001b[31m   \u001b[0m       clang: numpy/core/src/multiarray/multiarraymodule.c\n",
      "  \u001b[31m   \u001b[0m       clang: numpy/core/src/multiarray/datetime.c\n",
      "  \u001b[31m   \u001b[0m       clang: numpy/core/src/multiarray/dtype_transfer.c\n",
      "  \u001b[31m   \u001b[0m       clang: numpy/core/src/multiarray/nditer_constr.c\n",
      "  \u001b[31m   \u001b[0m       clang: numpy/core/src/multiarray/iterators.c\n",
      "  \u001b[31m   \u001b[0m       clang: numpy/core/src/multiarray/refcount.c\n",
      "  \u001b[31m   \u001b[0m       clang: numpy/core/src/multiarray/sequence.c\n",
      "  \u001b[31m   \u001b[0m       1 warning generated.\n",
      "  \u001b[31m   \u001b[0m       clang: numpy/core/src/multiarray/shape.c\n",
      "  \u001b[31m   \u001b[0m       numpy/core/src/multiarray/einsum.c.src:2158:32: warning: unknown warning group '-Wmaybe-uninitialized', ignored [-Wunknown-warning-option]\n",
      "  \u001b[31m   \u001b[0m       #pragma GCC diagnostic ignored \"-Wmaybe-uninitialized\"\n",
      "  \u001b[31m   \u001b[0m                                      ^\n",
      "  \u001b[31m   \u001b[0m       clang: numpy/core/src/multiarray/scalarapi.c\n",
      "  \u001b[31m   \u001b[0m       clang: numpy/core/src/multiarray/temp_elide.c\n",
      "  \u001b[31m   \u001b[0m       clang: numpy/core/src/multiarray/typeinfo.c\n",
      "  \u001b[31m   \u001b[0m       clang: build/src.macosx-10.9-universal2-3.10/numpy/core/src/multiarray/scalartypes.c\n",
      "  \u001b[31m   \u001b[0m       clang: numpy/core/src/multiarray/vdot.c\n",
      "  \u001b[31m   \u001b[0m       numpy/core/src/multiarray/scalartypes.c.src:2967:65: error: too few arguments to function call, expected 2, have 1\n",
      "  \u001b[31m   \u001b[0m           return _Py_HashDouble((double) PyArrayScalar_VAL(obj, Float));\n",
      "  \u001b[31m   \u001b[0m                  ~~~~~~~~~~~~~~                                       ^\n",
      "  \u001b[31m   \u001b[0m       /Library/Frameworks/Python.framework/Versions/3.10/include/python3.10/pyhash.h:10:1: note: '_Py_HashDouble' declared here\n",
      "  \u001b[31m   \u001b[0m       PyAPI_FUNC(Py_hash_t) _Py_HashDouble(PyObject *, double);\n",
      "  \u001b[31m   \u001b[0m       ^\n",
      "  \u001b[31m   \u001b[0m       /Library/Frameworks/Python.framework/Versions/3.10/include/python3.10/pyport.h:703:34: note: expanded from macro 'PyAPI_FUNC'\n",
      "  \u001b[31m   \u001b[0m       #       define PyAPI_FUNC(RTYPE) Py_EXPORTED_SYMBOL RTYPE\n",
      "  \u001b[31m   \u001b[0m                                        ^\n",
      "  \u001b[31m   \u001b[0m       /Library/Frameworks/Python.framework/Versions/3.10/include/python3.10/exports.h:21:36: note: expanded from macro 'Py_EXPORTED_SYMBOL'\n",
      "  \u001b[31m   \u001b[0m               #define Py_EXPORTED_SYMBOL __attribute__ ((visibility (\"default\")))\n",
      "  \u001b[31m   \u001b[0m                                          ^\n",
      "  \u001b[31m   \u001b[0m       numpy/core/src/multiarray/scalartypes.c.src:2976:48: error: too few arguments to function call, expected 2, have 1\n",
      "  \u001b[31m   \u001b[0m                   PyArrayScalar_VAL(obj, CFloat).real);\n",
      "  \u001b[31m   \u001b[0m                                                      ^\n",
      "  \u001b[31m   \u001b[0m       /Library/Frameworks/Python.framework/Versions/3.10/include/python3.10/pyhash.h:10:1: note: '_Py_HashDouble' declared here\n",
      "  \u001b[31m   \u001b[0m       PyAPI_FUNC(Py_hash_t) _Py_HashDouble(PyObject *, double);\n",
      "  \u001b[31m   \u001b[0m       ^\n",
      "  \u001b[31m   \u001b[0m       /Library/Frameworks/Python.framework/Versions/3.10/include/python3.10/pyport.h:703:34: note: expanded from macro 'PyAPI_FUNC'\n",
      "  \u001b[31m   \u001b[0m       #       define PyAPI_FUNC(RTYPE) Py_EXPORTED_SYMBOL RTYPE\n",
      "  \u001b[31m   \u001b[0m                                        ^\n",
      "  \u001b[31m   \u001b[0m       /Library/Frameworks/Python.framework/Versions/3.10/include/python3.10/exports.h:21:36: note: expanded from macro 'Py_EXPORTED_SYMBOL'\n",
      "  \u001b[31m   \u001b[0m               #define Py_EXPORTED_SYMBOL __attribute__ ((visibility (\"default\")))\n",
      "  \u001b[31m   \u001b[0m                                          ^\n",
      "  \u001b[31m   \u001b[0m       numpy/core/src/multiarray/scalartypes.c.src:2982:48: error: too few arguments to function call, expected 2, have 1\n",
      "  \u001b[31m   \u001b[0m                   PyArrayScalar_VAL(obj, CFloat).imag);\n",
      "  \u001b[31m   \u001b[0m                                                      ^\n",
      "  \u001b[31m   \u001b[0m       /Library/Frameworks/Python.framework/Versions/3.10/include/python3.10/pyhash.h:10:1: note: '_Py_HashDouble' declared here\n",
      "  \u001b[31m   \u001b[0m       PyAPI_FUNC(Py_hash_t) _Py_HashDouble(PyObject *, double);\n",
      "  \u001b[31m   \u001b[0m       ^\n",
      "  \u001b[31m   \u001b[0m       /Library/Frameworks/Python.framework/Versions/3.10/include/python3.10/pyport.h:703:34: note: expanded from macro 'PyAPI_FUNC'\n",
      "  \u001b[31m   \u001b[0m       #       define PyAPI_FUNC(RTYPE) Py_EXPORTED_SYMBOL RTYPE\n",
      "  \u001b[31m   \u001b[0m                                        ^\n",
      "  \u001b[31m   \u001b[0m       /Library/Frameworks/Python.framework/Versions/3.10/include/python3.10/exports.h:21:36: note: expanded from macro 'Py_EXPORTED_SYMBOL'\n",
      "  \u001b[31m   \u001b[0m               #define Py_EXPORTED_SYMBOL __attribute__ ((visibility (\"default\")))\n",
      "  \u001b[31m   \u001b[0m                                          ^\n",
      "  \u001b[31m   \u001b[0m       numpy/core/src/multiarray/scalartypes.c.src:2967:70: error: too few arguments to function call, expected 2, have 1\n",
      "  \u001b[31m   \u001b[0m           return _Py_HashDouble((double) PyArrayScalar_VAL(obj, LongDouble));\n",
      "  \u001b[31m   \u001b[0m                  ~~~~~~~~~~~~~~                                            ^\n",
      "  \u001b[31m   \u001b[0m       /Library/Frameworks/Python.framework/Versions/3.10/include/python3.10/pyhash.h:10:1: note: '_Py_HashDouble' declared here\n",
      "  \u001b[31m   \u001b[0m       PyAPI_FUNC(Py_hash_t) _Py_HashDouble(PyObject *, double);\n",
      "  \u001b[31m   \u001b[0m       ^\n",
      "  \u001b[31m   \u001b[0m       /Library/Frameworks/Python.framework/Versions/3.10/include/python3.10/pyport.h:703:34: note: expanded from macro 'PyAPI_FUNC'\n",
      "  \u001b[31m   \u001b[0m       #       define PyAPI_FUNC(RTYPE) Py_EXPORTED_SYMBOL RTYPE\n",
      "  \u001b[31m   \u001b[0m                                        ^\n",
      "  \u001b[31m   \u001b[0m       /Library/Frameworks/Python.framework/Versions/3.10/include/python3.10/exports.h:21:36: note: expanded from macro 'Py_EXPORTED_SYMBOL'\n",
      "  \u001b[31m   \u001b[0m               #define Py_EXPORTED_SYMBOL __attribute__ ((visibility (\"default\")))\n",
      "  \u001b[31m   \u001b[0m                                          ^\n",
      "  \u001b[31m   \u001b[0m       numpy/core/src/multiarray/scalartypes.c.src:2976:53: error: too few arguments to function call, expected 2, have 1\n",
      "  \u001b[31m   \u001b[0m                   PyArrayScalar_VAL(obj, CLongDouble).real);\n",
      "  \u001b[31m   \u001b[0m                                                           ^\n",
      "  \u001b[31m   \u001b[0m       /Library/Frameworks/Python.framework/Versions/3.10/include/python3.10/pyhash.h:10:1: note: '_Py_HashDouble' declared here\n",
      "  \u001b[31m   \u001b[0m       PyAPI_FUNC(Py_hash_t) _Py_HashDouble(PyObject *, double);\n",
      "  \u001b[31m   \u001b[0m       ^\n",
      "  \u001b[31m   \u001b[0m       /Library/Frameworks/Python.framework/Versions/3.10/include/python3.10/pyport.h:703:34: note: expanded from macro 'PyAPI_FUNC'\n",
      "  \u001b[31m   \u001b[0m       #       define PyAPI_FUNC(RTYPE) Py_EXPORTED_SYMBOL RTYPE\n",
      "  \u001b[31m   \u001b[0m                                        ^\n",
      "  \u001b[31m   \u001b[0m       /Library/Frameworks/Python.framework/Versions/3.10/include/python3.10/exports.h:21:36: note: expanded from macro 'Py_EXPORTED_SYMBOL'\n",
      "  \u001b[31m   \u001b[0m               #define Py_EXPORTED_SYMBOL __attribute__ ((visibility (\"default\")))\n",
      "  \u001b[31m   \u001b[0m                                          ^\n",
      "  \u001b[31m   \u001b[0m       numpy/core/src/multiarray/scalartypes.c.src:2982:53: error: too few arguments to function call, expected 2, have 1\n",
      "  \u001b[31m   \u001b[0m                   PyArrayScalar_VAL(obj, CLongDouble).imag);\n",
      "  \u001b[31m   \u001b[0m                                                           ^\n",
      "  \u001b[31m   \u001b[0m       /Library/Frameworks/Python.framework/Versions/3.10/include/python3.10/pyhash.h:10:1: note: '_Py_HashDouble' declared here\n",
      "  \u001b[31m   \u001b[0m       PyAPI_FUNC(Py_hash_t) _Py_HashDouble(PyObject *, double);\n",
      "  \u001b[31m   \u001b[0m       ^\n",
      "  \u001b[31m   \u001b[0m       /Library/Frameworks/Python.framework/Versions/3.10/include/python3.10/pyport.h:703:34: note: expanded from macro 'PyAPI_FUNC'\n",
      "  \u001b[31m   \u001b[0m       #       define PyAPI_FUNC(RTYPE) Py_EXPORTED_SYMBOL RTYPE\n",
      "  \u001b[31m   \u001b[0m                                        ^\n",
      "  \u001b[31m   \u001b[0m       /Library/Frameworks/Python.framework/Versions/3.10/include/python3.10/exports.h:21:36: note: expanded from macro 'Py_EXPORTED_SYMBOL'\n",
      "  \u001b[31m   \u001b[0m               #define Py_EXPORTED_SYMBOL __attribute__ ((visibility (\"default\")))\n",
      "  \u001b[31m   \u001b[0m                                          ^\n",
      "  \u001b[31m   \u001b[0m       numpy/core/src/multiarray/scalartypes.c.src:2997:75: error: too few arguments to function call, expected 2, have 1\n",
      "  \u001b[31m   \u001b[0m           return _Py_HashDouble(npy_half_to_double(PyArrayScalar_VAL(obj, Half)));\n",
      "  \u001b[31m   \u001b[0m                  ~~~~~~~~~~~~~~                                                 ^\n",
      "  \u001b[31m   \u001b[0m       /Library/Frameworks/Python.framework/Versions/3.10/include/python3.10/pyhash.h:10:1: note: '_Py_HashDouble' declared here\n",
      "  \u001b[31m   \u001b[0m       PyAPI_FUNC(Py_hash_t) _Py_HashDouble(PyObject *, double);\n",
      "  \u001b[31m   \u001b[0m       ^\n",
      "  \u001b[31m   \u001b[0m       /Library/Frameworks/Python.framework/Versions/3.10/include/python3.10/pyport.h:703:34: note: expanded from macro 'PyAPI_FUNC'\n",
      "  \u001b[31m   \u001b[0m       #       define PyAPI_FUNC(RTYPE) Py_EXPORTED_SYMBOL RTYPE\n",
      "  \u001b[31m   \u001b[0m                                        ^\n",
      "  \u001b[31m   \u001b[0m       /Library/Frameworks/Python.framework/Versions/3.10/include/python3.10/exports.h:21:36: note: expanded from macro 'Py_EXPORTED_SYMBOL'\n",
      "  \u001b[31m   \u001b[0m               #define Py_EXPORTED_SYMBOL __attribute__ ((visibility (\"default\")))\n",
      "  \u001b[31m   \u001b[0m                                          ^\n",
      "  \u001b[31m   \u001b[0m       clang: numpy/core/src/multiarray/usertypes.c\n",
      "  \u001b[31m   \u001b[0m       7 errors generated.\n",
      "  \u001b[31m   \u001b[0m       clang: build/src.macosx-10.9-universal2-3.10/numpy/core/src/umath/loops.c\n",
      "  \u001b[31m   \u001b[0m       clang: numpy/core/src/umath/umathmodule.c\n",
      "  \u001b[31m   \u001b[0m       clang: numpy/core/src/umath/ufunc_object.c\n",
      "  \u001b[31m   \u001b[0m       clang: numpy/core/src/multiarray/nditer_pywrap.c\n",
      "  \u001b[31m   \u001b[0m       clang: numpy/core/src/umath/reduction.c\n",
      "  \u001b[31m   \u001b[0m       clang: build/src.macosx-10.9-universal2-3.10/numpy/core/src/multiarray/nditer_templ.c\n",
      "  \u001b[31m   \u001b[0m       clang: numpy/core/src/umath/ufunc_type_resolution.c\n",
      "  \u001b[31m   \u001b[0m       clang: numpy/core/src/multiarray/number.c\n",
      "  \u001b[31m   \u001b[0m       numpy/core/src/umath/loops.c.src:2611:22: warning: code will never be executed [-Wunreachable-code]\n",
      "  \u001b[31m   \u001b[0m               npy_intp n = dimensions[0];\n",
      "  \u001b[31m   \u001b[0m                            ^~~~~~~~~~\n",
      "  \u001b[31m   \u001b[0m       numpy/core/src/umath/loops.c.src:2610:29: note: silence by adding parentheses to mark code as explicitly dead\n",
      "  \u001b[31m   \u001b[0m           if (IS_BINARY_REDUCE && 0) {\n",
      "  \u001b[31m   \u001b[0m                                   ^\n",
      "  \u001b[31m   \u001b[0m                                   /* DISABLES CODE */ ( )\n",
      "  \u001b[31m   \u001b[0m       numpy/core/src/umath/loops.c.src:2611:22: warning: code will never be executed [-Wunreachable-code]\n",
      "  \u001b[31m   \u001b[0m               npy_intp n = dimensions[0];\n",
      "  \u001b[31m   \u001b[0m                            ^~~~~~~~~~\n",
      "  \u001b[31m   \u001b[0m       numpy/core/src/umath/loops.c.src:2610:29: note: silence by adding parentheses to mark code as explicitly dead\n",
      "  \u001b[31m   \u001b[0m           if (IS_BINARY_REDUCE && 0) {\n",
      "  \u001b[31m   \u001b[0m                                   ^\n",
      "  \u001b[31m   \u001b[0m                                   /* DISABLES CODE */ ( )\n",
      "  \u001b[31m   \u001b[0m       numpy/core/src/umath/loops.c.src:2611:22: warning: code will never be executed [-Wunreachable-code]\n",
      "  \u001b[31m   \u001b[0m               npy_intp n = dimensions[0];\n",
      "  \u001b[31m   \u001b[0m                            ^~~~~~~~~~\n",
      "  \u001b[31m   \u001b[0m       numpy/core/src/umath/loops.c.src:2610:29: note: silence by adding parentheses to mark code as explicitly dead\n",
      "  \u001b[31m   \u001b[0m           if (IS_BINARY_REDUCE && 0) {\n",
      "  \u001b[31m   \u001b[0m                                   ^\n",
      "  \u001b[31m   \u001b[0m                                   /* DISABLES CODE */ ( )\n",
      "  \u001b[31m   \u001b[0m       clang: numpy/core/src/umath/override.c\n",
      "  \u001b[31m   \u001b[0m       clang: build/src.macosx-10.9-universal2-3.10/numpy/core/src/npymath/ieee754.c\n",
      "  \u001b[31m   \u001b[0m       clang: build/src.macosx-10.9-universal2-3.10/numpy/core/src/npymath/npy_math_complex.c\n",
      "  \u001b[31m   \u001b[0m       clang: numpy/core/src/npymath/npy_math.c\n",
      "  \u001b[31m   \u001b[0m       clang: numpy/core/src/npymath/halffloat.c\n",
      "  \u001b[31m   \u001b[0m       clang: numpy/core/src/common/array_assign.c\n",
      "  \u001b[31m   \u001b[0m       clang: numpy/core/src/common/ucsnarrow.c\n",
      "  \u001b[31m   \u001b[0m       clang: numpy/core/src/common/mem_overlap.c\n",
      "  \u001b[31m   \u001b[0m       clang: numpy/core/src/common/ufunc_override.c\n",
      "  \u001b[31m   \u001b[0m       clang: numpy/core/src/common/numpyos.c\n",
      "  \u001b[31m   \u001b[0m       1 warning generated.\n",
      "  \u001b[31m   \u001b[0m       clang: numpy/core/src/multiarray/flagsobject.c\n",
      "  \u001b[31m   \u001b[0m       clang: numpy/core/src/multiarray/nditer_api.c\n",
      "  \u001b[31m   \u001b[0m       clang: numpy/core/src/umath/extobj.c\n",
      "  \u001b[31m   \u001b[0m       clang: numpy/core/src/common/npy_longdouble.c\n",
      "  \u001b[31m   \u001b[0m       clang: build/src.macosx-10.9-universal2-3.10/numpy/core/src/common/npy_cpu_features.c\n",
      "  \u001b[31m   \u001b[0m       clang: numpy/core/src/multiarray/getset.c\n",
      "  \u001b[31m   \u001b[0m       clang: build/src.macosx-10.9-universal2-3.10/numpy/core/src/umath/scalarmath.c\n",
      "  \u001b[31m   \u001b[0m       clang: /private/var/folders/rx/m0btvv496ls5xlm6m33rc1kr0000gn/T/pip-install-qcmeq974/numpy_b9d9cef1e05b4001b5aec03b52848de4/numpy/_build_utils/src/apple_sgemv_fix.c\n",
      "  \u001b[31m   \u001b[0m       In file included from /private/var/folders/rx/m0btvv496ls5xlm6m33rc1kr0000gn/T/pip-install-qcmeq974/numpy_b9d9cef1e05b4001b5aec03b52848de4/numpy/_build_utils/src/apple_sgemv_fix.c:26:\n",
      "  \u001b[31m   \u001b[0m       In file included from numpy/core/include/numpy/arrayobject.h:4:\n",
      "  \u001b[31m   \u001b[0m       In file included from numpy/core/include/numpy/ndarrayobject.h:21:\n",
      "  \u001b[31m   \u001b[0m       build/src.macosx-10.9-universal2-3.10/numpy/core/include/numpy/__multiarray_api.h:1463:1: warning: unused function '_import_array' [-Wunused-function]\n",
      "  \u001b[31m   \u001b[0m       _import_array(void)\n",
      "  \u001b[31m   \u001b[0m       ^\n",
      "  \u001b[31m   \u001b[0m       1 warning generated.\n",
      "  \u001b[31m   \u001b[0m       clang: numpy/core/src/common/cblasfuncs.c\n",
      "  \u001b[31m   \u001b[0m       In file included from /private/var/folders/rx/m0btvv496ls5xlm6m33rc1kr0000gn/T/pip-install-qcmeq974/numpy_b9d9cef1e05b4001b5aec03b52848de4/numpy/_build_utils/src/apple_sgemv_fix.c:26:\n",
      "  \u001b[31m   \u001b[0m       In file included from numpy/core/include/numpy/arrayobject.h:4:\n",
      "  \u001b[31m   \u001b[0m       In file included from numpy/core/include/numpy/ndarrayobject.h:21:\n",
      "  \u001b[31m   \u001b[0m       build/src.macosx-10.9-universal2-3.10/numpy/core/include/numpy/__multiarray_api.h:1463:1: warning: unused function '_import_array' [-Wunused-function]\n",
      "  \u001b[31m   \u001b[0m       _import_array(void)\n",
      "  \u001b[31m   \u001b[0m       ^\n",
      "  \u001b[31m   \u001b[0m       1 warning generated.\n",
      "  \u001b[31m   \u001b[0m       clang: numpy/core/src/common/python_xerbla.c\n",
      "  \u001b[31m   \u001b[0m       clang: numpy/core/src/multiarray/mapping.c\n",
      "  \u001b[31m   \u001b[0m       clang: numpy/core/src/multiarray/methods.c\n",
      "  \u001b[31m   \u001b[0m       3 warnings generated.\n",
      "  \u001b[31m   \u001b[0m       numpy/core/src/umath/loops.c.src:2611:22: warning: code will never be executed [-Wunreachable-code]\n",
      "  \u001b[31m   \u001b[0m               npy_intp n = dimensions[0];\n",
      "  \u001b[31m   \u001b[0m                            ^~~~~~~~~~\n",
      "  \u001b[31m   \u001b[0m       numpy/core/src/umath/loops.c.src:2610:29: note: silence by adding parentheses to mark code as explicitly dead\n",
      "  \u001b[31m   \u001b[0m           if (IS_BINARY_REDUCE && 0) {\n",
      "  \u001b[31m   \u001b[0m                                   ^\n",
      "  \u001b[31m   \u001b[0m                                   /* DISABLES CODE */ ( )\n",
      "  \u001b[31m   \u001b[0m       numpy/core/src/umath/loops.c.src:2611:22: warning: code will never be executed [-Wunreachable-code]\n",
      "  \u001b[31m   \u001b[0m               npy_intp n = dimensions[0];\n",
      "  \u001b[31m   \u001b[0m                            ^~~~~~~~~~\n",
      "  \u001b[31m   \u001b[0m       numpy/core/src/umath/loops.c.src:2610:29: note: silence by adding parentheses to mark code as explicitly dead\n",
      "  \u001b[31m   \u001b[0m           if (IS_BINARY_REDUCE && 0) {\n",
      "  \u001b[31m   \u001b[0m                                   ^\n",
      "  \u001b[31m   \u001b[0m                                   /* DISABLES CODE */ ( )\n",
      "  \u001b[31m   \u001b[0m       numpy/core/src/umath/loops.c.src:2611:22: warning: code will never be executed [-Wunreachable-code]\n",
      "  \u001b[31m   \u001b[0m               npy_intp n = dimensions[0];\n",
      "  \u001b[31m   \u001b[0m                            ^~~~~~~~~~\n",
      "  \u001b[31m   \u001b[0m       numpy/core/src/umath/loops.c.src:2610:29: note: silence by adding parentheses to mark code as explicitly dead\n",
      "  \u001b[31m   \u001b[0m           if (IS_BINARY_REDUCE && 0) {\n",
      "  \u001b[31m   \u001b[0m                                   ^\n",
      "  \u001b[31m   \u001b[0m                                   /* DISABLES CODE */ ( )\n",
      "  \u001b[31m   \u001b[0m       3 warnings generated.\n",
      "  \u001b[31m   \u001b[0m       clang: build/src.macosx-10.9-universal2-3.10/numpy/core/src/umath/matmul.c\n",
      "  \u001b[31m   \u001b[0m       clang: build/src.macosx-10.9-universal2-3.10/numpy/core/src/umath/clip.c\n",
      "  \u001b[31m   \u001b[0m       error: Command \"clang -Wno-unused-result -Wsign-compare -Wunreachable-code -fno-common -dynamic -DNDEBUG -g -fwrapv -O3 -Wall -arch arm64 -arch x86_64 -g -DNPY_INTERNAL_BUILD=1 -DHAVE_NPY_CONFIG_H=1 -D_FILE_OFFSET_BITS=64 -D_LARGEFILE_SOURCE=1 -D_LARGEFILE64_SOURCE=1 -DNO_ATLAS_INFO=3 -DHAVE_CBLAS -Ibuild/src.macosx-10.9-universal2-3.10/numpy/core/src/umath -Ibuild/src.macosx-10.9-universal2-3.10/numpy/core/src/npymath -Ibuild/src.macosx-10.9-universal2-3.10/numpy/core/src/common -Inumpy/core/include -Ibuild/src.macosx-10.9-universal2-3.10/numpy/core/include/numpy -Inumpy/core/src/common -Inumpy/core/src -Inumpy/core -Inumpy/core/src/npymath -Inumpy/core/src/multiarray -Inumpy/core/src/umath -Inumpy/core/src/npysort -I/Library/Frameworks/Python.framework/Versions/3.10/include/python3.10 -Ibuild/src.macosx-10.9-universal2-3.10/numpy/core/src/common -Ibuild/src.macosx-10.9-universal2-3.10/numpy/core/src/npymath -c build/src.macosx-10.9-universal2-3.10/numpy/core/src/multiarray/scalartypes.c -o build/temp.macosx-10.9-universal2-3.10/build/src.macosx-10.9-universal2-3.10/numpy/core/src/multiarray/scalartypes.o -MMD -MF build/temp.macosx-10.9-universal2-3.10/build/src.macosx-10.9-universal2-3.10/numpy/core/src/multiarray/scalartypes.o.d -msse3 -I/System/Library/Frameworks/vecLib.framework/Headers\" failed with exit status 1\n",
      "  \u001b[31m   \u001b[0m       [end of output]\n",
      "  \u001b[31m   \u001b[0m \n",
      "  \u001b[31m   \u001b[0m   note: This error originates from a subprocess, and is likely not a problem with pip.\n",
      "  \u001b[31m   \u001b[0m   ERROR: Failed building wheel for numpy\n",
      "  \u001b[31m   \u001b[0m Failed to build numpy\n",
      "  \u001b[31m   \u001b[0m ERROR: Could not build wheels for numpy, which is required to install pyproject.toml-based projects\n",
      "  \u001b[31m   \u001b[0m \u001b[31m[end of output]\u001b[0m\n",
      "  \n",
      "  \u001b[1;35mnote\u001b[0m: This error originates from a subprocess, and is likely not a problem with pip.\n",
      "\u001b[1;31merror\u001b[0m: \u001b[1msubprocess-exited-with-error\u001b[0m\n",
      "\n",
      "\u001b[31m×\u001b[0m \u001b[32mpip subprocess to install build dependencies\u001b[0m did not run successfully.\n",
      "\u001b[31m│\u001b[0m exit code: \u001b[1;36m1\u001b[0m\n",
      "\u001b[31m╰─>\u001b[0m See above for output.\n",
      "\n",
      "\u001b[1;35mnote\u001b[0m: This error originates from a subprocess, and is likely not a problem with pip.\n"
     ]
    },
    {
     "name": "stdout",
     "output_type": "stream",
     "text": [
      "\u001b[?25hRequirement already satisfied: numpy==1.24.2 in /Library/Frameworks/Python.framework/Versions/3.10/lib/python3.10/site-packages (1.24.2)\n",
      "Requirement already satisfied: scipy==1.10.0 in /Library/Frameworks/Python.framework/Versions/3.10/lib/python3.10/site-packages (1.10.0)\n",
      "Requirement already satisfied: numpy<1.27.0,>=1.19.5 in /Library/Frameworks/Python.framework/Versions/3.10/lib/python3.10/site-packages (from scipy==1.10.0) (1.24.2)\n",
      "Requirement already satisfied: seaborn==0.9.0 in /Library/Frameworks/Python.framework/Versions/3.10/lib/python3.10/site-packages (0.9.0)\n",
      "Requirement already satisfied: matplotlib>=1.4.3 in /Library/Frameworks/Python.framework/Versions/3.10/lib/python3.10/site-packages (from seaborn==0.9.0) (3.7.1)\n",
      "Requirement already satisfied: numpy>=1.9.3 in /Library/Frameworks/Python.framework/Versions/3.10/lib/python3.10/site-packages (from seaborn==0.9.0) (1.24.2)\n",
      "Requirement already satisfied: pandas>=0.15.2 in /Library/Frameworks/Python.framework/Versions/3.10/lib/python3.10/site-packages (from seaborn==0.9.0) (2.0.1)\n",
      "Requirement already satisfied: scipy>=0.14.0 in /Library/Frameworks/Python.framework/Versions/3.10/lib/python3.10/site-packages (from seaborn==0.9.0) (1.10.0)\n",
      "Requirement already satisfied: contourpy>=1.0.1 in /Library/Frameworks/Python.framework/Versions/3.10/lib/python3.10/site-packages (from matplotlib>=1.4.3->seaborn==0.9.0) (1.0.7)\n",
      "Requirement already satisfied: cycler>=0.10 in /Library/Frameworks/Python.framework/Versions/3.10/lib/python3.10/site-packages (from matplotlib>=1.4.3->seaborn==0.9.0) (0.11.0)\n",
      "Requirement already satisfied: fonttools>=4.22.0 in /Library/Frameworks/Python.framework/Versions/3.10/lib/python3.10/site-packages (from matplotlib>=1.4.3->seaborn==0.9.0) (4.39.3)\n",
      "Requirement already satisfied: kiwisolver>=1.0.1 in /Library/Frameworks/Python.framework/Versions/3.10/lib/python3.10/site-packages (from matplotlib>=1.4.3->seaborn==0.9.0) (1.4.4)\n",
      "Requirement already satisfied: packaging>=20.0 in /Library/Frameworks/Python.framework/Versions/3.10/lib/python3.10/site-packages (from matplotlib>=1.4.3->seaborn==0.9.0) (23.1)\n",
      "Requirement already satisfied: pillow>=6.2.0 in /Library/Frameworks/Python.framework/Versions/3.10/lib/python3.10/site-packages (from matplotlib>=1.4.3->seaborn==0.9.0) (9.5.0)\n",
      "Requirement already satisfied: pyparsing>=2.3.1 in /Library/Frameworks/Python.framework/Versions/3.10/lib/python3.10/site-packages (from matplotlib>=1.4.3->seaborn==0.9.0) (3.0.9)\n",
      "Requirement already satisfied: python-dateutil>=2.7 in /Library/Frameworks/Python.framework/Versions/3.10/lib/python3.10/site-packages (from matplotlib>=1.4.3->seaborn==0.9.0) (2.8.2)\n",
      "Requirement already satisfied: pytz>=2020.1 in /Library/Frameworks/Python.framework/Versions/3.10/lib/python3.10/site-packages (from pandas>=0.15.2->seaborn==0.9.0) (2023.3)\n",
      "Requirement already satisfied: tzdata>=2022.1 in /Library/Frameworks/Python.framework/Versions/3.10/lib/python3.10/site-packages (from pandas>=0.15.2->seaborn==0.9.0) (2023.3)\n",
      "Requirement already satisfied: six>=1.5 in /Library/Frameworks/Python.framework/Versions/3.10/lib/python3.10/site-packages (from python-dateutil>=2.7->matplotlib>=1.4.3->seaborn==0.9.0) (1.16.0)\n",
      "\u001b[31mERROR: Could not find a version that satisfies the requirement sklearn==0.20.1 (from versions: 0.0, 0.0.post1, 0.0.post2, 0.0.post4)\u001b[0m\u001b[31m\n",
      "\u001b[0m\u001b[31mERROR: No matching distribution found for sklearn==0.20.1\u001b[0m\u001b[31m\n",
      "\u001b[0mRequirement already satisfied: matplotlib in /Library/Frameworks/Python.framework/Versions/3.10/lib/python3.10/site-packages (3.7.1)\n",
      "Requirement already satisfied: contourpy>=1.0.1 in /Library/Frameworks/Python.framework/Versions/3.10/lib/python3.10/site-packages (from matplotlib) (1.0.7)\n",
      "Requirement already satisfied: cycler>=0.10 in /Library/Frameworks/Python.framework/Versions/3.10/lib/python3.10/site-packages (from matplotlib) (0.11.0)\n",
      "Requirement already satisfied: fonttools>=4.22.0 in /Library/Frameworks/Python.framework/Versions/3.10/lib/python3.10/site-packages (from matplotlib) (4.39.3)\n",
      "Requirement already satisfied: kiwisolver>=1.0.1 in /Library/Frameworks/Python.framework/Versions/3.10/lib/python3.10/site-packages (from matplotlib) (1.4.4)\n",
      "Requirement already satisfied: numpy>=1.20 in /Library/Frameworks/Python.framework/Versions/3.10/lib/python3.10/site-packages (from matplotlib) (1.24.2)\n",
      "Requirement already satisfied: packaging>=20.0 in /Library/Frameworks/Python.framework/Versions/3.10/lib/python3.10/site-packages (from matplotlib) (23.1)\n",
      "Requirement already satisfied: pillow>=6.2.0 in /Library/Frameworks/Python.framework/Versions/3.10/lib/python3.10/site-packages (from matplotlib) (9.5.0)\n",
      "Requirement already satisfied: pyparsing>=2.3.1 in /Library/Frameworks/Python.framework/Versions/3.10/lib/python3.10/site-packages (from matplotlib) (3.0.9)\n",
      "Requirement already satisfied: python-dateutil>=2.7 in /Library/Frameworks/Python.framework/Versions/3.10/lib/python3.10/site-packages (from matplotlib) (2.8.2)\n",
      "Requirement already satisfied: six>=1.5 in /Library/Frameworks/Python.framework/Versions/3.10/lib/python3.10/site-packages (from python-dateutil>=2.7->matplotlib) (1.16.0)\n",
      "Requirement already satisfied: skillsnetwork in /Library/Frameworks/Python.framework/Versions/3.10/lib/python3.10/site-packages (0.20.6)\n",
      "Requirement already satisfied: ipython in /Library/Frameworks/Python.framework/Versions/3.10/lib/python3.10/site-packages (from skillsnetwork) (8.13.2)\n",
      "Requirement already satisfied: ipywidgets<8,>=7 in /Library/Frameworks/Python.framework/Versions/3.10/lib/python3.10/site-packages (from skillsnetwork) (7.7.5)\n",
      "Requirement already satisfied: requests<3,>=2 in /Library/Frameworks/Python.framework/Versions/3.10/lib/python3.10/site-packages (from skillsnetwork) (2.30.0)\n",
      "Requirement already satisfied: tqdm<5,>=4 in /Library/Frameworks/Python.framework/Versions/3.10/lib/python3.10/site-packages (from skillsnetwork) (4.65.0)\n",
      "Requirement already satisfied: ipykernel>=4.5.1 in /Library/Frameworks/Python.framework/Versions/3.10/lib/python3.10/site-packages (from ipywidgets<8,>=7->skillsnetwork) (6.22.0)\n",
      "Requirement already satisfied: ipython-genutils~=0.2.0 in /Library/Frameworks/Python.framework/Versions/3.10/lib/python3.10/site-packages (from ipywidgets<8,>=7->skillsnetwork) (0.2.0)\n",
      "Requirement already satisfied: traitlets>=4.3.1 in /Library/Frameworks/Python.framework/Versions/3.10/lib/python3.10/site-packages (from ipywidgets<8,>=7->skillsnetwork) (5.9.0)\n",
      "Requirement already satisfied: widgetsnbextension~=3.6.4 in /Library/Frameworks/Python.framework/Versions/3.10/lib/python3.10/site-packages (from ipywidgets<8,>=7->skillsnetwork) (3.6.4)\n",
      "Requirement already satisfied: jupyterlab-widgets<3,>=1.0.0 in /Library/Frameworks/Python.framework/Versions/3.10/lib/python3.10/site-packages (from ipywidgets<8,>=7->skillsnetwork) (1.1.4)\n",
      "Requirement already satisfied: backcall in /Library/Frameworks/Python.framework/Versions/3.10/lib/python3.10/site-packages (from ipython->skillsnetwork) (0.2.0)\n",
      "Requirement already satisfied: decorator in /Library/Frameworks/Python.framework/Versions/3.10/lib/python3.10/site-packages (from ipython->skillsnetwork) (5.1.1)\n",
      "Requirement already satisfied: jedi>=0.16 in /Library/Frameworks/Python.framework/Versions/3.10/lib/python3.10/site-packages (from ipython->skillsnetwork) (0.18.2)\n",
      "Requirement already satisfied: matplotlib-inline in /Library/Frameworks/Python.framework/Versions/3.10/lib/python3.10/site-packages (from ipython->skillsnetwork) (0.1.6)\n",
      "Requirement already satisfied: pickleshare in /Library/Frameworks/Python.framework/Versions/3.10/lib/python3.10/site-packages (from ipython->skillsnetwork) (0.7.5)\n",
      "Requirement already satisfied: prompt-toolkit!=3.0.37,<3.1.0,>=3.0.30 in /Library/Frameworks/Python.framework/Versions/3.10/lib/python3.10/site-packages (from ipython->skillsnetwork) (3.0.38)\n",
      "Requirement already satisfied: pygments>=2.4.0 in /Library/Frameworks/Python.framework/Versions/3.10/lib/python3.10/site-packages (from ipython->skillsnetwork) (2.15.1)\n",
      "Requirement already satisfied: stack-data in /Library/Frameworks/Python.framework/Versions/3.10/lib/python3.10/site-packages (from ipython->skillsnetwork) (0.6.2)\n",
      "Requirement already satisfied: pexpect>4.3 in /Library/Frameworks/Python.framework/Versions/3.10/lib/python3.10/site-packages (from ipython->skillsnetwork) (4.8.0)\n",
      "Requirement already satisfied: appnope in /Library/Frameworks/Python.framework/Versions/3.10/lib/python3.10/site-packages (from ipython->skillsnetwork) (0.1.3)\n"
     ]
    },
    {
     "name": "stdout",
     "output_type": "stream",
     "text": [
      "Requirement already satisfied: charset-normalizer<4,>=2 in /Library/Frameworks/Python.framework/Versions/3.10/lib/python3.10/site-packages (from requests<3,>=2->skillsnetwork) (3.1.0)\n",
      "Requirement already satisfied: idna<4,>=2.5 in /Library/Frameworks/Python.framework/Versions/3.10/lib/python3.10/site-packages (from requests<3,>=2->skillsnetwork) (3.4)\n",
      "Requirement already satisfied: urllib3<3,>=1.21.1 in /Library/Frameworks/Python.framework/Versions/3.10/lib/python3.10/site-packages (from requests<3,>=2->skillsnetwork) (2.0.2)\n",
      "Requirement already satisfied: certifi>=2017.4.17 in /Library/Frameworks/Python.framework/Versions/3.10/lib/python3.10/site-packages (from requests<3,>=2->skillsnetwork) (2022.12.7)\n",
      "Requirement already satisfied: comm>=0.1.1 in /Library/Frameworks/Python.framework/Versions/3.10/lib/python3.10/site-packages (from ipykernel>=4.5.1->ipywidgets<8,>=7->skillsnetwork) (0.1.3)\n",
      "Requirement already satisfied: debugpy>=1.6.5 in /Library/Frameworks/Python.framework/Versions/3.10/lib/python3.10/site-packages (from ipykernel>=4.5.1->ipywidgets<8,>=7->skillsnetwork) (1.6.7)\n",
      "Requirement already satisfied: jupyter-client>=6.1.12 in /Library/Frameworks/Python.framework/Versions/3.10/lib/python3.10/site-packages (from ipykernel>=4.5.1->ipywidgets<8,>=7->skillsnetwork) (8.2.0)\n",
      "Requirement already satisfied: jupyter-core!=5.0.*,>=4.12 in /Library/Frameworks/Python.framework/Versions/3.10/lib/python3.10/site-packages (from ipykernel>=4.5.1->ipywidgets<8,>=7->skillsnetwork) (5.3.0)\n",
      "Requirement already satisfied: nest-asyncio in /Library/Frameworks/Python.framework/Versions/3.10/lib/python3.10/site-packages (from ipykernel>=4.5.1->ipywidgets<8,>=7->skillsnetwork) (1.5.6)\n",
      "Requirement already satisfied: packaging in /Library/Frameworks/Python.framework/Versions/3.10/lib/python3.10/site-packages (from ipykernel>=4.5.1->ipywidgets<8,>=7->skillsnetwork) (23.1)\n",
      "Requirement already satisfied: psutil in /Library/Frameworks/Python.framework/Versions/3.10/lib/python3.10/site-packages (from ipykernel>=4.5.1->ipywidgets<8,>=7->skillsnetwork) (5.9.5)\n",
      "Requirement already satisfied: pyzmq>=20 in /Library/Frameworks/Python.framework/Versions/3.10/lib/python3.10/site-packages (from ipykernel>=4.5.1->ipywidgets<8,>=7->skillsnetwork) (25.0.2)\n",
      "Requirement already satisfied: tornado>=6.1 in /Library/Frameworks/Python.framework/Versions/3.10/lib/python3.10/site-packages (from ipykernel>=4.5.1->ipywidgets<8,>=7->skillsnetwork) (6.3.1)\n",
      "Requirement already satisfied: parso<0.9.0,>=0.8.0 in /Library/Frameworks/Python.framework/Versions/3.10/lib/python3.10/site-packages (from jedi>=0.16->ipython->skillsnetwork) (0.8.3)\n",
      "Requirement already satisfied: ptyprocess>=0.5 in /Library/Frameworks/Python.framework/Versions/3.10/lib/python3.10/site-packages (from pexpect>4.3->ipython->skillsnetwork) (0.7.0)\n",
      "Requirement already satisfied: wcwidth in /Library/Frameworks/Python.framework/Versions/3.10/lib/python3.10/site-packages (from prompt-toolkit!=3.0.37,<3.1.0,>=3.0.30->ipython->skillsnetwork) (0.2.6)\n",
      "Requirement already satisfied: notebook>=4.4.1 in /Library/Frameworks/Python.framework/Versions/3.10/lib/python3.10/site-packages (from widgetsnbextension~=3.6.4->ipywidgets<8,>=7->skillsnetwork) (6.5.4)\n",
      "Requirement already satisfied: executing>=1.2.0 in /Library/Frameworks/Python.framework/Versions/3.10/lib/python3.10/site-packages (from stack-data->ipython->skillsnetwork) (1.2.0)\n",
      "Requirement already satisfied: asttokens>=2.1.0 in /Library/Frameworks/Python.framework/Versions/3.10/lib/python3.10/site-packages (from stack-data->ipython->skillsnetwork) (2.2.1)\n",
      "Requirement already satisfied: pure-eval in /Library/Frameworks/Python.framework/Versions/3.10/lib/python3.10/site-packages (from stack-data->ipython->skillsnetwork) (0.2.2)\n",
      "Requirement already satisfied: six in /Library/Frameworks/Python.framework/Versions/3.10/lib/python3.10/site-packages (from asttokens>=2.1.0->stack-data->ipython->skillsnetwork) (1.16.0)\n",
      "Requirement already satisfied: python-dateutil>=2.8.2 in /Library/Frameworks/Python.framework/Versions/3.10/lib/python3.10/site-packages (from jupyter-client>=6.1.12->ipykernel>=4.5.1->ipywidgets<8,>=7->skillsnetwork) (2.8.2)\n",
      "Requirement already satisfied: platformdirs>=2.5 in /Library/Frameworks/Python.framework/Versions/3.10/lib/python3.10/site-packages (from jupyter-core!=5.0.*,>=4.12->ipykernel>=4.5.1->ipywidgets<8,>=7->skillsnetwork) (3.5.0)\n",
      "Requirement already satisfied: jinja2 in /Library/Frameworks/Python.framework/Versions/3.10/lib/python3.10/site-packages (from notebook>=4.4.1->widgetsnbextension~=3.6.4->ipywidgets<8,>=7->skillsnetwork) (3.1.2)\n",
      "Requirement already satisfied: argon2-cffi in /Library/Frameworks/Python.framework/Versions/3.10/lib/python3.10/site-packages (from notebook>=4.4.1->widgetsnbextension~=3.6.4->ipywidgets<8,>=7->skillsnetwork) (21.3.0)\n",
      "Requirement already satisfied: nbformat in /Library/Frameworks/Python.framework/Versions/3.10/lib/python3.10/site-packages (from notebook>=4.4.1->widgetsnbextension~=3.6.4->ipywidgets<8,>=7->skillsnetwork) (5.8.0)\n",
      "Requirement already satisfied: nbconvert>=5 in /Library/Frameworks/Python.framework/Versions/3.10/lib/python3.10/site-packages (from notebook>=4.4.1->widgetsnbextension~=3.6.4->ipywidgets<8,>=7->skillsnetwork) (7.3.1)\n",
      "Requirement already satisfied: Send2Trash>=1.8.0 in /Library/Frameworks/Python.framework/Versions/3.10/lib/python3.10/site-packages (from notebook>=4.4.1->widgetsnbextension~=3.6.4->ipywidgets<8,>=7->skillsnetwork) (1.8.2)\n",
      "Requirement already satisfied: terminado>=0.8.3 in /Library/Frameworks/Python.framework/Versions/3.10/lib/python3.10/site-packages (from notebook>=4.4.1->widgetsnbextension~=3.6.4->ipywidgets<8,>=7->skillsnetwork) (0.17.1)\n",
      "Requirement already satisfied: prometheus-client in /Library/Frameworks/Python.framework/Versions/3.10/lib/python3.10/site-packages (from notebook>=4.4.1->widgetsnbextension~=3.6.4->ipywidgets<8,>=7->skillsnetwork) (0.16.0)\n",
      "Requirement already satisfied: nbclassic>=0.4.7 in /Library/Frameworks/Python.framework/Versions/3.10/lib/python3.10/site-packages (from notebook>=4.4.1->widgetsnbextension~=3.6.4->ipywidgets<8,>=7->skillsnetwork) (1.0.0)\n",
      "Requirement already satisfied: jupyter-server>=1.8 in /Library/Frameworks/Python.framework/Versions/3.10/lib/python3.10/site-packages (from nbclassic>=0.4.7->notebook>=4.4.1->widgetsnbextension~=3.6.4->ipywidgets<8,>=7->skillsnetwork) (2.5.0)\n",
      "Requirement already satisfied: notebook-shim>=0.2.3 in /Library/Frameworks/Python.framework/Versions/3.10/lib/python3.10/site-packages (from nbclassic>=0.4.7->notebook>=4.4.1->widgetsnbextension~=3.6.4->ipywidgets<8,>=7->skillsnetwork) (0.2.3)\n",
      "Requirement already satisfied: beautifulsoup4 in /Library/Frameworks/Python.framework/Versions/3.10/lib/python3.10/site-packages (from nbconvert>=5->notebook>=4.4.1->widgetsnbextension~=3.6.4->ipywidgets<8,>=7->skillsnetwork) (4.12.2)\n",
      "Requirement already satisfied: bleach in /Library/Frameworks/Python.framework/Versions/3.10/lib/python3.10/site-packages (from nbconvert>=5->notebook>=4.4.1->widgetsnbextension~=3.6.4->ipywidgets<8,>=7->skillsnetwork) (6.0.0)\n",
      "Requirement already satisfied: defusedxml in /Library/Frameworks/Python.framework/Versions/3.10/lib/python3.10/site-packages (from nbconvert>=5->notebook>=4.4.1->widgetsnbextension~=3.6.4->ipywidgets<8,>=7->skillsnetwork) (0.7.1)\n",
      "Requirement already satisfied: jupyterlab-pygments in /Library/Frameworks/Python.framework/Versions/3.10/lib/python3.10/site-packages (from nbconvert>=5->notebook>=4.4.1->widgetsnbextension~=3.6.4->ipywidgets<8,>=7->skillsnetwork) (0.2.2)\n",
      "Requirement already satisfied: markupsafe>=2.0 in /Library/Frameworks/Python.framework/Versions/3.10/lib/python3.10/site-packages (from nbconvert>=5->notebook>=4.4.1->widgetsnbextension~=3.6.4->ipywidgets<8,>=7->skillsnetwork) (2.1.2)\n",
      "Requirement already satisfied: mistune<3,>=2.0.3 in /Library/Frameworks/Python.framework/Versions/3.10/lib/python3.10/site-packages (from nbconvert>=5->notebook>=4.4.1->widgetsnbextension~=3.6.4->ipywidgets<8,>=7->skillsnetwork) (2.0.5)\n",
      "Requirement already satisfied: nbclient>=0.5.0 in /Library/Frameworks/Python.framework/Versions/3.10/lib/python3.10/site-packages (from nbconvert>=5->notebook>=4.4.1->widgetsnbextension~=3.6.4->ipywidgets<8,>=7->skillsnetwork) (0.7.4)\n",
      "Requirement already satisfied: pandocfilters>=1.4.1 in /Library/Frameworks/Python.framework/Versions/3.10/lib/python3.10/site-packages (from nbconvert>=5->notebook>=4.4.1->widgetsnbextension~=3.6.4->ipywidgets<8,>=7->skillsnetwork) (1.5.0)\n",
      "Requirement already satisfied: tinycss2 in /Library/Frameworks/Python.framework/Versions/3.10/lib/python3.10/site-packages (from nbconvert>=5->notebook>=4.4.1->widgetsnbextension~=3.6.4->ipywidgets<8,>=7->skillsnetwork) (1.2.1)\n"
     ]
    },
    {
     "name": "stdout",
     "output_type": "stream",
     "text": [
      "Requirement already satisfied: fastjsonschema in /Library/Frameworks/Python.framework/Versions/3.10/lib/python3.10/site-packages (from nbformat->notebook>=4.4.1->widgetsnbextension~=3.6.4->ipywidgets<8,>=7->skillsnetwork) (2.16.3)\n",
      "Requirement already satisfied: jsonschema>=2.6 in /Library/Frameworks/Python.framework/Versions/3.10/lib/python3.10/site-packages (from nbformat->notebook>=4.4.1->widgetsnbextension~=3.6.4->ipywidgets<8,>=7->skillsnetwork) (4.17.3)\n",
      "Requirement already satisfied: argon2-cffi-bindings in /Library/Frameworks/Python.framework/Versions/3.10/lib/python3.10/site-packages (from argon2-cffi->notebook>=4.4.1->widgetsnbextension~=3.6.4->ipywidgets<8,>=7->skillsnetwork) (21.2.0)\n",
      "Requirement already satisfied: attrs>=17.4.0 in /Library/Frameworks/Python.framework/Versions/3.10/lib/python3.10/site-packages (from jsonschema>=2.6->nbformat->notebook>=4.4.1->widgetsnbextension~=3.6.4->ipywidgets<8,>=7->skillsnetwork) (23.1.0)\n",
      "Requirement already satisfied: pyrsistent!=0.17.0,!=0.17.1,!=0.17.2,>=0.14.0 in /Library/Frameworks/Python.framework/Versions/3.10/lib/python3.10/site-packages (from jsonschema>=2.6->nbformat->notebook>=4.4.1->widgetsnbextension~=3.6.4->ipywidgets<8,>=7->skillsnetwork) (0.19.3)\n",
      "Requirement already satisfied: anyio>=3.1.0 in /Library/Frameworks/Python.framework/Versions/3.10/lib/python3.10/site-packages (from jupyter-server>=1.8->nbclassic>=0.4.7->notebook>=4.4.1->widgetsnbextension~=3.6.4->ipywidgets<8,>=7->skillsnetwork) (3.6.2)\n",
      "Requirement already satisfied: jupyter-events>=0.4.0 in /Library/Frameworks/Python.framework/Versions/3.10/lib/python3.10/site-packages (from jupyter-server>=1.8->nbclassic>=0.4.7->notebook>=4.4.1->widgetsnbextension~=3.6.4->ipywidgets<8,>=7->skillsnetwork) (0.6.3)\n",
      "Requirement already satisfied: jupyter-server-terminals in /Library/Frameworks/Python.framework/Versions/3.10/lib/python3.10/site-packages (from jupyter-server>=1.8->nbclassic>=0.4.7->notebook>=4.4.1->widgetsnbextension~=3.6.4->ipywidgets<8,>=7->skillsnetwork) (0.4.4)\n",
      "Requirement already satisfied: websocket-client in /Library/Frameworks/Python.framework/Versions/3.10/lib/python3.10/site-packages (from jupyter-server>=1.8->nbclassic>=0.4.7->notebook>=4.4.1->widgetsnbextension~=3.6.4->ipywidgets<8,>=7->skillsnetwork) (1.5.1)\n",
      "Requirement already satisfied: cffi>=1.0.1 in /Library/Frameworks/Python.framework/Versions/3.10/lib/python3.10/site-packages (from argon2-cffi-bindings->argon2-cffi->notebook>=4.4.1->widgetsnbextension~=3.6.4->ipywidgets<8,>=7->skillsnetwork) (1.15.1)\n",
      "Requirement already satisfied: soupsieve>1.2 in /Library/Frameworks/Python.framework/Versions/3.10/lib/python3.10/site-packages (from beautifulsoup4->nbconvert>=5->notebook>=4.4.1->widgetsnbextension~=3.6.4->ipywidgets<8,>=7->skillsnetwork) (2.4.1)\n",
      "Requirement already satisfied: webencodings in /Library/Frameworks/Python.framework/Versions/3.10/lib/python3.10/site-packages (from bleach->nbconvert>=5->notebook>=4.4.1->widgetsnbextension~=3.6.4->ipywidgets<8,>=7->skillsnetwork) (0.5.1)\n",
      "Requirement already satisfied: sniffio>=1.1 in /Library/Frameworks/Python.framework/Versions/3.10/lib/python3.10/site-packages (from anyio>=3.1.0->jupyter-server>=1.8->nbclassic>=0.4.7->notebook>=4.4.1->widgetsnbextension~=3.6.4->ipywidgets<8,>=7->skillsnetwork) (1.3.0)\n",
      "Requirement already satisfied: pycparser in /Library/Frameworks/Python.framework/Versions/3.10/lib/python3.10/site-packages (from cffi>=1.0.1->argon2-cffi-bindings->argon2-cffi->notebook>=4.4.1->widgetsnbextension~=3.6.4->ipywidgets<8,>=7->skillsnetwork) (2.21)\n",
      "Requirement already satisfied: python-json-logger>=2.0.4 in /Library/Frameworks/Python.framework/Versions/3.10/lib/python3.10/site-packages (from jupyter-events>=0.4.0->jupyter-server>=1.8->nbclassic>=0.4.7->notebook>=4.4.1->widgetsnbextension~=3.6.4->ipywidgets<8,>=7->skillsnetwork) (2.0.7)\n",
      "Requirement already satisfied: pyyaml>=5.3 in /Library/Frameworks/Python.framework/Versions/3.10/lib/python3.10/site-packages (from jupyter-events>=0.4.0->jupyter-server>=1.8->nbclassic>=0.4.7->notebook>=4.4.1->widgetsnbextension~=3.6.4->ipywidgets<8,>=7->skillsnetwork) (6.0)\n",
      "Requirement already satisfied: rfc3339-validator in /Library/Frameworks/Python.framework/Versions/3.10/lib/python3.10/site-packages (from jupyter-events>=0.4.0->jupyter-server>=1.8->nbclassic>=0.4.7->notebook>=4.4.1->widgetsnbextension~=3.6.4->ipywidgets<8,>=7->skillsnetwork) (0.1.4)\n",
      "Requirement already satisfied: rfc3986-validator>=0.1.1 in /Library/Frameworks/Python.framework/Versions/3.10/lib/python3.10/site-packages (from jupyter-events>=0.4.0->jupyter-server>=1.8->nbclassic>=0.4.7->notebook>=4.4.1->widgetsnbextension~=3.6.4->ipywidgets<8,>=7->skillsnetwork) (0.1.1)\n",
      "Requirement already satisfied: fqdn in /Library/Frameworks/Python.framework/Versions/3.10/lib/python3.10/site-packages (from jsonschema>=2.6->nbformat->notebook>=4.4.1->widgetsnbextension~=3.6.4->ipywidgets<8,>=7->skillsnetwork) (1.5.1)\n",
      "Requirement already satisfied: isoduration in /Library/Frameworks/Python.framework/Versions/3.10/lib/python3.10/site-packages (from jsonschema>=2.6->nbformat->notebook>=4.4.1->widgetsnbextension~=3.6.4->ipywidgets<8,>=7->skillsnetwork) (20.11.0)\n",
      "Requirement already satisfied: jsonpointer>1.13 in /Library/Frameworks/Python.framework/Versions/3.10/lib/python3.10/site-packages (from jsonschema>=2.6->nbformat->notebook>=4.4.1->widgetsnbextension~=3.6.4->ipywidgets<8,>=7->skillsnetwork) (2.3)\n",
      "Requirement already satisfied: uri-template in /Library/Frameworks/Python.framework/Versions/3.10/lib/python3.10/site-packages (from jsonschema>=2.6->nbformat->notebook>=4.4.1->widgetsnbextension~=3.6.4->ipywidgets<8,>=7->skillsnetwork) (1.2.0)\n",
      "Requirement already satisfied: webcolors>=1.11 in /Library/Frameworks/Python.framework/Versions/3.10/lib/python3.10/site-packages (from jsonschema>=2.6->nbformat->notebook>=4.4.1->widgetsnbextension~=3.6.4->ipywidgets<8,>=7->skillsnetwork) (1.13)\n",
      "Requirement already satisfied: arrow>=0.15.0 in /Library/Frameworks/Python.framework/Versions/3.10/lib/python3.10/site-packages (from isoduration->jsonschema>=2.6->nbformat->notebook>=4.4.1->widgetsnbextension~=3.6.4->ipywidgets<8,>=7->skillsnetwork) (1.2.3)\n"
     ]
    }
   ],
   "source": [
    "!pip install pandas==1.3.3\n",
    "!pip install numpy==1.24.2\n",
    "!pip install scipy==1.10.0\n",
    "!pip install seaborn==0.9.0\n",
    "\n",
    "!pip install matplotlib\n"
   ]
  },
  {
   "cell_type": "code",
   "execution_count": 7,
   "metadata": {},
   "outputs": [
    {
     "name": "stdout",
     "output_type": "stream",
     "text": [
      "Collecting scikit-learn\n",
      "  Downloading scikit_learn-1.2.2-cp310-cp310-macosx_10_9_x86_64.whl (9.1 MB)\n",
      "\u001b[2K     \u001b[90m━━━━━━━━━━━━━━━━━━━━━━━━━━━━━━━━━━━━━━━━\u001b[0m \u001b[32m9.1/9.1 MB\u001b[0m \u001b[31m609.8 kB/s\u001b[0m eta \u001b[36m0:00:00\u001b[0m00:01\u001b[0m00:01\u001b[0m\n",
      "\u001b[?25hRequirement already satisfied: numpy>=1.17.3 in /Library/Frameworks/Python.framework/Versions/3.10/lib/python3.10/site-packages (from scikit-learn) (1.24.2)\n",
      "Requirement already satisfied: scipy>=1.3.2 in /Library/Frameworks/Python.framework/Versions/3.10/lib/python3.10/site-packages (from scikit-learn) (1.10.0)\n",
      "Collecting joblib>=1.1.1 (from scikit-learn)\n",
      "  Downloading joblib-1.2.0-py3-none-any.whl (297 kB)\n",
      "\u001b[2K     \u001b[90m━━━━━━━━━━━━━━━━━━━━━━━━━━━━━━━━━━━━━\u001b[0m \u001b[32m298.0/298.0 kB\u001b[0m \u001b[31m728.2 kB/s\u001b[0m eta \u001b[36m0:00:00\u001b[0ma \u001b[36m0:00:01\u001b[0m\n",
      "\u001b[?25hCollecting threadpoolctl>=2.0.0 (from scikit-learn)\n",
      "  Downloading threadpoolctl-3.1.0-py3-none-any.whl (14 kB)\n",
      "Installing collected packages: threadpoolctl, joblib, scikit-learn\n",
      "Successfully installed joblib-1.2.0 scikit-learn-1.2.2 threadpoolctl-3.1.0\n"
     ]
    }
   ],
   "source": [
    "!pip install scikit-learn\n"
   ]
  },
  {
   "cell_type": "code",
   "execution_count": 11,
   "metadata": {},
   "outputs": [
    {
     "name": "stdout",
     "output_type": "stream",
     "text": [
      "zsh:1: no matches found: skillsnetwork[regular]\r\n"
     ]
    }
   ],
   "source": [
    "!pip install skillsnetwork[regular]"
   ]
  },
  {
   "cell_type": "markdown",
   "metadata": {},
   "source": [
    "If you run the lab locally using Anaconda, you can load the correct library and versions by uncommenting the following:\n"
   ]
  },
  {
   "cell_type": "code",
   "execution_count": null,
   "metadata": {},
   "outputs": [],
   "source": [
    "#If you run the lab locally using Anaconda, you can load the correct library and versions by uncommenting the following:\n",
    "#install specific version of libraries used in lab\n",
    "#! mamba install pandas==1.3.3-y\n",
    "#! mamba install numpy=1.21.2-y\n",
    "#! mamba install sklearn=0.20.1-y"
   ]
  },
  {
   "cell_type": "code",
   "execution_count": 12,
   "metadata": {},
   "outputs": [],
   "source": [
    "import pandas as pd\n",
    "import numpy as np\n",
    "import matplotlib.pyplot as plt\n",
    "#import skillsnetwork\n",
    "import warnings\n",
    "warnings.filterwarnings('ignore')"
   ]
  },
  {
   "cell_type": "markdown",
   "metadata": {},
   "source": [
    "This function will download the dataset into your browser\n"
   ]
  },
  {
   "cell_type": "code",
   "execution_count": null,
   "metadata": {},
   "outputs": [],
   "source": [
    "#This function will download the dataset into your browser \n",
    "\n",
    "from pyodide.http import pyfetch\n",
    "\n",
    "async def download(url, filename):\n",
    "    response = await pyfetch(url)\n",
    "    if response.status == 200:\n",
    "        with open(filename, \"wb\") as f:\n",
    "            f.write(await response.bytes())"
   ]
  },
  {
   "cell_type": "code",
   "execution_count": 13,
   "metadata": {},
   "outputs": [],
   "source": [
    "import requests\n",
    "import json\n",
    "\n",
    "def download(url, filename):\n",
    "    response = requests.get(url)\n",
    "    if response.status_code == 200:\n",
    "        arr = bytes(response.text, 'utf-8')\n",
    "        with open(filename, \"wb\") as f:\n",
    "            f.write(arr)"
   ]
  },
  {
   "cell_type": "markdown",
   "metadata": {},
   "source": [
    "This dataset was hosted on IBM Cloud object. Click <a href=\"https://cocl.us/DA101EN_object_storage?utm_medium=Exinfluencer&utm_source=Exinfluencer&utm_content=000026UJ&utm_term=10006555&utm_id=NA-SkillsNetwork-Channel-SkillsNetworkCoursesIBMDeveloperSkillsNetworkDA0101ENSkillsNetwork20235326-2021-01-01\">HERE</a> for free storage.\n"
   ]
  },
  {
   "cell_type": "markdown",
   "metadata": {},
   "source": [
    "you will need to download the dataset; if you are running locally, please comment out the following\n"
   ]
  },
  {
   "cell_type": "code",
   "execution_count": null,
   "metadata": {},
   "outputs": [],
   "source": [
    "#you will need to download the dataset; if you are running locally, please comment out the following \n",
    "await skillsnetwork.download_dataset('https://cf-courses-data.s3.us.cloud-object-storage.appdomain.cloud/IBMDeveloperSkillsNetwork-DA0101EN-SkillsNetwork/labs/Data%20files/automobileEDA.csv')\n"
   ]
  },
  {
   "cell_type": "code",
   "execution_count": 14,
   "metadata": {},
   "outputs": [],
   "source": [
    "path = 'https://cf-courses-data.s3.us.cloud-object-storage.appdomain.cloud/IBMDeveloperSkillsNetwork-DA0101EN-SkillsNetwork/labs/Data%20files/automobileEDA.csv'\n",
    "download(path, \"automobileEDA.csv\")"
   ]
  },
  {
   "cell_type": "markdown",
   "metadata": {},
   "source": [
    "Load the data and store it in dataframe `df`:\n"
   ]
  },
  {
   "cell_type": "code",
   "execution_count": 15,
   "metadata": {},
   "outputs": [],
   "source": [
    "df = pd.read_csv(\"automobileEDA.csv\", header=0)"
   ]
  },
  {
   "cell_type": "markdown",
   "metadata": {},
   "source": [
    "<h2>1. Linear Regression and Multiple Linear Regression</h2>\n"
   ]
  },
  {
   "cell_type": "markdown",
   "metadata": {},
   "source": [
    "<h4>Linear Regression</h4>\n"
   ]
  },
  {
   "cell_type": "markdown",
   "metadata": {},
   "source": [
    "<p>One example of a Data  Model that we will be using is:</p>\n",
    "<b>Simple Linear Regression</b>\n",
    "\n",
    "<br>\n",
    "<p>Simple Linear Regression is a method to help us understand the relationship between two variables:</p>\n",
    "<ul>\n",
    "    <li>The predictor/independent variable (X)</li>\n",
    "    <li>The response/dependent variable (that we want to predict)(Y)</li>\n",
    "</ul>\n",
    "\n",
    "<p>The result of Linear Regression is a <b>linear function</b> that predicts the response (dependent) variable as a function of the predictor (independent) variable.</p>\n"
   ]
  },
  {
   "cell_type": "markdown",
   "metadata": {},
   "source": [
    "$$\n",
    "Y: Response \\ Variable\\\\\\\\\\\\\\\\\\\\\n",
    "X: Predictor \\ Variables\n",
    "$$\n"
   ]
  },
  {
   "cell_type": "markdown",
   "metadata": {},
   "source": [
    "<b>Linear Function</b>\n",
    "$$\n",
    "Yhat = a + b  X\n",
    "$$\n"
   ]
  },
  {
   "cell_type": "markdown",
   "metadata": {},
   "source": [
    "<ul>\n",
    "    <li>a refers to the <b>intercept</b> of the regression line, in other words: the value of Y when X is 0</li>\n",
    "    <li>b refers to the <b>slope</b> of the regression line, in other words: the value with which Y changes when X increases by 1 unit</li>\n",
    "</ul>\n"
   ]
  },
  {
   "cell_type": "markdown",
   "metadata": {},
   "source": [
    "<h4>Let's load the modules for linear regression:</h4>\n"
   ]
  },
  {
   "cell_type": "code",
   "execution_count": 16,
   "metadata": {},
   "outputs": [],
   "source": [
    "from sklearn.linear_model import LinearRegression"
   ]
  },
  {
   "cell_type": "markdown",
   "metadata": {},
   "source": [
    "<h4>Create the linear regression object:</h4>\n"
   ]
  },
  {
   "cell_type": "code",
   "execution_count": 17,
   "metadata": {},
   "outputs": [
    {
     "data": {
      "text/plain": [
       "LinearRegression()"
      ]
     },
     "execution_count": 17,
     "metadata": {},
     "output_type": "execute_result"
    }
   ],
   "source": [
    "lm = LinearRegression()\n",
    "lm"
   ]
  },
  {
   "cell_type": "markdown",
   "metadata": {},
   "source": [
    "<h4>How could \"highway-mpg\" help us predict car price?</h4>\n"
   ]
  },
  {
   "cell_type": "markdown",
   "metadata": {},
   "source": [
    "For this example, we want to look at how highway-mpg can help us predict car price.\n",
    "Using simple linear regression, we will create a linear function with \"highway-mpg\" as the predictor variable and the \"price\" as the response variable.\n"
   ]
  },
  {
   "cell_type": "code",
   "execution_count": 18,
   "metadata": {},
   "outputs": [],
   "source": [
    "X = df[['highway-mpg']]\n",
    "Y = df['price']"
   ]
  },
  {
   "cell_type": "markdown",
   "metadata": {},
   "source": [
    "Fit the linear model using highway-mpg:\n"
   ]
  },
  {
   "cell_type": "code",
   "execution_count": 19,
   "metadata": {},
   "outputs": [
    {
     "data": {
      "text/plain": [
       "LinearRegression()"
      ]
     },
     "execution_count": 19,
     "metadata": {},
     "output_type": "execute_result"
    }
   ],
   "source": [
    "lm.fit(X,Y)"
   ]
  },
  {
   "cell_type": "markdown",
   "metadata": {},
   "source": [
    "We can output a prediction:\n"
   ]
  },
  {
   "cell_type": "code",
   "execution_count": 20,
   "metadata": {},
   "outputs": [
    {
     "data": {
      "text/plain": [
       "array([16236.50464347, 16236.50464347, 17058.23802179, 13771.3045085 ,\n",
       "       20345.17153508])"
      ]
     },
     "execution_count": 20,
     "metadata": {},
     "output_type": "execute_result"
    }
   ],
   "source": [
    "Yhat=lm.predict(X)\n",
    "Yhat[0:5]   "
   ]
  },
  {
   "cell_type": "markdown",
   "metadata": {},
   "source": [
    "<h4>What is the value of the intercept (a)?</h4>\n"
   ]
  },
  {
   "cell_type": "code",
   "execution_count": 21,
   "metadata": {},
   "outputs": [
    {
     "data": {
      "text/plain": [
       "38423.3058581574"
      ]
     },
     "execution_count": 21,
     "metadata": {},
     "output_type": "execute_result"
    }
   ],
   "source": [
    "lm.intercept_"
   ]
  },
  {
   "cell_type": "markdown",
   "metadata": {},
   "source": [
    "<h4>What is the value of the slope (b)?</h4>\n"
   ]
  },
  {
   "cell_type": "code",
   "execution_count": 22,
   "metadata": {},
   "outputs": [
    {
     "data": {
      "text/plain": [
       "array([-821.73337832])"
      ]
     },
     "execution_count": 22,
     "metadata": {},
     "output_type": "execute_result"
    }
   ],
   "source": [
    "lm.coef_"
   ]
  },
  {
   "cell_type": "markdown",
   "metadata": {},
   "source": [
    "<h3>What is the final estimated linear model we get?</h3>\n"
   ]
  },
  {
   "cell_type": "markdown",
   "metadata": {},
   "source": [
    "As we saw above, we should get a final linear model with the structure:\n"
   ]
  },
  {
   "cell_type": "markdown",
   "metadata": {},
   "source": [
    "$$\n",
    "Yhat = a + b  X\n",
    "$$\n"
   ]
  },
  {
   "cell_type": "markdown",
   "metadata": {},
   "source": [
    "Plugging in the actual values we get:\n"
   ]
  },
  {
   "cell_type": "markdown",
   "metadata": {},
   "source": [
    "<b>Price</b> = 38423.31 - 821.73 x <b>highway-mpg</b>\n"
   ]
  },
  {
   "cell_type": "markdown",
   "metadata": {},
   "source": [
    "<div class=\"alert alert-danger alertdanger\" style=\"margin-top: 20px\">\n",
    "<h1>Question #1 a): </h1>\n",
    "\n",
    "<b>Create a linear regression object called \"lm1\".</b>\n",
    "\n",
    "</div>\n"
   ]
  },
  {
   "cell_type": "code",
   "execution_count": 23,
   "metadata": {},
   "outputs": [],
   "source": [
    "# Write your code below and press Shift+Enter to execute \n",
    "lm1 = LinearRegression()"
   ]
  },
  {
   "cell_type": "markdown",
   "metadata": {},
   "source": [
    "<details><summary>Click here for the solution</summary>\n",
    "\n",
    "```python\n",
    "lm1 = LinearRegression()\n",
    "lm1\n",
    "```\n",
    "\n",
    "</details>\n"
   ]
  },
  {
   "cell_type": "markdown",
   "metadata": {},
   "source": [
    "<div class=\"alert alert-danger alertdanger\" style=\"margin-top: 20px\">\n",
    "<h1> Question #1 b): </h1>\n",
    "\n",
    "<b>Train the model using \"engine-size\" as the independent variable and \"price\" as the dependent variable?</b>\n",
    "\n",
    "</div>\n"
   ]
  },
  {
   "cell_type": "code",
   "execution_count": 25,
   "metadata": {},
   "outputs": [
    {
     "data": {
      "text/plain": [
       "LinearRegression()"
      ]
     },
     "execution_count": 25,
     "metadata": {},
     "output_type": "execute_result"
    }
   ],
   "source": [
    "# Write your code below and press Shift+Enter to execute \n",
    "x = df[['engine-size']]\n",
    "y = df['price']\n",
    "lm1.fit(x,y)"
   ]
  },
  {
   "cell_type": "markdown",
   "metadata": {},
   "source": [
    "<details><summary>Click here for the solution</summary>\n",
    "\n",
    "```python\n",
    "lm1.fit(df[['engine-size']], df[['price']])\n",
    "lm1\n",
    "```\n",
    "\n",
    "</details>\n"
   ]
  },
  {
   "cell_type": "markdown",
   "metadata": {},
   "source": [
    "<div class=\"alert alert-danger alertdanger\" style=\"margin-top: 20px\">\n",
    "<h1>Question #1 c):</h1>\n",
    "\n",
    "<b>Find the slope and intercept of the model.</b>\n",
    "\n",
    "</div>\n"
   ]
  },
  {
   "cell_type": "markdown",
   "metadata": {},
   "source": [
    "<h4>Slope</h4>\n"
   ]
  },
  {
   "cell_type": "code",
   "execution_count": 26,
   "metadata": {},
   "outputs": [
    {
     "data": {
      "text/plain": [
       "array([166.86001569])"
      ]
     },
     "execution_count": 26,
     "metadata": {},
     "output_type": "execute_result"
    }
   ],
   "source": [
    "# Write your code below and press Shift+Enter to execute \n",
    "lm1.coef_"
   ]
  },
  {
   "cell_type": "markdown",
   "metadata": {},
   "source": [
    "<details><summary>Click here for the solution</summary>\n",
    "    \n",
    "```python\n",
    "# Slope \n",
    "lm1.coef_\n",
    "```\n",
    "</details>\n"
   ]
  },
  {
   "cell_type": "markdown",
   "metadata": {},
   "source": [
    "<h4>Intercept</h4>\n"
   ]
  },
  {
   "cell_type": "code",
   "execution_count": 27,
   "metadata": {},
   "outputs": [
    {
     "data": {
      "text/plain": [
       "-7963.338906281042"
      ]
     },
     "execution_count": 27,
     "metadata": {},
     "output_type": "execute_result"
    }
   ],
   "source": [
    "# Write your code below and press Shift+Enter to execute \n",
    "lm1.intercept_"
   ]
  },
  {
   "cell_type": "markdown",
   "metadata": {},
   "source": [
    "\n",
    "<details><summary>Click here for the solution</summary>\n",
    "\n",
    "```python\n",
    "# Intercept\n",
    "lm1.intercept_\n",
    "```\n",
    "\n",
    "</details>\n"
   ]
  },
  {
   "cell_type": "markdown",
   "metadata": {},
   "source": [
    "<div class=\"alert alert-danger alertdanger\" style=\"margin-top: 20px\">\n",
    "<h1>Question #1 d): </h1>\n",
    "\n",
    "<b>What is the equation of the predicted line? You can use x and yhat or \"engine-size\" or \"price\".</b>\n",
    "\n",
    "</div>\n"
   ]
  },
  {
   "cell_type": "code",
   "execution_count": 28,
   "metadata": {},
   "outputs": [],
   "source": [
    "# Write your code below and press Shift+Enter to execute \n",
    "# using X and Y  \n",
    "#if engine is not defined it will print error (NameError: name 'engine' is not defined).\n",
    "yhat = -7963.338906281042 + 166.86001569 * x"
   ]
  },
  {
   "cell_type": "markdown",
   "metadata": {},
   "source": [
    "<details><summary>Click here for the solution</summary>\n",
    "\n",
    "```python\n",
    "# using X and Y  \n",
    "Yhat=-7963.34 + 166.86*X\n",
    "\n",
    "Price=-7963.34 + 166.86*df['engine-size']\n",
    "\n",
    "```\n",
    "\n",
    "</details>\n"
   ]
  },
  {
   "cell_type": "markdown",
   "metadata": {},
   "source": [
    "<h4>Multiple Linear Regression</h4>\n"
   ]
  },
  {
   "cell_type": "markdown",
   "metadata": {},
   "source": [
    "<p>What if we want to predict car price using more than one variable?</p>\n",
    "\n",
    "<p>If we want to use more variables in our model to predict car price, we can use <b>Multiple Linear Regression</b>.\n",
    "Multiple Linear Regression is very similar to Simple Linear Regression, but this method is used to explain the relationship between one continuous response (dependent) variable and <b>two or more</b> predictor (independent) variables.\n",
    "Most of the real-world regression models involve multiple predictors. We will illustrate the structure by using four predictor variables, but these results can generalize to any integer:</p>\n"
   ]
  },
  {
   "cell_type": "markdown",
   "metadata": {},
   "source": [
    "$$\n",
    "Y: Response \\ Variable\\\\\\\\\\\\\\\\\\\\\n",
    "X\\_1 :Predictor\\ Variable \\ 1\\\\\\\\\n",
    "X\\_2: Predictor\\ Variable \\ 2\\\\\\\\\n",
    "X\\_3: Predictor\\ Variable \\ 3\\\\\\\\\n",
    "X\\_4: Predictor\\ Variable \\ 4\\\\\\\\\n",
    "$$\n"
   ]
  },
  {
   "cell_type": "markdown",
   "metadata": {},
   "source": [
    "$$\n",
    "a: intercept\\\\\\\\\\\\\\\\\\\\\n",
    "b\\_1 :coefficients \\ of\\ Variable \\ 1\\\\\\\\\n",
    "b\\_2: coefficients \\ of\\ Variable \\ 2\\\\\\\\\n",
    "b\\_3: coefficients \\ of\\ Variable \\ 3\\\\\\\\\n",
    "b\\_4: coefficients \\ of\\ Variable \\ 4\\\\\\\\\n",
    "$$\n"
   ]
  },
  {
   "cell_type": "markdown",
   "metadata": {},
   "source": [
    "The equation is given by:\n"
   ]
  },
  {
   "cell_type": "markdown",
   "metadata": {},
   "source": [
    "$$\n",
    "Yhat = a + b\\_1 X\\_1 + b\\_2 X\\_2 + b\\_3 X\\_3 + b\\_4 X\\_4\n",
    "$$\n"
   ]
  },
  {
   "cell_type": "markdown",
   "metadata": {},
   "source": [
    "<p>From the previous section  we know that other good predictors of price could be:</p>\n",
    "<ul>\n",
    "    <li>Horsepower</li>\n",
    "    <li>Curb-weight</li>\n",
    "    <li>Engine-size</li>\n",
    "    <li>Highway-mpg</li>\n",
    "</ul>\n",
    "Let's develop a model using these variables as the predictor variables.\n"
   ]
  },
  {
   "cell_type": "code",
   "execution_count": 29,
   "metadata": {},
   "outputs": [],
   "source": [
    "Z = df[['horsepower', 'curb-weight', 'engine-size', 'highway-mpg']]"
   ]
  },
  {
   "cell_type": "markdown",
   "metadata": {},
   "source": [
    "Fit the linear model using the four above-mentioned variables.\n"
   ]
  },
  {
   "cell_type": "code",
   "execution_count": 30,
   "metadata": {},
   "outputs": [
    {
     "data": {
      "text/plain": [
       "LinearRegression()"
      ]
     },
     "execution_count": 30,
     "metadata": {},
     "output_type": "execute_result"
    }
   ],
   "source": [
    "lm.fit(Z, df['price'])"
   ]
  },
  {
   "cell_type": "markdown",
   "metadata": {},
   "source": [
    "What is the value of the intercept(a)?\n"
   ]
  },
  {
   "cell_type": "code",
   "execution_count": 31,
   "metadata": {},
   "outputs": [
    {
     "data": {
      "text/plain": [
       "-15806.62462632922"
      ]
     },
     "execution_count": 31,
     "metadata": {},
     "output_type": "execute_result"
    }
   ],
   "source": [
    "lm.intercept_"
   ]
  },
  {
   "cell_type": "markdown",
   "metadata": {},
   "source": [
    "What are the values of the coefficients (b1, b2, b3, b4)?\n"
   ]
  },
  {
   "cell_type": "code",
   "execution_count": 32,
   "metadata": {},
   "outputs": [
    {
     "data": {
      "text/plain": [
       "array([53.49574423,  4.70770099, 81.53026382, 36.05748882])"
      ]
     },
     "execution_count": 32,
     "metadata": {},
     "output_type": "execute_result"
    }
   ],
   "source": [
    "lm.coef_"
   ]
  },
  {
   "cell_type": "markdown",
   "metadata": {},
   "source": [
    "What is the final estimated linear model that we get?\n"
   ]
  },
  {
   "cell_type": "markdown",
   "metadata": {},
   "source": [
    "As we saw above, we should get a final linear function with the structure:\n",
    "\n",
    "$$\n",
    "Yhat = a + b\\_1 X\\_1 + b\\_2 X\\_2 + b\\_3 X\\_3 + b\\_4 X\\_4\n",
    "$$\n",
    "\n",
    "What is the linear function we get in this example?\n"
   ]
  },
  {
   "cell_type": "markdown",
   "metadata": {},
   "source": [
    "<b>Price</b> = -15678.742628061467 + 52.65851272 x <b>horsepower</b> + 4.69878948 x <b>curb-weight</b> + 81.95906216 x <b>engine-size</b> + 33.58258185 x <b>highway-mpg</b>\n"
   ]
  },
  {
   "cell_type": "markdown",
   "metadata": {},
   "source": [
    "<div class=\"alert alert-danger alertdanger\" style=\"margin-top: 20px\">\n",
    "<h1> Question  #2 a): </h1>\n",
    "Create and train a Multiple Linear Regression model \"lm2\" where the response variable is \"price\", and the predictor variable is \"normalized-losses\" and  \"highway-mpg\".\n",
    "</div>\n"
   ]
  },
  {
   "cell_type": "code",
   "execution_count": 34,
   "metadata": {},
   "outputs": [
    {
     "data": {
      "text/plain": [
       "LinearRegression()"
      ]
     },
     "execution_count": 34,
     "metadata": {},
     "output_type": "execute_result"
    }
   ],
   "source": [
    "# Write your code below and press Shift+Enter to execute \n",
    "z = df[['normalized-losses', 'highway-mpg']]\n",
    "lm2 = LinearRegression()\n",
    "\n",
    "lm2.fit(z,df['price'])\n"
   ]
  },
  {
   "cell_type": "markdown",
   "metadata": {},
   "source": [
    "<details><summary>Click here for the solution</summary>\n",
    "\n",
    "```python\n",
    "lm2 = LinearRegression()\n",
    "lm2.fit(df[['normalized-losses' , 'highway-mpg']],df['price'])\n",
    "\n",
    "\n",
    "```\n",
    "\n",
    "</details>\n"
   ]
  },
  {
   "cell_type": "markdown",
   "metadata": {},
   "source": [
    "<div class=\"alert alert-danger alertdanger\" style=\"margin-top: 20px\">\n",
    "<h1>Question  #2 b): </h1>\n",
    "<b>Find the coefficient of the model.</b>\n",
    "</div>\n"
   ]
  },
  {
   "cell_type": "code",
   "execution_count": 35,
   "metadata": {},
   "outputs": [
    {
     "data": {
      "text/plain": [
       "array([   1.49789586, -820.45434016])"
      ]
     },
     "execution_count": 35,
     "metadata": {},
     "output_type": "execute_result"
    }
   ],
   "source": [
    "# Write your code below and press Shift+Enter to execute \n",
    "lm2.coef_"
   ]
  },
  {
   "cell_type": "markdown",
   "metadata": {},
   "source": [
    "<details><summary>Click here for the solution</summary>\n",
    "\n",
    "```python\n",
    "lm2.coef_\n",
    "\n",
    "```\n",
    "\n",
    "</details>\n"
   ]
  },
  {
   "cell_type": "markdown",
   "metadata": {},
   "source": [
    "<h2>2. Model Evaluation Using Visualization</h2>\n"
   ]
  },
  {
   "cell_type": "markdown",
   "metadata": {},
   "source": [
    "Now that we've developed some models, how do we evaluate our models and choose the best one? One way to do this is by using a visualization.\n"
   ]
  },
  {
   "cell_type": "markdown",
   "metadata": {},
   "source": [
    "Import the visualization package, seaborn:\n"
   ]
  },
  {
   "cell_type": "code",
   "execution_count": 36,
   "metadata": {},
   "outputs": [],
   "source": [
    "# import the visualization package: seaborn\n",
    "import seaborn as sns\n",
    "%matplotlib inline "
   ]
  },
  {
   "cell_type": "markdown",
   "metadata": {},
   "source": [
    "<h3>Regression Plot</h3>\n"
   ]
  },
  {
   "cell_type": "markdown",
   "metadata": {},
   "source": [
    "<p>When it comes to simple linear regression, an excellent way to visualize the fit of our model is by using <b>regression plots</b>.</p>\n",
    "\n",
    "<p>This plot will show a combination of a scattered data points (a <b>scatterplot</b>), as well as the fitted <b>linear regression</b> line going through the data. This will give us a reasonable estimate of the relationship between the two variables, the strength of the correlation, as well as the direction (positive or negative correlation).</p>\n"
   ]
  },
  {
   "cell_type": "markdown",
   "metadata": {},
   "source": [
    "Let's visualize **highway-mpg** as potential predictor variable of price:\n"
   ]
  },
  {
   "cell_type": "code",
   "execution_count": 39,
   "metadata": {},
   "outputs": [
    {
     "data": {
      "text/plain": [
       "(0.0, 48261.814235063204)"
      ]
     },
     "execution_count": 39,
     "metadata": {},
     "output_type": "execute_result"
    },
    {
     "data": {
      "image/png": "[encoded data removed]",
      "text/plain": [
       "<Figure size 1200x1000 with 1 Axes>"
      ]
     },
     "metadata": {},
     "output_type": "display_data"
    }
   ],
   "source": [
    "width = 12\n",
    "height = 10\n",
    "plt.figure(figsize=(width, height))\n",
    "sns.regplot(x=\"highway-mpg\", y=\"price\", data=df)\n",
    "plt.ylim(0,)"
   ]
  },
  {
   "cell_type": "markdown",
   "metadata": {},
   "source": [
    "<p>We can see from this plot that price is negatively correlated to highway-mpg since the regression slope is negative.\n",
    "\n",
    "One thing to keep in mind when looking at a regression plot is to pay attention to how scattered the data points are around the regression line. This will give you a good indication of the variance of the data and whether a linear model would be the best fit or not. If the data is too far off from the line, this linear model might not be the best model for this data.\n",
    "\n",
    "Let's compare this plot to the regression plot of \"peak-rpm\".</p>\n"
   ]
  },
  {
   "cell_type": "code",
   "execution_count": 40,
   "metadata": {},
   "outputs": [
    {
     "data": {
      "text/plain": [
       "(0.0, 47414.1)"
      ]
     },
     "execution_count": 40,
     "metadata": {},
     "output_type": "execute_result"
    },
    {
     "data": {
      "image/png": "[encoded data removed]",
      "text/plain": [
       "<Figure size 1200x1000 with 1 Axes>"
      ]
     },
     "metadata": {},
     "output_type": "display_data"
    }
   ],
   "source": [
    "plt.figure(figsize=(width, height))\n",
    "sns.regplot(x=\"peak-rpm\", y=\"price\", data=df)\n",
    "plt.ylim(0,)"
   ]
  },
  {
   "cell_type": "markdown",
   "metadata": {},
   "source": [
    "<p>Comparing the regression plot of \"peak-rpm\" and \"highway-mpg\", we see that the points for \"highway-mpg\" are much closer to the generated line and, on average, decrease. The points for \"peak-rpm\" have more spread around the predicted line and it is much harder to determine if the points are decreasing or increasing as the \"peak-rpm\" increases.</p>\n"
   ]
  },
  {
   "cell_type": "markdown",
   "metadata": {},
   "source": [
    "<div class=\"alert alert-danger alertdanger\" style=\"margin-top: 20px\">\n",
    "<h1>Question #3:</h1>\n",
    "<b>Given the regression plots above, is \"peak-rpm\" or \"highway-mpg\" more strongly correlated with \"price\"? Use the method  \".corr()\" to verify your answer.</b>\n",
    "</div>\n"
   ]
  },
  {
   "cell_type": "code",
   "execution_count": 42,
   "metadata": {},
   "outputs": [
    {
     "data": {
      "text/html": [
       "<div>\n",
       "<style scoped>\n",
       "    .dataframe tbody tr th:only-of-type {\n",
       "        vertical-align: middle;\n",
       "    }\n",
       "\n",
       "    .dataframe tbody tr th {\n",
       "        vertical-align: top;\n",
       "    }\n",
       "\n",
       "    .dataframe thead th {\n",
       "        text-align: right;\n",
       "    }\n",
       "</style>\n",
       "<table border=\"1\" class=\"dataframe\">\n",
       "  <thead>\n",
       "    <tr style=\"text-align: right;\">\n",
       "      <th></th>\n",
       "      <th>peak-rpm</th>\n",
       "      <th>highway-mpg</th>\n",
       "      <th>price</th>\n",
       "    </tr>\n",
       "  </thead>\n",
       "  <tbody>\n",
       "    <tr>\n",
       "      <th>peak-rpm</th>\n",
       "      <td>1.000000</td>\n",
       "      <td>-0.058598</td>\n",
       "      <td>-0.101616</td>\n",
       "    </tr>\n",
       "    <tr>\n",
       "      <th>highway-mpg</th>\n",
       "      <td>-0.058598</td>\n",
       "      <td>1.000000</td>\n",
       "      <td>-0.704692</td>\n",
       "    </tr>\n",
       "    <tr>\n",
       "      <th>price</th>\n",
       "      <td>-0.101616</td>\n",
       "      <td>-0.704692</td>\n",
       "      <td>1.000000</td>\n",
       "    </tr>\n",
       "  </tbody>\n",
       "</table>\n",
       "</div>"
      ],
      "text/plain": [
       "             peak-rpm  highway-mpg     price\n",
       "peak-rpm     1.000000    -0.058598 -0.101616\n",
       "highway-mpg -0.058598     1.000000 -0.704692\n",
       "price       -0.101616    -0.704692  1.000000"
      ]
     },
     "execution_count": 42,
     "metadata": {},
     "output_type": "execute_result"
    }
   ],
   "source": [
    "# Write your code below and press Shift+Enter to execute \n",
    "# The variable \"highway-mpg\" has a stronger correlation with \"price\", it is approximate -0.704692  compared to \"peak-rpm\" which is approximate -0.101616. You can verify it using the following command:\n",
    "df[['peak-rpm','highway-mpg','price']].corr()"
   ]
  },
  {
   "cell_type": "markdown",
   "metadata": {},
   "source": [
    "<details><summary>Click here for the solution</summary>\n",
    "\n",
    "```python\n",
    "# The variable \"highway-mpg\" has a stronger correlation with \"price\", it is approximate -0.704692  compared to \"peak-rpm\" which is approximate -0.101616. You can verify it using the following command:\n",
    "\n",
    "df[[\"peak-rpm\",\"highway-mpg\",\"price\"]].corr()\n",
    "\n",
    "```\n",
    "\n",
    "</details>\n"
   ]
  },
  {
   "cell_type": "markdown",
   "metadata": {},
   "source": [
    "<h3>Residual Plot</h3>\n",
    "\n",
    "<p>A good way to visualize the variance of the data is to use a residual plot.</p>\n",
    "\n",
    "<p>What is a <b>residual</b>?</p>\n",
    "\n",
    "<p>The difference between the observed value (y) and the predicted value (Yhat) is called the residual (e). When we look at a regression plot, the residual is the distance from the data point to the fitted regression line.</p>\n",
    "\n",
    "<p>So what is a <b>residual plot</b>?</p>\n",
    "\n",
    "<p>A residual plot is a graph that shows the residuals on the vertical y-axis and the independent variable on the horizontal x-axis.</p>\n",
    "\n",
    "<p>What do we pay attention to when looking at a residual plot?</p>\n",
    "\n",
    "<p>We look at the spread of the residuals:</p>\n",
    "\n",
    "<p>- If the points in a residual plot are <b>randomly spread out around the x-axis</b>, then a <b>linear model is appropriate</b> for the data.\n",
    "\n",
    "Why is that? Randomly spread out residuals means that the variance is constant, and thus the linear model is a good fit for this data.</p>\n"
   ]
  },
  {
   "cell_type": "code",
   "execution_count": 43,
   "metadata": {},
   "outputs": [
    {
     "data": {
      "image/png": "[encoded data removed]",
      "text/plain": [
       "<Figure size 1200x1000 with 1 Axes>"
      ]
     },
     "metadata": {},
     "output_type": "display_data"
    }
   ],
   "source": [
    "width = 12\n",
    "height = 10\n",
    "plt.figure(figsize=(width, height))\n",
    "sns.residplot(x=df['highway-mpg'],y=df['price'])\n",
    "plt.show()"
   ]
  },
  {
   "cell_type": "markdown",
   "metadata": {},
   "source": [
    "<i>What is this plot telling us?</i>\n",
    "\n",
    "<p>We can see from this residual plot that the residuals are not randomly spread around the x-axis, leading us to believe that maybe a non-linear model is more appropriate for this data.</p>\n"
   ]
  },
  {
   "cell_type": "markdown",
   "metadata": {},
   "source": [
    "<h3>Multiple Linear Regression</h3>\n"
   ]
  },
  {
   "cell_type": "markdown",
   "metadata": {},
   "source": [
    "<p>How do we visualize a model for Multiple Linear Regression? This gets a bit more complicated because you can't visualize it with regression or residual plot.</p>\n",
    "\n",
    "<p>One way to look at the fit of the model is by looking at the <b>distribution plot</b>. We can look at the distribution of the fitted values that result from the model and compare it to the distribution of the actual values.</p>\n"
   ]
  },
  {
   "cell_type": "markdown",
   "metadata": {},
   "source": [
    "First, let's make a prediction:\n"
   ]
  },
  {
   "cell_type": "code",
   "execution_count": 44,
   "metadata": {},
   "outputs": [],
   "source": [
    "Y_hat = lm.predict(Z)\n"
   ]
  },
  {
   "cell_type": "code",
   "execution_count": 45,
   "metadata": {},
   "outputs": [
    {
     "data": {
      "image/png": "[encoded data removed]",
      "text/plain": [
       "<Figure size 1200x1000 with 1 Axes>"
      ]
     },
     "metadata": {},
     "output_type": "display_data"
    }
   ],
   "source": [
    "plt.figure(figsize=(width, height))\n",
    "\n",
    "\n",
    "ax1 = sns.distplot(df['price'], hist=False, color=\"r\", label=\"Actual Value\")\n",
    "sns.distplot(Y_hat, hist=False, color=\"b\", label=\"Fitted Values\" , ax=ax1)\n",
    "\n",
    "\n",
    "plt.title('Actual vs Fitted Values for Price')\n",
    "plt.xlabel('Price (in dollars)')\n",
    "plt.ylabel('Proportion of Cars')\n",
    "\n",
    "plt.show()\n",
    "plt.close()"
   ]
  },
  {
   "cell_type": "markdown",
   "metadata": {},
   "source": [
    "<p>We can see that the fitted values are reasonably close to the actual values since the two distributions overlap a bit. However, there is definitely some room for improvement.</p>\n"
   ]
  },
  {
   "cell_type": "markdown",
   "metadata": {},
   "source": [
    "<h2>3. Polynomial Regression and Pipelines</h2>\n"
   ]
  },
  {
   "cell_type": "markdown",
   "metadata": {},
   "source": [
    "<p><b>Polynomial regression</b> is a particular case of the general linear regression model or multiple linear regression models.</p> \n",
    "<p>We get non-linear relationships by squaring or setting higher-order terms of the predictor variables.</p>\n",
    "\n",
    "<p>There are different orders of polynomial regression:</p>\n"
   ]
  },
  {
   "cell_type": "markdown",
   "metadata": {},
   "source": [
    "<center><b>Quadratic - 2nd Order</b></center>\n",
    "$$\n",
    "Yhat = a + b_1 X +b_2 X^2 \n",
    "$$\n",
    "\n",
    "<center><b>Cubic - 3rd Order</b></center>\n",
    "$$\n",
    "Yhat = a + b_1 X +b_2 X^2 +b_3 X^3\\\\\\\\\\\\\\\\\\\\\n",
    "$$\n",
    "\n",
    "<center><b>Higher-Order</b>:</center>\n",
    "$$\n",
    "Y = a + b_1 X +b_2 X^2 +b_3 X^3 ....\\\\\\\\\n",
    "$$\n"
   ]
  },
  {
   "cell_type": "markdown",
   "metadata": {},
   "source": [
    "<p>We saw earlier that a linear model did not provide the best fit while using \"highway-mpg\" as the predictor variable. Let's see if we can try fitting a polynomial model to the data instead.</p>\n"
   ]
  },
  {
   "cell_type": "markdown",
   "metadata": {},
   "source": [
    "<p>We will use the following function to plot the data:</p>\n"
   ]
  },
  {
   "cell_type": "code",
   "execution_count": null,
   "metadata": {},
   "outputs": [],
   "source": [
    "def PlotPolly(model, independent_variable, dependent_variabble, Name):\n",
    "    x_new = np.linspace(15, 55, 100)\n",
    "    y_new = model(x_new)\n",
    "\n",
    "    plt.plot(independent_variable, dependent_variabble, '.', x_new, y_new, '-')\n",
    "    plt.title('Polynomial Fit with Matplotlib for Price ~ Length')\n",
    "    ax = plt.gca()\n",
    "    ax.set_facecolor((0.898, 0.898, 0.898))\n",
    "    fig = plt.gcf()\n",
    "    plt.xlabel(Name)\n",
    "    plt.ylabel('Price of Cars')\n",
    "\n",
    "    plt.show()\n",
    "    plt.close()"
   ]
  },
  {
   "cell_type": "markdown",
   "metadata": {},
   "source": [
    "Let's get the variables:\n"
   ]
  },
  {
   "cell_type": "code",
   "execution_count": null,
   "metadata": {},
   "outputs": [],
   "source": [
    "x = df['highway-mpg']\n",
    "y = df['price']"
   ]
  },
  {
   "cell_type": "markdown",
   "metadata": {},
   "source": [
    "Let's fit the polynomial using the function <b>polyfit</b>, then use the function <b>poly1d</b> to display the polynomial function.\n"
   ]
  },
  {
   "cell_type": "code",
   "execution_count": null,
   "metadata": {},
   "outputs": [],
   "source": [
    "# Here we use a polynomial of the 3rd order (cubic) \n",
    "f = np.polyfit(x, y, 3)\n",
    "p = np.poly1d(f)\n",
    "print(p)"
   ]
  },
  {
   "cell_type": "markdown",
   "metadata": {},
   "source": [
    "Let's plot the function:\n"
   ]
  },
  {
   "cell_type": "code",
   "execution_count": null,
   "metadata": {},
   "outputs": [],
   "source": [
    "PlotPolly(p, x, y, 'highway-mpg')"
   ]
  },
  {
   "cell_type": "code",
   "execution_count": null,
   "metadata": {},
   "outputs": [],
   "source": [
    "np.polyfit(x, y, 3)"
   ]
  },
  {
   "cell_type": "markdown",
   "metadata": {},
   "source": [
    "<p>We can already see from plotting that this polynomial model performs better than the linear model. This is because the generated polynomial function  \"hits\" more of the data points.</p>\n"
   ]
  },
  {
   "cell_type": "markdown",
   "metadata": {},
   "source": [
    "<div class=\"alert alert-danger alertdanger\" style=\"margin-top: 20px\">\n",
    "<h1>Question  #4:</h1>\n",
    "<b>Create 11 order polynomial model with the variables x and y from above.</b>\n",
    "</div>\n"
   ]
  },
  {
   "cell_type": "code",
   "execution_count": null,
   "metadata": {},
   "outputs": [],
   "source": [
    "# Write your code below and press Shift+Enter to execute \n"
   ]
  },
  {
   "cell_type": "markdown",
   "metadata": {},
   "source": [
    "<details><summary>Click here for the solution</summary>\n",
    "\n",
    "```python\n",
    "# Here we use a polynomial of the 11rd order (cubic) \n",
    "f1 = np.polyfit(x, y, 11)\n",
    "p1 = np.poly1d(f1)\n",
    "print(p1)\n",
    "PlotPolly(p1,x,y, 'Highway MPG')\n",
    "\n",
    "```\n",
    "\n",
    "</details>\n"
   ]
  },
  {
   "cell_type": "markdown",
   "metadata": {},
   "source": [
    "<p>The analytical expression for Multivariate Polynomial function gets complicated. For example, the expression for a second-order (degree=2) polynomial with two variables is given by:</p>\n"
   ]
  },
  {
   "cell_type": "markdown",
   "metadata": {},
   "source": [
    "$$\n",
    "Yhat = a + b\\_1 X\\_1 +b\\_2 X\\_2 +b\\_3 X\\_1 X\\_2+b\\_4 X\\_1^2+b\\_5 X\\_2^2\n",
    "$$\n"
   ]
  },
  {
   "cell_type": "markdown",
   "metadata": {},
   "source": [
    "We can perform a polynomial transform on multiple features. First, we import the module:\n"
   ]
  },
  {
   "cell_type": "code",
   "execution_count": null,
   "metadata": {},
   "outputs": [],
   "source": [
    "from sklearn.preprocessing import PolynomialFeatures"
   ]
  },
  {
   "cell_type": "markdown",
   "metadata": {},
   "source": [
    "We create a <b>PolynomialFeatures</b> object of degree 2:\n"
   ]
  },
  {
   "cell_type": "code",
   "execution_count": null,
   "metadata": {},
   "outputs": [],
   "source": [
    "pr=PolynomialFeatures(degree=2)\n",
    "pr"
   ]
  },
  {
   "cell_type": "code",
   "execution_count": null,
   "metadata": {},
   "outputs": [],
   "source": [
    "Z_pr=pr.fit_transform(Z)"
   ]
  },
  {
   "cell_type": "markdown",
   "metadata": {},
   "source": [
    "In the original data, there are 201 samples and 4 features.\n"
   ]
  },
  {
   "cell_type": "code",
   "execution_count": null,
   "metadata": {},
   "outputs": [],
   "source": [
    "Z.shape"
   ]
  },
  {
   "cell_type": "markdown",
   "metadata": {},
   "source": [
    "After the transformation, there are 201 samples and 15 features.\n"
   ]
  },
  {
   "cell_type": "code",
   "execution_count": null,
   "metadata": {},
   "outputs": [],
   "source": [
    "Z_pr.shape"
   ]
  },
  {
   "cell_type": "markdown",
   "metadata": {},
   "source": [
    "<h2>Pipeline</h2>\n"
   ]
  },
  {
   "cell_type": "markdown",
   "metadata": {},
   "source": [
    "<p>Data Pipelines simplify the steps of processing the data. We use the module <b>Pipeline</b> to create a pipeline. We also use <b>StandardScaler</b> as a step in our pipeline.</p>\n"
   ]
  },
  {
   "cell_type": "code",
   "execution_count": null,
   "metadata": {},
   "outputs": [],
   "source": [
    "from sklearn.pipeline import Pipeline\n",
    "from sklearn.preprocessing import StandardScaler"
   ]
  },
  {
   "cell_type": "markdown",
   "metadata": {},
   "source": [
    "We create the pipeline by creating a list of tuples including the name of the model or estimator and its corresponding constructor.\n"
   ]
  },
  {
   "cell_type": "code",
   "execution_count": null,
   "metadata": {},
   "outputs": [],
   "source": [
    "Input=[('scale',StandardScaler()), ('polynomial', PolynomialFeatures(include_bias=False)), ('model',LinearRegression())]"
   ]
  },
  {
   "cell_type": "markdown",
   "metadata": {},
   "source": [
    "We input the list as an argument to the pipeline constructor:\n"
   ]
  },
  {
   "cell_type": "code",
   "execution_count": null,
   "metadata": {},
   "outputs": [],
   "source": [
    "pipe=Pipeline(Input)\n",
    "pipe"
   ]
  },
  {
   "cell_type": "markdown",
   "metadata": {},
   "source": [
    "First, we convert the data type Z to type float to avoid conversion warnings that may appear as a result of StandardScaler taking float inputs.\n",
    "\n",
    "Then, we can normalize the data,  perform a transform and fit the model simultaneously.\n"
   ]
  },
  {
   "cell_type": "code",
   "execution_count": null,
   "metadata": {},
   "outputs": [],
   "source": [
    "Z = Z.astype(float)\n",
    "pipe.fit(Z,y)"
   ]
  },
  {
   "cell_type": "markdown",
   "metadata": {},
   "source": [
    "Similarly,  we can normalize the data, perform a transform and produce a prediction  simultaneously.\n"
   ]
  },
  {
   "cell_type": "code",
   "execution_count": null,
   "metadata": {},
   "outputs": [],
   "source": [
    "ypipe=pipe.predict(Z)\n",
    "ypipe[0:4]"
   ]
  },
  {
   "cell_type": "markdown",
   "metadata": {},
   "source": [
    "<div class=\"alert alert-danger alertdanger\" style=\"margin-top: 20px\">\n",
    "<h1>Question #5:</h1>\n",
    "<b>Create a pipeline that standardizes the data, then produce a prediction using a linear regression model using the features Z and target y.</b>\n",
    "</div>\n"
   ]
  },
  {
   "cell_type": "code",
   "execution_count": null,
   "metadata": {},
   "outputs": [],
   "source": [
    "# Write your code below and press Shift+Enter to execute \n"
   ]
  },
  {
   "cell_type": "markdown",
   "metadata": {},
   "source": [
    "<details><summary>Click here for the solution</summary>\n",
    "\n",
    "```python\n",
    "Input=[('scale',StandardScaler()),('model',LinearRegression())]\n",
    "\n",
    "pipe=Pipeline(Input)\n",
    "\n",
    "pipe.fit(Z,y)\n",
    "\n",
    "ypipe=pipe.predict(Z)\n",
    "ypipe[0:10]\n",
    "\n",
    "```\n",
    "\n",
    "</details>\n"
   ]
  },
  {
   "cell_type": "markdown",
   "metadata": {},
   "source": [
    "<h2>4. Measures for In-Sample Evaluation</h2>\n"
   ]
  },
  {
   "cell_type": "markdown",
   "metadata": {},
   "source": [
    "<p>When evaluating our models, not only do we want to visualize the results, but we also want a quantitative measure to determine how accurate the model is.</p>\n",
    "\n",
    "<p>Two very important measures that are often used in Statistics to determine the accuracy of a model are:</p>\n",
    "<ul>\n",
    "    <li><b>R^2 / R-squared</b></li>\n",
    "    <li><b>Mean Squared Error (MSE)</b></li>\n",
    "</ul>\n",
    "\n",
    "<b>R-squared</b>\n",
    "\n",
    "<p>R squared, also known as the coefficient of determination, is a measure to indicate how close the data is to the fitted regression line.</p>\n",
    "\n",
    "<p>The value of the R-squared is the percentage of variation of the response variable (y) that is explained by a linear model.</p>\n",
    "\n",
    "<b>Mean Squared Error (MSE)</b>\n",
    "\n",
    "<p>The Mean Squared Error measures the average of the squares of errors. That is, the difference between actual value (y) and the estimated value (ŷ).</p>\n"
   ]
  },
  {
   "cell_type": "markdown",
   "metadata": {},
   "source": [
    "<h3>Model 1: Simple Linear Regression</h3>\n"
   ]
  },
  {
   "cell_type": "markdown",
   "metadata": {},
   "source": [
    "Let's calculate the R^2:\n"
   ]
  },
  {
   "cell_type": "code",
   "execution_count": null,
   "metadata": {},
   "outputs": [],
   "source": [
    "#highway_mpg_fit\n",
    "lm.fit(X, Y)\n",
    "# Find the R^2\n",
    "print('The R-square is: ', lm.score(X, Y))"
   ]
  },
  {
   "cell_type": "markdown",
   "metadata": {},
   "source": [
    "We can say that \\~49.659% of the variation of the price is explained by this simple linear model \"horsepower_fit\".\n"
   ]
  },
  {
   "cell_type": "markdown",
   "metadata": {},
   "source": [
    "Let's calculate the MSE:\n"
   ]
  },
  {
   "cell_type": "markdown",
   "metadata": {},
   "source": [
    "We can predict the output i.e., \"yhat\" using the predict method, where X is the input variable:\n"
   ]
  },
  {
   "cell_type": "code",
   "execution_count": null,
   "metadata": {},
   "outputs": [],
   "source": [
    "Yhat=lm.predict(X)\n",
    "print('The output of the first four predicted value is: ', Yhat[0:4])"
   ]
  },
  {
   "cell_type": "markdown",
   "metadata": {},
   "source": [
    "Let's import the function <b>mean_squared_error</b> from the module <b>metrics</b>:\n"
   ]
  },
  {
   "cell_type": "code",
   "execution_count": null,
   "metadata": {},
   "outputs": [],
   "source": [
    "from sklearn.metrics import mean_squared_error"
   ]
  },
  {
   "cell_type": "markdown",
   "metadata": {},
   "source": [
    "We can compare the predicted results with the actual results:\n"
   ]
  },
  {
   "cell_type": "code",
   "execution_count": null,
   "metadata": {},
   "outputs": [],
   "source": [
    "mse = mean_squared_error(df['price'], Yhat)\n",
    "print('The mean square error of price and predicted value is: ', mse)"
   ]
  },
  {
   "cell_type": "markdown",
   "metadata": {},
   "source": [
    "<h3>Model 2: Multiple Linear Regression</h3>\n"
   ]
  },
  {
   "cell_type": "markdown",
   "metadata": {},
   "source": [
    "Let's calculate the R^2:\n"
   ]
  },
  {
   "cell_type": "code",
   "execution_count": null,
   "metadata": {},
   "outputs": [],
   "source": [
    "# fit the model \n",
    "lm.fit(Z, df['price'])\n",
    "# Find the R^2\n",
    "print('The R-square is: ', lm.score(Z, df['price']))"
   ]
  },
  {
   "cell_type": "markdown",
   "metadata": {},
   "source": [
    "We can say that \\~80.896 % of the variation of price is explained by this multiple linear regression \"multi_fit\".\n"
   ]
  },
  {
   "cell_type": "markdown",
   "metadata": {},
   "source": [
    "Let's calculate the MSE.\n"
   ]
  },
  {
   "cell_type": "markdown",
   "metadata": {},
   "source": [
    "We produce a prediction:\n"
   ]
  },
  {
   "cell_type": "code",
   "execution_count": null,
   "metadata": {},
   "outputs": [],
   "source": [
    "Y_predict_multifit = lm.predict(Z)"
   ]
  },
  {
   "cell_type": "markdown",
   "metadata": {},
   "source": [
    "We compare the predicted results with the actual results:\n"
   ]
  },
  {
   "cell_type": "code",
   "execution_count": null,
   "metadata": {},
   "outputs": [],
   "source": [
    "print('The mean square error of price and predicted value using multifit is: ', \\\n",
    "      mean_squared_error(df['price'], Y_predict_multifit))"
   ]
  },
  {
   "cell_type": "markdown",
   "metadata": {},
   "source": [
    "<h3>Model 3: Polynomial Fit</h3>\n"
   ]
  },
  {
   "cell_type": "markdown",
   "metadata": {},
   "source": [
    "Let's calculate the R^2.\n"
   ]
  },
  {
   "cell_type": "markdown",
   "metadata": {},
   "source": [
    "Let’s import the function <b>r2\\_score</b> from the module <b>metrics</b> as we are using a different function.\n"
   ]
  },
  {
   "cell_type": "code",
   "execution_count": null,
   "metadata": {},
   "outputs": [],
   "source": [
    "from sklearn.metrics import r2_score"
   ]
  },
  {
   "cell_type": "markdown",
   "metadata": {},
   "source": [
    "We apply the function to get the value of R^2:\n"
   ]
  },
  {
   "cell_type": "code",
   "execution_count": null,
   "metadata": {},
   "outputs": [],
   "source": [
    "r_squared = r2_score(y, p(x))\n",
    "print('The R-square value is: ', r_squared)"
   ]
  },
  {
   "cell_type": "markdown",
   "metadata": {},
   "source": [
    "We can say that \\~67.419 % of the variation of price is explained by this polynomial fit.\n"
   ]
  },
  {
   "cell_type": "markdown",
   "metadata": {},
   "source": [
    "<h3>MSE</h3>\n"
   ]
  },
  {
   "cell_type": "markdown",
   "metadata": {},
   "source": [
    "We can also calculate the MSE:\n"
   ]
  },
  {
   "cell_type": "code",
   "execution_count": null,
   "metadata": {},
   "outputs": [],
   "source": [
    "mean_squared_error(df['price'], p(x))"
   ]
  },
  {
   "cell_type": "markdown",
   "metadata": {},
   "source": [
    "<h2>5. Prediction and Decision Making</h2>\n",
    "<h3>Prediction</h3>\n",
    "\n",
    "<p>In the previous section, we trained the model using the method <b>fit</b>. Now we will use the method <b>predict</b> to produce a prediction. Lets import <b>pyplot</b> for plotting; we will also be using some functions from numpy.</p>\n"
   ]
  },
  {
   "cell_type": "code",
   "execution_count": null,
   "metadata": {},
   "outputs": [],
   "source": [
    "import matplotlib.pyplot as plt\n",
    "import numpy as np\n",
    "\n",
    "%matplotlib inline "
   ]
  },
  {
   "cell_type": "markdown",
   "metadata": {},
   "source": [
    "Create a new input:\n"
   ]
  },
  {
   "cell_type": "code",
   "execution_count": null,
   "metadata": {},
   "outputs": [],
   "source": [
    "new_input=np.arange(1, 100, 1).reshape(-1, 1)"
   ]
  },
  {
   "cell_type": "markdown",
   "metadata": {},
   "source": [
    "Fit the model:\n"
   ]
  },
  {
   "cell_type": "code",
   "execution_count": null,
   "metadata": {},
   "outputs": [],
   "source": [
    "lm.fit(X, Y)\n",
    "lm"
   ]
  },
  {
   "cell_type": "markdown",
   "metadata": {},
   "source": [
    "Produce a prediction:\n"
   ]
  },
  {
   "cell_type": "code",
   "execution_count": null,
   "metadata": {},
   "outputs": [],
   "source": [
    "yhat=lm.predict(new_input)\n",
    "yhat[0:5]"
   ]
  },
  {
   "cell_type": "markdown",
   "metadata": {},
   "source": [
    "We can plot the data:\n"
   ]
  },
  {
   "cell_type": "code",
   "execution_count": null,
   "metadata": {},
   "outputs": [],
   "source": [
    "plt.plot(new_input, yhat)\n",
    "plt.show()"
   ]
  },
  {
   "cell_type": "markdown",
   "metadata": {},
   "source": [
    "<h3>Decision Making: Determining a Good Model Fit</h3>\n"
   ]
  },
  {
   "cell_type": "markdown",
   "metadata": {},
   "source": [
    "<p>Now that we have visualized the different models, and generated the R-squared and MSE values for the fits, how do we determine a good model fit?\n",
    "<ul>\n",
    "    <li><i>What is a good R-squared value?</i></li>\n",
    "</ul>\n",
    "</p>\n",
    "\n",
    "<p>When comparing models, <b>the model with the higher R-squared value is a better fit</b> for the data.\n",
    "<ul>\n",
    "    <li><i>What is a good MSE?</i></li>\n",
    "</ul>\n",
    "</p>\n",
    "\n",
    "<p>When comparing models, <b>the model with the smallest MSE value is a better fit</b> for the data.</p>\n",
    "\n",
    "<h4>Let's take a look at the values for the different models.</h4>\n",
    "<p>Simple Linear Regression: Using Highway-mpg as a Predictor Variable of Price.\n",
    "<ul>\n",
    "    <li>R-squared: 0.49659118843391759</li>\n",
    "    <li>MSE: 3.16 x10^7</li>\n",
    "</ul>\n",
    "</p>\n",
    "\n",
    "<p>Multiple Linear Regression: Using Horsepower, Curb-weight, Engine-size, and Highway-mpg as Predictor Variables of Price.\n",
    "<ul>\n",
    "    <li>R-squared: 0.80896354913783497</li>\n",
    "    <li>MSE: 1.2 x10^7</li>\n",
    "</ul>\n",
    "</p>\n",
    "\n",
    "<p>Polynomial Fit: Using Highway-mpg as a Predictor Variable of Price.\n",
    "<ul>\n",
    "    <li>R-squared: 0.6741946663906514</li>\n",
    "    <li>MSE: 2.05 x 10^7</li>\n",
    "</ul>\n",
    "</p>\n"
   ]
  },
  {
   "cell_type": "markdown",
   "metadata": {},
   "source": [
    "<h3>Simple Linear Regression Model (SLR) vs Multiple Linear Regression Model (MLR)</h3>\n"
   ]
  },
  {
   "cell_type": "markdown",
   "metadata": {},
   "source": [
    "<p>Usually, the more variables you have, the better your model is at predicting, but this is not always true. Sometimes you may not have enough data, you may run into numerical problems, or many of the variables may not be useful and even act as noise. As a result, you should always check the MSE and R^2.</p>\n",
    "\n",
    "<p>In order to compare the results of the MLR vs SLR models, we look at a combination of both the R-squared and MSE to make the best conclusion about the fit of the model.\n",
    "<ul>\n",
    "    <li><b>MSE</b>: The MSE of SLR is  3.16x10^7  while MLR has an MSE of 1.2 x10^7.  The MSE of MLR is much smaller.</li>\n",
    "    <li><b>R-squared</b>: In this case, we can also see that there is a big difference between the R-squared of the SLR and the R-squared of the MLR. The R-squared for the SLR (~0.497) is very small compared to the R-squared for the MLR (~0.809).</li>\n",
    "</ul>\n",
    "</p>\n",
    "\n",
    "This R-squared in combination with the MSE show that MLR seems like the better model fit in this case compared to SLR.\n"
   ]
  },
  {
   "cell_type": "markdown",
   "metadata": {},
   "source": [
    "<h3>Simple Linear Model (SLR) vs. Polynomial Fit</h3>\n"
   ]
  },
  {
   "cell_type": "markdown",
   "metadata": {},
   "source": [
    "<ul>\n",
    "    <li><b>MSE</b>: We can see that Polynomial Fit brought down the MSE, since this MSE is smaller than the one from the SLR.</li> \n",
    "    <li><b>R-squared</b>: The R-squared for the Polynomial Fit is larger than the R-squared for the SLR, so the Polynomial Fit also brought up the R-squared quite a bit.</li>\n",
    "</ul>\n",
    "<p>Since the Polynomial Fit resulted in a lower MSE and a higher R-squared, we can conclude that this was a better fit model than the simple linear regression for predicting \"price\" with \"highway-mpg\" as a predictor variable.</p>\n"
   ]
  },
  {
   "cell_type": "markdown",
   "metadata": {},
   "source": [
    "<h3>Multiple Linear Regression (MLR) vs. Polynomial Fit</h3>\n"
   ]
  },
  {
   "cell_type": "markdown",
   "metadata": {},
   "source": [
    "<ul>\n",
    "    <li><b>MSE</b>: The MSE for the MLR is smaller than the MSE for the Polynomial Fit.</li>\n",
    "    <li><b>R-squared</b>: The R-squared for the MLR is also much larger than for the Polynomial Fit.</li>\n",
    "</ul>\n"
   ]
  },
  {
   "cell_type": "markdown",
   "metadata": {},
   "source": [
    "<h2>Conclusion</h2>\n"
   ]
  },
  {
   "cell_type": "markdown",
   "metadata": {},
   "source": [
    "<p>Comparing these three models, we conclude that <b>the MLR model is the best model</b> to be able to predict price from our dataset. This result makes sense since we have 27 variables in total and we know that more than one of those variables are potential predictors of the final car price.</p>\n"
   ]
  },
  {
   "cell_type": "markdown",
   "metadata": {},
   "source": [
    "### Thank you for completing this lab!\n",
    "\n",
    "## Author\n",
    "\n",
    "<a href=\"https://www.linkedin.com/in/joseph-s-50398b136/?utm_medium=Exinfluencer&utm_source=Exinfluencer&utm_content=000026UJ&utm_term=10006555&utm_id=NA-SkillsNetwork-Channel-SkillsNetworkCoursesIBMDeveloperSkillsNetworkDA0101ENSkillsNetwork20235326-2021-01-01\">Joseph Santarcangelo</a>\n",
    "\n",
    "### Other Contributors\n",
    "\n",
    "<a href=\"https://www.linkedin.com/in/mahdi-noorian-58219234/?utm_medium=Exinfluencer&utm_source=Exinfluencer&utm_content=000026UJ&utm_term=10006555&utm_id=NA-SkillsNetwork-Channel-SkillsNetworkCoursesIBMDeveloperSkillsNetworkDA0101ENSkillsNetwork20235326-2021-01-01\">Mahdi Noorian PhD</a>\n",
    "\n",
    "Bahare Talayian\n",
    "\n",
    "Eric Xiao\n",
    "\n",
    "Steven Dong\n",
    "\n",
    "Parizad\n",
    "\n",
    "Hima Vasudevan\n",
    "\n",
    "<a href=\"https://www.linkedin.com/in/fiorellawever/?utm_medium=Exinfluencer&utm_source=Exinfluencer&utm_content=000026UJ&utm_term=10006555&utm_id=NA-SkillsNetwork-Channel-SkillsNetworkCoursesIBMDeveloperSkillsNetworkDA0101ENSkillsNetwork20235326-2021-01-01\">Fiorella Wenver</a>\n",
    "\n",
    "<a href=\"https:// https://www.linkedin.com/in/yi-leng-yao-84451275/ \" target=\"_blank\" >Yi Yao</a>.\n",
    "\n",
    "## Change Log\n",
    "\n",
    "| Date (YYYY-MM-DD) | Version | Changed By | Change Description                            |\n",
    "| ----------------- | ------- | ---------- | --------------------------------------------- |\n",
    "| 2020-10-30        | 2.2     | Lakshmi    | Changed url of csv                            |\n",
    "| 2020-09-09        | 2.1     | Lakshmi    | Fixes made in Polynomial Regression Equations |\n",
    "| 2020-08-27        | 2.0     | Lavanya    | Moved lab to course repo in GitLab            |\n",
    "\n",
    "<hr>\n",
    "\n",
    "## <h3 align=\"center\"> © IBM Corporation 2020. All rights reserved. <h3/>\n"
   ]
  }
 ],
 "metadata": {
  "kernelspec": {
   "display_name": "Python 3 (ipykernel)",
   "language": "python",
   "name": "python3"
  },
  "language_info": {
   "codemirror_mode": {
    "name": "ipython",
    "version": 3
   },
   "file_extension": ".py",
   "mimetype": "text/x-python",
   "name": "python",
   "nbconvert_exporter": "python",
   "pygments_lexer": "ipython3",
   "version": "3.7.7"
  }
 },
 "nbformat": 4,
 "nbformat_minor": 4
}
