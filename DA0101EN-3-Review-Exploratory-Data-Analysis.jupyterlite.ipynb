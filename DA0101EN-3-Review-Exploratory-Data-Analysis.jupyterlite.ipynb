{
 "cells": [
  {
   "cell_type": "markdown",
   "metadata": {},
   "source": [
    "<center>\n",
    "    <img src=\"https://cf-courses-data.s3.us.cloud-object-storage.appdomain.cloud/IBMDeveloperSkillsNetwork-DA0101EN-SkillsNetwork/labs/Module%203/images/IDSNlogo.png\" width=\"300\" alt=\"cognitiveclass.ai logo\"  />\n",
    "</center>\n",
    "\n",
    "# Data Analysis with Python\n",
    "\n",
    "Estimated time needed: **30** minutes\n",
    "\n",
    "## Objectives\n",
    "\n",
    "After completing this lab you will be able to:\n",
    "\n",
    "*   Explore features or charecteristics to predict price of car\n"
   ]
  },
  {
   "cell_type": "markdown",
   "metadata": {},
   "source": [
    "<h2>Table of Contents</h2>\n",
    "\n",
    "<div class=\"alert alert-block alert-info\" style=\"margin-top: 20px\">\n",
    "<ol>\n",
    "    <li><a href=\"https://#import_data\">Import Data from Module</a></li>\n",
    "    <li><a href=\"https://#pattern_visualization\">Analyzing Individual Feature Patterns using Visualization</a></li>\n",
    "    <li><a href=\"https://#discriptive_statistics\">Descriptive Statistical Analysis</a></li>\n",
    "    <li><a href=\"https://#basic_grouping\">Basics of Grouping</a></li>\n",
    "    <li><a href=\"https://#correlation_causation\">Correlation and Causation</a></li>\n",
    "    <li><a href=\"https://#anova\">ANOVA</a></li>\n",
    "</ol>\n",
    "\n",
    "</div>\n",
    "\n",
    "<hr>\n"
   ]
  },
  {
   "cell_type": "markdown",
   "metadata": {},
   "source": [
    "<h3>What are the main characteristics that have the most impact on the car price?</h3>\n"
   ]
  },
  {
   "cell_type": "markdown",
   "metadata": {},
   "source": [
    "<h2 id=\"import_data\">1. Import Data from Module 2</h2>\n"
   ]
  },
  {
   "cell_type": "markdown",
   "metadata": {},
   "source": [
    "<h4>Setup</h4>\n"
   ]
  },
  {
   "cell_type": "markdown",
   "metadata": {},
   "source": [
    "you are running the lab in your  browser, so we will install the libraries using `piplite`\n"
   ]
  },
  {
   "cell_type": "code",
   "execution_count": 5,
   "metadata": {},
   "outputs": [
    {
     "name": "stdout",
     "output_type": "stream",
     "text": [
      "\u001b[31mERROR: Could not find a version that satisfies the requirement piplite (from versions: none)\u001b[0m\u001b[31m\r\n",
      "\u001b[0m\u001b[31mERROR: No matching distribution found for piplite\u001b[0m\u001b[31m\r\n",
      "\u001b[0m"
     ]
    }
   ],
   "source": [
    "!pip3 install piplite"
   ]
  },
  {
   "cell_type": "code",
   "execution_count": 1,
   "metadata": {},
   "outputs": [
    {
     "ename": "ModuleNotFoundError",
     "evalue": "No module named 'piplite'",
     "output_type": "error",
     "traceback": [
      "\u001b[0;31m---------------------------------------------------------------------------\u001b[0m",
      "\u001b[0;31mModuleNotFoundError\u001b[0m                       Traceback (most recent call last)",
      "\u001b[0;32m/var/folders/rx/m0btvv496ls5xlm6m33rc1kr0000gn/T/ipykernel_1001/2935437053.py\u001b[0m in \u001b[0;36masync-def-wrapper\u001b[0;34m()\u001b[0m\n\u001b[1;32m      3\u001b[0m \u001b[0;32mawait\u001b[0m \u001b[0mpiplite\u001b[0m\u001b[0;34m.\u001b[0m\u001b[0minstall\u001b[0m\u001b[0;34m(\u001b[0m\u001b[0;34m[\u001b[0m\u001b[0;34m'pandas'\u001b[0m\u001b[0;34m]\u001b[0m\u001b[0;34m)\u001b[0m\u001b[0;34m\u001b[0m\u001b[0;34m\u001b[0m\u001b[0m\n\u001b[1;32m      4\u001b[0m \u001b[0;32mawait\u001b[0m \u001b[0mpiplite\u001b[0m\u001b[0;34m.\u001b[0m\u001b[0minstall\u001b[0m\u001b[0;34m(\u001b[0m\u001b[0;34m[\u001b[0m\u001b[0;34m'matplotlib'\u001b[0m\u001b[0;34m]\u001b[0m\u001b[0;34m)\u001b[0m\u001b[0;34m\u001b[0m\u001b[0;34m\u001b[0m\u001b[0m\n\u001b[0;32m----> 5\u001b[0;31m \u001b[0;32mawait\u001b[0m \u001b[0mpiplite\u001b[0m\u001b[0;34m.\u001b[0m\u001b[0minstall\u001b[0m\u001b[0;34m(\u001b[0m\u001b[0;34m[\u001b[0m\u001b[0;34m'scipy'\u001b[0m\u001b[0;34m]\u001b[0m\u001b[0;34m)\u001b[0m\u001b[0;34m\u001b[0m\u001b[0;34m\u001b[0m\u001b[0m\n\u001b[0m\u001b[1;32m      6\u001b[0m \u001b[0;32mawait\u001b[0m \u001b[0mpiplite\u001b[0m\u001b[0;34m.\u001b[0m\u001b[0minstall\u001b[0m\u001b[0;34m(\u001b[0m\u001b[0;34m[\u001b[0m\u001b[0;34m'seaborn'\u001b[0m\u001b[0;34m]\u001b[0m\u001b[0;34m)\u001b[0m\u001b[0;34m\u001b[0m\u001b[0;34m\u001b[0m\u001b[0m\n",
      "\u001b[0;31mModuleNotFoundError\u001b[0m: No module named 'piplite'"
     ]
    }
   ],
   "source": [
    "#you are running the lab in your  browser, so we will install the libraries using ``piplite``\n",
    "import piplite\n",
    "await piplite.install(['pandas'])\n",
    "await piplite.install(['matplotlib'])\n",
    "await piplite.install(['scipy'])\n",
    "await piplite.install(['seaborn'])\n"
   ]
  },
  {
   "cell_type": "code",
   "execution_count": 16,
   "metadata": {},
   "outputs": [
    {
     "name": "stdout",
     "output_type": "stream",
     "text": [
      "Collecting pandas==1.3.3\n",
      "  Using cached pandas-1.3.3.tar.gz (4.7 MB)\n",
      "  Installing build dependencies ... \u001b[?25lerror\n",
      "  \u001b[1;31merror\u001b[0m: \u001b[1msubprocess-exited-with-error\u001b[0m\n",
      "  \n",
      "  \u001b[31m×\u001b[0m \u001b[32mpip subprocess to install build dependencies\u001b[0m did not run successfully.\n",
      "  \u001b[31m│\u001b[0m exit code: \u001b[1;36m1\u001b[0m\n",
      "  \u001b[31m╰─>\u001b[0m \u001b[31m[1239 lines of output]\u001b[0m\n",
      "  \u001b[31m   \u001b[0m Ignoring numpy: markers 'python_version == \"3.7\" and (platform_machine != \"arm64\" or platform_system != \"Darwin\") and platform_machine != \"aarch64\"' don't match your environment\n",
      "  \u001b[31m   \u001b[0m Ignoring numpy: markers 'python_version == \"3.8\" and (platform_machine != \"arm64\" or platform_system != \"Darwin\") and platform_machine != \"aarch64\"' don't match your environment\n",
      "  \u001b[31m   \u001b[0m Ignoring numpy: markers 'python_version == \"3.7\" and platform_machine == \"aarch64\"' don't match your environment\n",
      "  \u001b[31m   \u001b[0m Ignoring numpy: markers 'python_version == \"3.8\" and platform_machine == \"aarch64\"' don't match your environment\n",
      "  \u001b[31m   \u001b[0m Ignoring numpy: markers 'python_version == \"3.8\" and platform_machine == \"arm64\" and platform_system == \"Darwin\"' don't match your environment\n",
      "  \u001b[31m   \u001b[0m Ignoring numpy: markers 'python_version == \"3.9\" and platform_machine == \"arm64\" and platform_system == \"Darwin\"' don't match your environment\n",
      "  \u001b[31m   \u001b[0m Collecting setuptools>=51.0.0\n",
      "  \u001b[31m   \u001b[0m   Using cached setuptools-67.7.2-py3-none-any.whl (1.1 MB)\n",
      "  \u001b[31m   \u001b[0m Collecting wheel\n",
      "  \u001b[31m   \u001b[0m   Using cached wheel-0.40.0-py3-none-any.whl (64 kB)\n",
      "  \u001b[31m   \u001b[0m Collecting Cython<3,>=0.29.21\n",
      "  \u001b[31m   \u001b[0m   Using cached Cython-0.29.34-py2.py3-none-any.whl (988 kB)\n",
      "  \u001b[31m   \u001b[0m Collecting numpy==1.19.3\n",
      "  \u001b[31m   \u001b[0m   Using cached numpy-1.19.3.zip (7.3 MB)\n",
      "  \u001b[31m   \u001b[0m   Installing build dependencies: started\n",
      "  \u001b[31m   \u001b[0m   Installing build dependencies: finished with status 'done'\n",
      "  \u001b[31m   \u001b[0m   Getting requirements to build wheel: started\n",
      "  \u001b[31m   \u001b[0m   Getting requirements to build wheel: finished with status 'done'\n",
      "  \u001b[31m   \u001b[0m   Preparing metadata (pyproject.toml): started\n",
      "  \u001b[31m   \u001b[0m   Preparing metadata (pyproject.toml): finished with status 'done'\n",
      "  \u001b[31m   \u001b[0m Building wheels for collected packages: numpy\n",
      "  \u001b[31m   \u001b[0m   Building wheel for numpy (pyproject.toml): started\n",
      "  \u001b[31m   \u001b[0m   Building wheel for numpy (pyproject.toml): still running...\n",
      "  \u001b[31m   \u001b[0m   Building wheel for numpy (pyproject.toml): finished with status 'error'\n",
      "  \u001b[31m   \u001b[0m   error: subprocess-exited-with-error\n",
      "  \u001b[31m   \u001b[0m \n",
      "  \u001b[31m   \u001b[0m   × Building wheel for numpy (pyproject.toml) did not run successfully.\n",
      "  \u001b[31m   \u001b[0m   │ exit code: 1\n",
      "  \u001b[31m   \u001b[0m   ╰─> [1204 lines of output]\n",
      "  \u001b[31m   \u001b[0m       setup.py:67: RuntimeWarning: NumPy 1.19.3 may not yet support Python 3.10.\n",
      "  \u001b[31m   \u001b[0m         warnings.warn(\n",
      "  \u001b[31m   \u001b[0m       Running from numpy source directory.\n",
      "  \u001b[31m   \u001b[0m       numpy/random/_bounded_integers.pxd.in has not changed\n",
      "  \u001b[31m   \u001b[0m       numpy/random/_philox.pyx has not changed\n",
      "  \u001b[31m   \u001b[0m       numpy/random/_bounded_integers.pyx.in has not changed\n",
      "  \u001b[31m   \u001b[0m       numpy/random/_sfc64.pyx has not changed\n",
      "  \u001b[31m   \u001b[0m       numpy/random/_mt19937.pyx has not changed\n",
      "  \u001b[31m   \u001b[0m       numpy/random/bit_generator.pyx has not changed\n",
      "  \u001b[31m   \u001b[0m       Processing numpy/random/_bounded_integers.pyx\n",
      "  \u001b[31m   \u001b[0m       numpy/random/mtrand.pyx has not changed\n",
      "  \u001b[31m   \u001b[0m       numpy/random/_generator.pyx has not changed\n",
      "  \u001b[31m   \u001b[0m       numpy/random/_pcg64.pyx has not changed\n",
      "  \u001b[31m   \u001b[0m       numpy/random/_common.pyx has not changed\n",
      "  \u001b[31m   \u001b[0m       Cythonizing sources\n",
      "  \u001b[31m   \u001b[0m       blas_opt_info:\n",
      "  \u001b[31m   \u001b[0m       blas_mkl_info:\n",
      "  \u001b[31m   \u001b[0m       customize UnixCCompiler\n",
      "  \u001b[31m   \u001b[0m         libraries mkl_rt not found in ['/Library/Frameworks/Python.framework/Versions/3.10/lib', '/usr/local/lib', '/usr/lib']\n",
      "  \u001b[31m   \u001b[0m         NOT AVAILABLE\n",
      "  \u001b[31m   \u001b[0m \n",
      "  \u001b[31m   \u001b[0m       blis_info:\n",
      "  \u001b[31m   \u001b[0m         libraries blis not found in ['/Library/Frameworks/Python.framework/Versions/3.10/lib', '/usr/local/lib', '/usr/lib']\n",
      "  \u001b[31m   \u001b[0m         NOT AVAILABLE\n",
      "  \u001b[31m   \u001b[0m \n",
      "  \u001b[31m   \u001b[0m       openblas_info:\n",
      "  \u001b[31m   \u001b[0m         libraries openblas not found in ['/Library/Frameworks/Python.framework/Versions/3.10/lib', '/usr/local/lib', '/usr/lib']\n",
      "  \u001b[31m   \u001b[0m         NOT AVAILABLE\n",
      "  \u001b[31m   \u001b[0m \n",
      "  \u001b[31m   \u001b[0m       atlas_3_10_blas_threads_info:\n",
      "  \u001b[31m   \u001b[0m       Setting PTATLAS=ATLAS\n",
      "  \u001b[31m   \u001b[0m         libraries tatlas not found in ['/Library/Frameworks/Python.framework/Versions/3.10/lib', '/usr/local/lib', '/usr/lib']\n",
      "  \u001b[31m   \u001b[0m         NOT AVAILABLE\n",
      "  \u001b[31m   \u001b[0m \n",
      "  \u001b[31m   \u001b[0m       atlas_3_10_blas_info:\n",
      "  \u001b[31m   \u001b[0m         libraries satlas not found in ['/Library/Frameworks/Python.framework/Versions/3.10/lib', '/usr/local/lib', '/usr/lib']\n",
      "  \u001b[31m   \u001b[0m         NOT AVAILABLE\n",
      "  \u001b[31m   \u001b[0m \n",
      "  \u001b[31m   \u001b[0m       atlas_blas_threads_info:\n",
      "  \u001b[31m   \u001b[0m       Setting PTATLAS=ATLAS\n",
      "  \u001b[31m   \u001b[0m         libraries ptf77blas,ptcblas,atlas not found in ['/Library/Frameworks/Python.framework/Versions/3.10/lib', '/usr/local/lib', '/usr/lib']\n",
      "  \u001b[31m   \u001b[0m         NOT AVAILABLE\n",
      "  \u001b[31m   \u001b[0m \n",
      "  \u001b[31m   \u001b[0m       atlas_blas_info:\n",
      "  \u001b[31m   \u001b[0m         libraries f77blas,cblas,atlas not found in ['/Library/Frameworks/Python.framework/Versions/3.10/lib', '/usr/local/lib', '/usr/lib']\n",
      "  \u001b[31m   \u001b[0m         NOT AVAILABLE\n",
      "  \u001b[31m   \u001b[0m \n",
      "  \u001b[31m   \u001b[0m       accelerate_info:\n",
      "  \u001b[31m   \u001b[0m         libraries accelerate not found in ['/Library/Frameworks/Python.framework/Versions/3.10/lib', '/usr/local/lib', '/usr/lib']\n",
      "  \u001b[31m   \u001b[0m       Library accelerate was not found. Ignoring\n",
      "  \u001b[31m   \u001b[0m         libraries veclib not found in ['/Library/Frameworks/Python.framework/Versions/3.10/lib', '/usr/local/lib', '/usr/lib']\n",
      "  \u001b[31m   \u001b[0m       Library veclib was not found. Ignoring\n",
      "  \u001b[31m   \u001b[0m         FOUND:\n",
      "  \u001b[31m   \u001b[0m           extra_compile_args = ['-msse3', '-I/System/Library/Frameworks/vecLib.framework/Headers']\n",
      "  \u001b[31m   \u001b[0m           extra_link_args = ['-Wl,-framework', '-Wl,Accelerate']\n",
      "  \u001b[31m   \u001b[0m           define_macros = [('NO_ATLAS_INFO', 3), ('HAVE_CBLAS', None)]\n",
      "  \u001b[31m   \u001b[0m \n",
      "  \u001b[31m   \u001b[0m         FOUND:\n",
      "  \u001b[31m   \u001b[0m           extra_compile_args = ['-msse3', '-I/System/Library/Frameworks/vecLib.framework/Headers']\n",
      "  \u001b[31m   \u001b[0m           extra_link_args = ['-Wl,-framework', '-Wl,Accelerate']\n",
      "  \u001b[31m   \u001b[0m           define_macros = [('NO_ATLAS_INFO', 3), ('HAVE_CBLAS', None)]\n",
      "  \u001b[31m   \u001b[0m \n",
      "  \u001b[31m   \u001b[0m       non-existing path in 'numpy/distutils': 'site.cfg'\n",
      "  \u001b[31m   \u001b[0m       lapack_opt_info:\n",
      "  \u001b[31m   \u001b[0m       lapack_mkl_info:\n",
      "  \u001b[31m   \u001b[0m         libraries mkl_rt not found in ['/Library/Frameworks/Python.framework/Versions/3.10/lib', '/usr/local/lib', '/usr/lib']\n",
      "  \u001b[31m   \u001b[0m         NOT AVAILABLE\n",
      "  \u001b[31m   \u001b[0m \n",
      "  \u001b[31m   \u001b[0m       openblas_lapack_info:\n",
      "  \u001b[31m   \u001b[0m         libraries openblas not found in ['/Library/Frameworks/Python.framework/Versions/3.10/lib', '/usr/local/lib', '/usr/lib']\n",
      "  \u001b[31m   \u001b[0m         NOT AVAILABLE\n",
      "  \u001b[31m   \u001b[0m \n",
      "  \u001b[31m   \u001b[0m       openblas_clapack_info:\n",
      "  \u001b[31m   \u001b[0m         libraries openblas,lapack not found in ['/Library/Frameworks/Python.framework/Versions/3.10/lib', '/usr/local/lib', '/usr/lib']\n",
      "  \u001b[31m   \u001b[0m         NOT AVAILABLE\n",
      "  \u001b[31m   \u001b[0m \n",
      "  \u001b[31m   \u001b[0m       flame_info:\n",
      "  \u001b[31m   \u001b[0m         libraries flame not found in ['/Library/Frameworks/Python.framework/Versions/3.10/lib', '/usr/local/lib', '/usr/lib']\n",
      "  \u001b[31m   \u001b[0m         NOT AVAILABLE\n",
      "  \u001b[31m   \u001b[0m \n",
      "  \u001b[31m   \u001b[0m       atlas_3_10_threads_info:\n",
      "  \u001b[31m   \u001b[0m       Setting PTATLAS=ATLAS\n",
      "  \u001b[31m   \u001b[0m         libraries lapack_atlas not found in /Library/Frameworks/Python.framework/Versions/3.10/lib\n",
      "  \u001b[31m   \u001b[0m         libraries tatlas,tatlas not found in /Library/Frameworks/Python.framework/Versions/3.10/lib\n",
      "  \u001b[31m   \u001b[0m         libraries lapack_atlas not found in /usr/local/lib\n",
      "  \u001b[31m   \u001b[0m         libraries tatlas,tatlas not found in /usr/local/lib\n",
      "  \u001b[31m   \u001b[0m         libraries lapack_atlas not found in /usr/lib\n",
      "  \u001b[31m   \u001b[0m         libraries tatlas,tatlas not found in /usr/lib\n",
      "  \u001b[31m   \u001b[0m       <class 'numpy.distutils.system_info.atlas_3_10_threads_info'>\n",
      "  \u001b[31m   \u001b[0m         NOT AVAILABLE\n",
      "  \u001b[31m   \u001b[0m \n",
      "  \u001b[31m   \u001b[0m       atlas_3_10_info:\n",
      "  \u001b[31m   \u001b[0m         libraries lapack_atlas not found in /Library/Frameworks/Python.framework/Versions/3.10/lib\n",
      "  \u001b[31m   \u001b[0m         libraries satlas,satlas not found in /Library/Frameworks/Python.framework/Versions/3.10/lib\n",
      "  \u001b[31m   \u001b[0m         libraries lapack_atlas not found in /usr/local/lib\n",
      "  \u001b[31m   \u001b[0m         libraries satlas,satlas not found in /usr/local/lib\n",
      "  \u001b[31m   \u001b[0m         libraries lapack_atlas not found in /usr/lib\n",
      "  \u001b[31m   \u001b[0m         libraries satlas,satlas not found in /usr/lib\n",
      "  \u001b[31m   \u001b[0m       <class 'numpy.distutils.system_info.atlas_3_10_info'>\n",
      "  \u001b[31m   \u001b[0m         NOT AVAILABLE\n",
      "  \u001b[31m   \u001b[0m \n",
      "  \u001b[31m   \u001b[0m       atlas_threads_info:\n",
      "  \u001b[31m   \u001b[0m       Setting PTATLAS=ATLAS\n",
      "  \u001b[31m   \u001b[0m         libraries lapack_atlas not found in /Library/Frameworks/Python.framework/Versions/3.10/lib\n",
      "  \u001b[31m   \u001b[0m         libraries ptf77blas,ptcblas,atlas not found in /Library/Frameworks/Python.framework/Versions/3.10/lib\n",
      "  \u001b[31m   \u001b[0m         libraries lapack_atlas not found in /usr/local/lib\n",
      "  \u001b[31m   \u001b[0m         libraries ptf77blas,ptcblas,atlas not found in /usr/local/lib\n",
      "  \u001b[31m   \u001b[0m         libraries lapack_atlas not found in /usr/lib\n",
      "  \u001b[31m   \u001b[0m         libraries ptf77blas,ptcblas,atlas not found in /usr/lib\n",
      "  \u001b[31m   \u001b[0m       <class 'numpy.distutils.system_info.atlas_threads_info'>\n",
      "  \u001b[31m   \u001b[0m         NOT AVAILABLE\n",
      "  \u001b[31m   \u001b[0m \n",
      "  \u001b[31m   \u001b[0m       atlas_info:\n",
      "  \u001b[31m   \u001b[0m         libraries lapack_atlas not found in /Library/Frameworks/Python.framework/Versions/3.10/lib\n",
      "  \u001b[31m   \u001b[0m         libraries f77blas,cblas,atlas not found in /Library/Frameworks/Python.framework/Versions/3.10/lib\n",
      "  \u001b[31m   \u001b[0m         libraries lapack_atlas not found in /usr/local/lib\n",
      "  \u001b[31m   \u001b[0m         libraries f77blas,cblas,atlas not found in /usr/local/lib\n",
      "  \u001b[31m   \u001b[0m         libraries lapack_atlas not found in /usr/lib\n",
      "  \u001b[31m   \u001b[0m         libraries f77blas,cblas,atlas not found in /usr/lib\n",
      "  \u001b[31m   \u001b[0m       <class 'numpy.distutils.system_info.atlas_info'>\n",
      "  \u001b[31m   \u001b[0m         NOT AVAILABLE\n",
      "  \u001b[31m   \u001b[0m \n",
      "  \u001b[31m   \u001b[0m         FOUND:\n",
      "  \u001b[31m   \u001b[0m           extra_compile_args = ['-msse3', '-I/System/Library/Frameworks/vecLib.framework/Headers']\n",
      "  \u001b[31m   \u001b[0m           extra_link_args = ['-Wl,-framework', '-Wl,Accelerate']\n",
      "  \u001b[31m   \u001b[0m           define_macros = [('NO_ATLAS_INFO', 3), ('HAVE_CBLAS', None)]\n",
      "  \u001b[31m   \u001b[0m \n",
      "  \u001b[31m   \u001b[0m       /private/var/folders/rx/m0btvv496ls5xlm6m33rc1kr0000gn/T/pip-build-env-cafeychh/overlay/lib/python3.10/site-packages/setuptools/_distutils/dist.py:275: UserWarning: Unknown distribution option: 'define_macros'\n",
      "  \u001b[31m   \u001b[0m         warnings.warn(msg)\n",
      "  \u001b[31m   \u001b[0m       running bdist_wheel\n",
      "  \u001b[31m   \u001b[0m       running build\n",
      "  \u001b[31m   \u001b[0m       running config_cc\n",
      "  \u001b[31m   \u001b[0m       unifing config_cc, config, build_clib, build_ext, build commands --compiler options\n",
      "  \u001b[31m   \u001b[0m       running config_fc\n",
      "  \u001b[31m   \u001b[0m       unifing config_fc, config, build_clib, build_ext, build commands --fcompiler options\n",
      "  \u001b[31m   \u001b[0m       running build_src\n",
      "  \u001b[31m   \u001b[0m       build_src\n",
      "  \u001b[31m   \u001b[0m       building py_modules sources\n",
      "  \u001b[31m   \u001b[0m       building library \"npymath\" sources\n",
      "  \u001b[31m   \u001b[0m       Could not locate executable gfortran\n",
      "  \u001b[31m   \u001b[0m       Could not locate executable f95\n",
      "  \u001b[31m   \u001b[0m       Could not locate executable f90\n",
      "  \u001b[31m   \u001b[0m       Could not locate executable f77\n",
      "  \u001b[31m   \u001b[0m       Could not locate executable xlf90\n",
      "  \u001b[31m   \u001b[0m       Could not locate executable xlf\n",
      "  \u001b[31m   \u001b[0m       Could not locate executable ifort\n",
      "  \u001b[31m   \u001b[0m       Could not locate executable ifc\n",
      "  \u001b[31m   \u001b[0m       Could not locate executable g77\n",
      "  \u001b[31m   \u001b[0m       Could not locate executable g95\n",
      "  \u001b[31m   \u001b[0m       Could not locate executable pgfortran\n",
      "  \u001b[31m   \u001b[0m       don't know how to compile Fortran code on platform 'posix'\n",
      "  \u001b[31m   \u001b[0m         adding 'build/src.macosx-10.9-universal2-3.10/numpy/core/src/npymath' to include_dirs.\n",
      "  \u001b[31m   \u001b[0m       None - nothing done with h_files = ['build/src.macosx-10.9-universal2-3.10/numpy/core/src/npymath/npy_math_internal.h']\n",
      "  \u001b[31m   \u001b[0m       building library \"npysort\" sources\n",
      "  \u001b[31m   \u001b[0m         adding 'build/src.macosx-10.9-universal2-3.10/numpy/core/src/common' to include_dirs.\n",
      "  \u001b[31m   \u001b[0m       None - nothing done with h_files = ['build/src.macosx-10.9-universal2-3.10/numpy/core/src/common/npy_sort.h', 'build/src.macosx-10.9-universal2-3.10/numpy/core/src/common/npy_partition.h', 'build/src.macosx-10.9-universal2-3.10/numpy/core/src/common/npy_binsearch.h']\n",
      "  \u001b[31m   \u001b[0m       building library \"npyrandom\" sources\n",
      "  \u001b[31m   \u001b[0m       building extension \"numpy.core._multiarray_tests\" sources\n",
      "  \u001b[31m   \u001b[0m       building extension \"numpy.core._multiarray_umath\" sources\n",
      "  \u001b[31m   \u001b[0m         adding 'build/src.macosx-10.9-universal2-3.10/numpy/core/src/umath' to include_dirs.\n",
      "  \u001b[31m   \u001b[0m         adding 'build/src.macosx-10.9-universal2-3.10/numpy/core/src/npymath' to include_dirs.\n",
      "  \u001b[31m   \u001b[0m         adding 'build/src.macosx-10.9-universal2-3.10/numpy/core/src/common' to include_dirs.\n",
      "  \u001b[31m   \u001b[0m       numpy.core - nothing done with h_files = ['build/src.macosx-10.9-universal2-3.10/numpy/core/src/umath/funcs.inc', 'build/src.macosx-10.9-universal2-3.10/numpy/core/src/umath/simd.inc', 'build/src.macosx-10.9-universal2-3.10/numpy/core/src/umath/loops.h', 'build/src.macosx-10.9-universal2-3.10/numpy/core/src/umath/matmul.h', 'build/src.macosx-10.9-universal2-3.10/numpy/core/src/umath/clip.h', 'build/src.macosx-10.9-universal2-3.10/numpy/core/src/npymath/npy_math_internal.h', 'build/src.macosx-10.9-universal2-3.10/numpy/core/src/common/templ_common.h', 'build/src.macosx-10.9-universal2-3.10/numpy/core/include/numpy/config.h', 'build/src.macosx-10.9-universal2-3.10/numpy/core/include/numpy/_numpyconfig.h', 'build/src.macosx-10.9-universal2-3.10/numpy/core/include/numpy/__multiarray_api.h', 'build/src.macosx-10.9-universal2-3.10/numpy/core/include/numpy/__ufunc_api.h']\n",
      "  \u001b[31m   \u001b[0m       building extension \"numpy.core._umath_tests\" sources\n",
      "  \u001b[31m   \u001b[0m       building extension \"numpy.core._rational_tests\" sources\n",
      "  \u001b[31m   \u001b[0m       building extension \"numpy.core._struct_ufunc_tests\" sources\n",
      "  \u001b[31m   \u001b[0m       building extension \"numpy.core._operand_flag_tests\" sources\n",
      "  \u001b[31m   \u001b[0m       building extension \"numpy.fft._pocketfft_internal\" sources\n",
      "  \u001b[31m   \u001b[0m       building extension \"numpy.linalg.lapack_lite\" sources\n",
      "  \u001b[31m   \u001b[0m       building extension \"numpy.linalg._umath_linalg\" sources\n",
      "  \u001b[31m   \u001b[0m       building extension \"numpy.random._mt19937\" sources\n",
      "  \u001b[31m   \u001b[0m       building extension \"numpy.random._philox\" sources\n",
      "  \u001b[31m   \u001b[0m       building extension \"numpy.random._pcg64\" sources\n",
      "  \u001b[31m   \u001b[0m       building extension \"numpy.random._sfc64\" sources\n",
      "  \u001b[31m   \u001b[0m       building extension \"numpy.random._common\" sources\n",
      "  \u001b[31m   \u001b[0m       building extension \"numpy.random.bit_generator\" sources\n",
      "  \u001b[31m   \u001b[0m       building extension \"numpy.random._generator\" sources\n",
      "  \u001b[31m   \u001b[0m       building extension \"numpy.random._bounded_integers\" sources\n",
      "  \u001b[31m   \u001b[0m       building extension \"numpy.random.mtrand\" sources\n",
      "  \u001b[31m   \u001b[0m       building data_files sources\n",
      "  \u001b[31m   \u001b[0m       build_src: building npy-pkg config files\n",
      "  \u001b[31m   \u001b[0m       running build_py\n",
      "  \u001b[31m   \u001b[0m       creating build/lib.macosx-10.9-universal2-3.10\n",
      "  \u001b[31m   \u001b[0m       creating build/lib.macosx-10.9-universal2-3.10/numpy\n",
      "  \u001b[31m   \u001b[0m       copying numpy/conftest.py -> build/lib.macosx-10.9-universal2-3.10/numpy\n",
      "  \u001b[31m   \u001b[0m       copying numpy/version.py -> build/lib.macosx-10.9-universal2-3.10/numpy\n",
      "  \u001b[31m   \u001b[0m       copying numpy/_globals.py -> build/lib.macosx-10.9-universal2-3.10/numpy\n",
      "  \u001b[31m   \u001b[0m       copying numpy/__init__.py -> build/lib.macosx-10.9-universal2-3.10/numpy\n",
      "  \u001b[31m   \u001b[0m       copying numpy/dual.py -> build/lib.macosx-10.9-universal2-3.10/numpy\n",
      "  \u001b[31m   \u001b[0m       copying numpy/_distributor_init.py -> build/lib.macosx-10.9-universal2-3.10/numpy\n",
      "  \u001b[31m   \u001b[0m       copying numpy/setup.py -> build/lib.macosx-10.9-universal2-3.10/numpy\n",
      "  \u001b[31m   \u001b[0m       copying numpy/ctypeslib.py -> build/lib.macosx-10.9-universal2-3.10/numpy\n",
      "  \u001b[31m   \u001b[0m       copying numpy/matlib.py -> build/lib.macosx-10.9-universal2-3.10/numpy\n",
      "  \u001b[31m   \u001b[0m       copying numpy/_pytesttester.py -> build/lib.macosx-10.9-universal2-3.10/numpy\n",
      "  \u001b[31m   \u001b[0m       copying build/src.macosx-10.9-universal2-3.10/numpy/__config__.py -> build/lib.macosx-10.9-universal2-3.10/numpy\n",
      "  \u001b[31m   \u001b[0m       creating build/lib.macosx-10.9-universal2-3.10/numpy/compat\n",
      "  \u001b[31m   \u001b[0m       copying numpy/compat/py3k.py -> build/lib.macosx-10.9-universal2-3.10/numpy/compat\n",
      "  \u001b[31m   \u001b[0m       copying numpy/compat/__init__.py -> build/lib.macosx-10.9-universal2-3.10/numpy/compat\n",
      "  \u001b[31m   \u001b[0m       copying numpy/compat/setup.py -> build/lib.macosx-10.9-universal2-3.10/numpy/compat\n",
      "  \u001b[31m   \u001b[0m       copying numpy/compat/_inspect.py -> build/lib.macosx-10.9-universal2-3.10/numpy/compat\n",
      "  \u001b[31m   \u001b[0m       creating build/lib.macosx-10.9-universal2-3.10/numpy/compat/tests\n",
      "  \u001b[31m   \u001b[0m       copying numpy/compat/tests/__init__.py -> build/lib.macosx-10.9-universal2-3.10/numpy/compat/tests\n",
      "  \u001b[31m   \u001b[0m       copying numpy/compat/tests/test_compat.py -> build/lib.macosx-10.9-universal2-3.10/numpy/compat/tests\n",
      "  \u001b[31m   \u001b[0m       creating build/lib.macosx-10.9-universal2-3.10/numpy/core\n",
      "  \u001b[31m   \u001b[0m       copying numpy/core/umath.py -> build/lib.macosx-10.9-universal2-3.10/numpy/core\n",
      "  \u001b[31m   \u001b[0m       copying numpy/core/fromnumeric.py -> build/lib.macosx-10.9-universal2-3.10/numpy/core\n",
      "  \u001b[31m   \u001b[0m       copying numpy/core/_dtype.py -> build/lib.macosx-10.9-universal2-3.10/numpy/core\n",
      "  \u001b[31m   \u001b[0m       copying numpy/core/_add_newdocs.py -> build/lib.macosx-10.9-universal2-3.10/numpy/core\n",
      "  \u001b[31m   \u001b[0m       copying numpy/core/_methods.py -> build/lib.macosx-10.9-universal2-3.10/numpy/core\n",
      "  \u001b[31m   \u001b[0m       copying numpy/core/_internal.py -> build/lib.macosx-10.9-universal2-3.10/numpy/core\n",
      "  \u001b[31m   \u001b[0m       copying numpy/core/_string_helpers.py -> build/lib.macosx-10.9-universal2-3.10/numpy/core\n",
      "  \u001b[31m   \u001b[0m       copying numpy/core/multiarray.py -> build/lib.macosx-10.9-universal2-3.10/numpy/core\n",
      "  \u001b[31m   \u001b[0m       copying numpy/core/_asarray.py -> build/lib.macosx-10.9-universal2-3.10/numpy/core\n",
      "  \u001b[31m   \u001b[0m       copying numpy/core/records.py -> build/lib.macosx-10.9-universal2-3.10/numpy/core\n",
      "  \u001b[31m   \u001b[0m       copying numpy/core/__init__.py -> build/lib.macosx-10.9-universal2-3.10/numpy/core\n",
      "  \u001b[31m   \u001b[0m       copying numpy/core/setup_common.py -> build/lib.macosx-10.9-universal2-3.10/numpy/core\n",
      "  \u001b[31m   \u001b[0m       copying numpy/core/memmap.py -> build/lib.macosx-10.9-universal2-3.10/numpy/core\n",
      "  \u001b[31m   \u001b[0m       copying numpy/core/overrides.py -> build/lib.macosx-10.9-universal2-3.10/numpy/core\n",
      "  \u001b[31m   \u001b[0m       copying numpy/core/getlimits.py -> build/lib.macosx-10.9-universal2-3.10/numpy/core\n",
      "  \u001b[31m   \u001b[0m       copying numpy/core/_dtype_ctypes.py -> build/lib.macosx-10.9-universal2-3.10/numpy/core\n",
      "  \u001b[31m   \u001b[0m       copying numpy/core/defchararray.py -> build/lib.macosx-10.9-universal2-3.10/numpy/core\n",
      "  \u001b[31m   \u001b[0m       copying numpy/core/shape_base.py -> build/lib.macosx-10.9-universal2-3.10/numpy/core\n",
      "  \u001b[31m   \u001b[0m       copying numpy/core/machar.py -> build/lib.macosx-10.9-universal2-3.10/numpy/core\n",
      "  \u001b[31m   \u001b[0m       copying numpy/core/setup.py -> build/lib.macosx-10.9-universal2-3.10/numpy/core\n",
      "  \u001b[31m   \u001b[0m       copying numpy/core/numeric.py -> build/lib.macosx-10.9-universal2-3.10/numpy/core\n",
      "  \u001b[31m   \u001b[0m       copying numpy/core/function_base.py -> build/lib.macosx-10.9-universal2-3.10/numpy/core\n",
      "  \u001b[31m   \u001b[0m       copying numpy/core/einsumfunc.py -> build/lib.macosx-10.9-universal2-3.10/numpy/core\n",
      "  \u001b[31m   \u001b[0m       copying numpy/core/umath_tests.py -> build/lib.macosx-10.9-universal2-3.10/numpy/core\n",
      "  \u001b[31m   \u001b[0m       copying numpy/core/_ufunc_config.py -> build/lib.macosx-10.9-universal2-3.10/numpy/core\n",
      "  \u001b[31m   \u001b[0m       copying numpy/core/_exceptions.py -> build/lib.macosx-10.9-universal2-3.10/numpy/core\n",
      "  \u001b[31m   \u001b[0m       copying numpy/core/numerictypes.py -> build/lib.macosx-10.9-universal2-3.10/numpy/core\n",
      "  \u001b[31m   \u001b[0m       copying numpy/core/_type_aliases.py -> build/lib.macosx-10.9-universal2-3.10/numpy/core\n",
      "  \u001b[31m   \u001b[0m       copying numpy/core/cversions.py -> build/lib.macosx-10.9-universal2-3.10/numpy/core\n",
      "  \u001b[31m   \u001b[0m       copying numpy/core/arrayprint.py -> build/lib.macosx-10.9-universal2-3.10/numpy/core\n",
      "  \u001b[31m   \u001b[0m       copying numpy/core/code_generators/generate_numpy_api.py -> build/lib.macosx-10.9-universal2-3.10/numpy/core\n",
      "  \u001b[31m   \u001b[0m       creating build/lib.macosx-10.9-universal2-3.10/numpy/core/tests\n",
      "  \u001b[31m   \u001b[0m       copying numpy/core/tests/test_numerictypes.py -> build/lib.macosx-10.9-universal2-3.10/numpy/core/tests\n",
      "  \u001b[31m   \u001b[0m       copying numpy/core/tests/test_scalar_methods.py -> build/lib.macosx-10.9-universal2-3.10/numpy/core/tests\n",
      "  \u001b[31m   \u001b[0m       copying numpy/core/tests/test_scalarmath.py -> build/lib.macosx-10.9-universal2-3.10/numpy/core/tests\n",
      "  \u001b[31m   \u001b[0m       copying numpy/core/tests/test_item_selection.py -> build/lib.macosx-10.9-universal2-3.10/numpy/core/tests\n",
      "  \u001b[31m   \u001b[0m       copying numpy/core/tests/test_machar.py -> build/lib.macosx-10.9-universal2-3.10/numpy/core/tests\n",
      "  \u001b[31m   \u001b[0m       copying numpy/core/tests/test_unicode.py -> build/lib.macosx-10.9-universal2-3.10/numpy/core/tests\n",
      "  \u001b[31m   \u001b[0m       copying numpy/core/tests/test_arrayprint.py -> build/lib.macosx-10.9-universal2-3.10/numpy/core/tests\n",
      "  \u001b[31m   \u001b[0m       copying numpy/core/tests/test_scalarbuffer.py -> build/lib.macosx-10.9-universal2-3.10/numpy/core/tests\n",
      "  \u001b[31m   \u001b[0m       copying numpy/core/tests/test_indexerrors.py -> build/lib.macosx-10.9-universal2-3.10/numpy/core/tests\n",
      "  \u001b[31m   \u001b[0m       copying numpy/core/tests/test_print.py -> build/lib.macosx-10.9-universal2-3.10/numpy/core/tests\n",
      "  \u001b[31m   \u001b[0m       copying numpy/core/tests/test_half.py -> build/lib.macosx-10.9-universal2-3.10/numpy/core/tests\n",
      "  \u001b[31m   \u001b[0m       copying numpy/core/tests/test_mem_overlap.py -> build/lib.macosx-10.9-universal2-3.10/numpy/core/tests\n",
      "  \u001b[31m   \u001b[0m       copying numpy/core/tests/test_shape_base.py -> build/lib.macosx-10.9-universal2-3.10/numpy/core/tests\n",
      "  \u001b[31m   \u001b[0m       copying numpy/core/tests/test_deprecations.py -> build/lib.macosx-10.9-universal2-3.10/numpy/core/tests\n",
      "  \u001b[31m   \u001b[0m       copying numpy/core/tests/__init__.py -> build/lib.macosx-10.9-universal2-3.10/numpy/core/tests\n",
      "  \u001b[31m   \u001b[0m       copying numpy/core/tests/test_errstate.py -> build/lib.macosx-10.9-universal2-3.10/numpy/core/tests\n",
      "  \u001b[31m   \u001b[0m       copying numpy/core/tests/test_records.py -> build/lib.macosx-10.9-universal2-3.10/numpy/core/tests\n",
      "  \u001b[31m   \u001b[0m       copying numpy/core/tests/test_scalarinherit.py -> build/lib.macosx-10.9-universal2-3.10/numpy/core/tests\n",
      "  \u001b[31m   \u001b[0m       copying numpy/core/tests/test_indexing.py -> build/lib.macosx-10.9-universal2-3.10/numpy/core/tests\n",
      "  \u001b[31m   \u001b[0m       copying numpy/core/tests/test_umath.py -> build/lib.macosx-10.9-universal2-3.10/numpy/core/tests\n",
      "  \u001b[31m   \u001b[0m       copying numpy/core/tests/test_numeric.py -> build/lib.macosx-10.9-universal2-3.10/numpy/core/tests\n",
      "  \u001b[31m   \u001b[0m       copying numpy/core/tests/test_function_base.py -> build/lib.macosx-10.9-universal2-3.10/numpy/core/tests\n",
      "  \u001b[31m   \u001b[0m       copying numpy/core/tests/test_datetime.py -> build/lib.macosx-10.9-universal2-3.10/numpy/core/tests\n",
      "  \u001b[31m   \u001b[0m       copying numpy/core/tests/test__exceptions.py -> build/lib.macosx-10.9-universal2-3.10/numpy/core/tests\n",
      "  \u001b[31m   \u001b[0m       copying numpy/core/tests/test_extint128.py -> build/lib.macosx-10.9-universal2-3.10/numpy/core/tests\n",
      "  \u001b[31m   \u001b[0m       copying numpy/core/tests/test_umath_complex.py -> build/lib.macosx-10.9-universal2-3.10/numpy/core/tests\n",
      "  \u001b[31m   \u001b[0m       copying numpy/core/tests/_locales.py -> build/lib.macosx-10.9-universal2-3.10/numpy/core/tests\n",
      "  \u001b[31m   \u001b[0m       copying numpy/core/tests/test_defchararray.py -> build/lib.macosx-10.9-universal2-3.10/numpy/core/tests\n",
      "  \u001b[31m   \u001b[0m       copying numpy/core/tests/test_conversion_utils.py -> build/lib.macosx-10.9-universal2-3.10/numpy/core/tests\n",
      "  \u001b[31m   \u001b[0m       copying numpy/core/tests/test_scalarprint.py -> build/lib.macosx-10.9-universal2-3.10/numpy/core/tests\n",
      "  \u001b[31m   \u001b[0m       copying numpy/core/tests/test_abc.py -> build/lib.macosx-10.9-universal2-3.10/numpy/core/tests\n",
      "  \u001b[31m   \u001b[0m       copying numpy/core/tests/test_ufunc.py -> build/lib.macosx-10.9-universal2-3.10/numpy/core/tests\n",
      "  \u001b[31m   \u001b[0m       copying numpy/core/tests/test_dtype.py -> build/lib.macosx-10.9-universal2-3.10/numpy/core/tests\n",
      "  \u001b[31m   \u001b[0m       copying numpy/core/tests/test_umath_accuracy.py -> build/lib.macosx-10.9-universal2-3.10/numpy/core/tests\n",
      "  \u001b[31m   \u001b[0m       copying numpy/core/tests/test_getlimits.py -> build/lib.macosx-10.9-universal2-3.10/numpy/core/tests\n",
      "  \u001b[31m   \u001b[0m       copying numpy/core/tests/test_einsum.py -> build/lib.macosx-10.9-universal2-3.10/numpy/core/tests\n",
      "  \u001b[31m   \u001b[0m       copying numpy/core/tests/test_api.py -> build/lib.macosx-10.9-universal2-3.10/numpy/core/tests\n",
      "  \u001b[31m   \u001b[0m       copying numpy/core/tests/test_longdouble.py -> build/lib.macosx-10.9-universal2-3.10/numpy/core/tests\n",
      "  \u001b[31m   \u001b[0m       copying numpy/core/tests/test_overrides.py -> build/lib.macosx-10.9-universal2-3.10/numpy/core/tests\n",
      "  \u001b[31m   \u001b[0m       copying numpy/core/tests/test_scalar_ctors.py -> build/lib.macosx-10.9-universal2-3.10/numpy/core/tests\n",
      "  \u001b[31m   \u001b[0m       copying numpy/core/tests/test_multiarray.py -> build/lib.macosx-10.9-universal2-3.10/numpy/core/tests\n",
      "  \u001b[31m   \u001b[0m       copying numpy/core/tests/test_memmap.py -> build/lib.macosx-10.9-universal2-3.10/numpy/core/tests\n",
      "  \u001b[31m   \u001b[0m       copying numpy/core/tests/test_nditer.py -> build/lib.macosx-10.9-universal2-3.10/numpy/core/tests\n",
      "  \u001b[31m   \u001b[0m       copying numpy/core/tests/test_cpu_features.py -> build/lib.macosx-10.9-universal2-3.10/numpy/core/tests\n",
      "  \u001b[31m   \u001b[0m       copying numpy/core/tests/test_protocols.py -> build/lib.macosx-10.9-universal2-3.10/numpy/core/tests\n",
      "  \u001b[31m   \u001b[0m       copying numpy/core/tests/test_regression.py -> build/lib.macosx-10.9-universal2-3.10/numpy/core/tests\n",
      "  \u001b[31m   \u001b[0m       creating build/lib.macosx-10.9-universal2-3.10/numpy/distutils\n",
      "  \u001b[31m   \u001b[0m       copying numpy/distutils/unixccompiler.py -> build/lib.macosx-10.9-universal2-3.10/numpy/distutils\n",
      "  \u001b[31m   \u001b[0m       copying numpy/distutils/numpy_distribution.py -> build/lib.macosx-10.9-universal2-3.10/numpy/distutils\n",
      "  \u001b[31m   \u001b[0m       copying numpy/distutils/conv_template.py -> build/lib.macosx-10.9-universal2-3.10/numpy/distutils\n",
      "  \u001b[31m   \u001b[0m       copying numpy/distutils/cpuinfo.py -> build/lib.macosx-10.9-universal2-3.10/numpy/distutils\n",
      "  \u001b[31m   \u001b[0m       copying numpy/distutils/ccompiler.py -> build/lib.macosx-10.9-universal2-3.10/numpy/distutils\n",
      "  \u001b[31m   \u001b[0m       copying numpy/distutils/msvc9compiler.py -> build/lib.macosx-10.9-universal2-3.10/numpy/distutils\n",
      "  \u001b[31m   \u001b[0m       copying numpy/distutils/npy_pkg_config.py -> build/lib.macosx-10.9-universal2-3.10/numpy/distutils\n",
      "  \u001b[31m   \u001b[0m       copying numpy/distutils/misc_util.py -> build/lib.macosx-10.9-universal2-3.10/numpy/distutils\n",
      "  \u001b[31m   \u001b[0m       copying numpy/distutils/log.py -> build/lib.macosx-10.9-universal2-3.10/numpy/distutils\n",
      "  \u001b[31m   \u001b[0m       copying numpy/distutils/line_endings.py -> build/lib.macosx-10.9-universal2-3.10/numpy/distutils\n",
      "  \u001b[31m   \u001b[0m       copying numpy/distutils/lib2def.py -> build/lib.macosx-10.9-universal2-3.10/numpy/distutils\n",
      "  \u001b[31m   \u001b[0m       copying numpy/distutils/pathccompiler.py -> build/lib.macosx-10.9-universal2-3.10/numpy/distutils\n",
      "  \u001b[31m   \u001b[0m       copying numpy/distutils/system_info.py -> build/lib.macosx-10.9-universal2-3.10/numpy/distutils\n",
      "  \u001b[31m   \u001b[0m       copying numpy/distutils/__init__.py -> build/lib.macosx-10.9-universal2-3.10/numpy/distutils\n",
      "  \u001b[31m   \u001b[0m       copying numpy/distutils/core.py -> build/lib.macosx-10.9-universal2-3.10/numpy/distutils\n",
      "  \u001b[31m   \u001b[0m       copying numpy/distutils/exec_command.py -> build/lib.macosx-10.9-universal2-3.10/numpy/distutils\n",
      "  \u001b[31m   \u001b[0m       copying numpy/distutils/from_template.py -> build/lib.macosx-10.9-universal2-3.10/numpy/distutils\n",
      "  \u001b[31m   \u001b[0m       copying numpy/distutils/mingw32ccompiler.py -> build/lib.macosx-10.9-universal2-3.10/numpy/distutils\n",
      "  \u001b[31m   \u001b[0m       copying numpy/distutils/setup.py -> build/lib.macosx-10.9-universal2-3.10/numpy/distutils\n",
      "  \u001b[31m   \u001b[0m       copying numpy/distutils/extension.py -> build/lib.macosx-10.9-universal2-3.10/numpy/distutils\n",
      "  \u001b[31m   \u001b[0m       copying numpy/distutils/msvccompiler.py -> build/lib.macosx-10.9-universal2-3.10/numpy/distutils\n",
      "  \u001b[31m   \u001b[0m       copying numpy/distutils/intelccompiler.py -> build/lib.macosx-10.9-universal2-3.10/numpy/distutils\n",
      "  \u001b[31m   \u001b[0m       copying numpy/distutils/_shell_utils.py -> build/lib.macosx-10.9-universal2-3.10/numpy/distutils\n",
      "  \u001b[31m   \u001b[0m       copying build/src.macosx-10.9-universal2-3.10/numpy/distutils/__config__.py -> build/lib.macosx-10.9-universal2-3.10/numpy/distutils\n",
      "  \u001b[31m   \u001b[0m       creating build/lib.macosx-10.9-universal2-3.10/numpy/distutils/command\n",
      "  \u001b[31m   \u001b[0m       copying numpy/distutils/command/build.py -> build/lib.macosx-10.9-universal2-3.10/numpy/distutils/command\n",
      "  \u001b[31m   \u001b[0m       copying numpy/distutils/command/config_compiler.py -> build/lib.macosx-10.9-universal2-3.10/numpy/distutils/command\n",
      "  \u001b[31m   \u001b[0m       copying numpy/distutils/command/build_ext.py -> build/lib.macosx-10.9-universal2-3.10/numpy/distutils/command\n",
      "  \u001b[31m   \u001b[0m       copying numpy/distutils/command/config.py -> build/lib.macosx-10.9-universal2-3.10/numpy/distutils/command\n",
      "  \u001b[31m   \u001b[0m       copying numpy/distutils/command/install_headers.py -> build/lib.macosx-10.9-universal2-3.10/numpy/distutils/command\n",
      "  \u001b[31m   \u001b[0m       copying numpy/distutils/command/build_py.py -> build/lib.macosx-10.9-universal2-3.10/numpy/distutils/command\n",
      "  \u001b[31m   \u001b[0m       copying numpy/distutils/command/build_src.py -> build/lib.macosx-10.9-universal2-3.10/numpy/distutils/command\n",
      "  \u001b[31m   \u001b[0m       copying numpy/distutils/command/__init__.py -> build/lib.macosx-10.9-universal2-3.10/numpy/distutils/command\n",
      "  \u001b[31m   \u001b[0m       copying numpy/distutils/command/sdist.py -> build/lib.macosx-10.9-universal2-3.10/numpy/distutils/command\n",
      "  \u001b[31m   \u001b[0m       copying numpy/distutils/command/build_scripts.py -> build/lib.macosx-10.9-universal2-3.10/numpy/distutils/command\n",
      "  \u001b[31m   \u001b[0m       copying numpy/distutils/command/bdist_rpm.py -> build/lib.macosx-10.9-universal2-3.10/numpy/distutils/command\n",
      "  \u001b[31m   \u001b[0m       copying numpy/distutils/command/install_clib.py -> build/lib.macosx-10.9-universal2-3.10/numpy/distutils/command\n",
      "  \u001b[31m   \u001b[0m       copying numpy/distutils/command/build_clib.py -> build/lib.macosx-10.9-universal2-3.10/numpy/distutils/command\n",
      "  \u001b[31m   \u001b[0m       copying numpy/distutils/command/autodist.py -> build/lib.macosx-10.9-universal2-3.10/numpy/distutils/command\n",
      "  \u001b[31m   \u001b[0m       copying numpy/distutils/command/egg_info.py -> build/lib.macosx-10.9-universal2-3.10/numpy/distutils/command\n",
      "  \u001b[31m   \u001b[0m       copying numpy/distutils/command/install.py -> build/lib.macosx-10.9-universal2-3.10/numpy/distutils/command\n",
      "  \u001b[31m   \u001b[0m       copying numpy/distutils/command/develop.py -> build/lib.macosx-10.9-universal2-3.10/numpy/distutils/command\n",
      "  \u001b[31m   \u001b[0m       copying numpy/distutils/command/install_data.py -> build/lib.macosx-10.9-universal2-3.10/numpy/distutils/command\n",
      "  \u001b[31m   \u001b[0m       creating build/lib.macosx-10.9-universal2-3.10/numpy/distutils/fcompiler\n",
      "  \u001b[31m   \u001b[0m       copying numpy/distutils/fcompiler/gnu.py -> build/lib.macosx-10.9-universal2-3.10/numpy/distutils/fcompiler\n",
      "  \u001b[31m   \u001b[0m       copying numpy/distutils/fcompiler/compaq.py -> build/lib.macosx-10.9-universal2-3.10/numpy/distutils/fcompiler\n",
      "  \u001b[31m   \u001b[0m       copying numpy/distutils/fcompiler/intel.py -> build/lib.macosx-10.9-universal2-3.10/numpy/distutils/fcompiler\n",
      "  \u001b[31m   \u001b[0m       copying numpy/distutils/fcompiler/none.py -> build/lib.macosx-10.9-universal2-3.10/numpy/distutils/fcompiler\n",
      "  \u001b[31m   \u001b[0m       copying numpy/distutils/fcompiler/nag.py -> build/lib.macosx-10.9-universal2-3.10/numpy/distutils/fcompiler\n",
      "  \u001b[31m   \u001b[0m       copying numpy/distutils/fcompiler/pg.py -> build/lib.macosx-10.9-universal2-3.10/numpy/distutils/fcompiler\n",
      "  \u001b[31m   \u001b[0m       copying numpy/distutils/fcompiler/ibm.py -> build/lib.macosx-10.9-universal2-3.10/numpy/distutils/fcompiler\n",
      "  \u001b[31m   \u001b[0m       copying numpy/distutils/fcompiler/sun.py -> build/lib.macosx-10.9-universal2-3.10/numpy/distutils/fcompiler\n",
      "  \u001b[31m   \u001b[0m       copying numpy/distutils/fcompiler/nv.py -> build/lib.macosx-10.9-universal2-3.10/numpy/distutils/fcompiler\n",
      "  \u001b[31m   \u001b[0m       copying numpy/distutils/fcompiler/lahey.py -> build/lib.macosx-10.9-universal2-3.10/numpy/distutils/fcompiler\n",
      "  \u001b[31m   \u001b[0m       copying numpy/distutils/fcompiler/__init__.py -> build/lib.macosx-10.9-universal2-3.10/numpy/distutils/fcompiler\n",
      "  \u001b[31m   \u001b[0m       copying numpy/distutils/fcompiler/g95.py -> build/lib.macosx-10.9-universal2-3.10/numpy/distutils/fcompiler\n",
      "  \u001b[31m   \u001b[0m       copying numpy/distutils/fcompiler/mips.py -> build/lib.macosx-10.9-universal2-3.10/numpy/distutils/fcompiler\n",
      "  \u001b[31m   \u001b[0m       copying numpy/distutils/fcompiler/hpux.py -> build/lib.macosx-10.9-universal2-3.10/numpy/distutils/fcompiler\n",
      "  \u001b[31m   \u001b[0m       copying numpy/distutils/fcompiler/environment.py -> build/lib.macosx-10.9-universal2-3.10/numpy/distutils/fcompiler\n",
      "  \u001b[31m   \u001b[0m       copying numpy/distutils/fcompiler/pathf95.py -> build/lib.macosx-10.9-universal2-3.10/numpy/distutils/fcompiler\n",
      "  \u001b[31m   \u001b[0m       copying numpy/distutils/fcompiler/absoft.py -> build/lib.macosx-10.9-universal2-3.10/numpy/distutils/fcompiler\n",
      "  \u001b[31m   \u001b[0m       copying numpy/distutils/fcompiler/vast.py -> build/lib.macosx-10.9-universal2-3.10/numpy/distutils/fcompiler\n",
      "  \u001b[31m   \u001b[0m       creating build/lib.macosx-10.9-universal2-3.10/numpy/distutils/tests\n",
      "  \u001b[31m   \u001b[0m       copying numpy/distutils/tests/test_system_info.py -> build/lib.macosx-10.9-universal2-3.10/numpy/distutils/tests\n",
      "  \u001b[31m   \u001b[0m       copying numpy/distutils/tests/test_mingw32ccompiler.py -> build/lib.macosx-10.9-universal2-3.10/numpy/distutils/tests\n",
      "  \u001b[31m   \u001b[0m       copying numpy/distutils/tests/test_from_template.py -> build/lib.macosx-10.9-universal2-3.10/numpy/distutils/tests\n",
      "  \u001b[31m   \u001b[0m       copying numpy/distutils/tests/__init__.py -> build/lib.macosx-10.9-universal2-3.10/numpy/distutils/tests\n",
      "  \u001b[31m   \u001b[0m       copying numpy/distutils/tests/test_fcompiler_intel.py -> build/lib.macosx-10.9-universal2-3.10/numpy/distutils/tests\n",
      "  \u001b[31m   \u001b[0m       copying numpy/distutils/tests/test_misc_util.py -> build/lib.macosx-10.9-universal2-3.10/numpy/distutils/tests\n",
      "  \u001b[31m   \u001b[0m       copying numpy/distutils/tests/test_fcompiler.py -> build/lib.macosx-10.9-universal2-3.10/numpy/distutils/tests\n",
      "  \u001b[31m   \u001b[0m       copying numpy/distutils/tests/test_shell_utils.py -> build/lib.macosx-10.9-universal2-3.10/numpy/distutils/tests\n",
      "  \u001b[31m   \u001b[0m       copying numpy/distutils/tests/test_exec_command.py -> build/lib.macosx-10.9-universal2-3.10/numpy/distutils/tests\n",
      "  \u001b[31m   \u001b[0m       copying numpy/distutils/tests/test_npy_pkg_config.py -> build/lib.macosx-10.9-universal2-3.10/numpy/distutils/tests\n",
      "  \u001b[31m   \u001b[0m       copying numpy/distutils/tests/test_fcompiler_nagfor.py -> build/lib.macosx-10.9-universal2-3.10/numpy/distutils/tests\n",
      "  \u001b[31m   \u001b[0m       copying numpy/distutils/tests/test_fcompiler_gnu.py -> build/lib.macosx-10.9-universal2-3.10/numpy/distutils/tests\n",
      "  \u001b[31m   \u001b[0m       creating build/lib.macosx-10.9-universal2-3.10/numpy/doc\n",
      "  \u001b[31m   \u001b[0m       copying numpy/doc/misc.py -> build/lib.macosx-10.9-universal2-3.10/numpy/doc\n",
      "  \u001b[31m   \u001b[0m       copying numpy/doc/internals.py -> build/lib.macosx-10.9-universal2-3.10/numpy/doc\n",
      "  \u001b[31m   \u001b[0m       copying numpy/doc/creation.py -> build/lib.macosx-10.9-universal2-3.10/numpy/doc\n",
      "  \u001b[31m   \u001b[0m       copying numpy/doc/dispatch.py -> build/lib.macosx-10.9-universal2-3.10/numpy/doc\n",
      "  \u001b[31m   \u001b[0m       copying numpy/doc/constants.py -> build/lib.macosx-10.9-universal2-3.10/numpy/doc\n",
      "  \u001b[31m   \u001b[0m       copying numpy/doc/ufuncs.py -> build/lib.macosx-10.9-universal2-3.10/numpy/doc\n",
      "  \u001b[31m   \u001b[0m       copying numpy/doc/__init__.py -> build/lib.macosx-10.9-universal2-3.10/numpy/doc\n",
      "  \u001b[31m   \u001b[0m       copying numpy/doc/broadcasting.py -> build/lib.macosx-10.9-universal2-3.10/numpy/doc\n",
      "  \u001b[31m   \u001b[0m       copying numpy/doc/basics.py -> build/lib.macosx-10.9-universal2-3.10/numpy/doc\n",
      "  \u001b[31m   \u001b[0m       copying numpy/doc/subclassing.py -> build/lib.macosx-10.9-universal2-3.10/numpy/doc\n",
      "  \u001b[31m   \u001b[0m       copying numpy/doc/indexing.py -> build/lib.macosx-10.9-universal2-3.10/numpy/doc\n",
      "  \u001b[31m   \u001b[0m       copying numpy/doc/byteswapping.py -> build/lib.macosx-10.9-universal2-3.10/numpy/doc\n",
      "  \u001b[31m   \u001b[0m       copying numpy/doc/structured_arrays.py -> build/lib.macosx-10.9-universal2-3.10/numpy/doc\n",
      "  \u001b[31m   \u001b[0m       copying numpy/doc/glossary.py -> build/lib.macosx-10.9-universal2-3.10/numpy/doc\n",
      "  \u001b[31m   \u001b[0m       creating build/lib.macosx-10.9-universal2-3.10/numpy/f2py\n",
      "  \u001b[31m   \u001b[0m       copying numpy/f2py/cfuncs.py -> build/lib.macosx-10.9-universal2-3.10/numpy/f2py\n",
      "  \u001b[31m   \u001b[0m       copying numpy/f2py/common_rules.py -> build/lib.macosx-10.9-universal2-3.10/numpy/f2py\n",
      "  \u001b[31m   \u001b[0m       copying numpy/f2py/crackfortran.py -> build/lib.macosx-10.9-universal2-3.10/numpy/f2py\n",
      "  \u001b[31m   \u001b[0m       copying numpy/f2py/cb_rules.py -> build/lib.macosx-10.9-universal2-3.10/numpy/f2py\n",
      "  \u001b[31m   \u001b[0m       copying numpy/f2py/__init__.py -> build/lib.macosx-10.9-universal2-3.10/numpy/f2py\n",
      "  \u001b[31m   \u001b[0m       copying numpy/f2py/rules.py -> build/lib.macosx-10.9-universal2-3.10/numpy/f2py\n",
      "  \u001b[31m   \u001b[0m       copying numpy/f2py/f2py2e.py -> build/lib.macosx-10.9-universal2-3.10/numpy/f2py\n",
      "  \u001b[31m   \u001b[0m       copying numpy/f2py/func2subr.py -> build/lib.macosx-10.9-universal2-3.10/numpy/f2py\n",
      "  \u001b[31m   \u001b[0m       copying numpy/f2py/__version__.py -> build/lib.macosx-10.9-universal2-3.10/numpy/f2py\n",
      "  \u001b[31m   \u001b[0m       copying numpy/f2py/diagnose.py -> build/lib.macosx-10.9-universal2-3.10/numpy/f2py\n",
      "  \u001b[31m   \u001b[0m       copying numpy/f2py/setup.py -> build/lib.macosx-10.9-universal2-3.10/numpy/f2py\n",
      "  \u001b[31m   \u001b[0m       copying numpy/f2py/capi_maps.py -> build/lib.macosx-10.9-universal2-3.10/numpy/f2py\n",
      "  \u001b[31m   \u001b[0m       copying numpy/f2py/f90mod_rules.py -> build/lib.macosx-10.9-universal2-3.10/numpy/f2py\n",
      "  \u001b[31m   \u001b[0m       copying numpy/f2py/f2py_testing.py -> build/lib.macosx-10.9-universal2-3.10/numpy/f2py\n",
      "  \u001b[31m   \u001b[0m       copying numpy/f2py/use_rules.py -> build/lib.macosx-10.9-universal2-3.10/numpy/f2py\n",
      "  \u001b[31m   \u001b[0m       copying numpy/f2py/auxfuncs.py -> build/lib.macosx-10.9-universal2-3.10/numpy/f2py\n",
      "  \u001b[31m   \u001b[0m       copying numpy/f2py/__main__.py -> build/lib.macosx-10.9-universal2-3.10/numpy/f2py\n",
      "  \u001b[31m   \u001b[0m       creating build/lib.macosx-10.9-universal2-3.10/numpy/f2py/tests\n",
      "  \u001b[31m   \u001b[0m       copying numpy/f2py/tests/test_mixed.py -> build/lib.macosx-10.9-universal2-3.10/numpy/f2py/tests\n",
      "  \u001b[31m   \u001b[0m       copying numpy/f2py/tests/test_return_logical.py -> build/lib.macosx-10.9-universal2-3.10/numpy/f2py/tests\n",
      "  \u001b[31m   \u001b[0m       copying numpy/f2py/tests/test_assumed_shape.py -> build/lib.macosx-10.9-universal2-3.10/numpy/f2py/tests\n",
      "  \u001b[31m   \u001b[0m       copying numpy/f2py/tests/test_common.py -> build/lib.macosx-10.9-universal2-3.10/numpy/f2py/tests\n",
      "  \u001b[31m   \u001b[0m       copying numpy/f2py/tests/test_kind.py -> build/lib.macosx-10.9-universal2-3.10/numpy/f2py/tests\n",
      "  \u001b[31m   \u001b[0m       copying numpy/f2py/tests/test_array_from_pyobj.py -> build/lib.macosx-10.9-universal2-3.10/numpy/f2py/tests\n",
      "  \u001b[31m   \u001b[0m       copying numpy/f2py/tests/test_return_real.py -> build/lib.macosx-10.9-universal2-3.10/numpy/f2py/tests\n",
      "  \u001b[31m   \u001b[0m       copying numpy/f2py/tests/util.py -> build/lib.macosx-10.9-universal2-3.10/numpy/f2py/tests\n",
      "  \u001b[31m   \u001b[0m       copying numpy/f2py/tests/test_size.py -> build/lib.macosx-10.9-universal2-3.10/numpy/f2py/tests\n",
      "  \u001b[31m   \u001b[0m       copying numpy/f2py/tests/test_callback.py -> build/lib.macosx-10.9-universal2-3.10/numpy/f2py/tests\n",
      "  \u001b[31m   \u001b[0m       copying numpy/f2py/tests/test_string.py -> build/lib.macosx-10.9-universal2-3.10/numpy/f2py/tests\n",
      "  \u001b[31m   \u001b[0m       copying numpy/f2py/tests/__init__.py -> build/lib.macosx-10.9-universal2-3.10/numpy/f2py/tests\n",
      "  \u001b[31m   \u001b[0m       copying numpy/f2py/tests/test_quoted_character.py -> build/lib.macosx-10.9-universal2-3.10/numpy/f2py/tests\n",
      "  \u001b[31m   \u001b[0m       copying numpy/f2py/tests/test_parameter.py -> build/lib.macosx-10.9-universal2-3.10/numpy/f2py/tests\n",
      "  \u001b[31m   \u001b[0m       copying numpy/f2py/tests/test_semicolon_split.py -> build/lib.macosx-10.9-universal2-3.10/numpy/f2py/tests\n",
      "  \u001b[31m   \u001b[0m       copying numpy/f2py/tests/test_compile_function.py -> build/lib.macosx-10.9-universal2-3.10/numpy/f2py/tests\n",
      "  \u001b[31m   \u001b[0m       copying numpy/f2py/tests/test_block_docstring.py -> build/lib.macosx-10.9-universal2-3.10/numpy/f2py/tests\n",
      "  \u001b[31m   \u001b[0m       copying numpy/f2py/tests/test_return_integer.py -> build/lib.macosx-10.9-universal2-3.10/numpy/f2py/tests\n",
      "  \u001b[31m   \u001b[0m       copying numpy/f2py/tests/test_return_character.py -> build/lib.macosx-10.9-universal2-3.10/numpy/f2py/tests\n",
      "  \u001b[31m   \u001b[0m       copying numpy/f2py/tests/test_return_complex.py -> build/lib.macosx-10.9-universal2-3.10/numpy/f2py/tests\n",
      "  \u001b[31m   \u001b[0m       copying numpy/f2py/tests/test_crackfortran.py -> build/lib.macosx-10.9-universal2-3.10/numpy/f2py/tests\n",
      "  \u001b[31m   \u001b[0m       copying numpy/f2py/tests/test_regression.py -> build/lib.macosx-10.9-universal2-3.10/numpy/f2py/tests\n",
      "  \u001b[31m   \u001b[0m       creating build/lib.macosx-10.9-universal2-3.10/numpy/fft\n",
      "  \u001b[31m   \u001b[0m       copying numpy/fft/__init__.py -> build/lib.macosx-10.9-universal2-3.10/numpy/fft\n",
      "  \u001b[31m   \u001b[0m       copying numpy/fft/setup.py -> build/lib.macosx-10.9-universal2-3.10/numpy/fft\n",
      "  \u001b[31m   \u001b[0m       copying numpy/fft/helper.py -> build/lib.macosx-10.9-universal2-3.10/numpy/fft\n",
      "  \u001b[31m   \u001b[0m       copying numpy/fft/_pocketfft.py -> build/lib.macosx-10.9-universal2-3.10/numpy/fft\n",
      "  \u001b[31m   \u001b[0m       creating build/lib.macosx-10.9-universal2-3.10/numpy/fft/tests\n",
      "  \u001b[31m   \u001b[0m       copying numpy/fft/tests/test_pocketfft.py -> build/lib.macosx-10.9-universal2-3.10/numpy/fft/tests\n",
      "  \u001b[31m   \u001b[0m       copying numpy/fft/tests/test_helper.py -> build/lib.macosx-10.9-universal2-3.10/numpy/fft/tests\n",
      "  \u001b[31m   \u001b[0m       copying numpy/fft/tests/__init__.py -> build/lib.macosx-10.9-universal2-3.10/numpy/fft/tests\n",
      "  \u001b[31m   \u001b[0m       creating build/lib.macosx-10.9-universal2-3.10/numpy/lib\n",
      "  \u001b[31m   \u001b[0m       copying numpy/lib/_iotools.py -> build/lib.macosx-10.9-universal2-3.10/numpy/lib\n",
      "  \u001b[31m   \u001b[0m       copying numpy/lib/mixins.py -> build/lib.macosx-10.9-universal2-3.10/numpy/lib\n",
      "  \u001b[31m   \u001b[0m       copying numpy/lib/nanfunctions.py -> build/lib.macosx-10.9-universal2-3.10/numpy/lib\n",
      "  \u001b[31m   \u001b[0m       copying numpy/lib/recfunctions.py -> build/lib.macosx-10.9-universal2-3.10/numpy/lib\n",
      "  \u001b[31m   \u001b[0m       copying numpy/lib/histograms.py -> build/lib.macosx-10.9-universal2-3.10/numpy/lib\n",
      "  \u001b[31m   \u001b[0m       copying numpy/lib/scimath.py -> build/lib.macosx-10.9-universal2-3.10/numpy/lib\n",
      "  \u001b[31m   \u001b[0m       copying numpy/lib/_version.py -> build/lib.macosx-10.9-universal2-3.10/numpy/lib\n",
      "  \u001b[31m   \u001b[0m       copying numpy/lib/user_array.py -> build/lib.macosx-10.9-universal2-3.10/numpy/lib\n",
      "  \u001b[31m   \u001b[0m       copying numpy/lib/__init__.py -> build/lib.macosx-10.9-universal2-3.10/numpy/lib\n",
      "  \u001b[31m   \u001b[0m       copying numpy/lib/format.py -> build/lib.macosx-10.9-universal2-3.10/numpy/lib\n",
      "  \u001b[31m   \u001b[0m       copying numpy/lib/twodim_base.py -> build/lib.macosx-10.9-universal2-3.10/numpy/lib\n",
      "  \u001b[31m   \u001b[0m       copying numpy/lib/financial.py -> build/lib.macosx-10.9-universal2-3.10/numpy/lib\n",
      "  \u001b[31m   \u001b[0m       copying numpy/lib/index_tricks.py -> build/lib.macosx-10.9-universal2-3.10/numpy/lib\n",
      "  \u001b[31m   \u001b[0m       copying numpy/lib/npyio.py -> build/lib.macosx-10.9-universal2-3.10/numpy/lib\n",
      "  \u001b[31m   \u001b[0m       copying numpy/lib/shape_base.py -> build/lib.macosx-10.9-universal2-3.10/numpy/lib\n",
      "  \u001b[31m   \u001b[0m       copying numpy/lib/setup.py -> build/lib.macosx-10.9-universal2-3.10/numpy/lib\n",
      "  \u001b[31m   \u001b[0m       copying numpy/lib/stride_tricks.py -> build/lib.macosx-10.9-universal2-3.10/numpy/lib\n",
      "  \u001b[31m   \u001b[0m       copying numpy/lib/utils.py -> build/lib.macosx-10.9-universal2-3.10/numpy/lib\n",
      "  \u001b[31m   \u001b[0m       copying numpy/lib/arrayterator.py -> build/lib.macosx-10.9-universal2-3.10/numpy/lib\n",
      "  \u001b[31m   \u001b[0m       copying numpy/lib/function_base.py -> build/lib.macosx-10.9-universal2-3.10/numpy/lib\n",
      "  \u001b[31m   \u001b[0m       copying numpy/lib/arraysetops.py -> build/lib.macosx-10.9-universal2-3.10/numpy/lib\n",
      "  \u001b[31m   \u001b[0m       copying numpy/lib/arraypad.py -> build/lib.macosx-10.9-universal2-3.10/numpy/lib\n",
      "  \u001b[31m   \u001b[0m       copying numpy/lib/type_check.py -> build/lib.macosx-10.9-universal2-3.10/numpy/lib\n",
      "  \u001b[31m   \u001b[0m       copying numpy/lib/polynomial.py -> build/lib.macosx-10.9-universal2-3.10/numpy/lib\n",
      "  \u001b[31m   \u001b[0m       copying numpy/lib/_datasource.py -> build/lib.macosx-10.9-universal2-3.10/numpy/lib\n",
      "  \u001b[31m   \u001b[0m       copying numpy/lib/ufunclike.py -> build/lib.macosx-10.9-universal2-3.10/numpy/lib\n",
      "  \u001b[31m   \u001b[0m       creating build/lib.macosx-10.9-universal2-3.10/numpy/lib/tests\n",
      "  \u001b[31m   \u001b[0m       copying numpy/lib/tests/test_type_check.py -> build/lib.macosx-10.9-universal2-3.10/numpy/lib/tests\n",
      "  \u001b[31m   \u001b[0m       copying numpy/lib/tests/test_utils.py -> build/lib.macosx-10.9-universal2-3.10/numpy/lib/tests\n",
      "  \u001b[31m   \u001b[0m       copying numpy/lib/tests/test_twodim_base.py -> build/lib.macosx-10.9-universal2-3.10/numpy/lib/tests\n",
      "  \u001b[31m   \u001b[0m       copying numpy/lib/tests/test_polynomial.py -> build/lib.macosx-10.9-universal2-3.10/numpy/lib/tests\n",
      "  \u001b[31m   \u001b[0m       copying numpy/lib/tests/test__iotools.py -> build/lib.macosx-10.9-universal2-3.10/numpy/lib/tests\n",
      "  \u001b[31m   \u001b[0m       copying numpy/lib/tests/test_shape_base.py -> build/lib.macosx-10.9-universal2-3.10/numpy/lib/tests\n",
      "  \u001b[31m   \u001b[0m       copying numpy/lib/tests/test_ufunclike.py -> build/lib.macosx-10.9-universal2-3.10/numpy/lib/tests\n",
      "  \u001b[31m   \u001b[0m       copying numpy/lib/tests/test_index_tricks.py -> build/lib.macosx-10.9-universal2-3.10/numpy/lib/tests\n",
      "  \u001b[31m   \u001b[0m       copying numpy/lib/tests/__init__.py -> build/lib.macosx-10.9-universal2-3.10/numpy/lib/tests\n",
      "  \u001b[31m   \u001b[0m       copying numpy/lib/tests/test_arrayterator.py -> build/lib.macosx-10.9-universal2-3.10/numpy/lib/tests\n",
      "  \u001b[31m   \u001b[0m       copying numpy/lib/tests/test__version.py -> build/lib.macosx-10.9-universal2-3.10/numpy/lib/tests\n",
      "  \u001b[31m   \u001b[0m       copying numpy/lib/tests/test_io.py -> build/lib.macosx-10.9-universal2-3.10/numpy/lib/tests\n",
      "  \u001b[31m   \u001b[0m       copying numpy/lib/tests/test_arraysetops.py -> build/lib.macosx-10.9-universal2-3.10/numpy/lib/tests\n",
      "  \u001b[31m   \u001b[0m       copying numpy/lib/tests/test_function_base.py -> build/lib.macosx-10.9-universal2-3.10/numpy/lib/tests\n",
      "  \u001b[31m   \u001b[0m       copying numpy/lib/tests/test_arraypad.py -> build/lib.macosx-10.9-universal2-3.10/numpy/lib/tests\n",
      "  \u001b[31m   \u001b[0m       copying numpy/lib/tests/test_mixins.py -> build/lib.macosx-10.9-universal2-3.10/numpy/lib/tests\n",
      "  \u001b[31m   \u001b[0m       copying numpy/lib/tests/test_packbits.py -> build/lib.macosx-10.9-universal2-3.10/numpy/lib/tests\n",
      "  \u001b[31m   \u001b[0m       copying numpy/lib/tests/test__datasource.py -> build/lib.macosx-10.9-universal2-3.10/numpy/lib/tests\n",
      "  \u001b[31m   \u001b[0m       copying numpy/lib/tests/test_stride_tricks.py -> build/lib.macosx-10.9-universal2-3.10/numpy/lib/tests\n",
      "  \u001b[31m   \u001b[0m       copying numpy/lib/tests/test_financial.py -> build/lib.macosx-10.9-universal2-3.10/numpy/lib/tests\n",
      "  \u001b[31m   \u001b[0m       copying numpy/lib/tests/test_recfunctions.py -> build/lib.macosx-10.9-universal2-3.10/numpy/lib/tests\n",
      "  \u001b[31m   \u001b[0m       copying numpy/lib/tests/test_nanfunctions.py -> build/lib.macosx-10.9-universal2-3.10/numpy/lib/tests\n",
      "  \u001b[31m   \u001b[0m       copying numpy/lib/tests/test_format.py -> build/lib.macosx-10.9-universal2-3.10/numpy/lib/tests\n",
      "  \u001b[31m   \u001b[0m       copying numpy/lib/tests/test_histograms.py -> build/lib.macosx-10.9-universal2-3.10/numpy/lib/tests\n",
      "  \u001b[31m   \u001b[0m       copying numpy/lib/tests/test_regression.py -> build/lib.macosx-10.9-universal2-3.10/numpy/lib/tests\n",
      "  \u001b[31m   \u001b[0m       creating build/lib.macosx-10.9-universal2-3.10/numpy/linalg\n",
      "  \u001b[31m   \u001b[0m       copying numpy/linalg/__init__.py -> build/lib.macosx-10.9-universal2-3.10/numpy/linalg\n",
      "  \u001b[31m   \u001b[0m       copying numpy/linalg/setup.py -> build/lib.macosx-10.9-universal2-3.10/numpy/linalg\n",
      "  \u001b[31m   \u001b[0m       copying numpy/linalg/linalg.py -> build/lib.macosx-10.9-universal2-3.10/numpy/linalg\n",
      "  \u001b[31m   \u001b[0m       creating build/lib.macosx-10.9-universal2-3.10/numpy/linalg/tests\n",
      "  \u001b[31m   \u001b[0m       copying numpy/linalg/tests/test_linalg.py -> build/lib.macosx-10.9-universal2-3.10/numpy/linalg/tests\n",
      "  \u001b[31m   \u001b[0m       copying numpy/linalg/tests/test_deprecations.py -> build/lib.macosx-10.9-universal2-3.10/numpy/linalg/tests\n",
      "  \u001b[31m   \u001b[0m       copying numpy/linalg/tests/__init__.py -> build/lib.macosx-10.9-universal2-3.10/numpy/linalg/tests\n",
      "  \u001b[31m   \u001b[0m       copying numpy/linalg/tests/test_build.py -> build/lib.macosx-10.9-universal2-3.10/numpy/linalg/tests\n",
      "  \u001b[31m   \u001b[0m       copying numpy/linalg/tests/test_regression.py -> build/lib.macosx-10.9-universal2-3.10/numpy/linalg/tests\n",
      "  \u001b[31m   \u001b[0m       creating build/lib.macosx-10.9-universal2-3.10/numpy/ma\n",
      "  \u001b[31m   \u001b[0m       copying numpy/ma/extras.py -> build/lib.macosx-10.9-universal2-3.10/numpy/ma\n",
      "  \u001b[31m   \u001b[0m       copying numpy/ma/testutils.py -> build/lib.macosx-10.9-universal2-3.10/numpy/ma\n",
      "  \u001b[31m   \u001b[0m       copying numpy/ma/__init__.py -> build/lib.macosx-10.9-universal2-3.10/numpy/ma\n",
      "  \u001b[31m   \u001b[0m       copying numpy/ma/core.py -> build/lib.macosx-10.9-universal2-3.10/numpy/ma\n",
      "  \u001b[31m   \u001b[0m       copying numpy/ma/bench.py -> build/lib.macosx-10.9-universal2-3.10/numpy/ma\n",
      "  \u001b[31m   \u001b[0m       copying numpy/ma/setup.py -> build/lib.macosx-10.9-universal2-3.10/numpy/ma\n",
      "  \u001b[31m   \u001b[0m       copying numpy/ma/timer_comparison.py -> build/lib.macosx-10.9-universal2-3.10/numpy/ma\n",
      "  \u001b[31m   \u001b[0m       copying numpy/ma/mrecords.py -> build/lib.macosx-10.9-universal2-3.10/numpy/ma\n",
      "  \u001b[31m   \u001b[0m       creating build/lib.macosx-10.9-universal2-3.10/numpy/ma/tests\n",
      "  \u001b[31m   \u001b[0m       copying numpy/ma/tests/test_old_ma.py -> build/lib.macosx-10.9-universal2-3.10/numpy/ma/tests\n",
      "  \u001b[31m   \u001b[0m       copying numpy/ma/tests/test_core.py -> build/lib.macosx-10.9-universal2-3.10/numpy/ma/tests\n",
      "  \u001b[31m   \u001b[0m       copying numpy/ma/tests/test_deprecations.py -> build/lib.macosx-10.9-universal2-3.10/numpy/ma/tests\n",
      "  \u001b[31m   \u001b[0m       copying numpy/ma/tests/__init__.py -> build/lib.macosx-10.9-universal2-3.10/numpy/ma/tests\n",
      "  \u001b[31m   \u001b[0m       copying numpy/ma/tests/test_subclassing.py -> build/lib.macosx-10.9-universal2-3.10/numpy/ma/tests\n",
      "  \u001b[31m   \u001b[0m       copying numpy/ma/tests/test_extras.py -> build/lib.macosx-10.9-universal2-3.10/numpy/ma/tests\n",
      "  \u001b[31m   \u001b[0m       copying numpy/ma/tests/test_mrecords.py -> build/lib.macosx-10.9-universal2-3.10/numpy/ma/tests\n",
      "  \u001b[31m   \u001b[0m       copying numpy/ma/tests/test_regression.py -> build/lib.macosx-10.9-universal2-3.10/numpy/ma/tests\n",
      "  \u001b[31m   \u001b[0m       creating build/lib.macosx-10.9-universal2-3.10/numpy/matrixlib\n",
      "  \u001b[31m   \u001b[0m       copying numpy/matrixlib/__init__.py -> build/lib.macosx-10.9-universal2-3.10/numpy/matrixlib\n",
      "  \u001b[31m   \u001b[0m       copying numpy/matrixlib/setup.py -> build/lib.macosx-10.9-universal2-3.10/numpy/matrixlib\n",
      "  \u001b[31m   \u001b[0m       copying numpy/matrixlib/defmatrix.py -> build/lib.macosx-10.9-universal2-3.10/numpy/matrixlib\n",
      "  \u001b[31m   \u001b[0m       creating build/lib.macosx-10.9-universal2-3.10/numpy/matrixlib/tests\n",
      "  \u001b[31m   \u001b[0m       copying numpy/matrixlib/tests/test_matrix_linalg.py -> build/lib.macosx-10.9-universal2-3.10/numpy/matrixlib/tests\n",
      "  \u001b[31m   \u001b[0m       copying numpy/matrixlib/tests/test_defmatrix.py -> build/lib.macosx-10.9-universal2-3.10/numpy/matrixlib/tests\n",
      "  \u001b[31m   \u001b[0m       copying numpy/matrixlib/tests/__init__.py -> build/lib.macosx-10.9-universal2-3.10/numpy/matrixlib/tests\n",
      "  \u001b[31m   \u001b[0m       copying numpy/matrixlib/tests/test_interaction.py -> build/lib.macosx-10.9-universal2-3.10/numpy/matrixlib/tests\n",
      "  \u001b[31m   \u001b[0m       copying numpy/matrixlib/tests/test_numeric.py -> build/lib.macosx-10.9-universal2-3.10/numpy/matrixlib/tests\n",
      "  \u001b[31m   \u001b[0m       copying numpy/matrixlib/tests/test_masked_matrix.py -> build/lib.macosx-10.9-universal2-3.10/numpy/matrixlib/tests\n",
      "  \u001b[31m   \u001b[0m       copying numpy/matrixlib/tests/test_multiarray.py -> build/lib.macosx-10.9-universal2-3.10/numpy/matrixlib/tests\n",
      "  \u001b[31m   \u001b[0m       copying numpy/matrixlib/tests/test_regression.py -> build/lib.macosx-10.9-universal2-3.10/numpy/matrixlib/tests\n",
      "  \u001b[31m   \u001b[0m       creating build/lib.macosx-10.9-universal2-3.10/numpy/polynomial\n",
      "  \u001b[31m   \u001b[0m       copying numpy/polynomial/laguerre.py -> build/lib.macosx-10.9-universal2-3.10/numpy/polynomial\n",
      "  \u001b[31m   \u001b[0m       copying numpy/polynomial/_polybase.py -> build/lib.macosx-10.9-universal2-3.10/numpy/polynomial\n",
      "  \u001b[31m   \u001b[0m       copying numpy/polynomial/polyutils.py -> build/lib.macosx-10.9-universal2-3.10/numpy/polynomial\n",
      "  \u001b[31m   \u001b[0m       copying numpy/polynomial/__init__.py -> build/lib.macosx-10.9-universal2-3.10/numpy/polynomial\n",
      "  \u001b[31m   \u001b[0m       copying numpy/polynomial/setup.py -> build/lib.macosx-10.9-universal2-3.10/numpy/polynomial\n",
      "  \u001b[31m   \u001b[0m       copying numpy/polynomial/hermite_e.py -> build/lib.macosx-10.9-universal2-3.10/numpy/polynomial\n",
      "  \u001b[31m   \u001b[0m       copying numpy/polynomial/chebyshev.py -> build/lib.macosx-10.9-universal2-3.10/numpy/polynomial\n",
      "  \u001b[31m   \u001b[0m       copying numpy/polynomial/polynomial.py -> build/lib.macosx-10.9-universal2-3.10/numpy/polynomial\n",
      "  \u001b[31m   \u001b[0m       copying numpy/polynomial/legendre.py -> build/lib.macosx-10.9-universal2-3.10/numpy/polynomial\n",
      "  \u001b[31m   \u001b[0m       copying numpy/polynomial/hermite.py -> build/lib.macosx-10.9-universal2-3.10/numpy/polynomial\n",
      "  \u001b[31m   \u001b[0m       creating build/lib.macosx-10.9-universal2-3.10/numpy/polynomial/tests\n",
      "  \u001b[31m   \u001b[0m       copying numpy/polynomial/tests/test_chebyshev.py -> build/lib.macosx-10.9-universal2-3.10/numpy/polynomial/tests\n",
      "  \u001b[31m   \u001b[0m       copying numpy/polynomial/tests/test_hermite_e.py -> build/lib.macosx-10.9-universal2-3.10/numpy/polynomial/tests\n",
      "  \u001b[31m   \u001b[0m       copying numpy/polynomial/tests/test_polynomial.py -> build/lib.macosx-10.9-universal2-3.10/numpy/polynomial/tests\n",
      "  \u001b[31m   \u001b[0m       copying numpy/polynomial/tests/__init__.py -> build/lib.macosx-10.9-universal2-3.10/numpy/polynomial/tests\n",
      "  \u001b[31m   \u001b[0m       copying numpy/polynomial/tests/test_laguerre.py -> build/lib.macosx-10.9-universal2-3.10/numpy/polynomial/tests\n",
      "  \u001b[31m   \u001b[0m       copying numpy/polynomial/tests/test_legendre.py -> build/lib.macosx-10.9-universal2-3.10/numpy/polynomial/tests\n",
      "  \u001b[31m   \u001b[0m       copying numpy/polynomial/tests/test_printing.py -> build/lib.macosx-10.9-universal2-3.10/numpy/polynomial/tests\n",
      "  \u001b[31m   \u001b[0m       copying numpy/polynomial/tests/test_hermite.py -> build/lib.macosx-10.9-universal2-3.10/numpy/polynomial/tests\n",
      "  \u001b[31m   \u001b[0m       copying numpy/polynomial/tests/test_classes.py -> build/lib.macosx-10.9-universal2-3.10/numpy/polynomial/tests\n",
      "  \u001b[31m   \u001b[0m       copying numpy/polynomial/tests/test_polyutils.py -> build/lib.macosx-10.9-universal2-3.10/numpy/polynomial/tests\n",
      "  \u001b[31m   \u001b[0m       creating build/lib.macosx-10.9-universal2-3.10/numpy/random\n",
      "  \u001b[31m   \u001b[0m       copying numpy/random/_pickle.py -> build/lib.macosx-10.9-universal2-3.10/numpy/random\n",
      "  \u001b[31m   \u001b[0m       copying numpy/random/__init__.py -> build/lib.macosx-10.9-universal2-3.10/numpy/random\n",
      "  \u001b[31m   \u001b[0m       copying numpy/random/setup.py -> build/lib.macosx-10.9-universal2-3.10/numpy/random\n",
      "  \u001b[31m   \u001b[0m       creating build/lib.macosx-10.9-universal2-3.10/numpy/random/tests\n",
      "  \u001b[31m   \u001b[0m       copying numpy/random/tests/test_generator_mt19937.py -> build/lib.macosx-10.9-universal2-3.10/numpy/random/tests\n",
      "  \u001b[31m   \u001b[0m       copying numpy/random/tests/test_randomstate.py -> build/lib.macosx-10.9-universal2-3.10/numpy/random/tests\n",
      "  \u001b[31m   \u001b[0m       copying numpy/random/tests/test_direct.py -> build/lib.macosx-10.9-universal2-3.10/numpy/random/tests\n",
      "  \u001b[31m   \u001b[0m       copying numpy/random/tests/test_extending.py -> build/lib.macosx-10.9-universal2-3.10/numpy/random/tests\n",
      "  \u001b[31m   \u001b[0m       copying numpy/random/tests/__init__.py -> build/lib.macosx-10.9-universal2-3.10/numpy/random/tests\n",
      "  \u001b[31m   \u001b[0m       copying numpy/random/tests/test_smoke.py -> build/lib.macosx-10.9-universal2-3.10/numpy/random/tests\n",
      "  \u001b[31m   \u001b[0m       copying numpy/random/tests/test_randomstate_regression.py -> build/lib.macosx-10.9-universal2-3.10/numpy/random/tests\n",
      "  \u001b[31m   \u001b[0m       copying numpy/random/tests/test_seed_sequence.py -> build/lib.macosx-10.9-universal2-3.10/numpy/random/tests\n",
      "  \u001b[31m   \u001b[0m       copying numpy/random/tests/test_generator_mt19937_regressions.py -> build/lib.macosx-10.9-universal2-3.10/numpy/random/tests\n",
      "  \u001b[31m   \u001b[0m       copying numpy/random/tests/test_random.py -> build/lib.macosx-10.9-universal2-3.10/numpy/random/tests\n",
      "  \u001b[31m   \u001b[0m       copying numpy/random/tests/test_regression.py -> build/lib.macosx-10.9-universal2-3.10/numpy/random/tests\n",
      "  \u001b[31m   \u001b[0m       creating build/lib.macosx-10.9-universal2-3.10/numpy/testing\n",
      "  \u001b[31m   \u001b[0m       copying numpy/testing/__init__.py -> build/lib.macosx-10.9-universal2-3.10/numpy/testing\n",
      "  \u001b[31m   \u001b[0m       copying numpy/testing/setup.py -> build/lib.macosx-10.9-universal2-3.10/numpy/testing\n",
      "  \u001b[31m   \u001b[0m       copying numpy/testing/utils.py -> build/lib.macosx-10.9-universal2-3.10/numpy/testing\n",
      "  \u001b[31m   \u001b[0m       copying numpy/testing/print_coercion_tables.py -> build/lib.macosx-10.9-universal2-3.10/numpy/testing\n",
      "  \u001b[31m   \u001b[0m       creating build/lib.macosx-10.9-universal2-3.10/numpy/testing/_private\n",
      "  \u001b[31m   \u001b[0m       copying numpy/testing/_private/nosetester.py -> build/lib.macosx-10.9-universal2-3.10/numpy/testing/_private\n",
      "  \u001b[31m   \u001b[0m       copying numpy/testing/_private/__init__.py -> build/lib.macosx-10.9-universal2-3.10/numpy/testing/_private\n",
      "  \u001b[31m   \u001b[0m       copying numpy/testing/_private/noseclasses.py -> build/lib.macosx-10.9-universal2-3.10/numpy/testing/_private\n",
      "  \u001b[31m   \u001b[0m       copying numpy/testing/_private/utils.py -> build/lib.macosx-10.9-universal2-3.10/numpy/testing/_private\n",
      "  \u001b[31m   \u001b[0m       copying numpy/testing/_private/parameterized.py -> build/lib.macosx-10.9-universal2-3.10/numpy/testing/_private\n",
      "  \u001b[31m   \u001b[0m       copying numpy/testing/_private/decorators.py -> build/lib.macosx-10.9-universal2-3.10/numpy/testing/_private\n",
      "  \u001b[31m   \u001b[0m       creating build/lib.macosx-10.9-universal2-3.10/numpy/testing/tests\n",
      "  \u001b[31m   \u001b[0m       copying numpy/testing/tests/test_utils.py -> build/lib.macosx-10.9-universal2-3.10/numpy/testing/tests\n",
      "  \u001b[31m   \u001b[0m       copying numpy/testing/tests/test_decorators.py -> build/lib.macosx-10.9-universal2-3.10/numpy/testing/tests\n",
      "  \u001b[31m   \u001b[0m       copying numpy/testing/tests/__init__.py -> build/lib.macosx-10.9-universal2-3.10/numpy/testing/tests\n",
      "  \u001b[31m   \u001b[0m       copying numpy/testing/tests/test_doctesting.py -> build/lib.macosx-10.9-universal2-3.10/numpy/testing/tests\n",
      "  \u001b[31m   \u001b[0m       creating build/lib.macosx-10.9-universal2-3.10/numpy/tests\n",
      "  \u001b[31m   \u001b[0m       copying numpy/tests/test_warnings.py -> build/lib.macosx-10.9-universal2-3.10/numpy/tests\n",
      "  \u001b[31m   \u001b[0m       copying numpy/tests/test_matlib.py -> build/lib.macosx-10.9-universal2-3.10/numpy/tests\n",
      "  \u001b[31m   \u001b[0m       copying numpy/tests/test_ctypeslib.py -> build/lib.macosx-10.9-universal2-3.10/numpy/tests\n",
      "  \u001b[31m   \u001b[0m       copying numpy/tests/test_numpy_version.py -> build/lib.macosx-10.9-universal2-3.10/numpy/tests\n",
      "  \u001b[31m   \u001b[0m       copying numpy/tests/__init__.py -> build/lib.macosx-10.9-universal2-3.10/numpy/tests\n",
      "  \u001b[31m   \u001b[0m       copying numpy/tests/test_reloading.py -> build/lib.macosx-10.9-universal2-3.10/numpy/tests\n",
      "  \u001b[31m   \u001b[0m       copying numpy/tests/test_public_api.py -> build/lib.macosx-10.9-universal2-3.10/numpy/tests\n",
      "  \u001b[31m   \u001b[0m       copying numpy/tests/test_scripts.py -> build/lib.macosx-10.9-universal2-3.10/numpy/tests\n",
      "  \u001b[31m   \u001b[0m       running build_clib\n",
      "  \u001b[31m   \u001b[0m       customize UnixCCompiler\n",
      "  \u001b[31m   \u001b[0m       customize UnixCCompiler using new_build_clib\n",
      "  \u001b[31m   \u001b[0m       building 'npymath' library\n",
      "  \u001b[31m   \u001b[0m       compiling C sources\n",
      "  \u001b[31m   \u001b[0m       C compiler: clang -Wno-unused-result -Wsign-compare -Wunreachable-code -fno-common -dynamic -DNDEBUG -g -fwrapv -O3 -Wall -arch arm64 -arch x86_64 -g\n",
      "  \u001b[31m   \u001b[0m \n",
      "  \u001b[31m   \u001b[0m       creating build/temp.macosx-10.9-universal2-3.10\n",
      "  \u001b[31m   \u001b[0m       creating build/temp.macosx-10.9-universal2-3.10/numpy\n",
      "  \u001b[31m   \u001b[0m       creating build/temp.macosx-10.9-universal2-3.10/numpy/core\n",
      "  \u001b[31m   \u001b[0m       creating build/temp.macosx-10.9-universal2-3.10/numpy/core/src\n",
      "  \u001b[31m   \u001b[0m       creating build/temp.macosx-10.9-universal2-3.10/numpy/core/src/npymath\n",
      "  \u001b[31m   \u001b[0m       creating build/temp.macosx-10.9-universal2-3.10/build\n",
      "  \u001b[31m   \u001b[0m       creating build/temp.macosx-10.9-universal2-3.10/build/src.macosx-10.9-universal2-3.10\n",
      "  \u001b[31m   \u001b[0m       creating build/temp.macosx-10.9-universal2-3.10/build/src.macosx-10.9-universal2-3.10/numpy\n",
      "  \u001b[31m   \u001b[0m       creating build/temp.macosx-10.9-universal2-3.10/build/src.macosx-10.9-universal2-3.10/numpy/core\n",
      "  \u001b[31m   \u001b[0m       creating build/temp.macosx-10.9-universal2-3.10/build/src.macosx-10.9-universal2-3.10/numpy/core/src\n",
      "  \u001b[31m   \u001b[0m       creating build/temp.macosx-10.9-universal2-3.10/build/src.macosx-10.9-universal2-3.10/numpy/core/src/npymath\n",
      "  \u001b[31m   \u001b[0m       compile options: '-Ibuild/src.macosx-10.9-universal2-3.10/numpy/core/src/npymath -Inumpy/core/include -Ibuild/src.macosx-10.9-universal2-3.10/numpy/core/include/numpy -Inumpy/core/src/common -Inumpy/core/src -Inumpy/core -Inumpy/core/src/npymath -Inumpy/core/src/multiarray -Inumpy/core/src/umath -Inumpy/core/src/npysort -I/Library/Frameworks/Python.framework/Versions/3.10/include/python3.10 -Ibuild/src.macosx-10.9-universal2-3.10/numpy/core/src/common -Ibuild/src.macosx-10.9-universal2-3.10/numpy/core/src/npymath -c'\n",
      "  \u001b[31m   \u001b[0m       clang: numpy/core/src/npymath/npy_math.c\n",
      "  \u001b[31m   \u001b[0m       clang: numpy/core/src/npymath/halffloat.c\n",
      "  \u001b[31m   \u001b[0m       clang: build/src.macosx-10.9-universal2-3.10/numpy/core/src/npymath/npy_math_complex.c\n",
      "  \u001b[31m   \u001b[0m       clang: build/src.macosx-10.9-universal2-3.10/numpy/core/src/npymath/ieee754.c\n",
      "  \u001b[31m   \u001b[0m       xcrun: adding 4 object files to build/temp.macosx-10.9-universal2-3.10/libnpymath.a\n",
      "  \u001b[31m   \u001b[0m       warning: /Library/Developer/CommandLineTools/usr/bin/ranlib: archive library: build/temp.macosx-10.9-universal2-3.10/libnpymath.a will be fat and ar(1) will not be able to operate on it\n",
      "  \u001b[31m   \u001b[0m       ranlib:@ build/temp.macosx-10.9-universal2-3.10/libnpymath.a\n",
      "  \u001b[31m   \u001b[0m       building 'npysort' library\n",
      "  \u001b[31m   \u001b[0m       compiling C sources\n",
      "  \u001b[31m   \u001b[0m       C compiler: clang -Wno-unused-result -Wsign-compare -Wunreachable-code -fno-common -dynamic -DNDEBUG -g -fwrapv -O3 -Wall -arch arm64 -arch x86_64 -g\n",
      "  \u001b[31m   \u001b[0m \n",
      "  \u001b[31m   \u001b[0m       creating build/temp.macosx-10.9-universal2-3.10/build/src.macosx-10.9-universal2-3.10/numpy/core/src/npysort\n",
      "  \u001b[31m   \u001b[0m       compile options: '-Ibuild/src.macosx-10.9-universal2-3.10/numpy/core/src/common -Inumpy/core/include -Ibuild/src.macosx-10.9-universal2-3.10/numpy/core/include/numpy -Inumpy/core/src/common -Inumpy/core/src -Inumpy/core -Inumpy/core/src/npymath -Inumpy/core/src/multiarray -Inumpy/core/src/umath -Inumpy/core/src/npysort -I/Library/Frameworks/Python.framework/Versions/3.10/include/python3.10 -Ibuild/src.macosx-10.9-universal2-3.10/numpy/core/src/common -Ibuild/src.macosx-10.9-universal2-3.10/numpy/core/src/npymath -c'\n",
      "  \u001b[31m   \u001b[0m       clang: build/src.macosx-10.9-universal2-3.10/numpy/core/src/npysort/quicksort.c\n",
      "  \u001b[31m   \u001b[0m       clang: build/src.macosx-10.9-universal2-3.10/numpy/core/src/npysort/mergesort.c\n",
      "  \u001b[31m   \u001b[0m       clang: build/src.macosx-10.9-universal2-3.10/numpy/core/src/npysort/timsort.c\n",
      "  \u001b[31m   \u001b[0m       clang: build/src.macosx-10.9-universal2-3.10/numpy/core/src/npysort/heapsort.c\n",
      "  \u001b[31m   \u001b[0m       clang: build/src.macosx-10.9-universal2-3.10/numpy/core/src/npysort/radixsort.c\n",
      "  \u001b[31m   \u001b[0m       clang: build/src.macosx-10.9-universal2-3.10/numpy/core/src/npysort/selection.c\n",
      "  \u001b[31m   \u001b[0m       clang: build/src.macosx-10.9-universal2-3.10/numpy/core/src/npysort/binsearch.c\n",
      "  \u001b[31m   \u001b[0m       numpy/core/src/npysort/selection.c.src:328:9: warning: code will never be executed [-Wunreachable-code]\n",
      "  \u001b[31m   \u001b[0m               npy_intp k;\n",
      "  \u001b[31m   \u001b[0m               ^~~~~~~~~~~\n",
      "  \u001b[31m   \u001b[0m       numpy/core/src/npysort/selection.c.src:326:14: note: silence by adding parentheses to mark code as explicitly dead\n",
      "  \u001b[31m   \u001b[0m           else if (0 && kth == num - 1) {\n",
      "  \u001b[31m   \u001b[0m                    ^\n",
      "  \u001b[31m   \u001b[0m                    /* DISABLES CODE */ ( )\n",
      "  \u001b[31m   \u001b[0m       numpy/core/src/npysort/selection.c.src:328:9: warning: code will never be executed [-Wunreachable-code]\n",
      "  \u001b[31m   \u001b[0m               npy_intp k;\n",
      "  \u001b[31m   \u001b[0m               ^~~~~~~~~~~\n",
      "  \u001b[31m   \u001b[0m       numpy/core/src/npysort/selection.c.src:326:14: note: silence by adding parentheses to mark code as explicitly dead\n",
      "  \u001b[31m   \u001b[0m           else if (0 && kth == num - 1) {\n",
      "  \u001b[31m   \u001b[0m                    ^\n",
      "  \u001b[31m   \u001b[0m                    /* DISABLES CODE */ ( )\n",
      "  \u001b[31m   \u001b[0m       numpy/core/src/npysort/selection.c.src:328:9: warning: code will never be executed [-Wunreachable-code]\n",
      "  \u001b[31m   \u001b[0m               npy_intp k;\n",
      "  \u001b[31m   \u001b[0m               ^~~~~~~~~~~\n",
      "  \u001b[31m   \u001b[0m       numpy/core/src/npysort/selection.c.src:326:14: note: silence by adding parentheses to mark code as explicitly dead\n",
      "  \u001b[31m   \u001b[0m           else if (0 && kth == num - 1) {\n",
      "  \u001b[31m   \u001b[0m                    ^\n",
      "  \u001b[31m   \u001b[0m                    /* DISABLES CODE */ ( )\n",
      "  \u001b[31m   \u001b[0m       numpy/core/src/npysort/selection.c.src:328:9: warning: code will never be executed [-Wunreachable-code]\n",
      "  \u001b[31m   \u001b[0m               npy_intp k;\n",
      "  \u001b[31m   \u001b[0m               ^~~~~~~~~~~\n",
      "  \u001b[31m   \u001b[0m       numpy/core/src/npysort/selection.c.src:326:14: note: silence by adding parentheses to mark code as explicitly dead\n",
      "  \u001b[31m   \u001b[0m           else if (0 && kth == num - 1) {\n",
      "  \u001b[31m   \u001b[0m                    ^\n",
      "  \u001b[31m   \u001b[0m                    /* DISABLES CODE */ ( )\n",
      "  \u001b[31m   \u001b[0m       numpy/core/src/npysort/selection.c.src:328:9: warning: code will never be executed [-Wunreachable-code]\n",
      "  \u001b[31m   \u001b[0m               npy_intp k;\n",
      "  \u001b[31m   \u001b[0m               ^~~~~~~~~~~\n",
      "  \u001b[31m   \u001b[0m       numpy/core/src/npysort/selection.c.src:326:14: note: silence by adding parentheses to mark code as explicitly dead\n",
      "  \u001b[31m   \u001b[0m           else if (0 && kth == num - 1) {\n",
      "  \u001b[31m   \u001b[0m                    ^\n",
      "  \u001b[31m   \u001b[0m                    /* DISABLES CODE */ ( )\n",
      "  \u001b[31m   \u001b[0m       numpy/core/src/npysort/selection.c.src:328:9: warning: code will never be executed [-Wunreachable-code]\n",
      "  \u001b[31m   \u001b[0m               npy_intp k;\n",
      "  \u001b[31m   \u001b[0m               ^~~~~~~~~~~\n",
      "  \u001b[31m   \u001b[0m       numpy/core/src/npysort/selection.c.src:326:14: note: silence by adding parentheses to mark code as explicitly dead\n",
      "  \u001b[31m   \u001b[0m           else if (0 && kth == num - 1) {\n",
      "  \u001b[31m   \u001b[0m                    ^\n",
      "  \u001b[31m   \u001b[0m                    /* DISABLES CODE */ ( )\n",
      "  \u001b[31m   \u001b[0m       numpy/core/src/npysort/selection.c.src:328:9: warning: code will never be executed [-Wunreachable-code]\n",
      "  \u001b[31m   \u001b[0m               npy_intp k;\n",
      "  \u001b[31m   \u001b[0m               ^~~~~~~~~~~\n",
      "  \u001b[31m   \u001b[0m       numpy/core/src/npysort/selection.c.src:326:14: note: silence by adding parentheses to mark code as explicitly dead\n",
      "  \u001b[31m   \u001b[0m           else if (0 && kth == num - 1) {\n",
      "  \u001b[31m   \u001b[0m                    ^\n",
      "  \u001b[31m   \u001b[0m                    /* DISABLES CODE */ ( )\n",
      "  \u001b[31m   \u001b[0m       numpy/core/src/npysort/selection.c.src:328:9: warning: code will never be executed [-Wunreachable-code]\n",
      "  \u001b[31m   \u001b[0m               npy_intp k;\n",
      "  \u001b[31m   \u001b[0m               ^~~~~~~~~~~\n",
      "  \u001b[31m   \u001b[0m       numpy/core/src/npysort/selection.c.src:326:14: note: silence by adding parentheses to mark code as explicitly dead\n",
      "  \u001b[31m   \u001b[0m           else if (0 && kth == num - 1) {\n",
      "  \u001b[31m   \u001b[0m                    ^\n",
      "  \u001b[31m   \u001b[0m                    /* DISABLES CODE */ ( )\n",
      "  \u001b[31m   \u001b[0m       numpy/core/src/npysort/selection.c.src:328:9: warning: code will never be executed [-Wunreachable-code]\n",
      "  \u001b[31m   \u001b[0m               npy_intp k;\n",
      "  \u001b[31m   \u001b[0m               ^~~~~~~~~~~\n",
      "  \u001b[31m   \u001b[0m       numpy/core/src/npysort/selection.c.src:326:14: note: silence by adding parentheses to mark code as explicitly dead\n",
      "  \u001b[31m   \u001b[0m           else if (0 && kth == num - 1) {\n",
      "  \u001b[31m   \u001b[0m                    ^\n",
      "  \u001b[31m   \u001b[0m                    /* DISABLES CODE */ ( )\n",
      "  \u001b[31m   \u001b[0m       numpy/core/src/npysort/selection.c.src:328:9: warning: code will never be executed [-Wunreachable-code]\n",
      "  \u001b[31m   \u001b[0m               npy_intp k;\n",
      "  \u001b[31m   \u001b[0m               ^~~~~~~~~~~\n",
      "  \u001b[31m   \u001b[0m       numpy/core/src/npysort/selection.c.src:326:14: note: silence by adding parentheses to mark code as explicitly dead\n",
      "  \u001b[31m   \u001b[0m           else if (0 && kth == num - 1) {\n",
      "  \u001b[31m   \u001b[0m                    ^\n",
      "  \u001b[31m   \u001b[0m                    /* DISABLES CODE */ ( )\n",
      "  \u001b[31m   \u001b[0m       numpy/core/src/npysort/selection.c.src:328:9: warning: code will never be executed [-Wunreachable-code]\n",
      "  \u001b[31m   \u001b[0m               npy_intp k;\n",
      "  \u001b[31m   \u001b[0m               ^~~~~~~~~~~\n",
      "  \u001b[31m   \u001b[0m       numpy/core/src/npysort/selection.c.src:326:14: note: silence by adding parentheses to mark code as explicitly dead\n",
      "  \u001b[31m   \u001b[0m           else if (0 && kth == num - 1) {\n",
      "  \u001b[31m   \u001b[0m                    ^\n",
      "  \u001b[31m   \u001b[0m                    /* DISABLES CODE */ ( )\n",
      "  \u001b[31m   \u001b[0m       numpy/core/src/npysort/selection.c.src:328:9: warning: code will never be executed [-Wunreachable-code]\n",
      "  \u001b[31m   \u001b[0m               npy_intp k;\n",
      "  \u001b[31m   \u001b[0m               ^~~~~~~~~~~\n",
      "  \u001b[31m   \u001b[0m       numpy/core/src/npysort/selection.c.src:326:14: note: silence by adding parentheses to mark code as explicitly dead\n",
      "  \u001b[31m   \u001b[0m           else if (0 && kth == num - 1) {\n",
      "  \u001b[31m   \u001b[0m                    ^\n",
      "  \u001b[31m   \u001b[0m                    /* DISABLES CODE */ ( )\n",
      "  \u001b[31m   \u001b[0m       numpy/core/src/npysort/selection.c.src:328:9: warning: code will never be executed [-Wunreachable-code]\n",
      "  \u001b[31m   \u001b[0m               npy_intp k;\n",
      "  \u001b[31m   \u001b[0m               ^~~~~~~~~~~\n",
      "  \u001b[31m   \u001b[0m       numpy/core/src/npysort/selection.c.src:326:14: note: silence by adding parentheses to mark code as explicitly dead\n",
      "  \u001b[31m   \u001b[0m           else if (0 && kth == num - 1) {\n",
      "  \u001b[31m   \u001b[0m                    ^\n",
      "  \u001b[31m   \u001b[0m                    /* DISABLES CODE */ ( )\n",
      "  \u001b[31m   \u001b[0m       numpy/core/src/npysort/selection.c.src:328:9: warning: code will never be executed [-Wunreachable-code]\n",
      "  \u001b[31m   \u001b[0m               npy_intp k;\n",
      "  \u001b[31m   \u001b[0m               ^~~~~~~~~~~\n",
      "  \u001b[31m   \u001b[0m       numpy/core/src/npysort/selection.c.src:326:14: note: silence by adding parentheses to mark code as explicitly dead\n",
      "  \u001b[31m   \u001b[0m           else if (0 && kth == num - 1) {\n",
      "  \u001b[31m   \u001b[0m                    ^\n",
      "  \u001b[31m   \u001b[0m                    /* DISABLES CODE */ ( )\n",
      "  \u001b[31m   \u001b[0m       numpy/core/src/npysort/selection.c.src:328:9: warning: code will never be executed [-Wunreachable-code]\n",
      "  \u001b[31m   \u001b[0m               npy_intp k;\n",
      "  \u001b[31m   \u001b[0m               ^~~~~~~~~~~\n",
      "  \u001b[31m   \u001b[0m       numpy/core/src/npysort/selection.c.src:326:14: note: silence by adding parentheses to mark code as explicitly dead\n",
      "  \u001b[31m   \u001b[0m           else if (0 && kth == num - 1) {\n",
      "  \u001b[31m   \u001b[0m                    ^\n",
      "  \u001b[31m   \u001b[0m                    /* DISABLES CODE */ ( )\n",
      "  \u001b[31m   \u001b[0m       numpy/core/src/npysort/selection.c.src:328:9: warning: code will never be executed [-Wunreachable-code]\n",
      "  \u001b[31m   \u001b[0m               npy_intp k;\n",
      "  \u001b[31m   \u001b[0m               ^~~~~~~~~~~\n",
      "  \u001b[31m   \u001b[0m       numpy/core/src/npysort/selection.c.src:326:14: note: silence by adding parentheses to mark code as explicitly dead\n",
      "  \u001b[31m   \u001b[0m           else if (0 && kth == num - 1) {\n",
      "  \u001b[31m   \u001b[0m                    ^\n",
      "  \u001b[31m   \u001b[0m                    /* DISABLES CODE */ ( )\n",
      "  \u001b[31m   \u001b[0m       numpy/core/src/npysort/selection.c.src:328:9: warning: code will never be executed [-Wunreachable-code]\n",
      "  \u001b[31m   \u001b[0m               npy_intp k;\n",
      "  \u001b[31m   \u001b[0m               ^~~~~~~~~~~\n",
      "  \u001b[31m   \u001b[0m       numpy/core/src/npysort/selection.c.src:326:14: note: silence by adding parentheses to mark code as explicitly dead\n",
      "  \u001b[31m   \u001b[0m           else if (0 && kth == num - 1) {\n",
      "  \u001b[31m   \u001b[0m                    ^\n",
      "  \u001b[31m   \u001b[0m                    /* DISABLES CODE */ ( )\n",
      "  \u001b[31m   \u001b[0m       numpy/core/src/npysort/selection.c.src:328:9: warning: code will never be executed [-Wunreachable-code]\n",
      "  \u001b[31m   \u001b[0m               npy_intp k;\n",
      "  \u001b[31m   \u001b[0m               ^~~~~~~~~~~\n",
      "  \u001b[31m   \u001b[0m       numpy/core/src/npysort/selection.c.src:326:14: note: silence by adding parentheses to mark code as explicitly dead\n",
      "  \u001b[31m   \u001b[0m           else if (0 && kth == num - 1) {\n",
      "  \u001b[31m   \u001b[0m                    ^\n",
      "  \u001b[31m   \u001b[0m                    /* DISABLES CODE */ ( )\n",
      "  \u001b[31m   \u001b[0m       numpy/core/src/npysort/selection.c.src:328:9: warning: code will never be executed [-Wunreachable-code]\n",
      "  \u001b[31m   \u001b[0m               npy_intp k;\n",
      "  \u001b[31m   \u001b[0m               ^~~~~~~~~~~\n",
      "  \u001b[31m   \u001b[0m       numpy/core/src/npysort/selection.c.src:326:14: note: silence by adding parentheses to mark code as explicitly dead\n",
      "  \u001b[31m   \u001b[0m           else if (0 && kth == num - 1) {\n",
      "  \u001b[31m   \u001b[0m                    ^\n",
      "  \u001b[31m   \u001b[0m                    /* DISABLES CODE */ ( )\n",
      "  \u001b[31m   \u001b[0m       numpy/core/src/npysort/selection.c.src:328:9: warning: code will never be executed [-Wunreachable-code]\n",
      "  \u001b[31m   \u001b[0m               npy_intp k;\n",
      "  \u001b[31m   \u001b[0m               ^~~~~~~~~~~\n",
      "  \u001b[31m   \u001b[0m       numpy/core/src/npysort/selection.c.src:326:14: note: silence by adding parentheses to mark code as explicitly dead\n",
      "  \u001b[31m   \u001b[0m           else if (0 && kth == num - 1) {\n",
      "  \u001b[31m   \u001b[0m                    ^\n",
      "  \u001b[31m   \u001b[0m                    /* DISABLES CODE */ ( )\n",
      "  \u001b[31m   \u001b[0m       numpy/core/src/npysort/selection.c.src:328:9: warning: code will never be executed [-Wunreachable-code]\n",
      "  \u001b[31m   \u001b[0m               npy_intp k;\n",
      "  \u001b[31m   \u001b[0m               ^~~~~~~~~~~\n",
      "  \u001b[31m   \u001b[0m       numpy/core/src/npysort/selection.c.src:326:14: note: silence by adding parentheses to mark code as explicitly dead\n",
      "  \u001b[31m   \u001b[0m           else if (0 && kth == num - 1) {\n",
      "  \u001b[31m   \u001b[0m                    ^\n",
      "  \u001b[31m   \u001b[0m                    /* DISABLES CODE */ ( )\n",
      "  \u001b[31m   \u001b[0m       numpy/core/src/npysort/selection.c.src:328:9: warning: code will never be executed [-Wunreachable-code]\n",
      "  \u001b[31m   \u001b[0m               npy_intp k;\n",
      "  \u001b[31m   \u001b[0m               ^~~~~~~~~~~\n",
      "  \u001b[31m   \u001b[0m       numpy/core/src/npysort/selection.c.src:326:14: note: silence by adding parentheses to mark code as explicitly dead\n",
      "  \u001b[31m   \u001b[0m           else if (0 && kth == num - 1) {\n",
      "  \u001b[31m   \u001b[0m                    ^\n",
      "  \u001b[31m   \u001b[0m                    /* DISABLES CODE */ ( )\n",
      "  \u001b[31m   \u001b[0m       22 warnings generated.\n",
      "  \u001b[31m   \u001b[0m       numpy/core/src/npysort/selection.c.src:328:9: warning: code will never be executed [-Wunreachable-code]\n",
      "  \u001b[31m   \u001b[0m               npy_intp k;\n",
      "  \u001b[31m   \u001b[0m               ^~~~~~~~~~~\n",
      "  \u001b[31m   \u001b[0m       numpy/core/src/npysort/selection.c.src:326:14: note: silence by adding parentheses to mark code as explicitly dead\n",
      "  \u001b[31m   \u001b[0m           else if (0 && kth == num - 1) {\n",
      "  \u001b[31m   \u001b[0m                    ^\n",
      "  \u001b[31m   \u001b[0m                    /* DISABLES CODE */ ( )\n",
      "  \u001b[31m   \u001b[0m       numpy/core/src/npysort/selection.c.src:328:9: warning: code will never be executed [-Wunreachable-code]\n",
      "  \u001b[31m   \u001b[0m               npy_intp k;\n",
      "  \u001b[31m   \u001b[0m               ^~~~~~~~~~~\n",
      "  \u001b[31m   \u001b[0m       numpy/core/src/npysort/selection.c.src:326:14: note: silence by adding parentheses to mark code as explicitly dead\n",
      "  \u001b[31m   \u001b[0m           else if (0 && kth == num - 1) {\n",
      "  \u001b[31m   \u001b[0m                    ^\n",
      "  \u001b[31m   \u001b[0m                    /* DISABLES CODE */ ( )\n",
      "  \u001b[31m   \u001b[0m       numpy/core/src/npysort/selection.c.src:328:9: warning: code will never be executed [-Wunreachable-code]\n",
      "  \u001b[31m   \u001b[0m               npy_intp k;\n",
      "  \u001b[31m   \u001b[0m               ^~~~~~~~~~~\n",
      "  \u001b[31m   \u001b[0m       numpy/core/src/npysort/selection.c.src:326:14: note: silence by adding parentheses to mark code as explicitly dead\n",
      "  \u001b[31m   \u001b[0m           else if (0 && kth == num - 1) {\n",
      "  \u001b[31m   \u001b[0m                    ^\n",
      "  \u001b[31m   \u001b[0m                    /* DISABLES CODE */ ( )\n",
      "  \u001b[31m   \u001b[0m       numpy/core/src/npysort/selection.c.src:328:9: warning: code will never be executed [-Wunreachable-code]\n",
      "  \u001b[31m   \u001b[0m               npy_intp k;\n",
      "  \u001b[31m   \u001b[0m               ^~~~~~~~~~~\n",
      "  \u001b[31m   \u001b[0m       numpy/core/src/npysort/selection.c.src:326:14: note: silence by adding parentheses to mark code as explicitly dead\n",
      "  \u001b[31m   \u001b[0m           else if (0 && kth == num - 1) {\n",
      "  \u001b[31m   \u001b[0m                    ^\n",
      "  \u001b[31m   \u001b[0m                    /* DISABLES CODE */ ( )\n",
      "  \u001b[31m   \u001b[0m       numpy/core/src/npysort/selection.c.src:328:9: warning: code will never be executed [-Wunreachable-code]\n",
      "  \u001b[31m   \u001b[0m               npy_intp k;\n",
      "  \u001b[31m   \u001b[0m               ^~~~~~~~~~~\n",
      "  \u001b[31m   \u001b[0m       numpy/core/src/npysort/selection.c.src:326:14: note: silence by adding parentheses to mark code as explicitly dead\n",
      "  \u001b[31m   \u001b[0m           else if (0 && kth == num - 1) {\n",
      "  \u001b[31m   \u001b[0m                    ^\n",
      "  \u001b[31m   \u001b[0m                    /* DISABLES CODE */ ( )\n",
      "  \u001b[31m   \u001b[0m       numpy/core/src/npysort/selection.c.src:328:9: warning: code will never be executed [-Wunreachable-code]\n",
      "  \u001b[31m   \u001b[0m               npy_intp k;\n",
      "  \u001b[31m   \u001b[0m               ^~~~~~~~~~~\n",
      "  \u001b[31m   \u001b[0m       numpy/core/src/npysort/selection.c.src:326:14: note: silence by adding parentheses to mark code as explicitly dead\n",
      "  \u001b[31m   \u001b[0m           else if (0 && kth == num - 1) {\n",
      "  \u001b[31m   \u001b[0m                    ^\n",
      "  \u001b[31m   \u001b[0m                    /* DISABLES CODE */ ( )\n",
      "  \u001b[31m   \u001b[0m       numpy/core/src/npysort/selection.c.src:328:9: warning: code will never be executed [-Wunreachable-code]\n",
      "  \u001b[31m   \u001b[0m               npy_intp k;\n",
      "  \u001b[31m   \u001b[0m               ^~~~~~~~~~~\n",
      "  \u001b[31m   \u001b[0m       numpy/core/src/npysort/selection.c.src:326:14: note: silence by adding parentheses to mark code as explicitly dead\n",
      "  \u001b[31m   \u001b[0m           else if (0 && kth == num - 1) {\n",
      "  \u001b[31m   \u001b[0m                    ^\n",
      "  \u001b[31m   \u001b[0m                    /* DISABLES CODE */ ( )\n",
      "  \u001b[31m   \u001b[0m       numpy/core/src/npysort/selection.c.src:328:9: warning: code will never be executed [-Wunreachable-code]\n",
      "  \u001b[31m   \u001b[0m               npy_intp k;\n",
      "  \u001b[31m   \u001b[0m               ^~~~~~~~~~~\n",
      "  \u001b[31m   \u001b[0m       numpy/core/src/npysort/selection.c.src:326:14: note: silence by adding parentheses to mark code as explicitly dead\n",
      "  \u001b[31m   \u001b[0m           else if (0 && kth == num - 1) {\n",
      "  \u001b[31m   \u001b[0m                    ^\n",
      "  \u001b[31m   \u001b[0m                    /* DISABLES CODE */ ( )\n",
      "  \u001b[31m   \u001b[0m       numpy/core/src/npysort/selection.c.src:328:9: warning: code will never be executed [-Wunreachable-code]\n",
      "  \u001b[31m   \u001b[0m               npy_intp k;\n",
      "  \u001b[31m   \u001b[0m               ^~~~~~~~~~~\n",
      "  \u001b[31m   \u001b[0m       numpy/core/src/npysort/selection.c.src:326:14: note: silence by adding parentheses to mark code as explicitly dead\n",
      "  \u001b[31m   \u001b[0m           else if (0 && kth == num - 1) {\n",
      "  \u001b[31m   \u001b[0m                    ^\n",
      "  \u001b[31m   \u001b[0m                    /* DISABLES CODE */ ( )\n",
      "  \u001b[31m   \u001b[0m       numpy/core/src/npysort/selection.c.src:328:9: warning: code will never be executed [-Wunreachable-code]\n",
      "  \u001b[31m   \u001b[0m               npy_intp k;\n",
      "  \u001b[31m   \u001b[0m               ^~~~~~~~~~~\n",
      "  \u001b[31m   \u001b[0m       numpy/core/src/npysort/selection.c.src:326:14: note: silence by adding parentheses to mark code as explicitly dead\n",
      "  \u001b[31m   \u001b[0m           else if (0 && kth == num - 1) {\n",
      "  \u001b[31m   \u001b[0m                    ^\n",
      "  \u001b[31m   \u001b[0m                    /* DISABLES CODE */ ( )\n",
      "  \u001b[31m   \u001b[0m       numpy/core/src/npysort/selection.c.src:328:9: warning: code will never be executed [-Wunreachable-code]\n",
      "  \u001b[31m   \u001b[0m               npy_intp k;\n",
      "  \u001b[31m   \u001b[0m               ^~~~~~~~~~~\n",
      "  \u001b[31m   \u001b[0m       numpy/core/src/npysort/selection.c.src:326:14: note: silence by adding parentheses to mark code as explicitly dead\n",
      "  \u001b[31m   \u001b[0m           else if (0 && kth == num - 1) {\n",
      "  \u001b[31m   \u001b[0m                    ^\n",
      "  \u001b[31m   \u001b[0m                    /* DISABLES CODE */ ( )\n",
      "  \u001b[31m   \u001b[0m       numpy/core/src/npysort/selection.c.src:328:9: warning: code will never be executed [-Wunreachable-code]\n",
      "  \u001b[31m   \u001b[0m               npy_intp k;\n",
      "  \u001b[31m   \u001b[0m               ^~~~~~~~~~~\n",
      "  \u001b[31m   \u001b[0m       numpy/core/src/npysort/selection.c.src:326:14: note: silence by adding parentheses to mark code as explicitly dead\n",
      "  \u001b[31m   \u001b[0m           else if (0 && kth == num - 1) {\n",
      "  \u001b[31m   \u001b[0m                    ^\n",
      "  \u001b[31m   \u001b[0m                    /* DISABLES CODE */ ( )\n",
      "  \u001b[31m   \u001b[0m       numpy/core/src/npysort/selection.c.src:328:9: warning: code will never be executed [-Wunreachable-code]\n",
      "  \u001b[31m   \u001b[0m               npy_intp k;\n",
      "  \u001b[31m   \u001b[0m               ^~~~~~~~~~~\n",
      "  \u001b[31m   \u001b[0m       numpy/core/src/npysort/selection.c.src:326:14: note: silence by adding parentheses to mark code as explicitly dead\n",
      "  \u001b[31m   \u001b[0m           else if (0 && kth == num - 1) {\n",
      "  \u001b[31m   \u001b[0m                    ^\n",
      "  \u001b[31m   \u001b[0m                    /* DISABLES CODE */ ( )\n",
      "  \u001b[31m   \u001b[0m       numpy/core/src/npysort/selection.c.src:328:9: warning: code will never be executed [-Wunreachable-code]\n",
      "  \u001b[31m   \u001b[0m               npy_intp k;\n",
      "  \u001b[31m   \u001b[0m               ^~~~~~~~~~~\n",
      "  \u001b[31m   \u001b[0m       numpy/core/src/npysort/selection.c.src:326:14: note: silence by adding parentheses to mark code as explicitly dead\n",
      "  \u001b[31m   \u001b[0m           else if (0 && kth == num - 1) {\n",
      "  \u001b[31m   \u001b[0m                    ^\n",
      "  \u001b[31m   \u001b[0m                    /* DISABLES CODE */ ( )\n",
      "  \u001b[31m   \u001b[0m       numpy/core/src/npysort/selection.c.src:328:9: warning: code will never be executed [-Wunreachable-code]\n",
      "  \u001b[31m   \u001b[0m               npy_intp k;\n",
      "  \u001b[31m   \u001b[0m               ^~~~~~~~~~~\n",
      "  \u001b[31m   \u001b[0m       numpy/core/src/npysort/selection.c.src:326:14: note: silence by adding parentheses to mark code as explicitly dead\n",
      "  \u001b[31m   \u001b[0m           else if (0 && kth == num - 1) {\n",
      "  \u001b[31m   \u001b[0m                    ^\n",
      "  \u001b[31m   \u001b[0m                    /* DISABLES CODE */ ( )\n",
      "  \u001b[31m   \u001b[0m       numpy/core/src/npysort/selection.c.src:328:9: warning: code will never be executed [-Wunreachable-code]\n",
      "  \u001b[31m   \u001b[0m               npy_intp k;\n",
      "  \u001b[31m   \u001b[0m               ^~~~~~~~~~~\n",
      "  \u001b[31m   \u001b[0m       numpy/core/src/npysort/selection.c.src:326:14: note: silence by adding parentheses to mark code as explicitly dead\n",
      "  \u001b[31m   \u001b[0m           else if (0 && kth == num - 1) {\n",
      "  \u001b[31m   \u001b[0m                    ^\n",
      "  \u001b[31m   \u001b[0m                    /* DISABLES CODE */ ( )\n",
      "  \u001b[31m   \u001b[0m       numpy/core/src/npysort/selection.c.src:328:9: warning: code will never be executed [-Wunreachable-code]\n",
      "  \u001b[31m   \u001b[0m               npy_intp k;\n",
      "  \u001b[31m   \u001b[0m               ^~~~~~~~~~~\n",
      "  \u001b[31m   \u001b[0m       numpy/core/src/npysort/selection.c.src:326:14: note: silence by adding parentheses to mark code as explicitly dead\n",
      "  \u001b[31m   \u001b[0m           else if (0 && kth == num - 1) {\n",
      "  \u001b[31m   \u001b[0m                    ^\n",
      "  \u001b[31m   \u001b[0m                    /* DISABLES CODE */ ( )\n",
      "  \u001b[31m   \u001b[0m       numpy/core/src/npysort/selection.c.src:328:9: warning: code will never be executed [-Wunreachable-code]\n",
      "  \u001b[31m   \u001b[0m               npy_intp k;\n",
      "  \u001b[31m   \u001b[0m               ^~~~~~~~~~~\n",
      "  \u001b[31m   \u001b[0m       numpy/core/src/npysort/selection.c.src:326:14: note: silence by adding parentheses to mark code as explicitly dead\n",
      "  \u001b[31m   \u001b[0m           else if (0 && kth == num - 1) {\n",
      "  \u001b[31m   \u001b[0m                    ^\n",
      "  \u001b[31m   \u001b[0m                    /* DISABLES CODE */ ( )\n",
      "  \u001b[31m   \u001b[0m       numpy/core/src/npysort/selection.c.src:328:9: warning: code will never be executed [-Wunreachable-code]\n",
      "  \u001b[31m   \u001b[0m               npy_intp k;\n",
      "  \u001b[31m   \u001b[0m               ^~~~~~~~~~~\n",
      "  \u001b[31m   \u001b[0m       numpy/core/src/npysort/selection.c.src:326:14: note: silence by adding parentheses to mark code as explicitly dead\n",
      "  \u001b[31m   \u001b[0m           else if (0 && kth == num - 1) {\n",
      "  \u001b[31m   \u001b[0m                    ^\n",
      "  \u001b[31m   \u001b[0m                    /* DISABLES CODE */ ( )\n",
      "  \u001b[31m   \u001b[0m       numpy/core/src/npysort/selection.c.src:328:9: warning: code will never be executed [-Wunreachable-code]\n",
      "  \u001b[31m   \u001b[0m               npy_intp k;\n",
      "  \u001b[31m   \u001b[0m               ^~~~~~~~~~~\n",
      "  \u001b[31m   \u001b[0m       numpy/core/src/npysort/selection.c.src:326:14: note: silence by adding parentheses to mark code as explicitly dead\n",
      "  \u001b[31m   \u001b[0m           else if (0 && kth == num - 1) {\n",
      "  \u001b[31m   \u001b[0m                    ^\n",
      "  \u001b[31m   \u001b[0m                    /* DISABLES CODE */ ( )\n",
      "  \u001b[31m   \u001b[0m       numpy/core/src/npysort/selection.c.src:328:9: warning: code will never be executed [-Wunreachable-code]\n",
      "  \u001b[31m   \u001b[0m               npy_intp k;\n",
      "  \u001b[31m   \u001b[0m               ^~~~~~~~~~~\n",
      "  \u001b[31m   \u001b[0m       numpy/core/src/npysort/selection.c.src:326:14: note: silence by adding parentheses to mark code as explicitly dead\n",
      "  \u001b[31m   \u001b[0m           else if (0 && kth == num - 1) {\n",
      "  \u001b[31m   \u001b[0m                    ^\n",
      "  \u001b[31m   \u001b[0m                    /* DISABLES CODE */ ( )\n",
      "  \u001b[31m   \u001b[0m       numpy/core/src/npysort/selection.c.src:328:9: warning: code will never be executed [-Wunreachable-code]\n",
      "  \u001b[31m   \u001b[0m               npy_intp k;\n",
      "  \u001b[31m   \u001b[0m               ^~~~~~~~~~~\n",
      "  \u001b[31m   \u001b[0m       numpy/core/src/npysort/selection.c.src:326:14: note: silence by adding parentheses to mark code as explicitly dead\n",
      "  \u001b[31m   \u001b[0m           else if (0 && kth == num - 1) {\n",
      "  \u001b[31m   \u001b[0m                    ^\n",
      "  \u001b[31m   \u001b[0m                    /* DISABLES CODE */ ( )\n",
      "  \u001b[31m   \u001b[0m       22 warnings generated.\n",
      "  \u001b[31m   \u001b[0m       xcrun: adding 7 object files to build/temp.macosx-10.9-universal2-3.10/libnpysort.a\n",
      "  \u001b[31m   \u001b[0m       warning: /Library/Developer/CommandLineTools/usr/bin/ranlib: archive library: build/temp.macosx-10.9-universal2-3.10/libnpysort.a will be fat and ar(1) will not be able to operate on it\n",
      "  \u001b[31m   \u001b[0m       ranlib:@ build/temp.macosx-10.9-universal2-3.10/libnpysort.a\n",
      "  \u001b[31m   \u001b[0m       building 'npyrandom' library\n",
      "  \u001b[31m   \u001b[0m       compiling C sources\n",
      "  \u001b[31m   \u001b[0m       C compiler: clang -Wno-unused-result -Wsign-compare -Wunreachable-code -fno-common -dynamic -DNDEBUG -g -fwrapv -O3 -Wall -arch arm64 -arch x86_64 -g\n",
      "  \u001b[31m   \u001b[0m \n",
      "  \u001b[31m   \u001b[0m       creating build/temp.macosx-10.9-universal2-3.10/numpy/random\n",
      "  \u001b[31m   \u001b[0m       creating build/temp.macosx-10.9-universal2-3.10/numpy/random/src\n",
      "  \u001b[31m   \u001b[0m       creating build/temp.macosx-10.9-universal2-3.10/numpy/random/src/distributions\n",
      "  \u001b[31m   \u001b[0m       compile options: '-Inumpy/core/include -Ibuild/src.macosx-10.9-universal2-3.10/numpy/core/include/numpy -Inumpy/core/src/common -Inumpy/core/src -Inumpy/core -Inumpy/core/src/npymath -Inumpy/core/src/multiarray -Inumpy/core/src/umath -Inumpy/core/src/npysort -I/Library/Frameworks/Python.framework/Versions/3.10/include/python3.10 -Ibuild/src.macosx-10.9-universal2-3.10/numpy/core/src/common -Ibuild/src.macosx-10.9-universal2-3.10/numpy/core/src/npymath -c'\n",
      "  \u001b[31m   \u001b[0m       clang: numpy/random/src/distributions/logfactorial.c\n",
      "  \u001b[31m   \u001b[0m       clang: numpy/random/src/distributions/distributions.c\n",
      "  \u001b[31m   \u001b[0m       clang: numpy/random/src/distributions/random_mvhg_count.c\n",
      "  \u001b[31m   \u001b[0m       clang: numpy/random/src/distributions/random_hypergeometric.c\n",
      "  \u001b[31m   \u001b[0m       clang: numpy/random/src/distributions/random_mvhg_marginals.c\n",
      "  \u001b[31m   \u001b[0m       xcrun: adding 5 object files to build/temp.macosx-10.9-universal2-3.10/libnpyrandom.a\n",
      "  \u001b[31m   \u001b[0m       warning: /Library/Developer/CommandLineTools/usr/bin/ranlib: archive library: build/temp.macosx-10.9-universal2-3.10/libnpyrandom.a will be fat and ar(1) will not be able to operate on it\n",
      "  \u001b[31m   \u001b[0m       ranlib:@ build/temp.macosx-10.9-universal2-3.10/libnpyrandom.a\n",
      "  \u001b[31m   \u001b[0m       running build_ext\n",
      "  \u001b[31m   \u001b[0m       customize UnixCCompiler\n",
      "  \u001b[31m   \u001b[0m       customize UnixCCompiler using new_build_ext\n",
      "  \u001b[31m   \u001b[0m       building 'numpy.core._multiarray_tests' extension\n",
      "  \u001b[31m   \u001b[0m       compiling C sources\n",
      "  \u001b[31m   \u001b[0m       C compiler: clang -Wno-unused-result -Wsign-compare -Wunreachable-code -fno-common -dynamic -DNDEBUG -g -fwrapv -O3 -Wall -arch arm64 -arch x86_64 -g\n",
      "  \u001b[31m   \u001b[0m \n",
      "  \u001b[31m   \u001b[0m       creating build/temp.macosx-10.9-universal2-3.10/build/src.macosx-10.9-universal2-3.10/numpy/core/src/multiarray\n",
      "  \u001b[31m   \u001b[0m       creating build/temp.macosx-10.9-universal2-3.10/numpy/core/src/common\n",
      "  \u001b[31m   \u001b[0m       compile options: '-DNPY_INTERNAL_BUILD=1 -DHAVE_NPY_CONFIG_H=1 -D_FILE_OFFSET_BITS=64 -D_LARGEFILE_SOURCE=1 -D_LARGEFILE64_SOURCE=1 -Inumpy/core/include -Ibuild/src.macosx-10.9-universal2-3.10/numpy/core/include/numpy -Inumpy/core/src/common -Inumpy/core/src -Inumpy/core -Inumpy/core/src/npymath -Inumpy/core/src/multiarray -Inumpy/core/src/umath -Inumpy/core/src/npysort -I/Library/Frameworks/Python.framework/Versions/3.10/include/python3.10 -Ibuild/src.macosx-10.9-universal2-3.10/numpy/core/src/common -Ibuild/src.macosx-10.9-universal2-3.10/numpy/core/src/npymath -c'\n",
      "  \u001b[31m   \u001b[0m       clang: build/src.macosx-10.9-universal2-3.10/numpy/core/src/multiarray/_multiarray_tests.c\n",
      "  \u001b[31m   \u001b[0m       clang: numpy/core/src/common/mem_overlap.c\n",
      "  \u001b[31m   \u001b[0m       clang -bundle -undefined dynamic_lookup -arch arm64 -arch x86_64 -g build/temp.macosx-10.9-universal2-3.10/build/src.macosx-10.9-universal2-3.10/numpy/core/src/multiarray/_multiarray_tests.o build/temp.macosx-10.9-universal2-3.10/numpy/core/src/common/mem_overlap.o -Lbuild/temp.macosx-10.9-universal2-3.10 -lnpymath -o build/lib.macosx-10.9-universal2-3.10/numpy/core/_multiarray_tests.cpython-310-darwin.so\n",
      "  \u001b[31m   \u001b[0m       building 'numpy.core._multiarray_umath' extension\n",
      "  \u001b[31m   \u001b[0m       compiling C sources\n",
      "  \u001b[31m   \u001b[0m       C compiler: clang -Wno-unused-result -Wsign-compare -Wunreachable-code -fno-common -dynamic -DNDEBUG -g -fwrapv -O3 -Wall -arch arm64 -arch x86_64 -g\n",
      "  \u001b[31m   \u001b[0m \n",
      "  \u001b[31m   \u001b[0m       creating build/temp.macosx-10.9-universal2-3.10/numpy/core/src/multiarray\n",
      "  \u001b[31m   \u001b[0m       creating build/temp.macosx-10.9-universal2-3.10/numpy/core/src/umath\n",
      "  \u001b[31m   \u001b[0m       creating build/temp.macosx-10.9-universal2-3.10/build/src.macosx-10.9-universal2-3.10/numpy/core/src/umath\n",
      "  \u001b[31m   \u001b[0m       creating build/temp.macosx-10.9-universal2-3.10/build/src.macosx-10.9-universal2-3.10/numpy/core/src/common\n",
      "  \u001b[31m   \u001b[0m       creating build/temp.macosx-10.9-universal2-3.10/private\n",
      "  \u001b[31m   \u001b[0m       creating build/temp.macosx-10.9-universal2-3.10/private/var\n",
      "  \u001b[31m   \u001b[0m       creating build/temp.macosx-10.9-universal2-3.10/private/var/folders\n",
      "  \u001b[31m   \u001b[0m       creating build/temp.macosx-10.9-universal2-3.10/private/var/folders/rx\n",
      "  \u001b[31m   \u001b[0m       creating build/temp.macosx-10.9-universal2-3.10/private/var/folders/rx/m0btvv496ls5xlm6m33rc1kr0000gn\n",
      "  \u001b[31m   \u001b[0m       creating build/temp.macosx-10.9-universal2-3.10/private/var/folders/rx/m0btvv496ls5xlm6m33rc1kr0000gn/T\n",
      "  \u001b[31m   \u001b[0m       creating build/temp.macosx-10.9-universal2-3.10/private/var/folders/rx/m0btvv496ls5xlm6m33rc1kr0000gn/T/pip-install-yhgeel2_\n",
      "  \u001b[31m   \u001b[0m       creating build/temp.macosx-10.9-universal2-3.10/private/var/folders/rx/m0btvv496ls5xlm6m33rc1kr0000gn/T/pip-install-yhgeel2_/numpy_41f94bb569a8448985e3805f109ed4c8\n",
      "  \u001b[31m   \u001b[0m       creating build/temp.macosx-10.9-universal2-3.10/private/var/folders/rx/m0btvv496ls5xlm6m33rc1kr0000gn/T/pip-install-yhgeel2_/numpy_41f94bb569a8448985e3805f109ed4c8/numpy\n",
      "  \u001b[31m   \u001b[0m       creating build/temp.macosx-10.9-universal2-3.10/private/var/folders/rx/m0btvv496ls5xlm6m33rc1kr0000gn/T/pip-install-yhgeel2_/numpy_41f94bb569a8448985e3805f109ed4c8/numpy/_build_utils\n",
      "  \u001b[31m   \u001b[0m       creating build/temp.macosx-10.9-universal2-3.10/private/var/folders/rx/m0btvv496ls5xlm6m33rc1kr0000gn/T/pip-install-yhgeel2_/numpy_41f94bb569a8448985e3805f109ed4c8/numpy/_build_utils/src\n",
      "  \u001b[31m   \u001b[0m       compile options: '-DNPY_INTERNAL_BUILD=1 -DHAVE_NPY_CONFIG_H=1 -D_FILE_OFFSET_BITS=64 -D_LARGEFILE_SOURCE=1 -D_LARGEFILE64_SOURCE=1 -DNO_ATLAS_INFO=3 -DHAVE_CBLAS -Ibuild/src.macosx-10.9-universal2-3.10/numpy/core/src/umath -Ibuild/src.macosx-10.9-universal2-3.10/numpy/core/src/npymath -Ibuild/src.macosx-10.9-universal2-3.10/numpy/core/src/common -Inumpy/core/include -Ibuild/src.macosx-10.9-universal2-3.10/numpy/core/include/numpy -Inumpy/core/src/common -Inumpy/core/src -Inumpy/core -Inumpy/core/src/npymath -Inumpy/core/src/multiarray -Inumpy/core/src/umath -Inumpy/core/src/npysort -I/Library/Frameworks/Python.framework/Versions/3.10/include/python3.10 -Ibuild/src.macosx-10.9-universal2-3.10/numpy/core/src/common -Ibuild/src.macosx-10.9-universal2-3.10/numpy/core/src/npymath -c'\n",
      "  \u001b[31m   \u001b[0m       extra options: '-msse3 -I/System/Library/Frameworks/vecLib.framework/Headers'\n",
      "  \u001b[31m   \u001b[0m       clang: numpy/core/src/multiarray/alloc.c\n",
      "  \u001b[31m   \u001b[0m       clang: numpy/core/src/multiarray/buffer.c\n",
      "  \u001b[31m   \u001b[0m       clang: numpy/core/src/multiarray/common.c\n",
      "  \u001b[31m   \u001b[0m       clang: numpy/core/src/multiarray/array_assign_scalar.c\n",
      "  \u001b[31m   \u001b[0m       clang: numpy/core/src/multiarray/conversion_utils.c\n",
      "  \u001b[31m   \u001b[0m       clang: numpy/core/src/multiarray/descriptor.c\n",
      "  \u001b[31m   \u001b[0m       clang: numpy/core/src/multiarray/datetime_strings.c\n",
      "  \u001b[31m   \u001b[0m       clang: build/src.macosx-10.9-universal2-3.10/numpy/core/src/multiarray/einsum.c\n",
      "  \u001b[31m   \u001b[0m       numpy/core/src/multiarray/einsum.c.src:2158:32: warning: unknown warning group '-Wmaybe-uninitialized', ignored [-Wunknown-warning-option]\n",
      "  \u001b[31m   \u001b[0m       #pragma GCC diagnostic ignored \"-Wmaybe-uninitialized\"\n",
      "  \u001b[31m   \u001b[0m                                      ^\n",
      "  \u001b[31m   \u001b[0m       clang: numpy/core/src/multiarray/arrayobject.c\n",
      "  \u001b[31m   \u001b[0m       clang: numpy/core/src/multiarray/array_assign_array.c\n",
      "  \u001b[31m   \u001b[0m       clang: numpy/core/src/multiarray/ctors.c\n",
      "  \u001b[31m   \u001b[0m       clang: numpy/core/src/multiarray/convert.c\n",
      "  \u001b[31m   \u001b[0m       clang: numpy/core/src/multiarray/arrayfunction_override.c\n",
      "  \u001b[31m   \u001b[0m       clang: numpy/core/src/multiarray/datetime_busday.c\n",
      "  \u001b[31m   \u001b[0m       clang: numpy/core/src/multiarray/calculation.c\n",
      "  \u001b[31m   \u001b[0m       clang: numpy/core/src/multiarray/hashdescr.c\n",
      "  \u001b[31m   \u001b[0m       clang: numpy/core/src/multiarray/convert_datatype.c\n",
      "  \u001b[31m   \u001b[0m       clang: numpy/core/src/multiarray/item_selection.c\n",
      "  \u001b[31m   \u001b[0m       clang: numpy/core/src/multiarray/datetime_busdaycal.c\n",
      "  \u001b[31m   \u001b[0m       clang: numpy/core/src/multiarray/compiled_base.c\n",
      "  \u001b[31m   \u001b[0m       clang: numpy/core/src/multiarray/dragon4.c\n",
      "  \u001b[31m   \u001b[0m       clang: build/src.macosx-10.9-universal2-3.10/numpy/core/src/multiarray/arraytypes.c\n",
      "  \u001b[31m   \u001b[0m       clang: build/src.macosx-10.9-universal2-3.10/numpy/core/src/multiarray/lowlevel_strided_loops.c\n",
      "  \u001b[31m   \u001b[0m       clang: numpy/core/src/multiarray/multiarraymodule.c\n",
      "  \u001b[31m   \u001b[0m       clang: numpy/core/src/multiarray/datetime.c\n",
      "  \u001b[31m   \u001b[0m       clang: numpy/core/src/multiarray/dtype_transfer.c\n",
      "  \u001b[31m   \u001b[0m       clang: numpy/core/src/multiarray/iterators.c\n",
      "  \u001b[31m   \u001b[0m       clang: numpy/core/src/multiarray/nditer_constr.c\n",
      "  \u001b[31m   \u001b[0m       clang: numpy/core/src/multiarray/refcount.c\n",
      "  \u001b[31m   \u001b[0m       clang: numpy/core/src/multiarray/sequence.c\n",
      "  \u001b[31m   \u001b[0m       clang: numpy/core/src/multiarray/shape.c\n",
      "  \u001b[31m   \u001b[0m       1 warning generated.\n",
      "  \u001b[31m   \u001b[0m       numpy/core/src/multiarray/einsum.c.src:2158:32: warning: unknown warning group '-Wmaybe-uninitialized', ignored [-Wunknown-warning-option]\n",
      "  \u001b[31m   \u001b[0m       #pragma GCC diagnostic ignored \"-Wmaybe-uninitialized\"\n",
      "  \u001b[31m   \u001b[0m                                      ^\n",
      "  \u001b[31m   \u001b[0m       clang: numpy/core/src/multiarray/scalarapi.c\n",
      "  \u001b[31m   \u001b[0m       clang: numpy/core/src/multiarray/temp_elide.c\n",
      "  \u001b[31m   \u001b[0m       clang: numpy/core/src/multiarray/typeinfo.c\n",
      "  \u001b[31m   \u001b[0m       clang: numpy/core/src/multiarray/usertypes.c\n",
      "  \u001b[31m   \u001b[0m       clang: numpy/core/src/multiarray/vdot.c\n",
      "  \u001b[31m   \u001b[0m       clang: build/src.macosx-10.9-universal2-3.10/numpy/core/src/multiarray/scalartypes.c\n",
      "  \u001b[31m   \u001b[0m       numpy/core/src/multiarray/scalartypes.c.src:2967:65: error: too few arguments to function call, expected 2, have 1\n",
      "  \u001b[31m   \u001b[0m           return _Py_HashDouble((double) PyArrayScalar_VAL(obj, Float));\n",
      "  \u001b[31m   \u001b[0m                  ~~~~~~~~~~~~~~                                       ^\n",
      "  \u001b[31m   \u001b[0m       /Library/Frameworks/Python.framework/Versions/3.10/include/python3.10/pyhash.h:10:1: note: '_Py_HashDouble' declared here\n",
      "  \u001b[31m   \u001b[0m       PyAPI_FUNC(Py_hash_t) _Py_HashDouble(PyObject *, double);\n",
      "  \u001b[31m   \u001b[0m       ^\n",
      "  \u001b[31m   \u001b[0m       /Library/Frameworks/Python.framework/Versions/3.10/include/python3.10/pyport.h:703:34: note: expanded from macro 'PyAPI_FUNC'\n",
      "  \u001b[31m   \u001b[0m       #       define PyAPI_FUNC(RTYPE) Py_EXPORTED_SYMBOL RTYPE\n",
      "  \u001b[31m   \u001b[0m                                        ^\n",
      "  \u001b[31m   \u001b[0m       /Library/Frameworks/Python.framework/Versions/3.10/include/python3.10/exports.h:21:36: note: expanded from macro 'Py_EXPORTED_SYMBOL'\n",
      "  \u001b[31m   \u001b[0m               #define Py_EXPORTED_SYMBOL __attribute__ ((visibility (\"default\")))\n",
      "  \u001b[31m   \u001b[0m                                          ^\n",
      "  \u001b[31m   \u001b[0m       numpy/core/src/multiarray/scalartypes.c.src:2976:48: error: too few arguments to function call, expected 2, have 1\n",
      "  \u001b[31m   \u001b[0m                   PyArrayScalar_VAL(obj, CFloat).real);\n",
      "  \u001b[31m   \u001b[0m                                                      ^\n",
      "  \u001b[31m   \u001b[0m       /Library/Frameworks/Python.framework/Versions/3.10/include/python3.10/pyhash.h:10:1: note: '_Py_HashDouble' declared here\n",
      "  \u001b[31m   \u001b[0m       PyAPI_FUNC(Py_hash_t) _Py_HashDouble(PyObject *, double);\n",
      "  \u001b[31m   \u001b[0m       ^\n",
      "  \u001b[31m   \u001b[0m       /Library/Frameworks/Python.framework/Versions/3.10/include/python3.10/pyport.h:703:34: note: expanded from macro 'PyAPI_FUNC'\n",
      "  \u001b[31m   \u001b[0m       #       define PyAPI_FUNC(RTYPE) Py_EXPORTED_SYMBOL RTYPE\n",
      "  \u001b[31m   \u001b[0m                                        ^\n",
      "  \u001b[31m   \u001b[0m       /Library/Frameworks/Python.framework/Versions/3.10/include/python3.10/exports.h:21:36: note: expanded from macro 'Py_EXPORTED_SYMBOL'\n",
      "  \u001b[31m   \u001b[0m               #define Py_EXPORTED_SYMBOL __attribute__ ((visibility (\"default\")))\n",
      "  \u001b[31m   \u001b[0m                                          ^\n",
      "  \u001b[31m   \u001b[0m       numpy/core/src/multiarray/scalartypes.c.src:2982:48: error: too few arguments to function call, expected 2, have 1\n",
      "  \u001b[31m   \u001b[0m                   PyArrayScalar_VAL(obj, CFloat).imag);\n",
      "  \u001b[31m   \u001b[0m                                                      ^\n",
      "  \u001b[31m   \u001b[0m       /Library/Frameworks/Python.framework/Versions/3.10/include/python3.10/pyhash.h:10:1: note: '_Py_HashDouble' declared here\n",
      "  \u001b[31m   \u001b[0m       PyAPI_FUNC(Py_hash_t) _Py_HashDouble(PyObject *, double);\n",
      "  \u001b[31m   \u001b[0m       ^\n",
      "  \u001b[31m   \u001b[0m       /Library/Frameworks/Python.framework/Versions/3.10/include/python3.10/pyport.h:703:34: note: expanded from macro 'PyAPI_FUNC'\n",
      "  \u001b[31m   \u001b[0m       #       define PyAPI_FUNC(RTYPE) Py_EXPORTED_SYMBOL RTYPE\n",
      "  \u001b[31m   \u001b[0m                                        ^\n",
      "  \u001b[31m   \u001b[0m       /Library/Frameworks/Python.framework/Versions/3.10/include/python3.10/exports.h:21:36: note: expanded from macro 'Py_EXPORTED_SYMBOL'\n",
      "  \u001b[31m   \u001b[0m               #define Py_EXPORTED_SYMBOL __attribute__ ((visibility (\"default\")))\n",
      "  \u001b[31m   \u001b[0m                                          ^\n",
      "  \u001b[31m   \u001b[0m       numpy/core/src/multiarray/scalartypes.c.src:2967:70: error: too few arguments to function call, expected 2, have 1\n",
      "  \u001b[31m   \u001b[0m           return _Py_HashDouble((double) PyArrayScalar_VAL(obj, LongDouble));\n",
      "  \u001b[31m   \u001b[0m                  ~~~~~~~~~~~~~~                                            ^\n",
      "  \u001b[31m   \u001b[0m       /Library/Frameworks/Python.framework/Versions/3.10/include/python3.10/pyhash.h:10:1: note: '_Py_HashDouble' declared here\n",
      "  \u001b[31m   \u001b[0m       PyAPI_FUNC(Py_hash_t) _Py_HashDouble(PyObject *, double);\n",
      "  \u001b[31m   \u001b[0m       ^\n",
      "  \u001b[31m   \u001b[0m       /Library/Frameworks/Python.framework/Versions/3.10/include/python3.10/pyport.h:703:34: note: expanded from macro 'PyAPI_FUNC'\n",
      "  \u001b[31m   \u001b[0m       #       define PyAPI_FUNC(RTYPE) Py_EXPORTED_SYMBOL RTYPE\n",
      "  \u001b[31m   \u001b[0m                                        ^\n",
      "  \u001b[31m   \u001b[0m       /Library/Frameworks/Python.framework/Versions/3.10/include/python3.10/exports.h:21:36: note: expanded from macro 'Py_EXPORTED_SYMBOL'\n",
      "  \u001b[31m   \u001b[0m               #define Py_EXPORTED_SYMBOL __attribute__ ((visibility (\"default\")))\n",
      "  \u001b[31m   \u001b[0m                                          ^\n",
      "  \u001b[31m   \u001b[0m       numpy/core/src/multiarray/scalartypes.c.src:2976:53: error: too few arguments to function call, expected 2, have 1\n",
      "  \u001b[31m   \u001b[0m                   PyArrayScalar_VAL(obj, CLongDouble).real);\n",
      "  \u001b[31m   \u001b[0m                                                           ^\n",
      "  \u001b[31m   \u001b[0m       /Library/Frameworks/Python.framework/Versions/3.10/include/python3.10/pyhash.h:10:1: note: '_Py_HashDouble' declared here\n",
      "  \u001b[31m   \u001b[0m       PyAPI_FUNC(Py_hash_t) _Py_HashDouble(PyObject *, double);\n",
      "  \u001b[31m   \u001b[0m       ^\n",
      "  \u001b[31m   \u001b[0m       /Library/Frameworks/Python.framework/Versions/3.10/include/python3.10/pyport.h:703:34: note: expanded from macro 'PyAPI_FUNC'\n",
      "  \u001b[31m   \u001b[0m       #       define PyAPI_FUNC(RTYPE) Py_EXPORTED_SYMBOL RTYPE\n",
      "  \u001b[31m   \u001b[0m                                        ^\n",
      "  \u001b[31m   \u001b[0m       /Library/Frameworks/Python.framework/Versions/3.10/include/python3.10/exports.h:21:36: note: expanded from macro 'Py_EXPORTED_SYMBOL'\n",
      "  \u001b[31m   \u001b[0m               #define Py_EXPORTED_SYMBOL __attribute__ ((visibility (\"default\")))\n",
      "  \u001b[31m   \u001b[0m                                          ^\n",
      "  \u001b[31m   \u001b[0m       numpy/core/src/multiarray/scalartypes.c.src:2982:53: error: too few arguments to function call, expected 2, have 1\n",
      "  \u001b[31m   \u001b[0m                   PyArrayScalar_VAL(obj, CLongDouble).imag);\n",
      "  \u001b[31m   \u001b[0m                                                           ^\n",
      "  \u001b[31m   \u001b[0m       /Library/Frameworks/Python.framework/Versions/3.10/include/python3.10/pyhash.h:10:1: note: '_Py_HashDouble' declared here\n",
      "  \u001b[31m   \u001b[0m       PyAPI_FUNC(Py_hash_t) _Py_HashDouble(PyObject *, double);\n",
      "  \u001b[31m   \u001b[0m       ^\n",
      "  \u001b[31m   \u001b[0m       /Library/Frameworks/Python.framework/Versions/3.10/include/python3.10/pyport.h:703:34: note: expanded from macro 'PyAPI_FUNC'\n",
      "  \u001b[31m   \u001b[0m       #       define PyAPI_FUNC(RTYPE) Py_EXPORTED_SYMBOL RTYPE\n",
      "  \u001b[31m   \u001b[0m                                        ^\n",
      "  \u001b[31m   \u001b[0m       /Library/Frameworks/Python.framework/Versions/3.10/include/python3.10/exports.h:21:36: note: expanded from macro 'Py_EXPORTED_SYMBOL'\n",
      "  \u001b[31m   \u001b[0m               #define Py_EXPORTED_SYMBOL __attribute__ ((visibility (\"default\")))\n",
      "  \u001b[31m   \u001b[0m                                          ^\n",
      "  \u001b[31m   \u001b[0m       numpy/core/src/multiarray/scalartypes.c.src:2997:75: error: too few arguments to function call, expected 2, have 1\n",
      "  \u001b[31m   \u001b[0m           return _Py_HashDouble(npy_half_to_double(PyArrayScalar_VAL(obj, Half)));\n",
      "  \u001b[31m   \u001b[0m                  ~~~~~~~~~~~~~~                                                 ^\n",
      "  \u001b[31m   \u001b[0m       /Library/Frameworks/Python.framework/Versions/3.10/include/python3.10/pyhash.h:10:1: note: '_Py_HashDouble' declared here\n",
      "  \u001b[31m   \u001b[0m       PyAPI_FUNC(Py_hash_t) _Py_HashDouble(PyObject *, double);\n",
      "  \u001b[31m   \u001b[0m       ^\n",
      "  \u001b[31m   \u001b[0m       /Library/Frameworks/Python.framework/Versions/3.10/include/python3.10/pyport.h:703:34: note: expanded from macro 'PyAPI_FUNC'\n",
      "  \u001b[31m   \u001b[0m       #       define PyAPI_FUNC(RTYPE) Py_EXPORTED_SYMBOL RTYPE\n",
      "  \u001b[31m   \u001b[0m                                        ^\n",
      "  \u001b[31m   \u001b[0m       /Library/Frameworks/Python.framework/Versions/3.10/include/python3.10/exports.h:21:36: note: expanded from macro 'Py_EXPORTED_SYMBOL'\n",
      "  \u001b[31m   \u001b[0m               #define Py_EXPORTED_SYMBOL __attribute__ ((visibility (\"default\")))\n",
      "  \u001b[31m   \u001b[0m                                          ^\n",
      "  \u001b[31m   \u001b[0m       7 errors generated.\n",
      "  \u001b[31m   \u001b[0m       clang: build/src.macosx-10.9-universal2-3.10/numpy/core/src/umath/loops.c\n",
      "  \u001b[31m   \u001b[0m       clang: numpy/core/src/umath/ufunc_object.c\n",
      "  \u001b[31m   \u001b[0m       clang: numpy/core/src/umath/umathmodule.c\n",
      "  \u001b[31m   \u001b[0m       clang: numpy/core/src/umath/reduction.c\n",
      "  \u001b[31m   \u001b[0m       clang: numpy/core/src/multiarray/nditer_pywrap.c\n",
      "  \u001b[31m   \u001b[0m       clang: numpy/core/src/umath/ufunc_type_resolution.c\n",
      "  \u001b[31m   \u001b[0m       clang: build/src.macosx-10.9-universal2-3.10/numpy/core/src/multiarray/nditer_templ.c\n",
      "  \u001b[31m   \u001b[0m       clang: numpy/core/src/multiarray/number.c\n",
      "  \u001b[31m   \u001b[0m       numpy/core/src/umath/loops.c.src:2611:22: warning: code will never be executed [-Wunreachable-code]\n",
      "  \u001b[31m   \u001b[0m               npy_intp n = dimensions[0];\n",
      "  \u001b[31m   \u001b[0m                            ^~~~~~~~~~\n",
      "  \u001b[31m   \u001b[0m       numpy/core/src/umath/loops.c.src:2610:29: note: silence by adding parentheses to mark code as explicitly dead\n",
      "  \u001b[31m   \u001b[0m           if (IS_BINARY_REDUCE && 0) {\n",
      "  \u001b[31m   \u001b[0m                                   ^\n",
      "  \u001b[31m   \u001b[0m                                   /* DISABLES CODE */ ( )\n",
      "  \u001b[31m   \u001b[0m       numpy/core/src/umath/loops.c.src:2611:22: warning: code will never be executed [-Wunreachable-code]\n",
      "  \u001b[31m   \u001b[0m               npy_intp n = dimensions[0];\n",
      "  \u001b[31m   \u001b[0m                            ^~~~~~~~~~\n",
      "  \u001b[31m   \u001b[0m       numpy/core/src/umath/loops.c.src:2610:29: note: silence by adding parentheses to mark code as explicitly dead\n",
      "  \u001b[31m   \u001b[0m           if (IS_BINARY_REDUCE && 0) {\n",
      "  \u001b[31m   \u001b[0m                                   ^\n",
      "  \u001b[31m   \u001b[0m                                   /* DISABLES CODE */ ( )\n",
      "  \u001b[31m   \u001b[0m       numpy/core/src/umath/loops.c.src:2611:22: warning: code will never be executed [-Wunreachable-code]\n",
      "  \u001b[31m   \u001b[0m               npy_intp n = dimensions[0];\n",
      "  \u001b[31m   \u001b[0m                            ^~~~~~~~~~\n",
      "  \u001b[31m   \u001b[0m       numpy/core/src/umath/loops.c.src:2610:29: note: silence by adding parentheses to mark code as explicitly dead\n",
      "  \u001b[31m   \u001b[0m           if (IS_BINARY_REDUCE && 0) {\n",
      "  \u001b[31m   \u001b[0m                                   ^\n",
      "  \u001b[31m   \u001b[0m                                   /* DISABLES CODE */ ( )\n",
      "  \u001b[31m   \u001b[0m       clang: numpy/core/src/umath/override.c\n",
      "  \u001b[31m   \u001b[0m       clang: build/src.macosx-10.9-universal2-3.10/numpy/core/src/npymath/ieee754.c\n",
      "  \u001b[31m   \u001b[0m       clang: numpy/core/src/npymath/npy_math.c\n",
      "  \u001b[31m   \u001b[0m       clang: build/src.macosx-10.9-universal2-3.10/numpy/core/src/npymath/npy_math_complex.c\n",
      "  \u001b[31m   \u001b[0m       clang: numpy/core/src/common/array_assign.c\n",
      "  \u001b[31m   \u001b[0m       clang: numpy/core/src/npymath/halffloat.c\n",
      "  \u001b[31m   \u001b[0m       clang: numpy/core/src/common/mem_overlap.c\n",
      "  \u001b[31m   \u001b[0m       clang: numpy/core/src/common/ucsnarrow.c\n",
      "  \u001b[31m   \u001b[0m       clang: numpy/core/src/common/ufunc_override.c\n",
      "  \u001b[31m   \u001b[0m       clang: numpy/core/src/common/numpyos.c\n",
      "  \u001b[31m   \u001b[0m       clang: numpy/core/src/umath/extobj.c\n",
      "  \u001b[31m   \u001b[0m       clang: numpy/core/src/common/npy_longdouble.c\n",
      "  \u001b[31m   \u001b[0m       clang: numpy/core/src/multiarray/nditer_api.c\n",
      "  \u001b[31m   \u001b[0m       1 warning generated.\n",
      "  \u001b[31m   \u001b[0m       clang: build/src.macosx-10.9-universal2-3.10/numpy/core/src/umath/scalarmath.c\n",
      "  \u001b[31m   \u001b[0m       clang: numpy/core/src/multiarray/flagsobject.c\n",
      "  \u001b[31m   \u001b[0m       clang: build/src.macosx-10.9-universal2-3.10/numpy/core/src/common/npy_cpu_features.c\n",
      "  \u001b[31m   \u001b[0m       clang: /private/var/folders/rx/m0btvv496ls5xlm6m33rc1kr0000gn/T/pip-install-yhgeel2_/numpy_41f94bb569a8448985e3805f109ed4c8/numpy/_build_utils/src/apple_sgemv_fix.c\n",
      "  \u001b[31m   \u001b[0m       In file included from /private/var/folders/rx/m0btvv496ls5xlm6m33rc1kr0000gn/T/pip-install-yhgeel2_/numpy_41f94bb569a8448985e3805f109ed4c8/numpy/_build_utils/src/apple_sgemv_fix.c:26:\n",
      "  \u001b[31m   \u001b[0m       In file included from numpy/core/include/numpy/arrayobject.h:4:\n",
      "  \u001b[31m   \u001b[0m       In file included from numpy/core/include/numpy/ndarrayobject.h:21:\n",
      "  \u001b[31m   \u001b[0m       build/src.macosx-10.9-universal2-3.10/numpy/core/include/numpy/__multiarray_api.h:1463:1: warning: unused function '_import_array' [-Wunused-function]\n",
      "  \u001b[31m   \u001b[0m       _import_array(void)\n",
      "  \u001b[31m   \u001b[0m       ^\n",
      "  \u001b[31m   \u001b[0m       1 warning generated.\n",
      "  \u001b[31m   \u001b[0m       In file included from /private/var/folders/rx/m0btvv496ls5xlm6m33rc1kr0000gn/T/pip-install-yhgeel2_/numpy_41f94bb569a8448985e3805f109ed4c8/numpy/_build_utils/src/apple_sgemv_fix.c:26:\n",
      "  \u001b[31m   \u001b[0m       In file included from numpy/core/include/numpy/arrayobject.h:4:\n",
      "  \u001b[31m   \u001b[0m       In file included from numpy/core/include/numpy/ndarrayobject.h:21:\n",
      "  \u001b[31m   \u001b[0m       build/src.macosx-10.9-universal2-3.10/numpy/core/include/numpy/__multiarray_api.h:1463:1: warning: unused function '_import_array' [-Wunused-function]\n",
      "  \u001b[31m   \u001b[0m       _import_array(void)\n",
      "  \u001b[31m   \u001b[0m       ^\n",
      "  \u001b[31m   \u001b[0m       1 warning generated.\n",
      "  \u001b[31m   \u001b[0m       clang: numpy/core/src/common/cblasfuncs.c\n",
      "  \u001b[31m   \u001b[0m       clang: numpy/core/src/multiarray/getset.c\n",
      "  \u001b[31m   \u001b[0m       clang: numpy/core/src/common/python_xerbla.c\n",
      "  \u001b[31m   \u001b[0m       clang: numpy/core/src/multiarray/mapping.c\n",
      "  \u001b[31m   \u001b[0m       clang: numpy/core/src/multiarray/methods.c\n",
      "  \u001b[31m   \u001b[0m       3 warnings generated.\n",
      "  \u001b[31m   \u001b[0m       numpy/core/src/umath/loops.c.src:2611:22: warning: code will never be executed [-Wunreachable-code]\n",
      "  \u001b[31m   \u001b[0m               npy_intp n = dimensions[0];\n",
      "  \u001b[31m   \u001b[0m                            ^~~~~~~~~~\n",
      "  \u001b[31m   \u001b[0m       numpy/core/src/umath/loops.c.src:2610:29: note: silence by adding parentheses to mark code as explicitly dead\n",
      "  \u001b[31m   \u001b[0m           if (IS_BINARY_REDUCE && 0) {\n",
      "  \u001b[31m   \u001b[0m                                   ^\n",
      "  \u001b[31m   \u001b[0m                                   /* DISABLES CODE */ ( )\n",
      "  \u001b[31m   \u001b[0m       numpy/core/src/umath/loops.c.src:2611:22: warning: code will never be executed [-Wunreachable-code]\n",
      "  \u001b[31m   \u001b[0m               npy_intp n = dimensions[0];\n",
      "  \u001b[31m   \u001b[0m                            ^~~~~~~~~~\n",
      "  \u001b[31m   \u001b[0m       numpy/core/src/umath/loops.c.src:2610:29: note: silence by adding parentheses to mark code as explicitly dead\n",
      "  \u001b[31m   \u001b[0m           if (IS_BINARY_REDUCE && 0) {\n",
      "  \u001b[31m   \u001b[0m                                   ^\n",
      "  \u001b[31m   \u001b[0m                                   /* DISABLES CODE */ ( )\n",
      "  \u001b[31m   \u001b[0m       numpy/core/src/umath/loops.c.src:2611:22: warning: code will never be executed [-Wunreachable-code]\n",
      "  \u001b[31m   \u001b[0m               npy_intp n = dimensions[0];\n",
      "  \u001b[31m   \u001b[0m                            ^~~~~~~~~~\n",
      "  \u001b[31m   \u001b[0m       numpy/core/src/umath/loops.c.src:2610:29: note: silence by adding parentheses to mark code as explicitly dead\n",
      "  \u001b[31m   \u001b[0m           if (IS_BINARY_REDUCE && 0) {\n",
      "  \u001b[31m   \u001b[0m                                   ^\n",
      "  \u001b[31m   \u001b[0m                                   /* DISABLES CODE */ ( )\n",
      "  \u001b[31m   \u001b[0m       3 warnings generated.\n",
      "  \u001b[31m   \u001b[0m       clang: build/src.macosx-10.9-universal2-3.10/numpy/core/src/umath/matmul.c\n",
      "  \u001b[31m   \u001b[0m       clang: build/src.macosx-10.9-universal2-3.10/numpy/core/src/umath/clip.c\n",
      "  \u001b[31m   \u001b[0m       error: Command \"clang -Wno-unused-result -Wsign-compare -Wunreachable-code -fno-common -dynamic -DNDEBUG -g -fwrapv -O3 -Wall -arch arm64 -arch x86_64 -g -DNPY_INTERNAL_BUILD=1 -DHAVE_NPY_CONFIG_H=1 -D_FILE_OFFSET_BITS=64 -D_LARGEFILE_SOURCE=1 -D_LARGEFILE64_SOURCE=1 -DNO_ATLAS_INFO=3 -DHAVE_CBLAS -Ibuild/src.macosx-10.9-universal2-3.10/numpy/core/src/umath -Ibuild/src.macosx-10.9-universal2-3.10/numpy/core/src/npymath -Ibuild/src.macosx-10.9-universal2-3.10/numpy/core/src/common -Inumpy/core/include -Ibuild/src.macosx-10.9-universal2-3.10/numpy/core/include/numpy -Inumpy/core/src/common -Inumpy/core/src -Inumpy/core -Inumpy/core/src/npymath -Inumpy/core/src/multiarray -Inumpy/core/src/umath -Inumpy/core/src/npysort -I/Library/Frameworks/Python.framework/Versions/3.10/include/python3.10 -Ibuild/src.macosx-10.9-universal2-3.10/numpy/core/src/common -Ibuild/src.macosx-10.9-universal2-3.10/numpy/core/src/npymath -c build/src.macosx-10.9-universal2-3.10/numpy/core/src/multiarray/scalartypes.c -o build/temp.macosx-10.9-universal2-3.10/build/src.macosx-10.9-universal2-3.10/numpy/core/src/multiarray/scalartypes.o -MMD -MF build/temp.macosx-10.9-universal2-3.10/build/src.macosx-10.9-universal2-3.10/numpy/core/src/multiarray/scalartypes.o.d -msse3 -I/System/Library/Frameworks/vecLib.framework/Headers\" failed with exit status 1\n",
      "  \u001b[31m   \u001b[0m       [end of output]\n",
      "  \u001b[31m   \u001b[0m \n",
      "  \u001b[31m   \u001b[0m   note: This error originates from a subprocess, and is likely not a problem with pip.\n",
      "  \u001b[31m   \u001b[0m   ERROR: Failed building wheel for numpy\n",
      "  \u001b[31m   \u001b[0m Failed to build numpy\n",
      "  \u001b[31m   \u001b[0m ERROR: Could not build wheels for numpy, which is required to install pyproject.toml-based projects\n",
      "  \u001b[31m   \u001b[0m \u001b[31m[end of output]\u001b[0m\n",
      "  \n",
      "  \u001b[1;35mnote\u001b[0m: This error originates from a subprocess, and is likely not a problem with pip.\n",
      "\u001b[1;31merror\u001b[0m: \u001b[1msubprocess-exited-with-error\u001b[0m\n",
      "\n",
      "\u001b[31m×\u001b[0m \u001b[32mpip subprocess to install build dependencies\u001b[0m did not run successfully.\n",
      "\u001b[31m│\u001b[0m exit code: \u001b[1;36m1\u001b[0m\n",
      "\u001b[31m╰─>\u001b[0m See above for output.\n",
      "\n",
      "\u001b[1;35mnote\u001b[0m: This error originates from a subprocess, and is likely not a problem with pip.\n"
     ]
    },
    {
     "name": "stdout",
     "output_type": "stream",
     "text": [
      "\u001b[?25hCollecting numpy==1.24.2\n",
      "  Downloading numpy-1.24.2-cp310-cp310-macosx_10_9_x86_64.whl (19.8 MB)\n",
      "\u001b[2K     \u001b[90m━━━━━━━━━━━━━━━━━━━━━━━━━━━━━━━━━━━━━━━━\u001b[0m \u001b[32m19.8/19.8 MB\u001b[0m \u001b[31m1.2 MB/s\u001b[0m eta \u001b[36m0:00:00\u001b[0m00:01\u001b[0m00:01\u001b[0m\n",
      "\u001b[?25hInstalling collected packages: numpy\n",
      "  Attempting uninstall: numpy\n",
      "    Found existing installation: numpy 1.24.0\n",
      "    Uninstalling numpy-1.24.0:\n",
      "      Successfully uninstalled numpy-1.24.0\n",
      "Successfully installed numpy-1.24.2\n",
      "Collecting scipy==1.10.0\n",
      "  Downloading scipy-1.10.0-cp310-cp310-macosx_10_15_x86_64.whl (35.1 MB)\n",
      "\u001b[2K     \u001b[90m━━━━━━━━━━━━━━━━━━━━━━━━━━━━━━━━━━━━━━━━\u001b[0m \u001b[32m35.1/35.1 MB\u001b[0m \u001b[31m1.8 MB/s\u001b[0m eta \u001b[36m0:00:00\u001b[0m00:01\u001b[0m00:01\u001b[0mm\n",
      "\u001b[?25hRequirement already satisfied: numpy<1.27.0,>=1.19.5 in /Library/Frameworks/Python.framework/Versions/3.10/lib/python3.10/site-packages (from scipy==1.10.0) (1.24.2)\n",
      "Installing collected packages: scipy\n",
      "  Attempting uninstall: scipy\n",
      "    Found existing installation: scipy 1.10.1\n",
      "    Uninstalling scipy-1.10.1:\n",
      "      Successfully uninstalled scipy-1.10.1\n",
      "Successfully installed scipy-1.10.0\n",
      "Requirement already satisfied: seaborn==0.9.0 in /Library/Frameworks/Python.framework/Versions/3.10/lib/python3.10/site-packages (0.9.0)\n",
      "Requirement already satisfied: matplotlib>=1.4.3 in /Library/Frameworks/Python.framework/Versions/3.10/lib/python3.10/site-packages (from seaborn==0.9.0) (3.7.1)\n",
      "Requirement already satisfied: numpy>=1.9.3 in /Library/Frameworks/Python.framework/Versions/3.10/lib/python3.10/site-packages (from seaborn==0.9.0) (1.24.2)\n",
      "Requirement already satisfied: pandas>=0.15.2 in /Library/Frameworks/Python.framework/Versions/3.10/lib/python3.10/site-packages (from seaborn==0.9.0) (2.0.1)\n",
      "Requirement already satisfied: scipy>=0.14.0 in /Library/Frameworks/Python.framework/Versions/3.10/lib/python3.10/site-packages (from seaborn==0.9.0) (1.10.0)\n",
      "Requirement already satisfied: contourpy>=1.0.1 in /Library/Frameworks/Python.framework/Versions/3.10/lib/python3.10/site-packages (from matplotlib>=1.4.3->seaborn==0.9.0) (1.0.7)\n",
      "Requirement already satisfied: cycler>=0.10 in /Library/Frameworks/Python.framework/Versions/3.10/lib/python3.10/site-packages (from matplotlib>=1.4.3->seaborn==0.9.0) (0.11.0)\n",
      "Requirement already satisfied: fonttools>=4.22.0 in /Library/Frameworks/Python.framework/Versions/3.10/lib/python3.10/site-packages (from matplotlib>=1.4.3->seaborn==0.9.0) (4.39.3)\n",
      "Requirement already satisfied: kiwisolver>=1.0.1 in /Library/Frameworks/Python.framework/Versions/3.10/lib/python3.10/site-packages (from matplotlib>=1.4.3->seaborn==0.9.0) (1.4.4)\n",
      "Requirement already satisfied: packaging>=20.0 in /Library/Frameworks/Python.framework/Versions/3.10/lib/python3.10/site-packages (from matplotlib>=1.4.3->seaborn==0.9.0) (23.1)\n",
      "Requirement already satisfied: pillow>=6.2.0 in /Library/Frameworks/Python.framework/Versions/3.10/lib/python3.10/site-packages (from matplotlib>=1.4.3->seaborn==0.9.0) (9.5.0)\n",
      "Requirement already satisfied: pyparsing>=2.3.1 in /Library/Frameworks/Python.framework/Versions/3.10/lib/python3.10/site-packages (from matplotlib>=1.4.3->seaborn==0.9.0) (3.0.9)\n",
      "Requirement already satisfied: python-dateutil>=2.7 in /Library/Frameworks/Python.framework/Versions/3.10/lib/python3.10/site-packages (from matplotlib>=1.4.3->seaborn==0.9.0) (2.8.2)\n",
      "Requirement already satisfied: pytz>=2020.1 in /Library/Frameworks/Python.framework/Versions/3.10/lib/python3.10/site-packages (from pandas>=0.15.2->seaborn==0.9.0) (2023.3)\n",
      "Requirement already satisfied: tzdata>=2022.1 in /Library/Frameworks/Python.framework/Versions/3.10/lib/python3.10/site-packages (from pandas>=0.15.2->seaborn==0.9.0) (2023.3)\n",
      "Requirement already satisfied: six>=1.5 in /Library/Frameworks/Python.framework/Versions/3.10/lib/python3.10/site-packages (from python-dateutil>=2.7->matplotlib>=1.4.3->seaborn==0.9.0) (1.16.0)\n"
     ]
    }
   ],
   "source": [
    "!pip install pandas==1.3.3\n",
    "!pip install numpy==1.24.2\n",
    "!pip install scipy==1.10.0\n",
    "!pip install seaborn==0.9.0"
   ]
  },
  {
   "cell_type": "markdown",
   "metadata": {},
   "source": [
    "Import libraries:\n"
   ]
  },
  {
   "cell_type": "markdown",
   "metadata": {},
   "source": [
    "If you run the lab locally using Anaconda, you can load the correct library and versions by uncommenting the following:\n"
   ]
  },
  {
   "cell_type": "code",
   "execution_count": null,
   "metadata": {},
   "outputs": [],
   "source": [
    "#If you run the lab locally using Anaconda, you can load the correct library and versions by uncommenting the following:\n",
    "#install specific version of libraries used in lab\n",
    "#! mamba install pandas==1.3.3\n",
    "#! mamba install numpy=1.21.2\n",
    "#! mamba install scipy=1.7.1-y\n",
    "#!  mamba install seaborn=0.9.0-y"
   ]
  },
  {
   "cell_type": "code",
   "execution_count": 7,
   "metadata": {},
   "outputs": [],
   "source": [
    "import pandas as pd\n",
    "import numpy as np"
   ]
  },
  {
   "cell_type": "code",
   "execution_count": 3,
   "metadata": {},
   "outputs": [
    {
     "ename": "ModuleNotFoundError",
     "evalue": "No module named 'pyodide'",
     "output_type": "error",
     "traceback": [
      "\u001b[0;31m---------------------------------------------------------------------------\u001b[0m",
      "\u001b[0;31mModuleNotFoundError\u001b[0m                       Traceback (most recent call last)",
      "\u001b[0;32m/var/folders/rx/m0btvv496ls5xlm6m33rc1kr0000gn/T/ipykernel_18467/2949681002.py\u001b[0m in \u001b[0;36m<module>\u001b[0;34m\u001b[0m\n\u001b[1;32m      1\u001b[0m \u001b[0;31m#This function will download the dataset into your browser\u001b[0m\u001b[0;34m\u001b[0m\u001b[0;34m\u001b[0m\u001b[0;34m\u001b[0m\u001b[0m\n\u001b[1;32m      2\u001b[0m \u001b[0;34m\u001b[0m\u001b[0m\n\u001b[0;32m----> 3\u001b[0;31m \u001b[0;32mfrom\u001b[0m \u001b[0mpyodide\u001b[0m\u001b[0;34m.\u001b[0m\u001b[0mhttp\u001b[0m \u001b[0;32mimport\u001b[0m \u001b[0mpyfetch\u001b[0m\u001b[0;34m\u001b[0m\u001b[0;34m\u001b[0m\u001b[0m\n\u001b[0m\u001b[1;32m      4\u001b[0m \u001b[0;34m\u001b[0m\u001b[0m\n\u001b[1;32m      5\u001b[0m \u001b[0;32masync\u001b[0m \u001b[0;32mdef\u001b[0m \u001b[0mdownload\u001b[0m\u001b[0;34m(\u001b[0m\u001b[0murl\u001b[0m\u001b[0;34m,\u001b[0m \u001b[0mfilename\u001b[0m\u001b[0;34m)\u001b[0m\u001b[0;34m:\u001b[0m\u001b[0;34m\u001b[0m\u001b[0;34m\u001b[0m\u001b[0m\n",
      "\u001b[0;31mModuleNotFoundError\u001b[0m: No module named 'pyodide'"
     ]
    }
   ],
   "source": [
    "#This function will download the dataset into your browser \n",
    "\n",
    "from pyodide.http import pyfetch\n",
    "\n",
    "async def download(url, filename):\n",
    "    response = await pyfetch(url)\n",
    "    if response.status == 200:\n",
    "        with open(filename, \"wb\") as f:\n",
    "            f.write(await response.bytes())\n"
   ]
  },
  {
   "cell_type": "code",
   "execution_count": 1,
   "metadata": {},
   "outputs": [],
   "source": [
    "import requests\n",
    "import json\n",
    "\n",
    "def download(url, filename):\n",
    "    response = requests.get(url)\n",
    "    if response.status_code == 200:\n",
    "        arr = bytes(response.text, 'utf-8')\n",
    "        with open(filename, \"wb\") as f:\n",
    "            f.write(arr)"
   ]
  },
  {
   "cell_type": "code",
   "execution_count": 2,
   "metadata": {},
   "outputs": [
    {
     "name": "stdout",
     "output_type": "stream",
     "text": [
      "Collecting pyodide.http\n",
      "  Downloading pyodide_http-0.2.1-py3-none-any.whl (9.7 kB)\n",
      "Installing collected packages: pyodide.http\n",
      "Successfully installed pyodide.http-0.2.1\n"
     ]
    }
   ],
   "source": []
  },
  {
   "cell_type": "code",
   "execution_count": 3,
   "metadata": {},
   "outputs": [
    {
     "name": "stdout",
     "output_type": "stream",
     "text": [
      "\u001b[31mERROR: Ignored the following versions that require a different python version: 0.22.0 Requires-Python >=3.8; 0.22.0a1 Requires-Python >=3.8; 0.23.0 Requires-Python >=3.8; 0.23.0a1 Requires-Python >=3.8; 0.23.1 Requires-Python >=3.8\u001b[0m\u001b[31m\n",
      "\u001b[0m\u001b[31mERROR: Could not find a version that satisfies the requirement pyodide-py (from versions: none)\u001b[0m\u001b[31m\n",
      "\u001b[0m\u001b[31mERROR: No matching distribution found for pyodide-py\u001b[0m\u001b[31m\n",
      "\u001b[0mNote: you may need to restart the kernel to use updated packages.\n"
     ]
    }
   ],
   "source": [
    "pip install pyodide-py"
   ]
  },
  {
   "cell_type": "markdown",
   "metadata": {},
   "source": [
    "This function will download the dataset into your browser\n"
   ]
  },
  {
   "cell_type": "markdown",
   "metadata": {},
   "source": [
    "Load the data and store it in dataframe `df`:\n"
   ]
  },
  {
   "cell_type": "markdown",
   "metadata": {},
   "source": [
    "This dataset was hosted on IBM Cloud object. Click <a href=\"https://cocl.us/DA101EN_object_storage?utm_medium=Exinfluencer&utm_source=Exinfluencer&utm_content=000026UJ&utm_term=10006555&utm_id=NA-SkillsNetwork-Channel-SkillsNetworkCoursesIBMDeveloperSkillsNetworkDA0101ENSkillsNetwork20235326-2021-01-01\">HERE</a> for free storage.\n"
   ]
  },
  {
   "cell_type": "code",
   "execution_count": 3,
   "metadata": {},
   "outputs": [],
   "source": [
    "path='https://cf-courses-data.s3.us.cloud-object-storage.appdomain.cloud/IBMDeveloperSkillsNetwork-DA0101EN-SkillsNetwork/labs/Data%20files/automobileEDA.csv'"
   ]
  },
  {
   "cell_type": "markdown",
   "metadata": {},
   "source": [
    "you will need to download the dataset; if you are running locally, please comment out the following\n"
   ]
  },
  {
   "cell_type": "markdown",
   "metadata": {},
   "source": [
    "\\#you will need to download the dataset; if you are running locally, please comment out the following\n",
    "await download(path, \"auto.csv\")\n",
    "path=\"auto.csv\"\n"
   ]
  },
  {
   "cell_type": "code",
   "execution_count": 5,
   "metadata": {},
   "outputs": [],
   "source": [
    "download(path, \"auto.csv\")\n",
    "filename=\"auto.csv\""
   ]
  },
  {
   "cell_type": "code",
   "execution_count": 8,
   "metadata": {},
   "outputs": [
    {
     "data": {
      "text/html": [
       "<div>\n",
       "<style scoped>\n",
       "    .dataframe tbody tr th:only-of-type {\n",
       "        vertical-align: middle;\n",
       "    }\n",
       "\n",
       "    .dataframe tbody tr th {\n",
       "        vertical-align: top;\n",
       "    }\n",
       "\n",
       "    .dataframe thead th {\n",
       "        text-align: right;\n",
       "    }\n",
       "</style>\n",
       "<table border=\"1\" class=\"dataframe\">\n",
       "  <thead>\n",
       "    <tr style=\"text-align: right;\">\n",
       "      <th></th>\n",
       "      <th>symboling</th>\n",
       "      <th>normalized-losses</th>\n",
       "      <th>make</th>\n",
       "      <th>aspiration</th>\n",
       "      <th>num-of-doors</th>\n",
       "      <th>body-style</th>\n",
       "      <th>drive-wheels</th>\n",
       "      <th>engine-location</th>\n",
       "      <th>wheel-base</th>\n",
       "      <th>length</th>\n",
       "      <th>...</th>\n",
       "      <th>compression-ratio</th>\n",
       "      <th>horsepower</th>\n",
       "      <th>peak-rpm</th>\n",
       "      <th>city-mpg</th>\n",
       "      <th>highway-mpg</th>\n",
       "      <th>price</th>\n",
       "      <th>city-L/100km</th>\n",
       "      <th>horsepower-binned</th>\n",
       "      <th>diesel</th>\n",
       "      <th>gas</th>\n",
       "    </tr>\n",
       "  </thead>\n",
       "  <tbody>\n",
       "    <tr>\n",
       "      <th>0</th>\n",
       "      <td>3</td>\n",
       "      <td>122</td>\n",
       "      <td>alfa-romero</td>\n",
       "      <td>std</td>\n",
       "      <td>two</td>\n",
       "      <td>convertible</td>\n",
       "      <td>rwd</td>\n",
       "      <td>front</td>\n",
       "      <td>88.6</td>\n",
       "      <td>0.811148</td>\n",
       "      <td>...</td>\n",
       "      <td>9.0</td>\n",
       "      <td>111.0</td>\n",
       "      <td>5000.0</td>\n",
       "      <td>21</td>\n",
       "      <td>27</td>\n",
       "      <td>13495.0</td>\n",
       "      <td>11.190476</td>\n",
       "      <td>Medium</td>\n",
       "      <td>0</td>\n",
       "      <td>1</td>\n",
       "    </tr>\n",
       "    <tr>\n",
       "      <th>1</th>\n",
       "      <td>3</td>\n",
       "      <td>122</td>\n",
       "      <td>alfa-romero</td>\n",
       "      <td>std</td>\n",
       "      <td>two</td>\n",
       "      <td>convertible</td>\n",
       "      <td>rwd</td>\n",
       "      <td>front</td>\n",
       "      <td>88.6</td>\n",
       "      <td>0.811148</td>\n",
       "      <td>...</td>\n",
       "      <td>9.0</td>\n",
       "      <td>111.0</td>\n",
       "      <td>5000.0</td>\n",
       "      <td>21</td>\n",
       "      <td>27</td>\n",
       "      <td>16500.0</td>\n",
       "      <td>11.190476</td>\n",
       "      <td>Medium</td>\n",
       "      <td>0</td>\n",
       "      <td>1</td>\n",
       "    </tr>\n",
       "    <tr>\n",
       "      <th>2</th>\n",
       "      <td>1</td>\n",
       "      <td>122</td>\n",
       "      <td>alfa-romero</td>\n",
       "      <td>std</td>\n",
       "      <td>two</td>\n",
       "      <td>hatchback</td>\n",
       "      <td>rwd</td>\n",
       "      <td>front</td>\n",
       "      <td>94.5</td>\n",
       "      <td>0.822681</td>\n",
       "      <td>...</td>\n",
       "      <td>9.0</td>\n",
       "      <td>154.0</td>\n",
       "      <td>5000.0</td>\n",
       "      <td>19</td>\n",
       "      <td>26</td>\n",
       "      <td>16500.0</td>\n",
       "      <td>12.368421</td>\n",
       "      <td>Medium</td>\n",
       "      <td>0</td>\n",
       "      <td>1</td>\n",
       "    </tr>\n",
       "    <tr>\n",
       "      <th>3</th>\n",
       "      <td>2</td>\n",
       "      <td>164</td>\n",
       "      <td>audi</td>\n",
       "      <td>std</td>\n",
       "      <td>four</td>\n",
       "      <td>sedan</td>\n",
       "      <td>fwd</td>\n",
       "      <td>front</td>\n",
       "      <td>99.8</td>\n",
       "      <td>0.848630</td>\n",
       "      <td>...</td>\n",
       "      <td>10.0</td>\n",
       "      <td>102.0</td>\n",
       "      <td>5500.0</td>\n",
       "      <td>24</td>\n",
       "      <td>30</td>\n",
       "      <td>13950.0</td>\n",
       "      <td>9.791667</td>\n",
       "      <td>Medium</td>\n",
       "      <td>0</td>\n",
       "      <td>1</td>\n",
       "    </tr>\n",
       "    <tr>\n",
       "      <th>4</th>\n",
       "      <td>2</td>\n",
       "      <td>164</td>\n",
       "      <td>audi</td>\n",
       "      <td>std</td>\n",
       "      <td>four</td>\n",
       "      <td>sedan</td>\n",
       "      <td>4wd</td>\n",
       "      <td>front</td>\n",
       "      <td>99.4</td>\n",
       "      <td>0.848630</td>\n",
       "      <td>...</td>\n",
       "      <td>8.0</td>\n",
       "      <td>115.0</td>\n",
       "      <td>5500.0</td>\n",
       "      <td>18</td>\n",
       "      <td>22</td>\n",
       "      <td>17450.0</td>\n",
       "      <td>13.055556</td>\n",
       "      <td>Medium</td>\n",
       "      <td>0</td>\n",
       "      <td>1</td>\n",
       "    </tr>\n",
       "  </tbody>\n",
       "</table>\n",
       "<p>5 rows × 29 columns</p>\n",
       "</div>"
      ],
      "text/plain": [
       "   symboling  normalized-losses         make aspiration num-of-doors  \\\n",
       "0          3                122  alfa-romero        std          two   \n",
       "1          3                122  alfa-romero        std          two   \n",
       "2          1                122  alfa-romero        std          two   \n",
       "3          2                164         audi        std         four   \n",
       "4          2                164         audi        std         four   \n",
       "\n",
       "    body-style drive-wheels engine-location  wheel-base    length  ...  \\\n",
       "0  convertible          rwd           front        88.6  0.811148  ...   \n",
       "1  convertible          rwd           front        88.6  0.811148  ...   \n",
       "2    hatchback          rwd           front        94.5  0.822681  ...   \n",
       "3        sedan          fwd           front        99.8  0.848630  ...   \n",
       "4        sedan          4wd           front        99.4  0.848630  ...   \n",
       "\n",
       "   compression-ratio  horsepower  peak-rpm city-mpg highway-mpg    price  \\\n",
       "0                9.0       111.0    5000.0       21          27  13495.0   \n",
       "1                9.0       111.0    5000.0       21          27  16500.0   \n",
       "2                9.0       154.0    5000.0       19          26  16500.0   \n",
       "3               10.0       102.0    5500.0       24          30  13950.0   \n",
       "4                8.0       115.0    5500.0       18          22  17450.0   \n",
       "\n",
       "  city-L/100km  horsepower-binned  diesel  gas  \n",
       "0    11.190476             Medium       0    1  \n",
       "1    11.190476             Medium       0    1  \n",
       "2    12.368421             Medium       0    1  \n",
       "3     9.791667             Medium       0    1  \n",
       "4    13.055556             Medium       0    1  \n",
       "\n",
       "[5 rows x 29 columns]"
      ]
     },
     "execution_count": 8,
     "metadata": {},
     "output_type": "execute_result"
    }
   ],
   "source": [
    "\n",
    "df = pd.read_csv(filename)\n",
    "df.head()"
   ]
  },
  {
   "cell_type": "markdown",
   "metadata": {},
   "source": [
    "<h2 id=\"pattern_visualization\">2. Analyzing Individual Feature Patterns Using Visualization</h2>\n"
   ]
  },
  {
   "cell_type": "markdown",
   "metadata": {},
   "source": [
    "To install Seaborn we use pip, the Python package manager.\n"
   ]
  },
  {
   "cell_type": "markdown",
   "metadata": {},
   "source": [
    "Import visualization packages \"Matplotlib\" and \"Seaborn\". Don't forget about \"%matplotlib inline\" to plot in a Jupyter notebook.\n"
   ]
  },
  {
   "cell_type": "code",
   "execution_count": 18,
   "metadata": {},
   "outputs": [],
   "source": [
    "import matplotlib.pyplot as plt\n",
    "import seaborn as sns\n",
    "%matplotlib inline "
   ]
  },
  {
   "cell_type": "markdown",
   "metadata": {},
   "source": [
    "<h4>How to choose the right visualization method?</h4>\n",
    "<p>When visualizing individual variables, it is important to first understand what type of variable you are dealing with. This will help us find the right visualization method for that variable.</p>\n"
   ]
  },
  {
   "cell_type": "code",
   "execution_count": null,
   "metadata": {},
   "outputs": [],
   "source": [
    "# list the data types for each column\n",
    "print(df.dtypes)"
   ]
  },
  {
   "cell_type": "markdown",
   "metadata": {},
   "source": [
    "<div class=\"alert alert-danger alertdanger\" style=\"margin-top: 20px\">\n",
    "<h3>Question  #1:</h3>\n",
    "\n",
    "<b>What is the data type of the column \"peak-rpm\"? </b>\n",
    "\n",
    "</div>\n"
   ]
  },
  {
   "cell_type": "code",
   "execution_count": 9,
   "metadata": {},
   "outputs": [
    {
     "data": {
      "text/plain": [
       "dtype('float64')"
      ]
     },
     "execution_count": 9,
     "metadata": {},
     "output_type": "execute_result"
    }
   ],
   "source": [
    "# Write your code below and press Shift+Enter to execute \n",
    "df[\"peak-rpm\"].dtypes"
   ]
  },
  {
   "cell_type": "markdown",
   "metadata": {},
   "source": [
    "<details><summary>Click here for the solution</summary>\n",
    "\n",
    "```python\n",
    "df['peak-rpm'].dtypes\n",
    "```\n",
    "\n",
    "</details>\n"
   ]
  },
  {
   "cell_type": "markdown",
   "metadata": {},
   "source": [
    "For example, we can calculate the correlation between variables  of type \"int64\" or \"float64\" using the method \"corr\":\n"
   ]
  },
  {
   "cell_type": "code",
   "execution_count": null,
   "metadata": {},
   "outputs": [],
   "source": [
    "df.corr()"
   ]
  },
  {
   "cell_type": "markdown",
   "metadata": {},
   "source": [
    "The diagonal elements are always one; we will study correlation more precisely Pearson correlation in-depth at the end of the notebook.\n"
   ]
  },
  {
   "cell_type": "markdown",
   "metadata": {},
   "source": [
    "<div class=\"alert alert-danger alertdanger\" style=\"margin-top: 20px\">\n",
    "<h3> Question  #2: </h3>\n",
    "\n",
    "<p>Find the correlation between the following columns: bore, stroke, compression-ratio, and horsepower.</p>\n",
    "<p>Hint: if you would like to select those columns, use the following syntax: df[['bore','stroke','compression-ratio','horsepower']]</p>\n",
    "</div>\n"
   ]
  },
  {
   "cell_type": "code",
   "execution_count": 10,
   "metadata": {},
   "outputs": [
    {
     "data": {
      "text/html": [
       "<div>\n",
       "<style scoped>\n",
       "    .dataframe tbody tr th:only-of-type {\n",
       "        vertical-align: middle;\n",
       "    }\n",
       "\n",
       "    .dataframe tbody tr th {\n",
       "        vertical-align: top;\n",
       "    }\n",
       "\n",
       "    .dataframe thead th {\n",
       "        text-align: right;\n",
       "    }\n",
       "</style>\n",
       "<table border=\"1\" class=\"dataframe\">\n",
       "  <thead>\n",
       "    <tr style=\"text-align: right;\">\n",
       "      <th></th>\n",
       "      <th>bore</th>\n",
       "      <th>stroke</th>\n",
       "      <th>compression-ratio</th>\n",
       "      <th>horsepower</th>\n",
       "    </tr>\n",
       "  </thead>\n",
       "  <tbody>\n",
       "    <tr>\n",
       "      <th>bore</th>\n",
       "      <td>1.000000</td>\n",
       "      <td>-0.055390</td>\n",
       "      <td>0.001263</td>\n",
       "      <td>0.566936</td>\n",
       "    </tr>\n",
       "    <tr>\n",
       "      <th>stroke</th>\n",
       "      <td>-0.055390</td>\n",
       "      <td>1.000000</td>\n",
       "      <td>0.187923</td>\n",
       "      <td>0.098462</td>\n",
       "    </tr>\n",
       "    <tr>\n",
       "      <th>compression-ratio</th>\n",
       "      <td>0.001263</td>\n",
       "      <td>0.187923</td>\n",
       "      <td>1.000000</td>\n",
       "      <td>-0.214514</td>\n",
       "    </tr>\n",
       "    <tr>\n",
       "      <th>horsepower</th>\n",
       "      <td>0.566936</td>\n",
       "      <td>0.098462</td>\n",
       "      <td>-0.214514</td>\n",
       "      <td>1.000000</td>\n",
       "    </tr>\n",
       "  </tbody>\n",
       "</table>\n",
       "</div>"
      ],
      "text/plain": [
       "                       bore    stroke  compression-ratio  horsepower\n",
       "bore               1.000000 -0.055390           0.001263    0.566936\n",
       "stroke            -0.055390  1.000000           0.187923    0.098462\n",
       "compression-ratio  0.001263  0.187923           1.000000   -0.214514\n",
       "horsepower         0.566936  0.098462          -0.214514    1.000000"
      ]
     },
     "execution_count": 10,
     "metadata": {},
     "output_type": "execute_result"
    }
   ],
   "source": [
    "# Write your code below and press Shift+Enter to execute \n",
    "df[['bore','stroke','compression-ratio','horsepower']].corr()"
   ]
  },
  {
   "cell_type": "markdown",
   "metadata": {},
   "source": [
    "<details><summary>Click here for the solution</summary>\n",
    "\n",
    "```python\n",
    "df[['bore', 'stroke', 'compression-ratio', 'horsepower']].corr()\n",
    "```\n",
    "\n",
    "</details>\n"
   ]
  },
  {
   "cell_type": "markdown",
   "metadata": {},
   "source": [
    "<h2>Continuous Numerical Variables:</h2> \n",
    "\n",
    "<p>Continuous numerical variables are variables that may contain any value within some range. They can be of type \"int64\" or \"float64\". A great way to visualize these variables is by using scatterplots with fitted lines.</p>\n",
    "\n",
    "<p>In order to start understanding the (linear) relationship between an individual variable and the price, we can use \"regplot\" which plots the scatterplot plus the fitted regression line for the data.</p>\n"
   ]
  },
  {
   "cell_type": "markdown",
   "metadata": {},
   "source": [
    "Let's see several examples of different linear relationships:\n"
   ]
  },
  {
   "cell_type": "markdown",
   "metadata": {},
   "source": [
    "<h3>Positive Linear Relationship</h4>\n"
   ]
  },
  {
   "cell_type": "markdown",
   "metadata": {},
   "source": [
    "Let's find the scatterplot of \"engine-size\" and \"price\".\n"
   ]
  },
  {
   "cell_type": "code",
   "execution_count": 19,
   "metadata": {
    "scrolled": true
   },
   "outputs": [
    {
     "data": {
      "text/plain": [
       "(0.0, 56408.58840293302)"
      ]
     },
     "execution_count": 19,
     "metadata": {},
     "output_type": "execute_result"
    },
    {
     "data": {
      "image/png": "[encoded data removed]",
      "text/plain": [
       "<Figure size 640x480 with 1 Axes>"
      ]
     },
     "metadata": {},
     "output_type": "display_data"
    }
   ],
   "source": [
    "# Engine size as potential predictor variable of price\n",
    "sns.regplot(x=\"engine-size\", y=\"price\", data=df)\n",
    "plt.ylim(0,)"
   ]
  },
  {
   "cell_type": "markdown",
   "metadata": {},
   "source": [
    "<p>As the engine-size goes up, the price goes up: this indicates a positive direct correlation between these two variables. Engine size seems like a pretty good predictor of price since the regression line is almost a perfect diagonal line.</p>\n"
   ]
  },
  {
   "cell_type": "markdown",
   "metadata": {},
   "source": [
    "We can examine the correlation between 'engine-size' and 'price' and see that it's approximately 0.87.\n"
   ]
  },
  {
   "cell_type": "code",
   "execution_count": null,
   "metadata": {},
   "outputs": [],
   "source": [
    "df[[\"engine-size\", \"price\"]].corr()"
   ]
  },
  {
   "cell_type": "markdown",
   "metadata": {},
   "source": [
    "Highway mpg is a potential predictor variable of price. Let's find the scatterplot of \"highway-mpg\" and \"price\".\n"
   ]
  },
  {
   "cell_type": "code",
   "execution_count": null,
   "metadata": {},
   "outputs": [],
   "source": [
    "sns.regplot(x=\"highway-mpg\", y=\"price\", data=df)"
   ]
  },
  {
   "cell_type": "markdown",
   "metadata": {},
   "source": [
    "<p>As highway-mpg goes up, the price goes down: this indicates an inverse/negative relationship between these two variables. Highway mpg could potentially be a predictor of price.</p>\n"
   ]
  },
  {
   "cell_type": "markdown",
   "metadata": {},
   "source": [
    "We can examine the correlation between 'highway-mpg' and 'price' and see it's approximately -0.704.\n"
   ]
  },
  {
   "cell_type": "code",
   "execution_count": null,
   "metadata": {},
   "outputs": [],
   "source": [
    "df[['highway-mpg', 'price']].corr()"
   ]
  },
  {
   "cell_type": "markdown",
   "metadata": {},
   "source": [
    "<h3>Weak Linear Relationship</h3>\n"
   ]
  },
  {
   "cell_type": "markdown",
   "metadata": {},
   "source": [
    "Let's see if \"peak-rpm\" is a predictor variable of \"price\".\n"
   ]
  },
  {
   "cell_type": "code",
   "execution_count": null,
   "metadata": {},
   "outputs": [],
   "source": [
    "sns.regplot(x=\"peak-rpm\", y=\"price\", data=df)"
   ]
  },
  {
   "cell_type": "markdown",
   "metadata": {},
   "source": [
    "<p>Peak rpm does not seem like a good predictor of the price at all since the regression line is close to horizontal. Also, the data points are very scattered and far from the fitted line, showing lots of variability. Therefore, it's not a reliable variable.</p>\n"
   ]
  },
  {
   "cell_type": "markdown",
   "metadata": {},
   "source": [
    "We can examine the correlation between 'peak-rpm' and 'price' and see it's approximately -0.101616.\n"
   ]
  },
  {
   "cell_type": "code",
   "execution_count": null,
   "metadata": {},
   "outputs": [],
   "source": [
    "df[['peak-rpm','price']].corr()"
   ]
  },
  {
   "cell_type": "markdown",
   "metadata": {},
   "source": [
    " <div class=\"alert alert-danger alertdanger\" style=\"margin-top: 20px\">\n",
    "<h1> Question  3 a): </h1>\n",
    "\n",
    "<p>Find the correlation  between x=\"stroke\" and y=\"price\".</p>\n",
    "<p>Hint: if you would like to select those columns, use the following syntax: df[[\"stroke\",\"price\"]].  </p>\n",
    "</div>\n"
   ]
  },
  {
   "cell_type": "code",
   "execution_count": 11,
   "metadata": {},
   "outputs": [
    {
     "data": {
      "text/html": [
       "<div>\n",
       "<style scoped>\n",
       "    .dataframe tbody tr th:only-of-type {\n",
       "        vertical-align: middle;\n",
       "    }\n",
       "\n",
       "    .dataframe tbody tr th {\n",
       "        vertical-align: top;\n",
       "    }\n",
       "\n",
       "    .dataframe thead th {\n",
       "        text-align: right;\n",
       "    }\n",
       "</style>\n",
       "<table border=\"1\" class=\"dataframe\">\n",
       "  <thead>\n",
       "    <tr style=\"text-align: right;\">\n",
       "      <th></th>\n",
       "      <th>stroke</th>\n",
       "      <th>price</th>\n",
       "    </tr>\n",
       "  </thead>\n",
       "  <tbody>\n",
       "    <tr>\n",
       "      <th>stroke</th>\n",
       "      <td>1.00000</td>\n",
       "      <td>0.08231</td>\n",
       "    </tr>\n",
       "    <tr>\n",
       "      <th>price</th>\n",
       "      <td>0.08231</td>\n",
       "      <td>1.00000</td>\n",
       "    </tr>\n",
       "  </tbody>\n",
       "</table>\n",
       "</div>"
      ],
      "text/plain": [
       "         stroke    price\n",
       "stroke  1.00000  0.08231\n",
       "price   0.08231  1.00000"
      ]
     },
     "execution_count": 11,
     "metadata": {},
     "output_type": "execute_result"
    }
   ],
   "source": [
    "# Write your code below and press Shift+Enter to execute\n",
    "df[[\"stroke\",\"price\"]].corr()"
   ]
  },
  {
   "cell_type": "markdown",
   "metadata": {},
   "source": [
    "<details><summary>Click here for the solution</summary>\n",
    "\n",
    "```python\n",
    "\n",
    "#The correlation is 0.0823, the non-diagonal elements of the table.\n",
    "\n",
    "df[[\"stroke\",\"price\"]].corr()\n",
    "\n",
    "```\n",
    "\n",
    "</details>\n"
   ]
  },
  {
   "cell_type": "markdown",
   "metadata": {},
   "source": [
    "<div class=\"alert alert-danger alertdanger\" style=\"margin-top: 20px\">\n",
    "<h1>Question  3 b):</h1>\n",
    "\n",
    "<p>Given the correlation results between \"price\" and \"stroke\", do you expect a linear relationship?</p> \n",
    "<p>Verify your results using the function \"regplot()\".</p>\n",
    "</div>\n"
   ]
  },
  {
   "cell_type": "code",
   "execution_count": 20,
   "metadata": {},
   "outputs": [
    {
     "data": {
      "text/plain": [
       "<AxesSubplot:xlabel='stroke', ylabel='price'>"
      ]
     },
     "execution_count": 20,
     "metadata": {},
     "output_type": "execute_result"
    },
    {
     "data": {
      "image/png": "[encoded data removed]",
      "text/plain": [
       "<Figure size 640x480 with 1 Axes>"
      ]
     },
     "metadata": {},
     "output_type": "display_data"
    }
   ],
   "source": [
    "# Write your code below and press Shift+Enter to execute \n",
    "sns.regplot(x='stroke',y='price',data=df)"
   ]
  },
  {
   "cell_type": "markdown",
   "metadata": {},
   "source": [
    "<details><summary>Click here for the solution</summary>\n",
    "\n",
    "```python\n",
    "\n",
    "#There is a weak correlation between the variable 'stroke' and 'price.' as such regression will not work well. We can see this using \"regplot\" to demonstrate this.\n",
    "\n",
    "#Code: \n",
    "sns.regplot(x=\"stroke\", y=\"price\", data=df)\n",
    "\n",
    "```\n",
    "\n",
    "</details>\n"
   ]
  },
  {
   "cell_type": "markdown",
   "metadata": {},
   "source": [
    "<h3>Categorical Variables</h3>\n",
    "\n",
    "<p>These are variables that describe a 'characteristic' of a data unit, and are selected from a small group of categories. The categorical variables can have the type \"object\" or \"int64\". A good way to visualize categorical variables is by using boxplots.</p>\n"
   ]
  },
  {
   "cell_type": "markdown",
   "metadata": {},
   "source": [
    "Let's look at the relationship between \"body-style\" and \"price\".\n"
   ]
  },
  {
   "cell_type": "code",
   "execution_count": null,
   "metadata": {
    "scrolled": true
   },
   "outputs": [],
   "source": [
    "sns.boxplot(x=\"body-style\", y=\"price\", data=df)"
   ]
  },
  {
   "cell_type": "markdown",
   "metadata": {},
   "source": [
    "<p>We see that the distributions of price between the different body-style categories have a significant overlap, so body-style would not be a good predictor of price. Let's examine engine \"engine-location\" and \"price\":</p>\n"
   ]
  },
  {
   "cell_type": "code",
   "execution_count": null,
   "metadata": {
    "scrolled": true
   },
   "outputs": [],
   "source": [
    "sns.boxplot(x=\"engine-location\", y=\"price\", data=df)"
   ]
  },
  {
   "cell_type": "markdown",
   "metadata": {},
   "source": [
    "<p>Here we see that the distribution of price between these two engine-location categories, front and rear, are distinct enough to take engine-location as a potential good predictor of price.</p>\n"
   ]
  },
  {
   "cell_type": "markdown",
   "metadata": {},
   "source": [
    "Let's examine \"drive-wheels\" and \"price\".\n"
   ]
  },
  {
   "cell_type": "code",
   "execution_count": null,
   "metadata": {},
   "outputs": [],
   "source": [
    "# drive-wheels\n",
    "sns.boxplot(x=\"drive-wheels\", y=\"price\", data=df)"
   ]
  },
  {
   "cell_type": "markdown",
   "metadata": {},
   "source": [
    "<p>Here we see that the distribution of price between the different drive-wheels categories differs. As such, drive-wheels could potentially be a predictor of price.</p>\n"
   ]
  },
  {
   "cell_type": "markdown",
   "metadata": {},
   "source": [
    "<h2 id=\"discriptive_statistics\">3. Descriptive Statistical Analysis</h2>\n"
   ]
  },
  {
   "cell_type": "markdown",
   "metadata": {},
   "source": [
    "<p>Let's first take a look at the variables by utilizing a description method.</p>\n",
    "\n",
    "<p>The <b>describe</b> function automatically computes basic statistics for all continuous variables. Any NaN values are automatically skipped in these statistics.</p>\n",
    "\n",
    "This will show:\n",
    "\n",
    "<ul>\n",
    "    <li>the count of that variable</li>\n",
    "    <li>the mean</li>\n",
    "    <li>the standard deviation (std)</li> \n",
    "    <li>the minimum value</li>\n",
    "    <li>the IQR (Interquartile Range: 25%, 50% and 75%)</li>\n",
    "    <li>the maximum value</li>\n",
    "<ul>\n"
   ]
  },
  {
   "cell_type": "markdown",
   "metadata": {},
   "source": [
    "We can apply the method \"describe\" as follows:\n"
   ]
  },
  {
   "cell_type": "code",
   "execution_count": null,
   "metadata": {},
   "outputs": [],
   "source": [
    "df.describe()"
   ]
  },
  {
   "cell_type": "markdown",
   "metadata": {},
   "source": [
    "The default setting of \"describe\" skips variables of type object. We can apply the method \"describe\" on the variables of type 'object' as follows:\n"
   ]
  },
  {
   "cell_type": "code",
   "execution_count": null,
   "metadata": {
    "scrolled": true
   },
   "outputs": [],
   "source": [
    "df.describe(include=['object'])"
   ]
  },
  {
   "cell_type": "markdown",
   "metadata": {},
   "source": [
    "<h3>Value Counts</h3>\n"
   ]
  },
  {
   "cell_type": "markdown",
   "metadata": {},
   "source": [
    "<p>Value counts is a good way of understanding how many units of each characteristic/variable we have. We can apply the \"value_counts\" method on the column \"drive-wheels\". Don’t forget the method \"value_counts\" only works on pandas series, not pandas dataframes. As a result, we only include one bracket <code>df['drive-wheels']</code>, not two brackets <code>df[['drive-wheels']]</code>.</p>\n"
   ]
  },
  {
   "cell_type": "code",
   "execution_count": null,
   "metadata": {},
   "outputs": [],
   "source": [
    "df['drive-wheels'].value_counts()"
   ]
  },
  {
   "cell_type": "markdown",
   "metadata": {},
   "source": [
    "We can convert the series to a dataframe as follows:\n"
   ]
  },
  {
   "cell_type": "code",
   "execution_count": null,
   "metadata": {},
   "outputs": [],
   "source": [
    "df['drive-wheels'].value_counts().to_frame()"
   ]
  },
  {
   "cell_type": "markdown",
   "metadata": {},
   "source": [
    "Let's repeat the above steps but save the results to the dataframe \"drive_wheels_counts\" and rename the column  'drive-wheels' to 'value_counts'.\n"
   ]
  },
  {
   "cell_type": "code",
   "execution_count": null,
   "metadata": {},
   "outputs": [],
   "source": [
    "drive_wheels_counts = df['drive-wheels'].value_counts().to_frame()\n",
    "drive_wheels_counts.rename(columns={'drive-wheels': 'value_counts'}, inplace=True)\n",
    "drive_wheels_counts"
   ]
  },
  {
   "cell_type": "markdown",
   "metadata": {},
   "source": [
    "Now let's rename the index to 'drive-wheels':\n"
   ]
  },
  {
   "cell_type": "code",
   "execution_count": null,
   "metadata": {},
   "outputs": [],
   "source": [
    "drive_wheels_counts.index.name = 'drive-wheels'\n",
    "drive_wheels_counts"
   ]
  },
  {
   "cell_type": "markdown",
   "metadata": {},
   "source": [
    "We can repeat the above process for the variable 'engine-location'.\n"
   ]
  },
  {
   "cell_type": "code",
   "execution_count": null,
   "metadata": {},
   "outputs": [],
   "source": [
    "# engine-location as variable\n",
    "engine_loc_counts = df['engine-location'].value_counts().to_frame()\n",
    "engine_loc_counts.rename(columns={'engine-location': 'value_counts'}, inplace=True)\n",
    "engine_loc_counts.index.name = 'engine-location'\n",
    "engine_loc_counts.head(10)"
   ]
  },
  {
   "cell_type": "markdown",
   "metadata": {},
   "source": [
    "<p>After examining the value counts of the engine location, we see that engine location would not be a good predictor variable for the price. This is because we only have three cars with a rear engine and 198 with an engine in the front, so this result is skewed. Thus, we are not able to draw any conclusions about the engine location.</p>\n"
   ]
  },
  {
   "cell_type": "markdown",
   "metadata": {},
   "source": [
    "<h2 id=\"basic_grouping\">4. Basics of Grouping</h2>\n"
   ]
  },
  {
   "cell_type": "markdown",
   "metadata": {},
   "source": [
    "<p>The \"groupby\" method groups data by different categories. The data is grouped based on one or several variables, and analysis is performed on the individual groups.</p>\n",
    "\n",
    "<p>For example, let's group by the variable \"drive-wheels\". We see that there are 3 different categories of drive wheels.</p>\n"
   ]
  },
  {
   "cell_type": "code",
   "execution_count": 23,
   "metadata": {},
   "outputs": [
    {
     "data": {
      "text/plain": [
       "array(['rwd', 'fwd', '4wd'], dtype=object)"
      ]
     },
     "execution_count": 23,
     "metadata": {},
     "output_type": "execute_result"
    }
   ],
   "source": [
    "df['drive-wheels'].unique()"
   ]
  },
  {
   "cell_type": "markdown",
   "metadata": {},
   "source": [
    "<p>If we want to know, on average, which type of drive wheel is most valuable, we can group \"drive-wheels\" and then average them.</p>\n",
    "\n",
    "<p>We can select the columns 'drive-wheels', 'body-style' and 'price', then assign it to the variable \"df_group_one\".</p>\n"
   ]
  },
  {
   "cell_type": "code",
   "execution_count": 29,
   "metadata": {},
   "outputs": [
    {
     "name": "stdout",
     "output_type": "stream",
     "text": [
      "    drive-wheels   body-style    price\n",
      "0            rwd  convertible  13495.0\n",
      "1            rwd  convertible  16500.0\n",
      "2            rwd    hatchback  16500.0\n",
      "3            fwd        sedan  13950.0\n",
      "4            4wd        sedan  17450.0\n",
      "..           ...          ...      ...\n",
      "196          rwd        sedan  16845.0\n",
      "197          rwd        sedan  19045.0\n",
      "198          rwd        sedan  21485.0\n",
      "199          rwd        sedan  22470.0\n",
      "200          rwd        sedan  22625.0\n",
      "\n",
      "[201 rows x 3 columns]\n"
     ]
    }
   ],
   "source": [
    "df_group_one = df[['drive-wheels','body-style','price']]\n",
    "print(df_group_one)"
   ]
  },
  {
   "cell_type": "code",
   "execution_count": null,
   "metadata": {},
   "outputs": [],
   "source": []
  },
  {
   "cell_type": "markdown",
   "metadata": {},
   "source": [
    "We can then calculate the average price for each of the different categories of data.\n"
   ]
  },
  {
   "cell_type": "code",
   "execution_count": 30,
   "metadata": {},
   "outputs": [
    {
     "data": {
      "text/html": [
       "<div>\n",
       "<style scoped>\n",
       "    .dataframe tbody tr th:only-of-type {\n",
       "        vertical-align: middle;\n",
       "    }\n",
       "\n",
       "    .dataframe tbody tr th {\n",
       "        vertical-align: top;\n",
       "    }\n",
       "\n",
       "    .dataframe thead th {\n",
       "        text-align: right;\n",
       "    }\n",
       "</style>\n",
       "<table border=\"1\" class=\"dataframe\">\n",
       "  <thead>\n",
       "    <tr style=\"text-align: right;\">\n",
       "      <th></th>\n",
       "      <th>drive-wheels</th>\n",
       "      <th>price</th>\n",
       "    </tr>\n",
       "  </thead>\n",
       "  <tbody>\n",
       "    <tr>\n",
       "      <th>0</th>\n",
       "      <td>4wd</td>\n",
       "      <td>10241.000000</td>\n",
       "    </tr>\n",
       "    <tr>\n",
       "      <th>1</th>\n",
       "      <td>fwd</td>\n",
       "      <td>9244.779661</td>\n",
       "    </tr>\n",
       "    <tr>\n",
       "      <th>2</th>\n",
       "      <td>rwd</td>\n",
       "      <td>19757.613333</td>\n",
       "    </tr>\n",
       "  </tbody>\n",
       "</table>\n",
       "</div>"
      ],
      "text/plain": [
       "  drive-wheels         price\n",
       "0          4wd  10241.000000\n",
       "1          fwd   9244.779661\n",
       "2          rwd  19757.613333"
      ]
     },
     "execution_count": 30,
     "metadata": {},
     "output_type": "execute_result"
    }
   ],
   "source": [
    "# grouping results\n",
    "df_group_one = df_group_one.groupby(['drive-wheels'],as_index=False).mean()\n",
    "df_group_one"
   ]
  },
  {
   "cell_type": "markdown",
   "metadata": {},
   "source": [
    "<p>From our data, it seems rear-wheel drive vehicles are, on average, the most expensive, while 4-wheel and front-wheel are approximately the same in price.</p>\n",
    "\n",
    "<p>You can also group by multiple variables. For example, let's group by both 'drive-wheels' and 'body-style'. This groups the dataframe by the unique combination of 'drive-wheels' and 'body-style'. We can store the results in the variable 'grouped_test1'.</p>\n"
   ]
  },
  {
   "cell_type": "code",
   "execution_count": 31,
   "metadata": {},
   "outputs": [
    {
     "data": {
      "text/html": [
       "<div>\n",
       "<style scoped>\n",
       "    .dataframe tbody tr th:only-of-type {\n",
       "        vertical-align: middle;\n",
       "    }\n",
       "\n",
       "    .dataframe tbody tr th {\n",
       "        vertical-align: top;\n",
       "    }\n",
       "\n",
       "    .dataframe thead th {\n",
       "        text-align: right;\n",
       "    }\n",
       "</style>\n",
       "<table border=\"1\" class=\"dataframe\">\n",
       "  <thead>\n",
       "    <tr style=\"text-align: right;\">\n",
       "      <th></th>\n",
       "      <th>drive-wheels</th>\n",
       "      <th>body-style</th>\n",
       "      <th>price</th>\n",
       "    </tr>\n",
       "  </thead>\n",
       "  <tbody>\n",
       "    <tr>\n",
       "      <th>0</th>\n",
       "      <td>4wd</td>\n",
       "      <td>hatchback</td>\n",
       "      <td>7603.000000</td>\n",
       "    </tr>\n",
       "    <tr>\n",
       "      <th>1</th>\n",
       "      <td>4wd</td>\n",
       "      <td>sedan</td>\n",
       "      <td>12647.333333</td>\n",
       "    </tr>\n",
       "    <tr>\n",
       "      <th>2</th>\n",
       "      <td>4wd</td>\n",
       "      <td>wagon</td>\n",
       "      <td>9095.750000</td>\n",
       "    </tr>\n",
       "    <tr>\n",
       "      <th>3</th>\n",
       "      <td>fwd</td>\n",
       "      <td>convertible</td>\n",
       "      <td>11595.000000</td>\n",
       "    </tr>\n",
       "    <tr>\n",
       "      <th>4</th>\n",
       "      <td>fwd</td>\n",
       "      <td>hardtop</td>\n",
       "      <td>8249.000000</td>\n",
       "    </tr>\n",
       "    <tr>\n",
       "      <th>5</th>\n",
       "      <td>fwd</td>\n",
       "      <td>hatchback</td>\n",
       "      <td>8396.387755</td>\n",
       "    </tr>\n",
       "    <tr>\n",
       "      <th>6</th>\n",
       "      <td>fwd</td>\n",
       "      <td>sedan</td>\n",
       "      <td>9811.800000</td>\n",
       "    </tr>\n",
       "    <tr>\n",
       "      <th>7</th>\n",
       "      <td>fwd</td>\n",
       "      <td>wagon</td>\n",
       "      <td>9997.333333</td>\n",
       "    </tr>\n",
       "    <tr>\n",
       "      <th>8</th>\n",
       "      <td>rwd</td>\n",
       "      <td>convertible</td>\n",
       "      <td>23949.600000</td>\n",
       "    </tr>\n",
       "    <tr>\n",
       "      <th>9</th>\n",
       "      <td>rwd</td>\n",
       "      <td>hardtop</td>\n",
       "      <td>24202.714286</td>\n",
       "    </tr>\n",
       "    <tr>\n",
       "      <th>10</th>\n",
       "      <td>rwd</td>\n",
       "      <td>hatchback</td>\n",
       "      <td>14337.777778</td>\n",
       "    </tr>\n",
       "    <tr>\n",
       "      <th>11</th>\n",
       "      <td>rwd</td>\n",
       "      <td>sedan</td>\n",
       "      <td>21711.833333</td>\n",
       "    </tr>\n",
       "    <tr>\n",
       "      <th>12</th>\n",
       "      <td>rwd</td>\n",
       "      <td>wagon</td>\n",
       "      <td>16994.222222</td>\n",
       "    </tr>\n",
       "  </tbody>\n",
       "</table>\n",
       "</div>"
      ],
      "text/plain": [
       "   drive-wheels   body-style         price\n",
       "0           4wd    hatchback   7603.000000\n",
       "1           4wd        sedan  12647.333333\n",
       "2           4wd        wagon   9095.750000\n",
       "3           fwd  convertible  11595.000000\n",
       "4           fwd      hardtop   8249.000000\n",
       "5           fwd    hatchback   8396.387755\n",
       "6           fwd        sedan   9811.800000\n",
       "7           fwd        wagon   9997.333333\n",
       "8           rwd  convertible  23949.600000\n",
       "9           rwd      hardtop  24202.714286\n",
       "10          rwd    hatchback  14337.777778\n",
       "11          rwd        sedan  21711.833333\n",
       "12          rwd        wagon  16994.222222"
      ]
     },
     "execution_count": 31,
     "metadata": {},
     "output_type": "execute_result"
    }
   ],
   "source": [
    "# grouping results\n",
    "df_gptest = df[['drive-wheels','body-style','price']]\n",
    "grouped_test1 = df_gptest.groupby(['drive-wheels','body-style'],as_index=False).mean()\n",
    "grouped_test1"
   ]
  },
  {
   "cell_type": "markdown",
   "metadata": {},
   "source": [
    "<p>This grouped data is much easier to visualize when it is made into a pivot table. A pivot table is like an Excel spreadsheet, with one variable along the column and another along the row. We can convert the dataframe to a pivot table using the method \"pivot\" to create a pivot table from the groups.</p>\n",
    "\n",
    "<p>In this case, we will leave the drive-wheels variable as the rows of the table, and pivot body-style to become the columns of the table:</p>\n"
   ]
  },
  {
   "cell_type": "code",
   "execution_count": 32,
   "metadata": {},
   "outputs": [
    {
     "data": {
      "text/html": [
       "<div>\n",
       "<style scoped>\n",
       "    .dataframe tbody tr th:only-of-type {\n",
       "        vertical-align: middle;\n",
       "    }\n",
       "\n",
       "    .dataframe tbody tr th {\n",
       "        vertical-align: top;\n",
       "    }\n",
       "\n",
       "    .dataframe thead tr th {\n",
       "        text-align: left;\n",
       "    }\n",
       "\n",
       "    .dataframe thead tr:last-of-type th {\n",
       "        text-align: right;\n",
       "    }\n",
       "</style>\n",
       "<table border=\"1\" class=\"dataframe\">\n",
       "  <thead>\n",
       "    <tr>\n",
       "      <th></th>\n",
       "      <th colspan=\"5\" halign=\"left\">price</th>\n",
       "    </tr>\n",
       "    <tr>\n",
       "      <th>body-style</th>\n",
       "      <th>convertible</th>\n",
       "      <th>hardtop</th>\n",
       "      <th>hatchback</th>\n",
       "      <th>sedan</th>\n",
       "      <th>wagon</th>\n",
       "    </tr>\n",
       "    <tr>\n",
       "      <th>drive-wheels</th>\n",
       "      <th></th>\n",
       "      <th></th>\n",
       "      <th></th>\n",
       "      <th></th>\n",
       "      <th></th>\n",
       "    </tr>\n",
       "  </thead>\n",
       "  <tbody>\n",
       "    <tr>\n",
       "      <th>4wd</th>\n",
       "      <td>NaN</td>\n",
       "      <td>NaN</td>\n",
       "      <td>7603.000000</td>\n",
       "      <td>12647.333333</td>\n",
       "      <td>9095.750000</td>\n",
       "    </tr>\n",
       "    <tr>\n",
       "      <th>fwd</th>\n",
       "      <td>11595.0</td>\n",
       "      <td>8249.000000</td>\n",
       "      <td>8396.387755</td>\n",
       "      <td>9811.800000</td>\n",
       "      <td>9997.333333</td>\n",
       "    </tr>\n",
       "    <tr>\n",
       "      <th>rwd</th>\n",
       "      <td>23949.6</td>\n",
       "      <td>24202.714286</td>\n",
       "      <td>14337.777778</td>\n",
       "      <td>21711.833333</td>\n",
       "      <td>16994.222222</td>\n",
       "    </tr>\n",
       "  </tbody>\n",
       "</table>\n",
       "</div>"
      ],
      "text/plain": [
       "                   price                                            \\\n",
       "body-style   convertible       hardtop     hatchback         sedan   \n",
       "drive-wheels                                                         \n",
       "4wd                  NaN           NaN   7603.000000  12647.333333   \n",
       "fwd              11595.0   8249.000000   8396.387755   9811.800000   \n",
       "rwd              23949.6  24202.714286  14337.777778  21711.833333   \n",
       "\n",
       "                            \n",
       "body-style           wagon  \n",
       "drive-wheels                \n",
       "4wd            9095.750000  \n",
       "fwd            9997.333333  \n",
       "rwd           16994.222222  "
      ]
     },
     "execution_count": 32,
     "metadata": {},
     "output_type": "execute_result"
    }
   ],
   "source": [
    "grouped_pivot = grouped_test1.pivot(index='drive-wheels',columns='body-style')\n",
    "grouped_pivot"
   ]
  },
  {
   "cell_type": "markdown",
   "metadata": {},
   "source": [
    "<p>Often, we won't have data for some of the pivot cells. We can fill these missing cells with the value 0, but any other value could potentially be used as well. It should be mentioned that missing data is quite a complex subject and is an entire course on its own.</p>\n"
   ]
  },
  {
   "cell_type": "code",
   "execution_count": 33,
   "metadata": {
    "scrolled": true
   },
   "outputs": [
    {
     "data": {
      "text/html": [
       "<div>\n",
       "<style scoped>\n",
       "    .dataframe tbody tr th:only-of-type {\n",
       "        vertical-align: middle;\n",
       "    }\n",
       "\n",
       "    .dataframe tbody tr th {\n",
       "        vertical-align: top;\n",
       "    }\n",
       "\n",
       "    .dataframe thead tr th {\n",
       "        text-align: left;\n",
       "    }\n",
       "\n",
       "    .dataframe thead tr:last-of-type th {\n",
       "        text-align: right;\n",
       "    }\n",
       "</style>\n",
       "<table border=\"1\" class=\"dataframe\">\n",
       "  <thead>\n",
       "    <tr>\n",
       "      <th></th>\n",
       "      <th colspan=\"5\" halign=\"left\">price</th>\n",
       "    </tr>\n",
       "    <tr>\n",
       "      <th>body-style</th>\n",
       "      <th>convertible</th>\n",
       "      <th>hardtop</th>\n",
       "      <th>hatchback</th>\n",
       "      <th>sedan</th>\n",
       "      <th>wagon</th>\n",
       "    </tr>\n",
       "    <tr>\n",
       "      <th>drive-wheels</th>\n",
       "      <th></th>\n",
       "      <th></th>\n",
       "      <th></th>\n",
       "      <th></th>\n",
       "      <th></th>\n",
       "    </tr>\n",
       "  </thead>\n",
       "  <tbody>\n",
       "    <tr>\n",
       "      <th>4wd</th>\n",
       "      <td>0.0</td>\n",
       "      <td>0.000000</td>\n",
       "      <td>7603.000000</td>\n",
       "      <td>12647.333333</td>\n",
       "      <td>9095.750000</td>\n",
       "    </tr>\n",
       "    <tr>\n",
       "      <th>fwd</th>\n",
       "      <td>11595.0</td>\n",
       "      <td>8249.000000</td>\n",
       "      <td>8396.387755</td>\n",
       "      <td>9811.800000</td>\n",
       "      <td>9997.333333</td>\n",
       "    </tr>\n",
       "    <tr>\n",
       "      <th>rwd</th>\n",
       "      <td>23949.6</td>\n",
       "      <td>24202.714286</td>\n",
       "      <td>14337.777778</td>\n",
       "      <td>21711.833333</td>\n",
       "      <td>16994.222222</td>\n",
       "    </tr>\n",
       "  </tbody>\n",
       "</table>\n",
       "</div>"
      ],
      "text/plain": [
       "                   price                                            \\\n",
       "body-style   convertible       hardtop     hatchback         sedan   \n",
       "drive-wheels                                                         \n",
       "4wd                  0.0      0.000000   7603.000000  12647.333333   \n",
       "fwd              11595.0   8249.000000   8396.387755   9811.800000   \n",
       "rwd              23949.6  24202.714286  14337.777778  21711.833333   \n",
       "\n",
       "                            \n",
       "body-style           wagon  \n",
       "drive-wheels                \n",
       "4wd            9095.750000  \n",
       "fwd            9997.333333  \n",
       "rwd           16994.222222  "
      ]
     },
     "execution_count": 33,
     "metadata": {},
     "output_type": "execute_result"
    }
   ],
   "source": [
    "grouped_pivot = grouped_pivot.fillna(0) #fill missing values with 0\n",
    "grouped_pivot"
   ]
  },
  {
   "cell_type": "markdown",
   "metadata": {},
   "source": [
    "<div class=\"alert alert-danger alertdanger\" style=\"margin-top: 20px\">\n",
    "<h1>Question 4:</h1>\n",
    "\n",
    "<p>Use the \"groupby\" function to find the average \"price\" of each car based on \"body-style\".</p>\n",
    "</div>\n"
   ]
  },
  {
   "cell_type": "code",
   "execution_count": 36,
   "metadata": {},
   "outputs": [
    {
     "data": {
      "text/html": [
       "<div>\n",
       "<style scoped>\n",
       "    .dataframe tbody tr th:only-of-type {\n",
       "        vertical-align: middle;\n",
       "    }\n",
       "\n",
       "    .dataframe tbody tr th {\n",
       "        vertical-align: top;\n",
       "    }\n",
       "\n",
       "    .dataframe thead th {\n",
       "        text-align: right;\n",
       "    }\n",
       "</style>\n",
       "<table border=\"1\" class=\"dataframe\">\n",
       "  <thead>\n",
       "    <tr style=\"text-align: right;\">\n",
       "      <th></th>\n",
       "      <th>body-style</th>\n",
       "      <th>price</th>\n",
       "    </tr>\n",
       "  </thead>\n",
       "  <tbody>\n",
       "    <tr>\n",
       "      <th>0</th>\n",
       "      <td>convertible</td>\n",
       "      <td>21890.500000</td>\n",
       "    </tr>\n",
       "    <tr>\n",
       "      <th>1</th>\n",
       "      <td>hardtop</td>\n",
       "      <td>22208.500000</td>\n",
       "    </tr>\n",
       "    <tr>\n",
       "      <th>2</th>\n",
       "      <td>hatchback</td>\n",
       "      <td>9957.441176</td>\n",
       "    </tr>\n",
       "    <tr>\n",
       "      <th>3</th>\n",
       "      <td>sedan</td>\n",
       "      <td>14459.755319</td>\n",
       "    </tr>\n",
       "    <tr>\n",
       "      <th>4</th>\n",
       "      <td>wagon</td>\n",
       "      <td>12371.960000</td>\n",
       "    </tr>\n",
       "  </tbody>\n",
       "</table>\n",
       "</div>"
      ],
      "text/plain": [
       "    body-style         price\n",
       "0  convertible  21890.500000\n",
       "1      hardtop  22208.500000\n",
       "2    hatchback   9957.441176\n",
       "3        sedan  14459.755319\n",
       "4        wagon  12371.960000"
      ]
     },
     "execution_count": 36,
     "metadata": {},
     "output_type": "execute_result"
    }
   ],
   "source": [
    "# Write your code below and press Shift+Enter to execute \n",
    "# grouping results\n",
    "df_group = df[['body-style','price']].groupby(['body-style'],as_index=False).mean()\n",
    "df_group"
   ]
  },
  {
   "cell_type": "markdown",
   "metadata": {},
   "source": [
    "<details><summary>Click here for the solution</summary>\n",
    "\n",
    "```python\n",
    "# grouping results\n",
    "df_gptest2 = df[['body-style','price']]\n",
    "grouped_test_bodystyle = df_gptest2.groupby(['body-style'],as_index= False).mean()\n",
    "grouped_test_bodystyle\n",
    "\n",
    "```\n",
    "\n",
    "</details>\n"
   ]
  },
  {
   "cell_type": "markdown",
   "metadata": {},
   "source": [
    "If you did not import \"pyplot\", let's do it again.\n"
   ]
  },
  {
   "cell_type": "code",
   "execution_count": 37,
   "metadata": {},
   "outputs": [],
   "source": [
    "import matplotlib.pyplot as plt\n",
    "%matplotlib inline "
   ]
  },
  {
   "cell_type": "markdown",
   "metadata": {},
   "source": [
    "<h4>Variables: Drive Wheels and Body Style vs. Price</h4>\n"
   ]
  },
  {
   "cell_type": "markdown",
   "metadata": {},
   "source": [
    "Let's use a heat map to visualize the relationship between Body Style vs Price.\n"
   ]
  },
  {
   "cell_type": "code",
   "execution_count": 38,
   "metadata": {},
   "outputs": [
    {
     "data": {
      "image/png": "[encoded data removed]",
      "text/plain": [
       "<Figure size 640x480 with 2 Axes>"
      ]
     },
     "metadata": {},
     "output_type": "display_data"
    }
   ],
   "source": [
    "#use the grouped results\n",
    "plt.pcolor(grouped_pivot, cmap='RdBu')\n",
    "plt.colorbar()\n",
    "plt.show()"
   ]
  },
  {
   "cell_type": "markdown",
   "metadata": {},
   "source": [
    "<p>The heatmap plots the target variable (price) proportional to colour with respect to the variables 'drive-wheel' and 'body-style' on the vertical and horizontal axis, respectively. This allows us to visualize how the price is related to 'drive-wheel' and 'body-style'.</p>\n",
    "\n",
    "<p>The default labels convey no useful information to us. Let's change that:</p>\n"
   ]
  },
  {
   "cell_type": "code",
   "execution_count": 39,
   "metadata": {},
   "outputs": [
    {
     "data": {
      "image/png": "[encoded data removed]",
      "text/plain": [
       "<Figure size 640x480 with 2 Axes>"
      ]
     },
     "metadata": {},
     "output_type": "display_data"
    }
   ],
   "source": [
    "fig, ax = plt.subplots()\n",
    "im = ax.pcolor(grouped_pivot, cmap='RdBu')\n",
    "\n",
    "#label names\n",
    "row_labels = grouped_pivot.columns.levels[1]\n",
    "col_labels = grouped_pivot.index\n",
    "\n",
    "#move ticks and labels to the center\n",
    "ax.set_xticks(np.arange(grouped_pivot.shape[1]) + 0.5, minor=False)\n",
    "ax.set_yticks(np.arange(grouped_pivot.shape[0]) + 0.5, minor=False)\n",
    "\n",
    "#insert labels\n",
    "ax.set_xticklabels(row_labels, minor=False)\n",
    "ax.set_yticklabels(col_labels, minor=False)\n",
    "\n",
    "#rotate label if too long\n",
    "plt.xticks(rotation=90)\n",
    "\n",
    "fig.colorbar(im)\n",
    "plt.show()"
   ]
  },
  {
   "cell_type": "markdown",
   "metadata": {},
   "source": [
    "<p>Visualization is very important in data science, and Python visualization packages provide great freedom. We will go more in-depth in a separate Python visualizations course.</p>\n",
    "\n",
    "<p>The main question we want to answer in this module is, \"What are the main characteristics which have the most impact on the car price?\".</p>\n",
    "\n",
    "<p>To get a better measure of the important characteristics, we look at the correlation of these variables with the car price. In other words: how is the car price dependent on this variable?</p>\n"
   ]
  },
  {
   "cell_type": "markdown",
   "metadata": {},
   "source": [
    "<h2 id=\"correlation_causation\">5. Correlation and Causation</h2>\n"
   ]
  },
  {
   "cell_type": "markdown",
   "metadata": {},
   "source": [
    "<p><b>Correlation</b>: a measure of the extent of interdependence between variables.</p>\n",
    "\n",
    "<p><b>Causation</b>: the relationship between cause and effect between two variables.</p>\n",
    "\n",
    "<p>It is important to know the difference between these two. Correlation does not imply causation. Determining correlation is much simpler  the determining causation as causation may require independent experimentation.</p>\n"
   ]
  },
  {
   "cell_type": "markdown",
   "metadata": {},
   "source": [
    "<p><b>Pearson Correlation</b></p>\n",
    "<p>The Pearson Correlation measures the linear dependence between two variables X and Y.</p>\n",
    "<p>The resulting coefficient is a value between -1 and 1 inclusive, where:</p>\n",
    "<ul>\n",
    "    <li><b>1</b>: Perfect positive linear correlation.</li>\n",
    "    <li><b>0</b>: No linear correlation, the two variables most likely do not affect each other.</li>\n",
    "    <li><b>-1</b>: Perfect negative linear correlation.</li>\n",
    "</ul>\n"
   ]
  },
  {
   "cell_type": "markdown",
   "metadata": {},
   "source": [
    "<p>Pearson Correlation is the default method of the function \"corr\". Like before, we can calculate the Pearson Correlation of the of the 'int64' or 'float64'  variables.</p>\n"
   ]
  },
  {
   "cell_type": "code",
   "execution_count": 40,
   "metadata": {},
   "outputs": [
    {
     "data": {
      "text/html": [
       "<div>\n",
       "<style scoped>\n",
       "    .dataframe tbody tr th:only-of-type {\n",
       "        vertical-align: middle;\n",
       "    }\n",
       "\n",
       "    .dataframe tbody tr th {\n",
       "        vertical-align: top;\n",
       "    }\n",
       "\n",
       "    .dataframe thead th {\n",
       "        text-align: right;\n",
       "    }\n",
       "</style>\n",
       "<table border=\"1\" class=\"dataframe\">\n",
       "  <thead>\n",
       "    <tr style=\"text-align: right;\">\n",
       "      <th></th>\n",
       "      <th>symboling</th>\n",
       "      <th>normalized-losses</th>\n",
       "      <th>wheel-base</th>\n",
       "      <th>length</th>\n",
       "      <th>width</th>\n",
       "      <th>height</th>\n",
       "      <th>curb-weight</th>\n",
       "      <th>engine-size</th>\n",
       "      <th>bore</th>\n",
       "      <th>stroke</th>\n",
       "      <th>compression-ratio</th>\n",
       "      <th>horsepower</th>\n",
       "      <th>peak-rpm</th>\n",
       "      <th>city-mpg</th>\n",
       "      <th>highway-mpg</th>\n",
       "      <th>price</th>\n",
       "      <th>city-L/100km</th>\n",
       "      <th>diesel</th>\n",
       "      <th>gas</th>\n",
       "    </tr>\n",
       "  </thead>\n",
       "  <tbody>\n",
       "    <tr>\n",
       "      <th>symboling</th>\n",
       "      <td>1.000000</td>\n",
       "      <td>0.466264</td>\n",
       "      <td>-0.535987</td>\n",
       "      <td>-0.365404</td>\n",
       "      <td>-0.242423</td>\n",
       "      <td>-0.550160</td>\n",
       "      <td>-0.233118</td>\n",
       "      <td>-0.110581</td>\n",
       "      <td>-0.140019</td>\n",
       "      <td>-0.008245</td>\n",
       "      <td>-0.182196</td>\n",
       "      <td>0.075819</td>\n",
       "      <td>0.279740</td>\n",
       "      <td>-0.035527</td>\n",
       "      <td>0.036233</td>\n",
       "      <td>-0.082391</td>\n",
       "      <td>0.066171</td>\n",
       "      <td>-0.196735</td>\n",
       "      <td>0.196735</td>\n",
       "    </tr>\n",
       "    <tr>\n",
       "      <th>normalized-losses</th>\n",
       "      <td>0.466264</td>\n",
       "      <td>1.000000</td>\n",
       "      <td>-0.056661</td>\n",
       "      <td>0.019424</td>\n",
       "      <td>0.086802</td>\n",
       "      <td>-0.373737</td>\n",
       "      <td>0.099404</td>\n",
       "      <td>0.112360</td>\n",
       "      <td>-0.029862</td>\n",
       "      <td>0.055563</td>\n",
       "      <td>-0.114713</td>\n",
       "      <td>0.217299</td>\n",
       "      <td>0.239543</td>\n",
       "      <td>-0.225016</td>\n",
       "      <td>-0.181877</td>\n",
       "      <td>0.133999</td>\n",
       "      <td>0.238567</td>\n",
       "      <td>-0.101546</td>\n",
       "      <td>0.101546</td>\n",
       "    </tr>\n",
       "    <tr>\n",
       "      <th>wheel-base</th>\n",
       "      <td>-0.535987</td>\n",
       "      <td>-0.056661</td>\n",
       "      <td>1.000000</td>\n",
       "      <td>0.876024</td>\n",
       "      <td>0.814507</td>\n",
       "      <td>0.590742</td>\n",
       "      <td>0.782097</td>\n",
       "      <td>0.572027</td>\n",
       "      <td>0.493244</td>\n",
       "      <td>0.158502</td>\n",
       "      <td>0.250313</td>\n",
       "      <td>0.371147</td>\n",
       "      <td>-0.360305</td>\n",
       "      <td>-0.470606</td>\n",
       "      <td>-0.543304</td>\n",
       "      <td>0.584642</td>\n",
       "      <td>0.476153</td>\n",
       "      <td>0.307237</td>\n",
       "      <td>-0.307237</td>\n",
       "    </tr>\n",
       "    <tr>\n",
       "      <th>length</th>\n",
       "      <td>-0.365404</td>\n",
       "      <td>0.019424</td>\n",
       "      <td>0.876024</td>\n",
       "      <td>1.000000</td>\n",
       "      <td>0.857170</td>\n",
       "      <td>0.492063</td>\n",
       "      <td>0.880665</td>\n",
       "      <td>0.685025</td>\n",
       "      <td>0.608971</td>\n",
       "      <td>0.124139</td>\n",
       "      <td>0.159733</td>\n",
       "      <td>0.579821</td>\n",
       "      <td>-0.285970</td>\n",
       "      <td>-0.665192</td>\n",
       "      <td>-0.698142</td>\n",
       "      <td>0.690628</td>\n",
       "      <td>0.657373</td>\n",
       "      <td>0.211187</td>\n",
       "      <td>-0.211187</td>\n",
       "    </tr>\n",
       "    <tr>\n",
       "      <th>width</th>\n",
       "      <td>-0.242423</td>\n",
       "      <td>0.086802</td>\n",
       "      <td>0.814507</td>\n",
       "      <td>0.857170</td>\n",
       "      <td>1.000000</td>\n",
       "      <td>0.306002</td>\n",
       "      <td>0.866201</td>\n",
       "      <td>0.729436</td>\n",
       "      <td>0.544885</td>\n",
       "      <td>0.188829</td>\n",
       "      <td>0.189867</td>\n",
       "      <td>0.615077</td>\n",
       "      <td>-0.245800</td>\n",
       "      <td>-0.633531</td>\n",
       "      <td>-0.680635</td>\n",
       "      <td>0.751265</td>\n",
       "      <td>0.673363</td>\n",
       "      <td>0.244356</td>\n",
       "      <td>-0.244356</td>\n",
       "    </tr>\n",
       "    <tr>\n",
       "      <th>height</th>\n",
       "      <td>-0.550160</td>\n",
       "      <td>-0.373737</td>\n",
       "      <td>0.590742</td>\n",
       "      <td>0.492063</td>\n",
       "      <td>0.306002</td>\n",
       "      <td>1.000000</td>\n",
       "      <td>0.307581</td>\n",
       "      <td>0.074694</td>\n",
       "      <td>0.180449</td>\n",
       "      <td>-0.062704</td>\n",
       "      <td>0.259737</td>\n",
       "      <td>-0.087027</td>\n",
       "      <td>-0.309974</td>\n",
       "      <td>-0.049800</td>\n",
       "      <td>-0.104812</td>\n",
       "      <td>0.135486</td>\n",
       "      <td>0.003811</td>\n",
       "      <td>0.281578</td>\n",
       "      <td>-0.281578</td>\n",
       "    </tr>\n",
       "    <tr>\n",
       "      <th>curb-weight</th>\n",
       "      <td>-0.233118</td>\n",
       "      <td>0.099404</td>\n",
       "      <td>0.782097</td>\n",
       "      <td>0.880665</td>\n",
       "      <td>0.866201</td>\n",
       "      <td>0.307581</td>\n",
       "      <td>1.000000</td>\n",
       "      <td>0.849072</td>\n",
       "      <td>0.644060</td>\n",
       "      <td>0.167562</td>\n",
       "      <td>0.156433</td>\n",
       "      <td>0.757976</td>\n",
       "      <td>-0.279361</td>\n",
       "      <td>-0.749543</td>\n",
       "      <td>-0.794889</td>\n",
       "      <td>0.834415</td>\n",
       "      <td>0.785353</td>\n",
       "      <td>0.221046</td>\n",
       "      <td>-0.221046</td>\n",
       "    </tr>\n",
       "    <tr>\n",
       "      <th>engine-size</th>\n",
       "      <td>-0.110581</td>\n",
       "      <td>0.112360</td>\n",
       "      <td>0.572027</td>\n",
       "      <td>0.685025</td>\n",
       "      <td>0.729436</td>\n",
       "      <td>0.074694</td>\n",
       "      <td>0.849072</td>\n",
       "      <td>1.000000</td>\n",
       "      <td>0.572609</td>\n",
       "      <td>0.209523</td>\n",
       "      <td>0.028889</td>\n",
       "      <td>0.822676</td>\n",
       "      <td>-0.256733</td>\n",
       "      <td>-0.650546</td>\n",
       "      <td>-0.679571</td>\n",
       "      <td>0.872335</td>\n",
       "      <td>0.745059</td>\n",
       "      <td>0.070779</td>\n",
       "      <td>-0.070779</td>\n",
       "    </tr>\n",
       "    <tr>\n",
       "      <th>bore</th>\n",
       "      <td>-0.140019</td>\n",
       "      <td>-0.029862</td>\n",
       "      <td>0.493244</td>\n",
       "      <td>0.608971</td>\n",
       "      <td>0.544885</td>\n",
       "      <td>0.180449</td>\n",
       "      <td>0.644060</td>\n",
       "      <td>0.572609</td>\n",
       "      <td>1.000000</td>\n",
       "      <td>-0.055390</td>\n",
       "      <td>0.001263</td>\n",
       "      <td>0.566936</td>\n",
       "      <td>-0.267392</td>\n",
       "      <td>-0.582027</td>\n",
       "      <td>-0.591309</td>\n",
       "      <td>0.543155</td>\n",
       "      <td>0.554610</td>\n",
       "      <td>0.054458</td>\n",
       "      <td>-0.054458</td>\n",
       "    </tr>\n",
       "    <tr>\n",
       "      <th>stroke</th>\n",
       "      <td>-0.008245</td>\n",
       "      <td>0.055563</td>\n",
       "      <td>0.158502</td>\n",
       "      <td>0.124139</td>\n",
       "      <td>0.188829</td>\n",
       "      <td>-0.062704</td>\n",
       "      <td>0.167562</td>\n",
       "      <td>0.209523</td>\n",
       "      <td>-0.055390</td>\n",
       "      <td>1.000000</td>\n",
       "      <td>0.187923</td>\n",
       "      <td>0.098462</td>\n",
       "      <td>-0.065713</td>\n",
       "      <td>-0.034696</td>\n",
       "      <td>-0.035201</td>\n",
       "      <td>0.082310</td>\n",
       "      <td>0.037300</td>\n",
       "      <td>0.241303</td>\n",
       "      <td>-0.241303</td>\n",
       "    </tr>\n",
       "    <tr>\n",
       "      <th>compression-ratio</th>\n",
       "      <td>-0.182196</td>\n",
       "      <td>-0.114713</td>\n",
       "      <td>0.250313</td>\n",
       "      <td>0.159733</td>\n",
       "      <td>0.189867</td>\n",
       "      <td>0.259737</td>\n",
       "      <td>0.156433</td>\n",
       "      <td>0.028889</td>\n",
       "      <td>0.001263</td>\n",
       "      <td>0.187923</td>\n",
       "      <td>1.000000</td>\n",
       "      <td>-0.214514</td>\n",
       "      <td>-0.435780</td>\n",
       "      <td>0.331425</td>\n",
       "      <td>0.268465</td>\n",
       "      <td>0.071107</td>\n",
       "      <td>-0.299372</td>\n",
       "      <td>0.985231</td>\n",
       "      <td>-0.985231</td>\n",
       "    </tr>\n",
       "    <tr>\n",
       "      <th>horsepower</th>\n",
       "      <td>0.075819</td>\n",
       "      <td>0.217299</td>\n",
       "      <td>0.371147</td>\n",
       "      <td>0.579821</td>\n",
       "      <td>0.615077</td>\n",
       "      <td>-0.087027</td>\n",
       "      <td>0.757976</td>\n",
       "      <td>0.822676</td>\n",
       "      <td>0.566936</td>\n",
       "      <td>0.098462</td>\n",
       "      <td>-0.214514</td>\n",
       "      <td>1.000000</td>\n",
       "      <td>0.107885</td>\n",
       "      <td>-0.822214</td>\n",
       "      <td>-0.804575</td>\n",
       "      <td>0.809575</td>\n",
       "      <td>0.889488</td>\n",
       "      <td>-0.169053</td>\n",
       "      <td>0.169053</td>\n",
       "    </tr>\n",
       "    <tr>\n",
       "      <th>peak-rpm</th>\n",
       "      <td>0.279740</td>\n",
       "      <td>0.239543</td>\n",
       "      <td>-0.360305</td>\n",
       "      <td>-0.285970</td>\n",
       "      <td>-0.245800</td>\n",
       "      <td>-0.309974</td>\n",
       "      <td>-0.279361</td>\n",
       "      <td>-0.256733</td>\n",
       "      <td>-0.267392</td>\n",
       "      <td>-0.065713</td>\n",
       "      <td>-0.435780</td>\n",
       "      <td>0.107885</td>\n",
       "      <td>1.000000</td>\n",
       "      <td>-0.115413</td>\n",
       "      <td>-0.058598</td>\n",
       "      <td>-0.101616</td>\n",
       "      <td>0.115830</td>\n",
       "      <td>-0.475812</td>\n",
       "      <td>0.475812</td>\n",
       "    </tr>\n",
       "    <tr>\n",
       "      <th>city-mpg</th>\n",
       "      <td>-0.035527</td>\n",
       "      <td>-0.225016</td>\n",
       "      <td>-0.470606</td>\n",
       "      <td>-0.665192</td>\n",
       "      <td>-0.633531</td>\n",
       "      <td>-0.049800</td>\n",
       "      <td>-0.749543</td>\n",
       "      <td>-0.650546</td>\n",
       "      <td>-0.582027</td>\n",
       "      <td>-0.034696</td>\n",
       "      <td>0.331425</td>\n",
       "      <td>-0.822214</td>\n",
       "      <td>-0.115413</td>\n",
       "      <td>1.000000</td>\n",
       "      <td>0.972044</td>\n",
       "      <td>-0.686571</td>\n",
       "      <td>-0.949713</td>\n",
       "      <td>0.265676</td>\n",
       "      <td>-0.265676</td>\n",
       "    </tr>\n",
       "    <tr>\n",
       "      <th>highway-mpg</th>\n",
       "      <td>0.036233</td>\n",
       "      <td>-0.181877</td>\n",
       "      <td>-0.543304</td>\n",
       "      <td>-0.698142</td>\n",
       "      <td>-0.680635</td>\n",
       "      <td>-0.104812</td>\n",
       "      <td>-0.794889</td>\n",
       "      <td>-0.679571</td>\n",
       "      <td>-0.591309</td>\n",
       "      <td>-0.035201</td>\n",
       "      <td>0.268465</td>\n",
       "      <td>-0.804575</td>\n",
       "      <td>-0.058598</td>\n",
       "      <td>0.972044</td>\n",
       "      <td>1.000000</td>\n",
       "      <td>-0.704692</td>\n",
       "      <td>-0.930028</td>\n",
       "      <td>0.198690</td>\n",
       "      <td>-0.198690</td>\n",
       "    </tr>\n",
       "    <tr>\n",
       "      <th>price</th>\n",
       "      <td>-0.082391</td>\n",
       "      <td>0.133999</td>\n",
       "      <td>0.584642</td>\n",
       "      <td>0.690628</td>\n",
       "      <td>0.751265</td>\n",
       "      <td>0.135486</td>\n",
       "      <td>0.834415</td>\n",
       "      <td>0.872335</td>\n",
       "      <td>0.543155</td>\n",
       "      <td>0.082310</td>\n",
       "      <td>0.071107</td>\n",
       "      <td>0.809575</td>\n",
       "      <td>-0.101616</td>\n",
       "      <td>-0.686571</td>\n",
       "      <td>-0.704692</td>\n",
       "      <td>1.000000</td>\n",
       "      <td>0.789898</td>\n",
       "      <td>0.110326</td>\n",
       "      <td>-0.110326</td>\n",
       "    </tr>\n",
       "    <tr>\n",
       "      <th>city-L/100km</th>\n",
       "      <td>0.066171</td>\n",
       "      <td>0.238567</td>\n",
       "      <td>0.476153</td>\n",
       "      <td>0.657373</td>\n",
       "      <td>0.673363</td>\n",
       "      <td>0.003811</td>\n",
       "      <td>0.785353</td>\n",
       "      <td>0.745059</td>\n",
       "      <td>0.554610</td>\n",
       "      <td>0.037300</td>\n",
       "      <td>-0.299372</td>\n",
       "      <td>0.889488</td>\n",
       "      <td>0.115830</td>\n",
       "      <td>-0.949713</td>\n",
       "      <td>-0.930028</td>\n",
       "      <td>0.789898</td>\n",
       "      <td>1.000000</td>\n",
       "      <td>-0.241282</td>\n",
       "      <td>0.241282</td>\n",
       "    </tr>\n",
       "    <tr>\n",
       "      <th>diesel</th>\n",
       "      <td>-0.196735</td>\n",
       "      <td>-0.101546</td>\n",
       "      <td>0.307237</td>\n",
       "      <td>0.211187</td>\n",
       "      <td>0.244356</td>\n",
       "      <td>0.281578</td>\n",
       "      <td>0.221046</td>\n",
       "      <td>0.070779</td>\n",
       "      <td>0.054458</td>\n",
       "      <td>0.241303</td>\n",
       "      <td>0.985231</td>\n",
       "      <td>-0.169053</td>\n",
       "      <td>-0.475812</td>\n",
       "      <td>0.265676</td>\n",
       "      <td>0.198690</td>\n",
       "      <td>0.110326</td>\n",
       "      <td>-0.241282</td>\n",
       "      <td>1.000000</td>\n",
       "      <td>-1.000000</td>\n",
       "    </tr>\n",
       "    <tr>\n",
       "      <th>gas</th>\n",
       "      <td>0.196735</td>\n",
       "      <td>0.101546</td>\n",
       "      <td>-0.307237</td>\n",
       "      <td>-0.211187</td>\n",
       "      <td>-0.244356</td>\n",
       "      <td>-0.281578</td>\n",
       "      <td>-0.221046</td>\n",
       "      <td>-0.070779</td>\n",
       "      <td>-0.054458</td>\n",
       "      <td>-0.241303</td>\n",
       "      <td>-0.985231</td>\n",
       "      <td>0.169053</td>\n",
       "      <td>0.475812</td>\n",
       "      <td>-0.265676</td>\n",
       "      <td>-0.198690</td>\n",
       "      <td>-0.110326</td>\n",
       "      <td>0.241282</td>\n",
       "      <td>-1.000000</td>\n",
       "      <td>1.000000</td>\n",
       "    </tr>\n",
       "  </tbody>\n",
       "</table>\n",
       "</div>"
      ],
      "text/plain": [
       "                   symboling  normalized-losses  wheel-base    length  \\\n",
       "symboling           1.000000           0.466264   -0.535987 -0.365404   \n",
       "normalized-losses   0.466264           1.000000   -0.056661  0.019424   \n",
       "wheel-base         -0.535987          -0.056661    1.000000  0.876024   \n",
       "length             -0.365404           0.019424    0.876024  1.000000   \n",
       "width              -0.242423           0.086802    0.814507  0.857170   \n",
       "height             -0.550160          -0.373737    0.590742  0.492063   \n",
       "curb-weight        -0.233118           0.099404    0.782097  0.880665   \n",
       "engine-size        -0.110581           0.112360    0.572027  0.685025   \n",
       "bore               -0.140019          -0.029862    0.493244  0.608971   \n",
       "stroke             -0.008245           0.055563    0.158502  0.124139   \n",
       "compression-ratio  -0.182196          -0.114713    0.250313  0.159733   \n",
       "horsepower          0.075819           0.217299    0.371147  0.579821   \n",
       "peak-rpm            0.279740           0.239543   -0.360305 -0.285970   \n",
       "city-mpg           -0.035527          -0.225016   -0.470606 -0.665192   \n",
       "highway-mpg         0.036233          -0.181877   -0.543304 -0.698142   \n",
       "price              -0.082391           0.133999    0.584642  0.690628   \n",
       "city-L/100km        0.066171           0.238567    0.476153  0.657373   \n",
       "diesel             -0.196735          -0.101546    0.307237  0.211187   \n",
       "gas                 0.196735           0.101546   -0.307237 -0.211187   \n",
       "\n",
       "                      width    height  curb-weight  engine-size      bore  \\\n",
       "symboling         -0.242423 -0.550160    -0.233118    -0.110581 -0.140019   \n",
       "normalized-losses  0.086802 -0.373737     0.099404     0.112360 -0.029862   \n",
       "wheel-base         0.814507  0.590742     0.782097     0.572027  0.493244   \n",
       "length             0.857170  0.492063     0.880665     0.685025  0.608971   \n",
       "width              1.000000  0.306002     0.866201     0.729436  0.544885   \n",
       "height             0.306002  1.000000     0.307581     0.074694  0.180449   \n",
       "curb-weight        0.866201  0.307581     1.000000     0.849072  0.644060   \n",
       "engine-size        0.729436  0.074694     0.849072     1.000000  0.572609   \n",
       "bore               0.544885  0.180449     0.644060     0.572609  1.000000   \n",
       "stroke             0.188829 -0.062704     0.167562     0.209523 -0.055390   \n",
       "compression-ratio  0.189867  0.259737     0.156433     0.028889  0.001263   \n",
       "horsepower         0.615077 -0.087027     0.757976     0.822676  0.566936   \n",
       "peak-rpm          -0.245800 -0.309974    -0.279361    -0.256733 -0.267392   \n",
       "city-mpg          -0.633531 -0.049800    -0.749543    -0.650546 -0.582027   \n",
       "highway-mpg       -0.680635 -0.104812    -0.794889    -0.679571 -0.591309   \n",
       "price              0.751265  0.135486     0.834415     0.872335  0.543155   \n",
       "city-L/100km       0.673363  0.003811     0.785353     0.745059  0.554610   \n",
       "diesel             0.244356  0.281578     0.221046     0.070779  0.054458   \n",
       "gas               -0.244356 -0.281578    -0.221046    -0.070779 -0.054458   \n",
       "\n",
       "                     stroke  compression-ratio  horsepower  peak-rpm  \\\n",
       "symboling         -0.008245          -0.182196    0.075819  0.279740   \n",
       "normalized-losses  0.055563          -0.114713    0.217299  0.239543   \n",
       "wheel-base         0.158502           0.250313    0.371147 -0.360305   \n",
       "length             0.124139           0.159733    0.579821 -0.285970   \n",
       "width              0.188829           0.189867    0.615077 -0.245800   \n",
       "height            -0.062704           0.259737   -0.087027 -0.309974   \n",
       "curb-weight        0.167562           0.156433    0.757976 -0.279361   \n",
       "engine-size        0.209523           0.028889    0.822676 -0.256733   \n",
       "bore              -0.055390           0.001263    0.566936 -0.267392   \n",
       "stroke             1.000000           0.187923    0.098462 -0.065713   \n",
       "compression-ratio  0.187923           1.000000   -0.214514 -0.435780   \n",
       "horsepower         0.098462          -0.214514    1.000000  0.107885   \n",
       "peak-rpm          -0.065713          -0.435780    0.107885  1.000000   \n",
       "city-mpg          -0.034696           0.331425   -0.822214 -0.115413   \n",
       "highway-mpg       -0.035201           0.268465   -0.804575 -0.058598   \n",
       "price              0.082310           0.071107    0.809575 -0.101616   \n",
       "city-L/100km       0.037300          -0.299372    0.889488  0.115830   \n",
       "diesel             0.241303           0.985231   -0.169053 -0.475812   \n",
       "gas               -0.241303          -0.985231    0.169053  0.475812   \n",
       "\n",
       "                   city-mpg  highway-mpg     price  city-L/100km    diesel  \\\n",
       "symboling         -0.035527     0.036233 -0.082391      0.066171 -0.196735   \n",
       "normalized-losses -0.225016    -0.181877  0.133999      0.238567 -0.101546   \n",
       "wheel-base        -0.470606    -0.543304  0.584642      0.476153  0.307237   \n",
       "length            -0.665192    -0.698142  0.690628      0.657373  0.211187   \n",
       "width             -0.633531    -0.680635  0.751265      0.673363  0.244356   \n",
       "height            -0.049800    -0.104812  0.135486      0.003811  0.281578   \n",
       "curb-weight       -0.749543    -0.794889  0.834415      0.785353  0.221046   \n",
       "engine-size       -0.650546    -0.679571  0.872335      0.745059  0.070779   \n",
       "bore              -0.582027    -0.591309  0.543155      0.554610  0.054458   \n",
       "stroke            -0.034696    -0.035201  0.082310      0.037300  0.241303   \n",
       "compression-ratio  0.331425     0.268465  0.071107     -0.299372  0.985231   \n",
       "horsepower        -0.822214    -0.804575  0.809575      0.889488 -0.169053   \n",
       "peak-rpm          -0.115413    -0.058598 -0.101616      0.115830 -0.475812   \n",
       "city-mpg           1.000000     0.972044 -0.686571     -0.949713  0.265676   \n",
       "highway-mpg        0.972044     1.000000 -0.704692     -0.930028  0.198690   \n",
       "price             -0.686571    -0.704692  1.000000      0.789898  0.110326   \n",
       "city-L/100km      -0.949713    -0.930028  0.789898      1.000000 -0.241282   \n",
       "diesel             0.265676     0.198690  0.110326     -0.241282  1.000000   \n",
       "gas               -0.265676    -0.198690 -0.110326      0.241282 -1.000000   \n",
       "\n",
       "                        gas  \n",
       "symboling          0.196735  \n",
       "normalized-losses  0.101546  \n",
       "wheel-base        -0.307237  \n",
       "length            -0.211187  \n",
       "width             -0.244356  \n",
       "height            -0.281578  \n",
       "curb-weight       -0.221046  \n",
       "engine-size       -0.070779  \n",
       "bore              -0.054458  \n",
       "stroke            -0.241303  \n",
       "compression-ratio -0.985231  \n",
       "horsepower         0.169053  \n",
       "peak-rpm           0.475812  \n",
       "city-mpg          -0.265676  \n",
       "highway-mpg       -0.198690  \n",
       "price             -0.110326  \n",
       "city-L/100km       0.241282  \n",
       "diesel            -1.000000  \n",
       "gas                1.000000  "
      ]
     },
     "execution_count": 40,
     "metadata": {},
     "output_type": "execute_result"
    }
   ],
   "source": [
    "df.corr()"
   ]
  },
  {
   "cell_type": "markdown",
   "metadata": {},
   "source": [
    "Sometimes we would like to know the significant of the correlation estimate.\n"
   ]
  },
  {
   "cell_type": "markdown",
   "metadata": {},
   "source": [
    "<b>P-value</b>\n",
    "\n",
    "<p>What is this P-value? The P-value is the probability value that the correlation between these two variables is statistically significant. Normally, we choose a significance level of 0.05, which means that we are 95% confident that the correlation between the variables is significant.</p>\n",
    "\n",
    "By convention, when the\n",
    "\n",
    "<ul>\n",
    "    <li>p-value is $<$ 0.001: we say there is strong evidence that the correlation is significant.</li>\n",
    "    <li>the p-value is $<$ 0.05: there is moderate evidence that the correlation is significant.</li>\n",
    "    <li>the p-value is $<$ 0.1: there is weak evidence that the correlation is significant.</li>\n",
    "    <li>the p-value is $>$ 0.1: there is no evidence that the correlation is significant.</li>\n",
    "</ul>\n"
   ]
  },
  {
   "cell_type": "markdown",
   "metadata": {},
   "source": [
    "We can obtain this information using  \"stats\" module in the \"scipy\"  library.\n"
   ]
  },
  {
   "cell_type": "code",
   "execution_count": 41,
   "metadata": {},
   "outputs": [],
   "source": [
    "from scipy import stats"
   ]
  },
  {
   "cell_type": "markdown",
   "metadata": {},
   "source": [
    "<h3>Wheel-Base vs. Price</h3>\n"
   ]
  },
  {
   "cell_type": "markdown",
   "metadata": {},
   "source": [
    "Let's calculate the  Pearson Correlation Coefficient and P-value of 'wheel-base' and 'price'.\n"
   ]
  },
  {
   "cell_type": "code",
   "execution_count": 42,
   "metadata": {},
   "outputs": [
    {
     "name": "stdout",
     "output_type": "stream",
     "text": [
      "The Pearson Correlation Coefficient is 0.584641822265508  with a P-value of P = 8.076488270733218e-20\n"
     ]
    }
   ],
   "source": [
    "pearson_coef, p_value = stats.pearsonr(df['wheel-base'], df['price'])\n",
    "print(\"The Pearson Correlation Coefficient is\", pearson_coef, \" with a P-value of P =\", p_value)  "
   ]
  },
  {
   "cell_type": "markdown",
   "metadata": {},
   "source": [
    "<h4>Conclusion:</h4>\n",
    "<p>Since the p-value is $<$ 0.001, the correlation between wheel-base and price is statistically significant, although the linear relationship isn't extremely strong (~0.585).</p>\n"
   ]
  },
  {
   "cell_type": "markdown",
   "metadata": {},
   "source": [
    "<h3>Horsepower vs. Price</h3>\n"
   ]
  },
  {
   "cell_type": "markdown",
   "metadata": {},
   "source": [
    "Let's calculate the  Pearson Correlation Coefficient and P-value of 'horsepower' and 'price'.\n"
   ]
  },
  {
   "cell_type": "code",
   "execution_count": 43,
   "metadata": {},
   "outputs": [
    {
     "name": "stdout",
     "output_type": "stream",
     "text": [
      "The Pearson Correlation Coefficient is 0.8095745670036559  with a P-value of P =  6.369057428260101e-48\n"
     ]
    }
   ],
   "source": [
    "pearson_coef, p_value = stats.pearsonr(df['horsepower'], df['price'])\n",
    "print(\"The Pearson Correlation Coefficient is\", pearson_coef, \" with a P-value of P = \", p_value)  "
   ]
  },
  {
   "cell_type": "markdown",
   "metadata": {},
   "source": [
    "<h4>Conclusion:</h4>\n",
    "\n",
    "<p>Since the p-value is $<$ 0.001, the correlation between horsepower and price is statistically significant, and the linear relationship is quite strong (~0.809, close to 1).</p>\n"
   ]
  },
  {
   "cell_type": "markdown",
   "metadata": {},
   "source": [
    "<h3>Length vs. Price</h3>\n",
    "\n",
    "Let's calculate the  Pearson Correlation Coefficient and P-value of 'length' and 'price'.\n"
   ]
  },
  {
   "cell_type": "code",
   "execution_count": 44,
   "metadata": {},
   "outputs": [
    {
     "name": "stdout",
     "output_type": "stream",
     "text": [
      "The Pearson Correlation Coefficient is 0.6906283804483638  with a P-value of P =  8.016477466159556e-30\n"
     ]
    }
   ],
   "source": [
    "pearson_coef, p_value = stats.pearsonr(df['length'], df['price'])\n",
    "print(\"The Pearson Correlation Coefficient is\", pearson_coef, \" with a P-value of P = \", p_value)  "
   ]
  },
  {
   "cell_type": "markdown",
   "metadata": {},
   "source": [
    "<h4>Conclusion:</h4>\n",
    "<p>Since the p-value is $<$ 0.001, the correlation between length and price is statistically significant, and the linear relationship is moderately strong (~0.691).</p>\n"
   ]
  },
  {
   "cell_type": "markdown",
   "metadata": {},
   "source": [
    "<h3>Width vs. Price</h3>\n"
   ]
  },
  {
   "cell_type": "markdown",
   "metadata": {},
   "source": [
    "Let's calculate the Pearson Correlation Coefficient and P-value of 'width' and 'price':\n"
   ]
  },
  {
   "cell_type": "code",
   "execution_count": 45,
   "metadata": {},
   "outputs": [
    {
     "name": "stdout",
     "output_type": "stream",
     "text": [
      "The Pearson Correlation Coefficient is 0.7512653440522673  with a P-value of P = 9.200335510481646e-38\n"
     ]
    }
   ],
   "source": [
    "pearson_coef, p_value = stats.pearsonr(df['width'], df['price'])\n",
    "print(\"The Pearson Correlation Coefficient is\", pearson_coef, \" with a P-value of P =\", p_value ) "
   ]
  },
  {
   "cell_type": "markdown",
   "metadata": {},
   "source": [
    "#### Conclusion:\n",
    "\n",
    "Since the p-value is < 0.001, the correlation between width and price is statistically significant, and the linear relationship is quite strong (\\~0.751).\n"
   ]
  },
  {
   "cell_type": "markdown",
   "metadata": {},
   "source": [
    "### Curb-Weight vs. Price\n"
   ]
  },
  {
   "cell_type": "markdown",
   "metadata": {},
   "source": [
    "Let's calculate the Pearson Correlation Coefficient and P-value of 'curb-weight' and 'price':\n"
   ]
  },
  {
   "cell_type": "code",
   "execution_count": 46,
   "metadata": {},
   "outputs": [
    {
     "name": "stdout",
     "output_type": "stream",
     "text": [
      "The Pearson Correlation Coefficient is 0.8344145257702843  with a P-value of P =  2.189577238894065e-53\n"
     ]
    }
   ],
   "source": [
    "pearson_coef, p_value = stats.pearsonr(df['curb-weight'], df['price'])\n",
    "print( \"The Pearson Correlation Coefficient is\", pearson_coef, \" with a P-value of P = \", p_value)  "
   ]
  },
  {
   "cell_type": "markdown",
   "metadata": {},
   "source": [
    "<h4>Conclusion:</h4>\n",
    "<p>Since the p-value is $<$ 0.001, the correlation between curb-weight and price is statistically significant, and the linear relationship is quite strong (~0.834).</p>\n"
   ]
  },
  {
   "cell_type": "markdown",
   "metadata": {},
   "source": [
    "<h3>Engine-Size vs. Price</h3>\n",
    "\n",
    "Let's calculate the Pearson Correlation Coefficient and P-value of 'engine-size' and 'price':\n"
   ]
  },
  {
   "cell_type": "code",
   "execution_count": 47,
   "metadata": {},
   "outputs": [
    {
     "name": "stdout",
     "output_type": "stream",
     "text": [
      "The Pearson Correlation Coefficient is 0.8723351674455185  with a P-value of P = 9.265491622198389e-64\n"
     ]
    }
   ],
   "source": [
    "pearson_coef, p_value = stats.pearsonr(df['engine-size'], df['price'])\n",
    "print(\"The Pearson Correlation Coefficient is\", pearson_coef, \" with a P-value of P =\", p_value) "
   ]
  },
  {
   "cell_type": "markdown",
   "metadata": {},
   "source": [
    "<h4>Conclusion:</h4>\n",
    "\n",
    "<p>Since the p-value is $<$ 0.001, the correlation between engine-size and price is statistically significant, and the linear relationship is very strong (~0.872).</p>\n"
   ]
  },
  {
   "cell_type": "markdown",
   "metadata": {},
   "source": [
    "<h3>Bore vs. Price</h3>\n"
   ]
  },
  {
   "cell_type": "markdown",
   "metadata": {},
   "source": [
    "Let's calculate the  Pearson Correlation Coefficient and P-value of 'bore' and 'price':\n"
   ]
  },
  {
   "cell_type": "code",
   "execution_count": 48,
   "metadata": {},
   "outputs": [
    {
     "name": "stdout",
     "output_type": "stream",
     "text": [
      "The Pearson Correlation Coefficient is 0.5431553832626602  with a P-value of P =   8.049189483935489e-17\n"
     ]
    }
   ],
   "source": [
    "pearson_coef, p_value = stats.pearsonr(df['bore'], df['price'])\n",
    "print(\"The Pearson Correlation Coefficient is\", pearson_coef, \" with a P-value of P =  \", p_value ) "
   ]
  },
  {
   "cell_type": "markdown",
   "metadata": {},
   "source": [
    "<h4>Conclusion:</h4>\n",
    "<p>Since the p-value is $<$ 0.001, the correlation between bore and price is statistically significant, but the linear relationship is only moderate (~0.521).</p>\n"
   ]
  },
  {
   "cell_type": "markdown",
   "metadata": {},
   "source": [
    "We can relate the process for each 'city-mpg'  and 'highway-mpg':\n"
   ]
  },
  {
   "cell_type": "markdown",
   "metadata": {},
   "source": [
    "<h3>City-mpg vs. Price</h3>\n"
   ]
  },
  {
   "cell_type": "code",
   "execution_count": 49,
   "metadata": {},
   "outputs": [
    {
     "name": "stdout",
     "output_type": "stream",
     "text": [
      "The Pearson Correlation Coefficient is -0.6865710067844678  with a P-value of P =  2.321132065567641e-29\n"
     ]
    }
   ],
   "source": [
    "pearson_coef, p_value = stats.pearsonr(df['city-mpg'], df['price'])\n",
    "print(\"The Pearson Correlation Coefficient is\", pearson_coef, \" with a P-value of P = \", p_value)  "
   ]
  },
  {
   "cell_type": "markdown",
   "metadata": {},
   "source": [
    "<h4>Conclusion:</h4>\n",
    "<p>Since the p-value is $<$ 0.001, the correlation between city-mpg and price is statistically significant, and the coefficient of about -0.687 shows that the relationship is negative and moderately strong.</p>\n"
   ]
  },
  {
   "cell_type": "markdown",
   "metadata": {},
   "source": [
    "<h3>Highway-mpg vs. Price</h3>\n"
   ]
  },
  {
   "cell_type": "code",
   "execution_count": 50,
   "metadata": {},
   "outputs": [
    {
     "name": "stdout",
     "output_type": "stream",
     "text": [
      "The Pearson Correlation Coefficient is -0.704692265058953  with a P-value of P =  1.7495471144476358e-31\n"
     ]
    }
   ],
   "source": [
    "pearson_coef, p_value = stats.pearsonr(df['highway-mpg'], df['price'])\n",
    "print( \"The Pearson Correlation Coefficient is\", pearson_coef, \" with a P-value of P = \", p_value ) "
   ]
  },
  {
   "cell_type": "markdown",
   "metadata": {},
   "source": [
    "#### Conclusion:\n",
    "\n",
    "Since the p-value is < 0.001, the correlation between highway-mpg and price is statistically significant, and the coefficient of about -0.705 shows that the relationship is negative and moderately strong.\n"
   ]
  },
  {
   "cell_type": "markdown",
   "metadata": {},
   "source": [
    "<h2 id=\"anova\">6. ANOVA</h2>\n"
   ]
  },
  {
   "cell_type": "markdown",
   "metadata": {},
   "source": [
    "<h3>ANOVA: Analysis of Variance</h3>\n",
    "<p>The Analysis of Variance  (ANOVA) is a statistical method used to test whether there are significant differences between the means of two or more groups. ANOVA returns two parameters:</p>\n",
    "\n",
    "<p><b>F-test score</b>: ANOVA assumes the means of all groups are the same, calculates how much the actual means deviate from the assumption, and reports it as the F-test score. A larger score means there is a larger difference between the means.</p>\n",
    "\n",
    "<p><b>P-value</b>:  P-value tells how statistically significant our calculated score value is.</p>\n",
    "\n",
    "<p>If our price variable is strongly correlated with the variable we are analyzing, we expect ANOVA to return a sizeable F-test score and a small p-value.</p>\n"
   ]
  },
  {
   "cell_type": "markdown",
   "metadata": {},
   "source": [
    "<h3>Drive Wheels</h3>\n"
   ]
  },
  {
   "cell_type": "markdown",
   "metadata": {},
   "source": [
    "<p>Since ANOVA analyzes the difference between different groups of the same variable, the groupby function will come in handy. Because the ANOVA algorithm averages the data automatically, we do not need to take the average before hand.</p>\n",
    "\n",
    "<p>To see if different types of 'drive-wheels' impact  'price', we group the data.</p>\n"
   ]
  },
  {
   "cell_type": "code",
   "execution_count": 51,
   "metadata": {},
   "outputs": [
    {
     "data": {
      "text/html": [
       "<div>\n",
       "<style scoped>\n",
       "    .dataframe tbody tr th:only-of-type {\n",
       "        vertical-align: middle;\n",
       "    }\n",
       "\n",
       "    .dataframe tbody tr th {\n",
       "        vertical-align: top;\n",
       "    }\n",
       "\n",
       "    .dataframe thead th {\n",
       "        text-align: right;\n",
       "    }\n",
       "</style>\n",
       "<table border=\"1\" class=\"dataframe\">\n",
       "  <thead>\n",
       "    <tr style=\"text-align: right;\">\n",
       "      <th></th>\n",
       "      <th>drive-wheels</th>\n",
       "      <th>price</th>\n",
       "    </tr>\n",
       "  </thead>\n",
       "  <tbody>\n",
       "    <tr>\n",
       "      <th>0</th>\n",
       "      <td>rwd</td>\n",
       "      <td>13495.0</td>\n",
       "    </tr>\n",
       "    <tr>\n",
       "      <th>1</th>\n",
       "      <td>rwd</td>\n",
       "      <td>16500.0</td>\n",
       "    </tr>\n",
       "    <tr>\n",
       "      <th>3</th>\n",
       "      <td>fwd</td>\n",
       "      <td>13950.0</td>\n",
       "    </tr>\n",
       "    <tr>\n",
       "      <th>4</th>\n",
       "      <td>4wd</td>\n",
       "      <td>17450.0</td>\n",
       "    </tr>\n",
       "    <tr>\n",
       "      <th>5</th>\n",
       "      <td>fwd</td>\n",
       "      <td>15250.0</td>\n",
       "    </tr>\n",
       "    <tr>\n",
       "      <th>136</th>\n",
       "      <td>4wd</td>\n",
       "      <td>7603.0</td>\n",
       "    </tr>\n",
       "  </tbody>\n",
       "</table>\n",
       "</div>"
      ],
      "text/plain": [
       "    drive-wheels    price\n",
       "0            rwd  13495.0\n",
       "1            rwd  16500.0\n",
       "3            fwd  13950.0\n",
       "4            4wd  17450.0\n",
       "5            fwd  15250.0\n",
       "136          4wd   7603.0"
      ]
     },
     "execution_count": 51,
     "metadata": {},
     "output_type": "execute_result"
    }
   ],
   "source": [
    "grouped_test2=df_gptest[['drive-wheels', 'price']].groupby(['drive-wheels'])\n",
    "grouped_test2.head(2)"
   ]
  },
  {
   "cell_type": "code",
   "execution_count": 52,
   "metadata": {},
   "outputs": [
    {
     "data": {
      "text/html": [
       "<div>\n",
       "<style scoped>\n",
       "    .dataframe tbody tr th:only-of-type {\n",
       "        vertical-align: middle;\n",
       "    }\n",
       "\n",
       "    .dataframe tbody tr th {\n",
       "        vertical-align: top;\n",
       "    }\n",
       "\n",
       "    .dataframe thead th {\n",
       "        text-align: right;\n",
       "    }\n",
       "</style>\n",
       "<table border=\"1\" class=\"dataframe\">\n",
       "  <thead>\n",
       "    <tr style=\"text-align: right;\">\n",
       "      <th></th>\n",
       "      <th>drive-wheels</th>\n",
       "      <th>body-style</th>\n",
       "      <th>price</th>\n",
       "    </tr>\n",
       "  </thead>\n",
       "  <tbody>\n",
       "    <tr>\n",
       "      <th>0</th>\n",
       "      <td>rwd</td>\n",
       "      <td>convertible</td>\n",
       "      <td>13495.0</td>\n",
       "    </tr>\n",
       "    <tr>\n",
       "      <th>1</th>\n",
       "      <td>rwd</td>\n",
       "      <td>convertible</td>\n",
       "      <td>16500.0</td>\n",
       "    </tr>\n",
       "    <tr>\n",
       "      <th>2</th>\n",
       "      <td>rwd</td>\n",
       "      <td>hatchback</td>\n",
       "      <td>16500.0</td>\n",
       "    </tr>\n",
       "    <tr>\n",
       "      <th>3</th>\n",
       "      <td>fwd</td>\n",
       "      <td>sedan</td>\n",
       "      <td>13950.0</td>\n",
       "    </tr>\n",
       "    <tr>\n",
       "      <th>4</th>\n",
       "      <td>4wd</td>\n",
       "      <td>sedan</td>\n",
       "      <td>17450.0</td>\n",
       "    </tr>\n",
       "    <tr>\n",
       "      <th>...</th>\n",
       "      <td>...</td>\n",
       "      <td>...</td>\n",
       "      <td>...</td>\n",
       "    </tr>\n",
       "    <tr>\n",
       "      <th>196</th>\n",
       "      <td>rwd</td>\n",
       "      <td>sedan</td>\n",
       "      <td>16845.0</td>\n",
       "    </tr>\n",
       "    <tr>\n",
       "      <th>197</th>\n",
       "      <td>rwd</td>\n",
       "      <td>sedan</td>\n",
       "      <td>19045.0</td>\n",
       "    </tr>\n",
       "    <tr>\n",
       "      <th>198</th>\n",
       "      <td>rwd</td>\n",
       "      <td>sedan</td>\n",
       "      <td>21485.0</td>\n",
       "    </tr>\n",
       "    <tr>\n",
       "      <th>199</th>\n",
       "      <td>rwd</td>\n",
       "      <td>sedan</td>\n",
       "      <td>22470.0</td>\n",
       "    </tr>\n",
       "    <tr>\n",
       "      <th>200</th>\n",
       "      <td>rwd</td>\n",
       "      <td>sedan</td>\n",
       "      <td>22625.0</td>\n",
       "    </tr>\n",
       "  </tbody>\n",
       "</table>\n",
       "<p>201 rows × 3 columns</p>\n",
       "</div>"
      ],
      "text/plain": [
       "    drive-wheels   body-style    price\n",
       "0            rwd  convertible  13495.0\n",
       "1            rwd  convertible  16500.0\n",
       "2            rwd    hatchback  16500.0\n",
       "3            fwd        sedan  13950.0\n",
       "4            4wd        sedan  17450.0\n",
       "..           ...          ...      ...\n",
       "196          rwd        sedan  16845.0\n",
       "197          rwd        sedan  19045.0\n",
       "198          rwd        sedan  21485.0\n",
       "199          rwd        sedan  22470.0\n",
       "200          rwd        sedan  22625.0\n",
       "\n",
       "[201 rows x 3 columns]"
      ]
     },
     "execution_count": 52,
     "metadata": {},
     "output_type": "execute_result"
    }
   ],
   "source": [
    "df_gptest"
   ]
  },
  {
   "cell_type": "markdown",
   "metadata": {},
   "source": [
    "We can obtain the values of the method group using the method \"get_group\".\n"
   ]
  },
  {
   "cell_type": "code",
   "execution_count": 55,
   "metadata": {},
   "outputs": [
    {
     "data": {
      "text/plain": [
       "4      17450.0\n",
       "136     7603.0\n",
       "140     9233.0\n",
       "141    11259.0\n",
       "144     8013.0\n",
       "145    11694.0\n",
       "150     7898.0\n",
       "151     8778.0\n",
       "Name: price, dtype: float64"
      ]
     },
     "execution_count": 55,
     "metadata": {},
     "output_type": "execute_result"
    }
   ],
   "source": [
    "grouped_test2.get_group('4wd')['price']"
   ]
  },
  {
   "cell_type": "markdown",
   "metadata": {},
   "source": [
    "We can use the function 'f_oneway' in the module 'stats' to obtain the <b>F-test score</b> and <b>P-value</b>.\n"
   ]
  },
  {
   "cell_type": "code",
   "execution_count": 56,
   "metadata": {},
   "outputs": [
    {
     "name": "stdout",
     "output_type": "stream",
     "text": [
      "ANOVA results: F= 67.95406500780399 , P = 3.3945443577151245e-23\n"
     ]
    }
   ],
   "source": [
    "# ANOVA\n",
    "f_val, p_val = stats.f_oneway(grouped_test2.get_group('fwd')['price'], grouped_test2.get_group('rwd')['price'], grouped_test2.get_group('4wd')['price'])  \n",
    " \n",
    "print( \"ANOVA results: F=\", f_val, \", P =\", p_val)   "
   ]
  },
  {
   "cell_type": "markdown",
   "metadata": {},
   "source": [
    "This is a great result with a large F-test score showing a strong correlation and a P-value of almost 0 implying almost certain statistical significance. But does this mean all three tested groups are all this highly correlated?\n",
    "\n",
    "Let's examine them separately.\n"
   ]
  },
  {
   "cell_type": "markdown",
   "metadata": {},
   "source": [
    "#### fwd and rwd\n"
   ]
  },
  {
   "cell_type": "code",
   "execution_count": 57,
   "metadata": {},
   "outputs": [
    {
     "name": "stdout",
     "output_type": "stream",
     "text": [
      "ANOVA results: F= 130.5533160959111 , P = 2.2355306355677845e-23\n"
     ]
    }
   ],
   "source": [
    "f_val, p_val = stats.f_oneway(grouped_test2.get_group('fwd')['price'], grouped_test2.get_group('rwd')['price'])  \n",
    " \n",
    "print( \"ANOVA results: F=\", f_val, \", P =\", p_val )"
   ]
  },
  {
   "cell_type": "markdown",
   "metadata": {},
   "source": [
    "Let's examine the other groups.\n"
   ]
  },
  {
   "cell_type": "markdown",
   "metadata": {},
   "source": [
    "#### 4wd and rwd\n"
   ]
  },
  {
   "cell_type": "code",
   "execution_count": 58,
   "metadata": {
    "scrolled": true
   },
   "outputs": [
    {
     "name": "stdout",
     "output_type": "stream",
     "text": [
      "ANOVA results: F= 8.580681368924756 , P = 0.004411492211225333\n"
     ]
    }
   ],
   "source": [
    "f_val, p_val = stats.f_oneway(grouped_test2.get_group('4wd')['price'], grouped_test2.get_group('rwd')['price'])  \n",
    "   \n",
    "print( \"ANOVA results: F=\", f_val, \", P =\", p_val)   "
   ]
  },
  {
   "cell_type": "markdown",
   "metadata": {},
   "source": [
    "<h4>4wd and fwd</h4>\n"
   ]
  },
  {
   "cell_type": "code",
   "execution_count": 59,
   "metadata": {},
   "outputs": [
    {
     "name": "stdout",
     "output_type": "stream",
     "text": [
      "ANOVA results: F= 0.665465750252303 , P = 0.41620116697845666\n"
     ]
    }
   ],
   "source": [
    "f_val, p_val = stats.f_oneway(grouped_test2.get_group('4wd')['price'], grouped_test2.get_group('fwd')['price'])  \n",
    " \n",
    "print(\"ANOVA results: F=\", f_val, \", P =\", p_val)   "
   ]
  },
  {
   "cell_type": "markdown",
   "metadata": {},
   "source": [
    "<h3>Conclusion: Important Variables</h3>\n"
   ]
  },
  {
   "cell_type": "markdown",
   "metadata": {},
   "source": [
    "<p>We now have a better idea of what our data looks like and which variables are important to take into account when predicting the car price. We have narrowed it down to the following variables:</p>\n",
    "\n",
    "Continuous numerical variables:\n",
    "\n",
    "<ul>\n",
    "    <li>Length</li>\n",
    "    <li>Width</li>\n",
    "    <li>Curb-weight</li>\n",
    "    <li>Engine-size</li>\n",
    "    <li>Horsepower</li>\n",
    "    <li>City-mpg</li>\n",
    "    <li>Highway-mpg</li>\n",
    "    <li>Wheel-base</li>\n",
    "    <li>Bore</li>\n",
    "</ul>\n",
    "\n",
    "Categorical variables:\n",
    "\n",
    "<ul>\n",
    "    <li>Drive-wheels</li>\n",
    "</ul>\n",
    "\n",
    "<p>As we now move into building machine learning models to automate our analysis, feeding the model with variables that meaningfully affect our target variable will improve our model's prediction performance.</p>\n"
   ]
  },
  {
   "cell_type": "markdown",
   "metadata": {},
   "source": [
    "### Thank you for completing this lab!\n",
    "\n",
    "## Author\n",
    "\n",
    "<a href=\"https://www.linkedin.com/in/joseph-s-50398b136/?utm_medium=Exinfluencer&utm_source=Exinfluencer&utm_content=000026UJ&utm_term=10006555&utm_id=NA-SkillsNetwork-Channel-SkillsNetworkCoursesIBMDeveloperSkillsNetworkDA0101ENSkillsNetwork20235326-2021-01-01\" target=\"_blank\">Joseph Santarcangelo</a>\n",
    "\n",
    "### Other Contributors\n",
    "\n",
    "<a href=\"https://www.linkedin.com/in/mahdi-noorian-58219234/?utm_medium=Exinfluencer&utm_source=Exinfluencer&utm_content=000026UJ&utm_term=10006555&utm_id=NA-SkillsNetwork-Channel-SkillsNetworkCoursesIBMDeveloperSkillsNetworkDA0101ENSkillsNetwork20235326-2021-01-01\" target=\"_blank\">Mahdi Noorian PhD</a>\n",
    "\n",
    "Bahare Talayian\n",
    "\n",
    "Eric Xiao\n",
    "\n",
    "Steven Dong\n",
    "\n",
    "Parizad\n",
    "\n",
    "Hima Vasudevan\n",
    "\n",
    "<a href=\"https://www.linkedin.com/in/fiorellawever/?utm_medium=Exinfluencer&utm_source=Exinfluencer&utm_content=000026UJ&utm_term=10006555&utm_id=NA-SkillsNetwork-Channel-SkillsNetworkCoursesIBMDeveloperSkillsNetworkDA0101ENSkillsNetwork20235326-2021-01-01\" target=\"_blank\">Fiorella Wenver</a>\n",
    "\n",
    "<a href=\"https:// https://www.linkedin.com/in/yi-leng-yao-84451275/ \" target=\"_blank\" >Yi Yao</a>.\n",
    "\n",
    "## Change Log\n",
    "\n",
    "| Date (YYYY-MM-DD) | Version | Changed By | Change Description                 |\n",
    "| ----------------- | ------- | ---------- | ---------------------------------- |\n",
    "| 2020-10-30        | 2.1     | Lakshmi    | changed URL of csv                 |\n",
    "| 2020-08-27        | 2.0     | Lavanya    | Moved lab to course repo in GitLab |\n",
    "\n",
    "<hr>\n",
    "\n",
    "## <h3 align=\"center\"> © IBM Corporation 2020. All rights reserved. <h3/>\n"
   ]
  },
  {
   "cell_type": "code",
   "execution_count": null,
   "metadata": {},
   "outputs": [],
   "source": []
  },
  {
   "cell_type": "code",
   "execution_count": null,
   "metadata": {},
   "outputs": [],
   "source": []
  }
 ],
 "metadata": {
  "anaconda-cloud": {},
  "kernelspec": {
   "display_name": "Python 3 (ipykernel)",
   "language": "python",
   "name": "python3"
  },
  "language_info": {
   "codemirror_mode": {
    "name": "ipython",
    "version": 3
   },
   "file_extension": ".py",
   "mimetype": "text/x-python",
   "name": "python",
   "nbconvert_exporter": "python",
   "pygments_lexer": "ipython3",
   "version": "3.7.7"
  }
 },
 "nbformat": 4,
 "nbformat_minor": 4
}
